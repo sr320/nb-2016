{
 "cells": [
  {
   "cell_type": "markdown",
   "metadata": {},
   "source": [
    "# Gettinge Gene Annotation on BGI draft"
   ]
  },
  {
   "cell_type": "code",
   "execution_count": 2,
   "metadata": {
    "collapsed": false
   },
   "outputs": [
    {
     "name": "stdout",
     "output_type": "stream",
     "text": [
      ">scaffold1\r\n",
      "ATCCGCCAGCTTTTTTGTGTCATCTTTAGAAATAATTATTTGAAAATCATAGTTTTTTTT\r\n",
      "TCCACCAAAATTGCACAAACCTCATTGACAGACACTGAATATGGGGTGTTTTGGAAAACG\r\n",
      "GGACTGTTGTCATTCTGGTCCAAAAACTGCACCACTAAGGAGTAGGTTCTCTGTGAATTA\r\n",
      "AGTAAAAAGACACTAATATCACACACGTACATCAAAATATATATATCATTTAAAGTCAAG\r\n",
      "AGGAAATTGACATTTTAAAGCCAAAGTACAGAAATTCCCATTGATATAAAGAGCCATAAA\r\n",
      "GGCAACAAGTATGTACACAATTAGCAGAATGCATCATCCACCTATTTTTTTTTTTTTTTT\r\n",
      "TGCATTTATCAAAGTCTCGAGTGTTTTGTCATGTGTACCGTAGTTCCTGTGCCTGTTGTA\r\n",
      "CAGGTGAGAGAAAATGTCTCGCTACTGCCCACACTACGTGCTTGGAAAGCATTTCCCTGC\r\n",
      "AAAAACATTCAAAACATATAACATTCAAAATTTTATCTATATTCAATTTTTTTGGGGGGT\r\n"
     ]
    }
   ],
   "source": [
    "# Will focus on ...\n",
    "!head /Users/sr320/Dropbox/scratch/OlyBGI-scaffold-10k.fa"
   ]
  },
  {
   "cell_type": "code",
   "execution_count": 3,
   "metadata": {
    "collapsed": false
   },
   "outputs": [
    {
     "name": "stdout",
     "output_type": "stream",
     "text": [
      "11495\r\n"
     ]
    }
   ],
   "source": [
    "!grep -c '>' /Users/sr320/Dropbox/scratch/OlyBGI-scaffold-10k.fa"
   ]
  },
  {
   "cell_type": "markdown",
   "metadata": {},
   "source": [
    "## Transcriptome"
   ]
  },
  {
   "cell_type": "code",
   "execution_count": 5,
   "metadata": {
    "collapsed": false
   },
   "outputs": [
    {
     "name": "stdout",
     "output_type": "stream",
     "text": [
      ">TR1|c0_g1_i1 len=320 path=[639:0-301 640:302-319] [-1, 639, 640, -2]\r\n",
      "GACGAAAAACAAACACATAATCAATCAATCAATCAATCAATCAAATAACAGAGATTCAAT\r\n",
      "CCATAGTAACAGTATACCTTACAGCGATATAACAGTCTGGTTATTCTATAAAATCTATAT\r\n",
      "CTACATGTATTATTAACACACATTACTTATTATATAATGTTCTGGTTGCTTGAATTATGG\r\n",
      "AAGTATAAAAACAATGTATAACCGGGACCATTATTTATACAGAGAAAAACTAGCAAAGTG\r\n",
      "TTTGGTTTTAAAACTCGAATTGACTGACATTGACAGTGGCATATTTATAATTTTGTAGGA\r\n",
      "TGTTAATCAACACATAACAT\r\n",
      ">TR1|c0_g2_i1 len=323 path=[637:0-301 638:302-322] [-1, 637, 638, -2]\r\n",
      "GACGAAAAACAAACACATAATCAATCAATCAATCAATCAATCAAATAACAGAGATTCAAT\r\n",
      "CCATAGTAACAGTATACCTTACAGCGATATAACAGTCTGGTTATTCTATAAAATCTATAT\r\n"
     ]
    }
   ],
   "source": [
    "!head /Users/sr320/data-genomic/tentacle/OlyO_v6_transcriptome.fa\n"
   ]
  },
  {
   "cell_type": "code",
   "execution_count": 23,
   "metadata": {
    "collapsed": false
   },
   "outputs": [
    {
     "name": "stdout",
     "output_type": "stream",
     "text": [
      "148557\r\n"
     ]
    }
   ],
   "source": [
    "!grep -c '>' /Users/sr320/data-genomic/tentacle/OlyO_v6_transcriptome.fa"
   ]
  },
  {
   "cell_type": "code",
   "execution_count": 32,
   "metadata": {
    "collapsed": false
   },
   "outputs": [],
   "source": [
    "!awk '!/^>/ { next } { getline seq } length(seq) >= 200 { print $0 \"\\n\" seq }' /Users/sr320/data-genomic/tentacle/OlyO_v6_transcriptome.fa > OlyO_v6_transcriptome-400bp.fa\n"
   ]
  },
  {
   "cell_type": "code",
   "execution_count": 33,
   "metadata": {
    "collapsed": true
   },
   "outputs": [],
   "source": [
    "!head OlyO_v6_transcriptome-400bp.fa\n"
   ]
  },
  {
   "cell_type": "code",
   "execution_count": 34,
   "metadata": {
    "collapsed": false
   },
   "outputs": [
    {
     "name": "stdout",
     "output_type": "stream",
     "text": [
      "0\r\n"
     ]
    }
   ],
   "source": [
    "!grep -c '>' OlyO_v6_transcriptome-400bp.fa"
   ]
  },
  {
   "cell_type": "markdown",
   "metadata": {},
   "source": [
    "# move to wd"
   ]
  },
  {
   "cell_type": "code",
   "execution_count": 7,
   "metadata": {
    "collapsed": false
   },
   "outputs": [
    {
     "name": "stdout",
     "output_type": "stream",
     "text": [
      "/Volumes/web-1/halfshell/working-directory\n"
     ]
    }
   ],
   "source": [
    "cd /Volumes/web-1/halfshell/working-directory"
   ]
  },
  {
   "cell_type": "code",
   "execution_count": 8,
   "metadata": {
    "collapsed": false
   },
   "outputs": [
    {
     "name": "stdout",
     "output_type": "stream",
     "text": [
      "16-04-13\r\n"
     ]
    }
   ],
   "source": [
    "!date +\"%y-%m-%d\""
   ]
  },
  {
   "cell_type": "code",
   "execution_count": 9,
   "metadata": {
    "collapsed": true
   },
   "outputs": [],
   "source": [
    "mkdir 16-04-13b"
   ]
  },
  {
   "cell_type": "code",
   "execution_count": 10,
   "metadata": {
    "collapsed": false
   },
   "outputs": [
    {
     "name": "stdout",
     "output_type": "stream",
     "text": [
      "/Volumes/web-1/halfshell/working-directory/16-04-13b\n"
     ]
    }
   ],
   "source": [
    "cd 16-04-13b"
   ]
  },
  {
   "cell_type": "markdown",
   "metadata": {},
   "source": [
    "# blast"
   ]
  },
  {
   "cell_type": "code",
   "execution_count": 15,
   "metadata": {
    "collapsed": false
   },
   "outputs": [
    {
     "name": "stdout",
     "output_type": "stream",
     "text": [
      "USAGE\r\n",
      "  makeblastdb [-h] [-help] [-in input_file] [-input_type type]\r\n",
      "    -dbtype molecule_type [-title database_title] [-parse_seqids]\r\n",
      "    [-hash_index] [-mask_data mask_data_files] [-mask_id mask_algo_ids]\r\n",
      "    [-mask_desc mask_algo_descriptions] [-gi_mask]\r\n",
      "    [-gi_mask_name gi_based_mask_names] [-out database_name]\r\n",
      "    [-max_file_sz number_of_bytes] [-logfile File_Name] [-taxid TaxID]\r\n",
      "    [-taxid_map TaxIDMapFile] [-version]\r\n",
      "\r\n",
      "DESCRIPTION\r\n",
      "   Application to create BLAST databases, version 2.2.30+\r\n",
      "\r\n",
      "Use '-help' to print detailed descriptions of command line arguments\r\n",
      "========================================================================\r\n",
      "\r\n",
      "Error: Argument \"dbtype\". Mandatory value is missing:  `String, `nucl', `prot''\r\n"
     ]
    }
   ],
   "source": [
    "!makeblastdb"
   ]
  },
  {
   "cell_type": "code",
   "execution_count": 16,
   "metadata": {
    "collapsed": false
   },
   "outputs": [
    {
     "name": "stdout",
     "output_type": "stream",
     "text": [
      "\n",
      "\n",
      "Building a new DB, current time: 04/13/2016 10:33:32\n",
      "New DB name:   /Users/sr320/data-genomic/blast/db/OlyBGI-scaffold-10k\n",
      "New DB title:  /Users/sr320/Dropbox/scratch/OlyBGI-scaffold-10k.fa\n",
      "Sequence type: Nucleotide\n",
      "Keep Linkouts: T\n",
      "Keep MBits: T\n",
      "Maximum file size: 1000000000B\n",
      "Adding sequences from FASTA; added 11495 sequences in 3.05706 seconds.\n"
     ]
    }
   ],
   "source": [
    "!makeblastdb \\\n",
    "-in /Users/sr320/Dropbox/scratch/OlyBGI-scaffold-10k.fa \\\n",
    "-dbtype nucl \\\n",
    "-out /Users/sr320/data-genomic/blast/db/OlyBGI-scaffold-10k"
   ]
  },
  {
   "cell_type": "code",
   "execution_count": null,
   "metadata": {
    "collapsed": true
   },
   "outputs": [],
   "source": []
  },
  {
   "cell_type": "code",
   "execution_count": null,
   "metadata": {
    "collapsed": true
   },
   "outputs": [],
   "source": []
  },
  {
   "cell_type": "code",
   "execution_count": 18,
   "metadata": {
    "collapsed": true
   },
   "outputs": [],
   "source": [
    "!blastn \\\n",
    "-query /Users/sr320/data-genomic/tentacle/OlyO_v6_transcriptome.fa \\\n",
    "-db /Users/sr320/data-genomic/blast/db/OlyBGI-scaffold-10k \\\n",
    "-evalue 1e-20 \\\n",
    "-outfmt 6 \\\n",
    "-num_threads 6 \\\n",
    "-out blastout_Oly6-BGI10k-a \\\n",
    "2> blastout_Oly6-BGI10k-a"
   ]
  },
  {
   "cell_type": "code",
   "execution_count": 19,
   "metadata": {
    "collapsed": true
   },
   "outputs": [],
   "source": [
    "!blastn \\\n",
    "-query /Users/sr320/data-genomic/tentacle/OlyO_v6_transcriptome.fa \\\n",
    "-db /Users/sr320/data-genomic/blast/db/OlyBGI-scaffold-10k \\\n",
    "-task blastn \\\n",
    "-evalue 1e-20 \\\n",
    "-outfmt 6 \\\n",
    "-num_threads 6 \\\n",
    "-out blastout_Oly6-BGI10k-b \\\n",
    "2> blastout_Oly6-BGI10k-b"
   ]
  },
  {
   "cell_type": "code",
   "execution_count": 22,
   "metadata": {
    "collapsed": false
   },
   "outputs": [
    {
     "name": "stdout",
     "output_type": "stream",
     "text": [
      "blastout_Oly6-BGI10k-a  blastout_Oly6-BGI10k-b\r\n"
     ]
    }
   ],
   "source": [
    "ls"
   ]
  },
  {
   "cell_type": "code",
   "execution_count": 20,
   "metadata": {
    "collapsed": false
   },
   "outputs": [
    {
     "name": "stdout",
     "output_type": "stream",
     "text": [
      "/bin/sh: 2_Blast2gff.pl: command not found\r\n"
     ]
    }
   ],
   "source": [
    "# Creating track \n",
    "!2_Blast2gff.pl -i /Volumes/web/cnidarian/OlyOv3_400_blastn_OlyO10kcontigs -o /Users/sr320/Desktop/OlyO10kcontigs_exon_a.gff -d \"OlyOv3_400\" -p EXON -s \"something\"\n"
   ]
  },
  {
   "cell_type": "code",
   "execution_count": 21,
   "metadata": {
    "collapsed": false
   },
   "outputs": [
    {
     "name": "stdout",
     "output_type": "stream",
     "text": [
      "tophat: \r\n",
      "TopHat maps short sequences from spliced transcripts to whole genomes.\r\n",
      "\r\n",
      "Usage:\r\n",
      "    tophat [options] <bowtie_index> <reads1[,reads2,...]> [reads1[,reads2,...]] \\\r\n",
      "                                    [quals1,[quals2,...]] [quals1[,quals2,...]]\r\n",
      "\r\n",
      "Options:\r\n",
      "    -v/--version\r\n",
      "    -o/--output-dir                <string>    [ default: ./tophat_out         ]\r\n",
      "    --bowtie1                                  [ default: bowtie2              ]\r\n",
      "    -N/--read-mismatches           <int>       [ default: 2                    ]\r\n",
      "    --read-gap-length              <int>       [ default: 2                    ]\r\n",
      "    --read-edit-dist               <int>       [ default: 2                    ]\r\n",
      "    --read-realign-edit-dist       <int>       [ default: \"read-edit-dist\" + 1 ]\r\n",
      "    -a/--min-anchor                <int>       [ default: 8                    ]\r\n",
      "    -m/--splice-mismatches         <0-2>       [ default: 0                    ]\r\n",
      "    -i/--min-intron-length         <int>       [ default: 50                   ]\r\n",
      "    -I/--max-intron-length         <int>       [ default: 500000               ]\r\n",
      "    -g/--max-multihits             <int>       [ default: 20                   ]\r\n",
      "    --suppress-hits\r\n",
      "    -x/--transcriptome-max-hits    <int>       [ default: 60                   ]\r\n",
      "    -M/--prefilter-multihits                   ( for -G/--GTF option, enable\r\n",
      "                                                 an initial bowtie search\r\n",
      "                                                 against the genome )\r\n",
      "    --max-insertion-length         <int>       [ default: 3                    ]\r\n",
      "    --max-deletion-length          <int>       [ default: 3                    ]\r\n",
      "    --solexa-quals\r\n",
      "    --solexa1.3-quals                          (same as phred64-quals)\r\n",
      "    --phred64-quals                            (same as solexa1.3-quals)\r\n",
      "    -Q/--quals\r\n",
      "    --integer-quals\r\n",
      "    -C/--color                                 (Solid - color space)\r\n",
      "    --color-out\r\n",
      "    --library-type                 <string>    (fr-unstranded, fr-firststrand,\r",
      "\r\n",
      "                                                fr-secondstrand)\r\n",
      "    -p/--num-threads               <int>       [ default: 1                   ]\r\n",
      "    -R/--resume                    <out_dir>   ( try to resume execution )\r\n",
      "    -G/--GTF                       <filename>  (GTF/GFF with known transcripts)\r\n",
      "    --transcriptome-index          <bwtidx>    (transcriptome bowtie index)\r\n",
      "    -T/--transcriptome-only                    (map only to the transcriptome)\r\n",
      "    -j/--raw-juncs                 <filename>\r\n",
      "    --insertions                   <filename>\r\n",
      "    --deletions                    <filename>\r\n",
      "    -r/--mate-inner-dist           <int>       [ default: 50                  ]\r\n",
      "    --mate-std-dev                 <int>       [ default: 20                  ]\r\n",
      "    --no-novel-juncs\r\n",
      "    --no-novel-indels\r\n",
      "    --no-gtf-juncs\r\n",
      "    --no-coverage-search\r\n",
      "    --coverage-search\r\n",
      "    --microexon-search\r\n",
      "    --keep-tmp\r\n",
      "    --tmp-dir                      <dirname>   [ default: <output_dir>/tmp ]\r\n",
      "    -z/--zpacker                   <program>   [ default: gzip             ]\r\n",
      "    -X/--unmapped-fifo                         [use mkfifo to compress more temporary\r\n",
      "                                                 files for color space reads]\r\n",
      "\r\n",
      "Advanced Options:\r\n",
      "    --report-secondary-alignments\r\n",
      "    --no-discordant\r\n",
      "    --no-mixed\r\n",
      "\r\n",
      "    --segment-mismatches           <int>       [ default: 2                ]\r\n",
      "    --segment-length               <int>       [ default: 25               ]\r\n",
      "\r\n",
      "    --bowtie-n                                 [ default: bowtie -v        ]\r\n",
      "    --min-coverage-intron          <int>       [ default: 50               ]\r\n",
      "    --max-coverage-intron          <int>       [ default: 20000            ]\r\n",
      "    --min-segment-intron           <int>       [ default: 50               ]\r\n",
      "    --max-segment-intron           <int>       [ default: 500000           ]\r\n",
      "    --no-sort-bam                              (Output BAM is not coordinate-sorted)\r\n",
      "    --no-convert-bam                           (Do not output bam format.\r\n",
      "                                                Output is <output_dir>/accepted_hit.sam)\r\n",
      "    --keep-fasta-order\r\n",
      "    --allow-partial-mapping\r\n",
      "\r\n",
      "Bowtie2 related options:\r\n",
      "  Preset options in --end-to-end mode (local alignment is not used in TopHat2)\r\n",
      "    --b2-very-fast\r\n",
      "    --b2-fast\r\n",
      "    --b2-sensitive\r\n",
      "    --b2-very-sensitive\r\n",
      "\r\n",
      "  Alignment options\r\n",
      "    --b2-N                         <int>       [ default: 0                ]\r\n",
      "    --b2-L                         <int>       [ default: 20               ]\r\n",
      "    --b2-i                         <func>      [ default: S,1,1.25         ]\r\n",
      "    --b2-n-ceil                    <func>      [ default: L,0,0.15         ]\r\n",
      "    --b2-gbar                      <int>       [ default: 4                ]\r\n",
      "\r\n",
      "  Scoring options\r\n",
      "    --b2-mp                        <int>,<int> [ default: 6,2              ]\r\n",
      "    --b2-np                        <int>       [ default: 1                ]\r\n",
      "    --b2-rdg                       <int>,<int> [ default: 5,3              ]\r\n",
      "    --b2-rfg                       <int>,<int> [ default: 5,3              ]\r\n",
      "    --b2-score-min                 <func>      [ default: L,-0.6,-0.6      ]\r\n",
      "\r\n",
      "  Effort options\r\n",
      "    --b2-D                         <int>       [ default: 15               ]\r\n",
      "    --b2-R                         <int>       [ default: 2                ]\r\n",
      "\r\n",
      "Fusion related options:\r\n",
      "    --fusion-search\r\n",
      "    --fusion-anchor-length         <int>       [ default: 20               ]\r\n",
      "    --fusion-min-dist              <int>       [ default: 10000000         ]\r\n",
      "    --fusion-read-mismatches       <int>       [ default: 2                ]\r\n",
      "    --fusion-multireads            <int>       [ default: 2                ]\r\n",
      "    --fusion-multipairs            <int>       [ default: 2                ]\r\n",
      "    --fusion-ignore-chromosomes    <list>      [ e.g, <chrM,chrX>          ]\r\n",
      "\r\n",
      "    --fusion-do-not-resolve-conflicts          [this is for test purposes  ]\r\n",
      "\r\n",
      "SAM Header Options (for embedding sequencing run metadata in output):\r\n",
      "    --rg-id                        <string>    (read group ID)\r\n",
      "    --rg-sample                    <string>    (sample ID)\r\n",
      "    --rg-library                   <string>    (library ID)\r\n",
      "    --rg-description               <string>    (descriptive string, no tabs allowed)\r\n",
      "    --rg-platform-unit             <string>    (e.g Illumina lane ID)\r\n",
      "    --rg-center                    <string>    (sequencing center name)\r\n",
      "    --rg-date                      <string>    (ISO 8601 date of the sequencing run)\r\n",
      "    --rg-platform                  <string>    (Sequencing platform descriptor)\r\n",
      "\r\n",
      "    for detailed help see http://tophat.cbcb.umd.edu/manual.html\r\n"
     ]
    }
   ],
   "source": [
    "!tophat\n"
   ]
  },
  {
   "cell_type": "code",
   "execution_count": null,
   "metadata": {
    "collapsed": true
   },
   "outputs": [],
   "source": []
  }
 ],
 "metadata": {
  "kernelspec": {
   "display_name": "Python 2",
   "language": "python",
   "name": "python2"
  },
  "language_info": {
   "codemirror_mode": {
    "name": "ipython",
    "version": 2
   },
   "file_extension": ".py",
   "mimetype": "text/x-python",
   "name": "python",
   "nbconvert_exporter": "python",
   "pygments_lexer": "ipython2",
   "version": "2.7.11"
  }
 },
 "nbformat": 4,
 "nbformat_minor": 0
}
