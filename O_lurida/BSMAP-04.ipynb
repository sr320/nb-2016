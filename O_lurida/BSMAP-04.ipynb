{
 "cells": [
  {
   "cell_type": "code",
   "execution_count": null,
   "metadata": {
    "collapsed": true
   },
   "outputs": [],
   "source": []
  },
  {
   "cell_type": "code",
   "execution_count": null,
   "metadata": {
    "collapsed": true
   },
   "outputs": [],
   "source": []
  },
  {
   "cell_type": "code",
   "execution_count": 1,
   "metadata": {
    "collapsed": true
   },
   "outputs": [],
   "source": [
    "bsmaploc=\"/Applications/bioinfo/BSMAP/bsmap-2.74/\""
   ]
  },
  {
   "cell_type": "code",
   "execution_count": 2,
   "metadata": {
    "collapsed": false
   },
   "outputs": [
    {
     "name": "stdout",
     "output_type": "stream",
     "text": [
      "/Volumes/web-1/halfshell/working-directory\n"
     ]
    }
   ],
   "source": [
    "cd /Volumes/web-1/halfshell/working-directory"
   ]
  },
  {
   "cell_type": "code",
   "execution_count": 3,
   "metadata": {
    "collapsed": false
   },
   "outputs": [
    {
     "name": "stdout",
     "output_type": "stream",
     "text": [
      "16-01-27\r\n"
     ]
    }
   ],
   "source": [
    "!date +\"%y-%m-%d\""
   ]
  },
  {
   "cell_type": "code",
   "execution_count": 25,
   "metadata": {
    "collapsed": false
   },
   "outputs": [],
   "source": [
    "mkdir 16-01-27b\n"
   ]
  },
  {
   "cell_type": "code",
   "execution_count": 5,
   "metadata": {
    "collapsed": false
   },
   "outputs": [
    {
     "name": "stdout",
     "output_type": "stream",
     "text": [
      "/Volumes/web-1/halfshell/working-directory/16-01-27b\n"
     ]
    }
   ],
   "source": [
    "cd 16-01-27b"
   ]
  },
  {
   "cell_type": "code",
   "execution_count": null,
   "metadata": {
    "collapsed": true
   },
   "outputs": [
    {
     "name": "stdout",
     "output_type": "stream",
     "text": [
      "\n",
      "BSMAP v2.74\n",
      "Start at:  Wed Jan 27 09:53:35 2016\n",
      "\n",
      "Input reference file: Olurida_transcriptome_v3.fasta \t(format: FASTA)\n",
      "Load in 38064 db seqs, total size 32061645 bp. 5 secs passed\n",
      "total_kmers: 43046721\n",
      "Create seed table. 8 secs passed\n",
      "max number of mismatches: read_length * 8% \tmax gap size: 0\n",
      "kmer cut-off ratio: 5e-07\n",
      "max multi-hits: 100\tmax Ns: 5\tseed size: 16\tindex interval: 4\n",
      "quality cutoff: 0\tbase quality char: '!'\n",
      "min fragment size:28\tmax fragemt size:500\n",
      "start from read #1\tend at read #4294967295\n",
      "additional alignment: T in reads => C in reference\n",
      "mapping strand: ++,-+\n",
      "Single-end alignment(4 threads)\n",
      "Input read file: 1_ATCACG_L001_R1_001.fastq.gz \t(format: gzipped FASTQ)\n",
      "Output file: bsmap_out_1_ATCACG.sam\t (format: SAM)\n"
     ]
    }
   ],
   "source": [
    "for i in (\"1_ATCACG\",\"2_CGATGT\",\"3_TTAGGC\", \"4_TGACCA\", \"5_ACAGTG\", \"6_GCCAAT\", \"7_CAGATC\", \"8_ACTTGA\"):\n",
    "    !{bsmaploc}bsmap \\\n",
    "-a {i}_L001_R1_001.fastq.gz \\\n",
    "-d Olurida_transcriptome_v3.fasta \\\n",
    "-o bsmap_out_{i}.sam \\\n",
    "-p 4"
   ]
  },
  {
   "cell_type": "code",
   "execution_count": null,
   "metadata": {
    "collapsed": true
   },
   "outputs": [],
   "source": [
    "for i in (\"1_ATCACG\",\"2_CGATGT\",\"3_TTAGGC\", \"4_TGACCA\", \"5_ACAGTG\", \"6_GCCAAT\", \"7_CAGATC\", \"8_ACTTGA\"):\n",
    "    !python {bsmaploc}methratio.py \\\n",
    "-d Olurida_transcriptome_v3.fasta \\\n",
    "-u -z -g \\\n",
    "-o methratio_out_{i}.txt \\\n",
    "-s {bsmaploc}samtools \\\n",
    "bsmap_out_{i}.sam "
   ]
  },
  {
   "cell_type": "code",
   "execution_count": null,
   "metadata": {
    "collapsed": false
   },
   "outputs": [],
   "source": [
    "\n",
    "#first methratio files are converted to filter for CG context, 3x coverage (mr3x.awk), and reformatting (mr_gg.awk.sh).\n",
    "#due to issue passing variable to awk, simple scripts were used (included in repository)\n",
    "for i in (\"1_ATCACG\",\"2_CGATGT\",\"3_TTAGGC\", \"4_TGACCA\", \"5_ACAGTG\", \"6_GCCAAT\", \"7_CAGATC\", \"8_ACTTGA\"):\n",
    "    !echo {i}\n",
    "    !grep \"[A-Z][A-Z]CG[A-Z]\" <methratio_out_{i}.txt> methratio_out_{i}CG.txt\n",
    "    !awk -f ../../scripts/mr3x.awk methratio_out_{i}CG.txt > mr3x.{i}.txt\n",
    "    !awk -f ../../scripts/mr_gg.awk.sh mr3x.{i}.txt > mkfmt_{i}.txt"
   ]
  },
  {
   "cell_type": "code",
   "execution_count": 9,
   "metadata": {
    "collapsed": false
   },
   "outputs": [
    {
     "name": "stderr",
     "output_type": "stream",
     "text": [
      "ERROR: Cell magic `%%R` not found.\n"
     ]
    }
   ],
   "source": [
    "%%R"
   ]
  },
  {
   "cell_type": "code",
   "execution_count": null,
   "metadata": {
    "collapsed": true
   },
   "outputs": [],
   "source": []
  }
 ],
 "metadata": {
  "kernelspec": {
   "display_name": "Python 2",
   "language": "python",
   "name": "python2"
  },
  "language_info": {
   "codemirror_mode": {
    "name": "ipython",
    "version": 2
   },
   "file_extension": ".py",
   "mimetype": "text/x-python",
   "name": "python",
   "nbconvert_exporter": "python",
   "pygments_lexer": "ipython2",
   "version": "2.7.11"
  }
 },
 "nbformat": 4,
 "nbformat_minor": 0
}
