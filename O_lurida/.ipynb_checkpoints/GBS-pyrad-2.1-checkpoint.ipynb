{
 "cells": [
  {
   "cell_type": "markdown",
   "metadata": {},
   "source": [
    "# _de novo_ RADseq assembly using _pyRAD_"
   ]
  },
  {
   "cell_type": "markdown",
   "metadata": {},
   "source": [
    "# Modification to start looking at Ostrea data"
   ]
  },
  {
   "cell_type": "markdown",
   "metadata": {},
   "source": [
    "Begin by executing the command below. This will download an example simulated RADseq data set and unarchive it into your current directory."
   ]
  },
  {
   "cell_type": "code",
   "execution_count": 2,
   "metadata": {
    "collapsed": false
   },
   "outputs": [
    {
     "data": {
      "text/plain": [
       "u'/Users/sr320/git-repos/nb-2016/O_lurida'"
      ]
     },
     "execution_count": 2,
     "metadata": {},
     "output_type": "execute_result"
    }
   ],
   "source": [
    "pwd"
   ]
  },
  {
   "cell_type": "code",
   "execution_count": 3,
   "metadata": {
    "collapsed": false
   },
   "outputs": [
    {
     "name": "stdout",
     "output_type": "stream",
     "text": [
      "/Volumes/web/halfshell/working-directory\n"
     ]
    }
   ],
   "source": [
    "cd /Volumes/web/halfshell/working-directory\n"
   ]
  },
  {
   "cell_type": "code",
   "execution_count": null,
   "metadata": {
    "collapsed": true
   },
   "outputs": [],
   "source": [
    "mkdir 16-05-27"
   ]
  },
  {
   "cell_type": "code",
   "execution_count": 4,
   "metadata": {
    "collapsed": false
   },
   "outputs": [
    {
     "name": "stdout",
     "output_type": "stream",
     "text": [
      "/Volumes/web/halfshell/working-directory/16-05-27\n"
     ]
    }
   ],
   "source": [
    "cd 16-05-27"
   ]
  },
  {
   "cell_type": "code",
   "execution_count": null,
   "metadata": {
    "collapsed": false
   },
   "outputs": [],
   "source": [
    "ls | head"
   ]
  },
  {
   "cell_type": "markdown",
   "metadata": {},
   "source": [
    "------------   \n",
    "\n",
    "The params file lists on each line one parameter followed by a __##__ mark, after which any comments can be left. In the comments section there is a description of the parameter and in parentheses the step of the analysis affected by the parameter. Lines 1-12 are required, the remaining lines are optional. The params.txt file is further described in the general tutorial."
   ]
  },
  {
   "cell_type": "markdown",
   "metadata": {},
   "source": [
    "### evolving params file"
   ]
  },
  {
   "cell_type": "code",
   "execution_count": 5,
   "metadata": {
    "collapsed": false
   },
   "outputs": [
    {
     "name": "stdout",
     "output_type": "stream",
     "text": [
      "==** parameter inputs for pyRAD version 3.0.64  **======================== affected step ==\n",
      "./                        ## 1. Working directory                                 (all)\n",
      "./*.fq.gz              ## 2. Loc. of non-demultiplexed files (if not line 18)  (s1)\n",
      "./*.barcodes              ## 3. Loc. of barcode file (if not line 18)             (s1)\n",
      "/Applications/bioinfo/vsearch-1.11.1-osx-x86_64/bin/vsearch                   ## 4. command (or path) to call vsearch (or usearch)    (s3,s6)\n",
      "/Applications/bioinfo/muscle3.8.31_i86darwin64                    ## 5. command (or path) to call muscle                  (s3,s7)\n",
      "CWGC                      ## 6. Restriction overhang (e.g., C|TGCAG -> TGCAG)     (s1,s2)\n",
      "6                         ## 7. N processors (parallel)                           (all)\n",
      "5                         ## 8. Mindepth: min coverage for a cluster              (s4,s5)\n",
      "4                         ## 9. NQual: max # sites with qual < 20 (or see line 20)(s2)\n",
      ".88                       ## 10. Wclust: clustering threshold as a decimal        (s3,s6)\n",
      "gbs                       ## 11. Datatype: rad,gbs,pairgbs,pairddrad,(others:see docs)(all)\n",
      "4                        ## 12. MinCov: min samples in a final locus             (s7)\n",
      "3                        ## 13. MaxSH: max inds with shared hetero site          (s7)\n",
      "gbs-002               ## 14. Prefix name for final output (no spaces)         (s7)\n",
      "==== optional params below this line ===================================  affected step ==\n",
      "                       ## 15.opt.: select subset (prefix* only selector)            (s2-s7)\n",
      "                       ## 16.opt.: add-on (outgroup) taxa (list or prefix*)         (s6,s7)\n",
      "                       ## 17.opt.: exclude taxa (list or prefix*)                   (s7)\n",
      "/Volumes/web/halfshell/working-directory/16-05-17/fastq/                       ## 18.opt.: loc. of de-multiplexed data                      (s2)\n",
      "                       ## 19.opt.: maxM: N mismatches in barcodes (def= 1)          (s1)\n",
      "                       ## 20.opt.: phred Qscore offset (def= 33)                    (s2)\n",
      "                       ## 21.opt.: filter: def=0=NQual 1=NQual+adapters. 2=strict   (s2)\n",
      "                       ## 22.opt.: a priori E,H (def= 0.001,0.01, if not estimated) (s5)\n",
      "                       ## 23.opt.: maxN: max Ns in a cons seq (def=5)               (s5)\n",
      "                       ## 24.opt.: maxH: max heterozyg. sites in cons seq (def=5)   (s5)\n",
      "                       ## 25.opt.: ploidy: max alleles in cons seq (def=2;see docs) (s4,s5)\n",
      "                       ## 26.opt.: maxSNPs: (def=100). Paired (def=100,100)         (s7)\n",
      "                       ## 27.opt.: maxIndels: within-clust,across-clust (def. 3,99) (s3,s7)\n",
      "                       ## 28.opt.: random number seed (def. 112233)              (s3,s6,s7)\n",
      "                       ## 29.opt.: trim overhang left,right on final loci, def(0,0) (s7)\n",
      "                       ## 30.opt.: output formats: p,n,a,s,v,u,t,m,k,g,* (see docs) (s7)\n",
      "                       ## 31.opt.: maj. base call at depth>x<mindepth (def.x=mindepth) (s5)\n",
      "                       ## 32.opt.: keep trimmed reads (def=0). Enter min length.    (s2)\n",
      "                       ## 33.opt.: max stack size (int), def= max(500,mean+2*SD)    (s3)\n",
      "                       ## 34.opt.: minDerep: exclude dereps with <= N copies, def=1 (s3)\n",
      "                       ## 35.opt.: use hierarchical clustering (def.=0, 1=yes)      (s6)\n",
      "                       ## 36.opt.: repeat masking (def.=1='dust' method, 0=no)      (s3,s6)\n",
      "                       ## 37.opt.: vsearch max threads per job (def.=6; see docs)   (s3,s6)\n",
      "==== optional: list group/clade assignments below this line (see docs) ==================\n"
     ]
    }
   ],
   "source": [
    "%%bash\n",
    "cat params.txt"
   ]
  },
  {
   "cell_type": "markdown",
   "metadata": {},
   "source": [
    "#### To change parameters you can edit params.txt in any text editor. Here to automate things I use the script below."
   ]
  },
  {
   "cell_type": "markdown",
   "metadata": {},
   "source": [
    "--------------   \n",
    "\n",
    "__Let's take a look at what the raw data look like.__"
   ]
  },
  {
   "cell_type": "markdown",
   "metadata": {},
   "source": [
    "Your input data will be in fastQ format, usually ending in .fq or .fastq. Your data could be split among multiple files, or all within a single file (de-multiplexing goes much faster if they happen to be split into multiple files). The file/s may be compressed with gzip so that they have a .gz ending, but they do not need to be. The location of these files should be entered on line 2 of the params file. Below are the first three reads in the example file."
   ]
  },
  {
   "cell_type": "markdown",
   "metadata": {},
   "source": [
    "## Sample Description"
   ]
  },
  {
   "cell_type": "markdown",
   "metadata": {},
   "source": [
    "<img src=\"http://eagle.fish.washington.edu/cnidarian/skitch/Genotype_by_sequencing_November_2015_·_RobertsLab_project-olympia_oyster-genomic_Wiki_🔊_1CEB70ED.png\" alt=\"Genotype_by_sequencing_November_2015_·_RobertsLab_project-olympia_oyster-genomic_Wiki_🔊_1CEB70ED.png\"/>"
   ]
  },
  {
   "cell_type": "code",
   "execution_count": null,
   "metadata": {
    "collapsed": false
   },
   "outputs": [],
   "source": [
    "!gunzip *.gz"
   ]
  },
  {
   "cell_type": "markdown",
   "metadata": {},
   "source": [
    "----------------   \n",
    "\n",
    "## Step 1: de-multiplexing ##"
   ]
  },
  {
   "cell_type": "code",
   "execution_count": null,
   "metadata": {
    "collapsed": true
   },
   "outputs": [],
   "source": [
    "already done by bgi"
   ]
  },
  {
   "cell_type": "markdown",
   "metadata": {},
   "source": [
    "### Step 2: quality filtering"
   ]
  },
  {
   "cell_type": "code",
   "execution_count": 6,
   "metadata": {
    "collapsed": false
   },
   "outputs": [
    {
     "name": "stdout",
     "output_type": "stream",
     "text": [
      "\t/Volumes/web/halfshell/working-directory/16-05-27/edits/1NF_13A_1 already in edits/\n",
      "\t/Volumes/web/halfshell/working-directory/16-05-27/edits/1NF_29A_1 already in edits/\n",
      "\t/Volumes/web/halfshell/working-directory/16-05-27/edits/1SN_30A_1 already in edits/\n",
      "\t/Volumes/web/halfshell/working-directory/16-05-27/edits/1HL_28A_1 already in edits/\n",
      "\t/Volumes/web/halfshell/working-directory/16-05-27/edits/1SN_23A_1 already in edits/\n",
      "\t/Volumes/web/halfshell/working-directory/16-05-27/edits/1NF_4A_1 already in edits/\n"
     ]
    },
    {
     "name": "stderr",
     "output_type": "stream",
     "text": [
      "\n",
      "\n",
      "     ------------------------------------------------------------\n",
      "      pyRAD : RADseq for phylogenetics & introgression analyses\n",
      "     ------------------------------------------------------------\n",
      "\n",
      "\tsorted .fastq from /Volumes/web/halfshell/working-directory/16-05-17/fastq/ being used\n",
      "\tstep 2: editing raw reads \n",
      "\t.........................................................................................."
     ]
    }
   ],
   "source": [
    "%%bash\n",
    "pyRAD -p params.txt -s 2"
   ]
  },
  {
   "cell_type": "code",
   "execution_count": 8,
   "metadata": {
    "collapsed": false,
    "scrolled": true
   },
   "outputs": [
    {
     "name": "stdout",
     "output_type": "stream",
     "text": [
      "1HL_10A_1.edit\n",
      "1HL_11A_1.edit\n",
      "1HL_12A_1.edit\n",
      "1HL_13A_1.edit\n",
      "1HL_14A_1.edit\n",
      "1HL_15A_1.edit\n",
      "1HL_16A_1.edit\n",
      "1HL_17A_1.edit\n",
      "1HL_19A_1.edit\n",
      "1HL_1A_1.edit\n"
     ]
    }
   ],
   "source": [
    "%%bash\n",
    "ls edits/ |head"
   ]
  },
  {
   "cell_type": "markdown",
   "metadata": {},
   "source": [
    "The filtered data are written in fasta format (quality scores removed) into a new directory called edits/. Below I show a preview of the file which you can view most easily using the `less` command (I use `head` here to make it fit in the text window better)."
   ]
  },
  {
   "cell_type": "code",
   "execution_count": 9,
   "metadata": {
    "collapsed": false
   },
   "outputs": [
    {
     "name": "stdout",
     "output_type": "stream",
     "text": [
      ">1HL_10A_1_0_r1\n",
      "CTGCAAATTGTGTGTCAAGAAAAAAATTGCATACGAAAAATTTACTTGCCACAAGCTTGCCGAAAACGTGTGCCACAAAT\n",
      ">1HL_10A_1_1_r1\n",
      "CTGCGTCAGAAACTGTTCCAAGCAGAAACGCGTATCTGACGTCACCCATGTTTTCCCGCGTGCGAGTTAGCCACGTCTCA\n",
      ">1HL_10A_1_2_r1\n",
      "CTGCAATTTTTTTCATTTGATAAGTTTTCATCACAGAGAGAGAGAGAGAGAGAGAGAGAGAGAGAGAGAGAGAGAGAGAG\n",
      ">1HL_10A_1_3_r1\n",
      "CTGCAATTTTTTTCATTTGATAAGTTTTCATCACAGAGAGAGAGAGAGAGAGAGAGAGAGAGAGAGAGAGAGAGAGAGAG\n",
      ">1HL_10A_1_4_r1\n",
      "CTGCTATTCATAACAAACATGTGTTCAGCGCTCAGTTCATTGACTGACTAGGGTTAGGGTACACAAGCATGAATATCAAT\n"
     ]
    }
   ],
   "source": [
    "%%bash\n",
    "head -n 10 edits/1HL_10A_1.edit | cut -c 1-80"
   ]
  },
  {
   "cell_type": "markdown",
   "metadata": {},
   "source": [
    "### Step 3: clustering within-samples"
   ]
  },
  {
   "cell_type": "markdown",
   "metadata": {},
   "source": [
    "Step 3 de-replicates and then clusters reads within each sample by the set clustering threshold and writes the clusters to new files in a directory called clust.xx"
   ]
  },
  {
   "cell_type": "code",
   "execution_count": 10,
   "metadata": {
    "collapsed": false
   },
   "outputs": [
    {
     "name": "stderr",
     "output_type": "stream",
     "text": [
      "\n",
      "\n",
      "     ------------------------------------------------------------\n",
      "      pyRAD : RADseq for phylogenetics & introgression analyses\n",
      "     ------------------------------------------------------------\n",
      "\n",
      "\n",
      "\tde-replicating files for clustering...\n",
      "\n",
      "\tstep 3: within-sample clustering of 96 samples at \n",
      "\t        '.88' similarity. Running 6 parallel jobs\n",
      "\t \twith up to 6 threads per job. If needed, \n",
      "\t\tadjust to avoid CPU and MEM limits\n",
      "\n",
      "\tsample 1NF_29A_1 finished, 206813 loci\n",
      "\tsample 1HL_28A_1 finished, 221001 loci\n",
      "\tsample 1SN_23A_1 finished, 237798 loci\n",
      "\tsample 1NF_4A_1 finished, 227834 loci\n",
      "\tsample 1SN_30A_1 finished, 243545 loci\n",
      "\tsample 1NF_13A_1 finished, 252424 loci\n",
      "\tsample 1HL_17A_1 finished, 209054 loci\n",
      "\tsample 1HL_23A_1 finished, 205395 loci\n",
      "\tsample 1HL_19A_1 finished, 225740 loci\n",
      "\tsample 1NF_31A_1 finished, 223265 loci\n",
      "\tsample 1SN_14A_1 finished, 222659 loci\n",
      "\tsample 1SN_21A_1 finished, 253840 loci\n",
      "\tsample 1HL_11A_1 finished, 246951 loci\n",
      "\tsample 1NF_2A_1 finished, 211397 loci\n",
      "\tsample 1SN_12A_1 finished, 235018 loci\n",
      "\tsample 1NF_32A_1 finished, 232882 loci\n",
      "\tsample 1NF_9A_1 finished, 213372 loci\n",
      "\tsample 1SN_6A_1 finished, 218091 loci\n",
      "\tsample 1SN_31A_1 finished, 211237 loci\n",
      "\tsample 1SN_4A_1 finished, 223325 loci\n",
      "\tsample 1SN_18A_1 finished, 222700 loci\n",
      "\tsample 1SN_8A_1 finished, 211458 loci\n",
      "\tsample 1HL_10A_1 finished, 212735 loci\n",
      "\tsample 1NF_23A_1 finished, 238137 loci\n",
      "\tsample 1SN_9A_1 finished, 244386 loci\n",
      "\tsample 1HL_26A_1 finished, 218541 loci\n",
      "\tsample 1HL_27A_1 finished, 209170 loci\n",
      "\tsample 1NF_17A_1 finished, 216743 loci\n",
      "\tsample 1NF_24A_1 finished, 216263 loci\n",
      "\tsample 1NF_21A_1 finished, 291862 loci\n",
      "\tsample 1SN_1A_1 finished, 196225 loci\n",
      "\tsample 1SN_2A_1 finished, 211909 loci\n",
      "\tsample 1SN_22A_1 finished, 214142 loci\n",
      "\tsample 1SN_19A_1 finished, 232772 loci\n",
      "\tsample 1HL_29A_1 finished, 197215 loci\n",
      "\tsample 1SN_25A_1 finished, 234870 loci\n",
      "\tsample 1SN_17A_1 finished, 217444 loci\n",
      "\tsample 1NF_26A_1 finished, 213444 loci\n",
      "\tsample 1SN_5A_1 finished, 235169 loci\n",
      "\tsample 1SN_7A_1 finished, 213930 loci\n",
      "\tsample 1SN_13A_1 finished, 213723 loci\n",
      "\tsample 1NF_22A_1 finished, 211692 loci\n",
      "\tsample 1HL_20A_1 finished, 194725 loci\n",
      "\tsample 1HL_25A_1 finished, 190642 loci\n",
      "\tsample 1HL_34A_1 finished, 193413 loci\n",
      "\tsample 1SN_28A_1 finished, 197405 loci\n",
      "\tsample 1NF_8A_1 finished, 198435 loci\n",
      "\tsample 1NF_5A_1 finished, 201878 loci\n",
      "\tsample 1HL_9A_1 finished, 220992 loci\n",
      "\tsample 1NF_14A_1 finished, 198473 loci\n",
      "\tsample 1HL_7A_1 finished, 209711 loci\n",
      "\tsample 1NF_30A_1 finished, 185642 loci\n",
      "\tsample 1SN_26A_1 finished, 201444 loci\n",
      "\tsample 1HL_2A_1 finished, 188223 loci\n",
      "\tsample 1HL_24A_1 finished, 186315 loci\n",
      "\tsample 1HL_33A_1 finished, 186087 loci\n",
      "\tsample 1NF_16A_1 finished, 202121 loci\n",
      "\tsample 1HL_13A_1 finished, 186733 loci\n",
      "\tsample 1NF_33A_1 finished, 185270 loci\n",
      "\tsample 1SN_16A_1 finished, 191417 loci\n",
      "\tsample 1NF_7A_1 finished, 190320 loci\n",
      "\tsample 1SN_27A_1 finished, 195305 loci\n",
      "\tsample 1HL_35A_1 finished, 197274 loci\n",
      "\tsample 1NF_15A_1 finished, 187773 loci\n",
      "\tsample 1SN_11A_1 finished, 202712 loci\n",
      "\tsample 1SN_10A_1 finished, 208552 loci\n",
      "\tsample 1HL_21A_1 finished, 206940 loci\n",
      "\tsample 1HL_4A_1 finished, 187837 loci\n",
      "\tsample 1SN_32A_1 finished, 221277 loci\n",
      "\tsample 1SN_15A_1 finished, 194052 loci\n",
      "\tsample 1HL_8A_1 finished, 181549 loci\n",
      "\tsample 1HL_12A_1 finished, 211369 loci\n",
      "\tsample 1NF_20A_1 finished, 184469 loci\n",
      "\tsample 1NF_6A_1 finished, 187865 loci\n",
      "\tsample 1HL_31A_1 finished, 190954 loci\n",
      "\tsample 1SN_3A_1 finished, 235474 loci\n",
      "\tsample 1NF_28A_1 finished, 186675 loci\n",
      "\tsample 1NF_11A_1 finished, 175238 loci\n",
      "\tsample 1SN_29A_1 finished, 183701 loci\n",
      "\tsample 1HL_16A_1 finished, 178024 loci\n",
      "\tsample 1NF_25A_1 finished, 169302 loci\n",
      "\tsample 1NF_27A_1 finished, 180938 loci\n",
      "\tsample 1NF_12A_1 finished, 166587 loci\n",
      "\tsample 1HL_1A_1 finished, 180183 loci\n",
      "\tsample 1NF_10A_1 finished, 178640 loci\n",
      "\tsample 1HL_3A_1 finished, 214916 loci\n",
      "\tsample 1NF_19A_1 finished, 156213 loci\n",
      "\tsample 1HL_15A_1 finished, 172944 loci\n",
      "\tsample 1HL_22A_1 finished, 184692 loci\n",
      "\tsample 1SN_20A_1 finished, 202975 loci\n",
      "\tsample 1NF_1A_1 finished, 127769 loci\n",
      "\tsample 1HL_6A_1 finished, 175577 loci\n",
      "\tsample 1HL_14A_1 finished, 161789 loci\n",
      "\tsample 1SN_24A_1 finished, 165898 loci\n",
      "\tsample 1HL_5A_1 finished, 175300 loci\n",
      "\tsample 1NF_18A_1 finished, 169554 loci\n"
     ]
    }
   ],
   "source": [
    "%%bash\n",
    "pyRAD -p params.txt -s 3"
   ]
  },
  {
   "cell_type": "markdown",
   "metadata": {},
   "source": [
    "Once again, I recommend you use the unix command 'less' to look at the clustS files. These contain each cluster separated by \"//\". For the first few clusters below you can see that there is one or two alleles in the cluster and one or a few reads that contained a (simulated) sequencing error. "
   ]
  },
  {
   "cell_type": "code",
   "execution_count": null,
   "metadata": {
    "collapsed": false
   },
   "outputs": [],
   "source": [
    "%%bash\n",
    "less clust.85/1A0.clustS.gz | head -n 26 | cut -c 1-80"
   ]
  },
  {
   "cell_type": "markdown",
   "metadata": {},
   "source": [
    "---------------\n",
    "\n",
    "\n",
    "The stats output tells you how many clusters were found, and their mean depth of coverage. It also tells you how many pass  your minimum depth setting. You can use this information to decide if you wish to increase or decrease the mindepth before it is applied for making consensus base calls in steps 4 & 5."
   ]
  },
  {
   "cell_type": "code",
   "execution_count": null,
   "metadata": {
    "collapsed": false
   },
   "outputs": [],
   "source": [
    "%%bash\n",
    "head -n 40 stats/s3.clusters.txt"
   ]
  },
  {
   "cell_type": "markdown",
   "metadata": {},
   "source": [
    "### Steps 4 & 5: Call consensus sequences"
   ]
  },
  {
   "cell_type": "markdown",
   "metadata": {},
   "source": [
    "#### Step 4 jointly infers the error-rate and heterozygosity across samples."
   ]
  },
  {
   "cell_type": "code",
   "execution_count": 11,
   "metadata": {
    "collapsed": false,
    "scrolled": true
   },
   "outputs": [
    {
     "name": "stderr",
     "output_type": "stream",
     "text": [
      "\n",
      "\n",
      "     ------------------------------------------------------------\n",
      "      pyRAD : RADseq for phylogenetics & introgression analyses\n",
      "     ------------------------------------------------------------\n",
      "\n",
      "\n",
      "\tstep 4: estimating error rate and heterozygosity\n",
      "\t................................................................................................"
     ]
    }
   ],
   "source": [
    "%%bash\n",
    "pyRAD -p params.txt -s 4"
   ]
  },
  {
   "cell_type": "code",
   "execution_count": null,
   "metadata": {
    "collapsed": false
   },
   "outputs": [],
   "source": [
    "%%bash\n",
    "less stats/Pi_E_estimate.txt"
   ]
  },
  {
   "cell_type": "markdown",
   "metadata": {},
   "source": [
    "#### Step 5 calls consensus sequences using the parameters inferred above, and filters for paralogs."
   ]
  },
  {
   "cell_type": "code",
   "execution_count": 12,
   "metadata": {
    "collapsed": false
   },
   "outputs": [
    {
     "name": "stderr",
     "output_type": "stream",
     "text": [
      "\n",
      "\n",
      "     ------------------------------------------------------------\n",
      "      pyRAD : RADseq for phylogenetics & introgression analyses\n",
      "     ------------------------------------------------------------\n",
      "\n",
      "\n",
      "\tstep 5: creating consensus seqs for 96 samples, using H=0.01135 E=0.00214\n",
      "\t................................................................................................"
     ]
    }
   ],
   "source": [
    "%%bash\n",
    "pyRAD -p params.txt -s 5"
   ]
  },
  {
   "cell_type": "markdown",
   "metadata": {},
   "source": [
    "#### The stats output for step 5"
   ]
  },
  {
   "cell_type": "code",
   "execution_count": null,
   "metadata": {
    "collapsed": false
   },
   "outputs": [],
   "source": [
    "%%bash\n",
    "less stats/s5.consens.txt"
   ]
  },
  {
   "cell_type": "markdown",
   "metadata": {},
   "source": [
    "### Step 6: Cluster across samples"
   ]
  },
  {
   "cell_type": "markdown",
   "metadata": {},
   "source": [
    "Step 6 clusters consensus sequences across samples. It will print its progress to the screen. This uses 6 threads by default. If you enter 0 for param 37 it will use all available processors. "
   ]
  },
  {
   "cell_type": "code",
   "execution_count": 13,
   "metadata": {
    "collapsed": false
   },
   "outputs": [
    {
     "name": "stdout",
     "output_type": "stream",
     "text": [
      "vsearch v1.11.1_osx_x86_64, 32.0GB RAM, 8 cores\n",
      "https://github.com/torognes/vsearch\n",
      "\n",
      "\n",
      "\tfinished clustering\n"
     ]
    },
    {
     "name": "stderr",
     "output_type": "stream",
     "text": [
      "\n",
      "\n",
      "     ------------------------------------------------------------\n",
      "      pyRAD : RADseq for phylogenetics & introgression analyses\n",
      "     ------------------------------------------------------------\n",
      "\n",
      "\n",
      "\tstep 6: clustering across 96 samples at '.88' similarity \n",
      "\n",
      "Reading file /Volumes/web/halfshell/working-directory/16-05-27/clust.88/cat.haplos_ 100%\n",
      "630364266 nt in 6626937 seqs, min 32, max 148, avg 95\n",
      "Counting unique k-mers 100%\n",
      "Clustering 100%\n",
      "Sorting clusters 100%\n",
      "Writing clusters 100%\n",
      "Clusters: 330947 Size min 1, max 245, avg 20.0\n",
      "Singletons: 84337, 1.3% of seqs, 25.5% of clusters\n"
     ]
    }
   ],
   "source": [
    "%%bash\n",
    "pyRAD -p params.txt -s 6 "
   ]
  },
  {
   "cell_type": "markdown",
   "metadata": {},
   "source": [
    "## Step 7: Assemble final data sets"
   ]
  },
  {
   "cell_type": "markdown",
   "metadata": {},
   "source": [
    "The final step is to output data only for the loci that you want to have included in your data set. This filters once again for potential paralogs or highly repetitive regions, and includes options to minimize the amount of missing data in the output. "
   ]
  },
  {
   "cell_type": "code",
   "execution_count": 14,
   "metadata": {
    "collapsed": false
   },
   "outputs": [
    {
     "name": "stdout",
     "output_type": "stream",
     "text": [
      "\tingroup 1HL_10A_1,1HL_11A_1,1HL_12A_1,1HL_13A_1,1HL_14A_1,1HL_15A_1,1HL_16A_1,1HL_17A_1,1HL_19A_1,1HL_1A_1,1HL_20A_1,1HL_21A_1,1HL_22A_1,1HL_23A_1,1HL_24A_1,1HL_25A_1,1HL_26A_1,1HL_27A_1,1HL_28A_1,1HL_29A_1,1HL_2A_1,1HL_31A_1,1HL_33A_1,1HL_34A_1,1HL_35A_1,1HL_3A_1,1HL_4A_1,1HL_5A_1,1HL_6A_1,1HL_7A_1,1HL_8A_1,1HL_9A_1,1NF_10A_1,1NF_11A_1,1NF_12A_1,1NF_13A_1,1NF_14A_1,1NF_15A_1,1NF_16A_1,1NF_17A_1,1NF_18A_1,1NF_19A_1,1NF_1A_1,1NF_20A_1,1NF_21A_1,1NF_22A_1,1NF_23A_1,1NF_24A_1,1NF_25A_1,1NF_26A_1,1NF_27A_1,1NF_28A_1,1NF_29A_1,1NF_2A_1,1NF_30A_1,1NF_31A_1,1NF_32A_1,1NF_33A_1,1NF_4A_1,1NF_5A_1,1NF_6A_1,1NF_7A_1,1NF_8A_1,1NF_9A_1,1SN_10A_1,1SN_11A_1,1SN_12A_1,1SN_13A_1,1SN_14A_1,1SN_15A_1,1SN_16A_1,1SN_17A_1,1SN_18A_1,1SN_19A_1,1SN_1A_1,1SN_20A_1,1SN_21A_1,1SN_22A_1,1SN_23A_1,1SN_24A_1,1SN_25A_1,1SN_26A_1,1SN_27A_1,1SN_28A_1,1SN_29A_1,1SN_2A_1,1SN_30A_1,1SN_31A_1,1SN_32A_1,1SN_3A_1,1SN_4A_1,1SN_5A_1,1SN_6A_1,1SN_7A_1,1SN_8A_1,1SN_9A_1\n",
      "\taddon \n",
      "\texclude \n",
      "\t\n",
      "\tfinal stats written to:\n",
      "\t /Volumes/web/halfshell/working-directory/16-05-27/stats/gbs-002.stats\n",
      "\toutput files being written to:\n",
      "\t /Volumes/web/halfshell/working-directory/16-05-27/outfiles/ directory\n",
      "\n"
     ]
    },
    {
     "name": "stderr",
     "output_type": "stream",
     "text": [
      "\n",
      "\n",
      "     ------------------------------------------------------------\n",
      "      pyRAD : RADseq for phylogenetics & introgression analyses\n",
      "     ------------------------------------------------------------\n",
      "\n",
      "......"
     ]
    }
   ],
   "source": [
    "%%bash\n",
    "pyRAD -p params.txt -s 7"
   ]
  },
  {
   "cell_type": "markdown",
   "metadata": {},
   "source": [
    "### Final stats output"
   ]
  },
  {
   "cell_type": "code",
   "execution_count": null,
   "metadata": {
    "collapsed": false
   },
   "outputs": [],
   "source": [
    "%%bash\n",
    "less stats/c85m4p3.stats"
   ]
  },
  {
   "cell_type": "markdown",
   "metadata": {},
   "source": [
    "---------------  \n",
    "\n",
    "## Output formats ##"
   ]
  },
  {
   "cell_type": "markdown",
   "metadata": {},
   "source": [
    "We created 11 output files from our analysis. The standard two (.loci and .excluded_loci), as well as the 9 additional ones listed in the params file. These are all shown below."
   ]
  },
  {
   "cell_type": "code",
   "execution_count": null,
   "metadata": {
    "collapsed": false
   },
   "outputs": [],
   "source": [
    "%%bash \n",
    "ls outfiles/"
   ]
  },
  {
   "cell_type": "markdown",
   "metadata": {},
   "source": [
    "### Loci format  \n",
    "The \".loci\" file contains each locus listed in a fasta-like format that also shows which sites are variable below each locus. Autapomorphies are listed as '-' and shared SNPs as '*'. This is a custom format that is human readable and also used as input to perform D-statistic tests in pyRAD. This is the easiest way to visualize your results. I recommend viewing the file with the command `less`. Below I use a head and cut to make it easy to view in this window."
   ]
  },
  {
   "cell_type": "code",
   "execution_count": null,
   "metadata": {
    "collapsed": false
   },
   "outputs": [],
   "source": [
    "%%bash \n",
    "head -n 39 outfiles/gbs-001.loci | cut -c 1-75"
   ]
  },
  {
   "cell_type": "markdown",
   "metadata": {},
   "source": [
    "### PHY format"
   ]
  },
  {
   "cell_type": "code",
   "execution_count": null,
   "metadata": {
    "collapsed": false
   },
   "outputs": [],
   "source": [
    "%%bash \n",
    "head -n 50 outfiles/c85m4p3.phy | cut -c 1-85"
   ]
  },
  {
   "cell_type": "markdown",
   "metadata": {},
   "source": [
    "### NEX format"
   ]
  },
  {
   "cell_type": "code",
   "execution_count": null,
   "metadata": {
    "collapsed": false
   },
   "outputs": [],
   "source": [
    "%%bash \n",
    "head -n 50 outfiles/c85m4p3.nex | cut -c 1-85"
   ]
  },
  {
   "cell_type": "markdown",
   "metadata": {},
   "source": [
    "### Alleles format"
   ]
  },
  {
   "cell_type": "code",
   "execution_count": null,
   "metadata": {
    "collapsed": false
   },
   "outputs": [],
   "source": [
    "%%bash \n",
    "head -n 50 outfiles/c85m4p3.alleles| cut -c 1-85"
   ]
  },
  {
   "cell_type": "markdown",
   "metadata": {},
   "source": [
    "### STRUCTURE (.str) format"
   ]
  },
  {
   "cell_type": "code",
   "execution_count": null,
   "metadata": {
    "collapsed": false
   },
   "outputs": [],
   "source": [
    "%%bash \n",
    "head -n 50 outfiles/c85m4p3.str | cut -c 1-20"
   ]
  },
  {
   "cell_type": "markdown",
   "metadata": {},
   "source": [
    "### GENO (.geno) format (used in _Admixture_)"
   ]
  },
  {
   "cell_type": "code",
   "execution_count": null,
   "metadata": {
    "collapsed": false
   },
   "outputs": [],
   "source": [
    "%%bash \n",
    "head -n 40 outfiles/c85m4p3.geno "
   ]
  },
  {
   "cell_type": "markdown",
   "metadata": {},
   "source": [
    "### SNPs format"
   ]
  },
  {
   "cell_type": "code",
   "execution_count": null,
   "metadata": {
    "collapsed": false
   },
   "outputs": [],
   "source": [
    "%%bash \n",
    "head -n 50 outfiles/c85m4p3.snps | cut -c 1-85"
   ]
  },
  {
   "cell_type": "markdown",
   "metadata": {},
   "source": [
    "### UNLINKED_SNPs format"
   ]
  },
  {
   "cell_type": "code",
   "execution_count": null,
   "metadata": {
    "collapsed": false
   },
   "outputs": [],
   "source": [
    "%%bash \n",
    "head -n 50 outfiles/c85m4p3.unlinked_snps | cut -c 1-85"
   ]
  },
  {
   "cell_type": "markdown",
   "metadata": {},
   "source": [
    "## OTHER FORMATS  \n",
    "\n",
    "You may also produce some more complicated formatting options that involve pooling individuals into groups or populations. This can be done for the \"treemix\" and \"migrate\" outputs, which are formatted for input into the programs _TreeMix_ and _migrate-n_, respectively. Grouping individuals into populations is done with the final lines of the params file as shown below, and similar to the assignment of individuals into clades for hierarchical clustering (see full tutorial). \n",
    "\n",
    "Each line designates a group, and has three arguments that are separated by space or tab. The first is the group name, the second is the minimum number of individuals that must have data in that group for a locus to be included in the output, and the third is a list of the members of that group. Lists of taxa can include comma-separated names and wildcard selectors, like below. Example:\n"
   ]
  },
  {
   "cell_type": "code",
   "execution_count": null,
   "metadata": {
    "collapsed": false
   },
   "outputs": [],
   "source": [
    "%%bash \n",
    "## append group designations to the params file\n",
    "echo \"pop1 4 1A0,1B0,1C0,1D0 \" >> params.txt\n",
    "echo \"pop2 4 2E0,2F0,2G0,2H0 \" >> params.txt\n",
    "echo \"pop3 4 3* \" >> params.txt\n",
    "\n",
    "## view params file\n",
    "cat params.txt"
   ]
  },
  {
   "cell_type": "markdown",
   "metadata": {},
   "source": [
    "## Creating population output files  \n",
    "Now if we run _pyRAD_ with the 'm' (migrate) or 't' (treemix) output options, it will create their output files. "
   ]
  },
  {
   "cell_type": "code",
   "execution_count": null,
   "metadata": {
    "collapsed": false
   },
   "outputs": [],
   "source": [
    "%%bash \n",
    "pyRAD -p params.txt -s 7"
   ]
  },
  {
   "cell_type": "markdown",
   "metadata": {},
   "source": [
    "## TREEMIX format"
   ]
  },
  {
   "cell_type": "code",
   "execution_count": null,
   "metadata": {
    "collapsed": false
   },
   "outputs": [],
   "source": [
    "%%bash \n",
    "less outfiles/c85m4p3.treemix.gz | head -n 30"
   ]
  },
  {
   "cell_type": "markdown",
   "metadata": {},
   "source": [
    "## MIGRATE-n FORMAT"
   ]
  },
  {
   "cell_type": "code",
   "execution_count": null,
   "metadata": {
    "collapsed": false
   },
   "outputs": [],
   "source": [
    "%%bash \n",
    "head -n 40 outfiles/c85m4p3.migrate | cut -c 1-85"
   ]
  }
 ],
 "metadata": {
  "kernelspec": {
   "display_name": "Python 2",
   "language": "python",
   "name": "python2"
  },
  "language_info": {
   "codemirror_mode": {
    "name": "ipython",
    "version": 2
   },
   "file_extension": ".py",
   "mimetype": "text/x-python",
   "name": "python",
   "nbconvert_exporter": "python",
   "pygments_lexer": "ipython2",
   "version": "2.7.11"
  }
 },
 "nbformat": 4,
 "nbformat_minor": 0
}
