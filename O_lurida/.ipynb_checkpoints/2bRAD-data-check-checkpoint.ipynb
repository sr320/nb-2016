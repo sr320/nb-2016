{
 "cells": [
  {
   "cell_type": "code",
   "execution_count": 2,
   "metadata": {
    "collapsed": false
   },
   "outputs": [
    {
     "name": "stdout",
     "output_type": "stream",
     "text": [
      "HC1-10_ACAGTG-ATGCAT_L001_R1_001.fastq.gz\r\n",
      "HC1-11_CTTGTA-ATGCAT_L002_R1_001.fastq.gz\r\n",
      "HC1-17_ACAGTG-ATGCAT_L002_R1_001.fastq.gz\r\n",
      "HC2-1_ATCACG-CGTACG_L002_R1_001.fastq.gz\r\n",
      "HC2-2_GATCAG-CGTACG_L002_R1_001.fastq.gz\r\n",
      "HC2-3_TGACCA-CGTACG_L002_R1_001.fastq.gz\r\n",
      "HC2-9_TGACCA-ATGCAT_L002_R1_001.fastq.gz\r\n",
      "HC3-10_GGCTAC-ATGCAT_L001_R1_001.fastq.gz\r\n",
      "HC3-12_TAGCTT-CGTACG_L001_R1_001.fastq.gz\r\n",
      "HC3-5_TAGCTT-CGCTATG_L001_R1_001.fastq.gz\r\n"
     ]
    }
   ],
   "source": [
    "!ls /Volumes/Histidine/hectocotylus/2bRAD_Dec2015 | head"
   ]
  },
  {
   "cell_type": "code",
   "execution_count": 4,
   "metadata": {
    "collapsed": false
   },
   "outputs": [
    {
     "name": "stdout",
     "output_type": "stream",
     "text": [
      "/Volumes/Histidine/hectocotylus/2bRAD_Dec2015\n"
     ]
    }
   ],
   "source": [
    "cd /Volumes/Histidine/hectocotylus/2bRAD_Dec2015"
   ]
  },
  {
   "cell_type": "markdown",
   "metadata": {},
   "source": [
    "_Unzip all files in directory_"
   ]
  },
  {
   "cell_type": "code",
   "execution_count": null,
   "metadata": {
    "collapsed": true
   },
   "outputs": [],
   "source": [
    "%%bash\n",
    "for f in *.gz\n",
    "do\n",
    "  STEM=$(basename \"${f}\" .gz)\n",
    "  gunzip -c \"${f}\" > /Volumes/Histidine/hectocotylus/2bRAD_Dec2015/fq/\"${STEM}\"\n",
    "done"
   ]
  },
  {
   "cell_type": "markdown",
   "metadata": {},
   "source": [
    "_For fastq lets cat them all up_"
   ]
  },
  {
   "cell_type": "code",
   "execution_count": null,
   "metadata": {
    "collapsed": true
   },
   "outputs": [],
   "source": [
    "!cat \\\n",
    "/Volumes/Histidine/hectocotylus/2bRAD_Dec2015/fq/* \\\n",
    "> /Volumes/Histidine/hectocotylus/2bRAD_Dec2015/fq/COMBINED_FILES.fq"
   ]
  }
 ],
 "metadata": {
  "kernelspec": {
   "display_name": "Python 3",
   "language": "python",
   "name": "python3"
  },
  "language_info": {
   "codemirror_mode": {
    "name": "ipython",
    "version": 3
   },
   "file_extension": ".py",
   "mimetype": "text/x-python",
   "name": "python",
   "nbconvert_exporter": "python",
   "pygments_lexer": "ipython3",
   "version": "3.5.1"
  }
 },
 "nbformat": 4,
 "nbformat_minor": 0
}
