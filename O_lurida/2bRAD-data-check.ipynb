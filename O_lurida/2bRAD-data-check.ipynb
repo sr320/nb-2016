{
 "cells": [
  {
   "cell_type": "code",
   "execution_count": 2,
   "metadata": {
    "collapsed": false
   },
   "outputs": [
    {
     "name": "stdout",
     "output_type": "stream",
     "text": [
      "HC1-10_ACAGTG-ATGCAT_L001_R1_001.fastq.gz\r\n",
      "HC1-11_CTTGTA-ATGCAT_L002_R1_001.fastq.gz\r\n",
      "HC1-17_ACAGTG-ATGCAT_L002_R1_001.fastq.gz\r\n",
      "HC2-1_ATCACG-CGTACG_L002_R1_001.fastq.gz\r\n",
      "HC2-2_GATCAG-CGTACG_L002_R1_001.fastq.gz\r\n",
      "HC2-3_TGACCA-CGTACG_L002_R1_001.fastq.gz\r\n",
      "HC2-9_TGACCA-ATGCAT_L002_R1_001.fastq.gz\r\n",
      "HC3-10_GGCTAC-ATGCAT_L001_R1_001.fastq.gz\r\n",
      "HC3-12_TAGCTT-CGTACG_L001_R1_001.fastq.gz\r\n",
      "HC3-5_TAGCTT-CGCTATG_L001_R1_001.fastq.gz\r\n"
     ]
    }
   ],
   "source": [
    "!ls /Volumes/Histidine/hectocotylus/2bRAD_Dec2015 | head"
   ]
  },
  {
   "cell_type": "code",
   "execution_count": 4,
   "metadata": {
    "collapsed": false
   },
   "outputs": [
    {
     "name": "stdout",
     "output_type": "stream",
     "text": [
      "/Volumes/Histidine/hectocotylus/2bRAD_Dec2015\n"
     ]
    }
   ],
   "source": [
    "cd /Volumes/Histidine/hectocotylus/2bRAD_Dec2015"
   ]
  },
  {
   "cell_type": "markdown",
   "metadata": {},
   "source": [
    "_Unzip all files in directory_"
   ]
  },
  {
   "cell_type": "code",
   "execution_count": 5,
   "metadata": {
    "collapsed": true
   },
   "outputs": [],
   "source": [
    "%%bash\n",
    "for f in *.gz\n",
    "do\n",
    "  STEM=$(basename \"${f}\" .gz)\n",
    "  gunzip -c \"${f}\" > /Volumes/Histidine/hectocotylus/2bRAD_Dec2015/fq/\"${STEM}\"\n",
    "done"
   ]
  },
  {
   "cell_type": "markdown",
   "metadata": {},
   "source": [
    "_For fastq lets cat them all up_"
   ]
  },
  {
   "cell_type": "code",
   "execution_count": 6,
   "metadata": {
    "collapsed": true
   },
   "outputs": [],
   "source": [
    "!cat \\\n",
    "/Volumes/Histidine/hectocotylus/2bRAD_Dec2015/fq/* \\\n",
    "> /Volumes/Histidine/hectocotylus/2bRAD_Dec2015/fq/COMBINED_FILES.fq"
   ]
  },
  {
   "cell_type": "code",
   "execution_count": 7,
   "metadata": {
    "collapsed": false
   },
   "outputs": [
    {
     "name": "stdout",
     "output_type": "stream",
     "text": [
      "^C\r\n"
     ]
    }
   ],
   "source": [
    "!wc -l /Volumes/Histidine/hectocotylus/2bRAD_Dec2015/fq/COMBINED_FILES.fq"
   ]
  },
  {
   "cell_type": "code",
   "execution_count": 10,
   "metadata": {
    "collapsed": false
   },
   "outputs": [
    {
     "name": "stdout",
     "output_type": "stream",
     "text": [
      "Started analysis of COMBINED_FILES.fq\n",
      "Approx 5% complete for COMBINED_FILES.fq\n",
      "Approx 10% complete for COMBINED_FILES.fq\n",
      "Approx 15% complete for COMBINED_FILES.fq\n",
      "Approx 20% complete for COMBINED_FILES.fq\n",
      "Approx 25% complete for COMBINED_FILES.fq\n",
      "Approx 30% complete for COMBINED_FILES.fq\n",
      "Approx 35% complete for COMBINED_FILES.fq\n",
      "Approx 40% complete for COMBINED_FILES.fq\n",
      "Approx 45% complete for COMBINED_FILES.fq\n",
      "Approx 50% complete for COMBINED_FILES.fq\n",
      "Approx 55% complete for COMBINED_FILES.fq\n",
      "Approx 60% complete for COMBINED_FILES.fq\n",
      "Approx 65% complete for COMBINED_FILES.fq\n",
      "Approx 70% complete for COMBINED_FILES.fq\n",
      "Approx 75% complete for COMBINED_FILES.fq\n",
      "Approx 80% complete for COMBINED_FILES.fq\n",
      "Approx 85% complete for COMBINED_FILES.fq\n",
      "Approx 90% complete for COMBINED_FILES.fq\n",
      "Approx 95% complete for COMBINED_FILES.fq\n",
      "Analysis complete for COMBINED_FILES.fq\n"
     ]
    }
   ],
   "source": [
    "!/Applications/bioinfo/FastQC/fastqc \\\n",
    "-o /Volumes/Histidine/hectocotylus/2bRAD_Dec2015/fq/ \\\n",
    "-t 4 \\\n",
    "/Volumes/Histidine/hectocotylus/2bRAD_Dec2015/fq/COMBINED_FILES.fq"
   ]
  },
  {
   "cell_type": "markdown",
   "metadata": {
    "collapsed": false
   },
   "source": [
    "<img src=\"http://eagle.fish.washington.edu/cnidarian/skitch/COMBINED_FILES_fq_FastQC_Report_and_2bRAD-data-check_1C503E56.png\" alt=\"COMBINED_FILES_fq_FastQC_Report_and_2bRAD-data-check_1C503E56.png\"/>"
   ]
  },
  {
   "cell_type": "markdown",
   "metadata": {
    "collapsed": true
   },
   "source": [
    "<img src=\"http://eagle.fish.washington.edu/cnidarian/skitch/COMBINED_FILES_fq_FastQC_Report_1C503E6F.png\" alt=\"COMBINED_FILES_fq_FastQC_Report_1C503E6F.png\"/>"
   ]
  },
  {
   "cell_type": "markdown",
   "metadata": {},
   "source": [
    "<img src=\"http://eagle.fish.washington.edu/cnidarian/skitch/COMBINED_FILES_fq_FastQC_Report_1C503EA6.png\" alt=\"COMBINED_FILES_fq_FastQC_Report_1C503EA6.png\"/>"
   ]
  },
  {
   "cell_type": "code",
   "execution_count": null,
   "metadata": {
    "collapsed": true
   },
   "outputs": [],
   "source": []
  }
 ],
 "metadata": {
  "kernelspec": {
   "display_name": "Python 2",
   "language": "python",
   "name": "python2"
  },
  "language_info": {
   "codemirror_mode": {
    "name": "ipython",
    "version": 2
   },
   "file_extension": ".py",
   "mimetype": "text/x-python",
   "name": "python",
   "nbconvert_exporter": "python",
   "pygments_lexer": "ipython2",
   "version": "2.7.11"
  }
 },
 "nbformat": 4,
 "nbformat_minor": 0
}
