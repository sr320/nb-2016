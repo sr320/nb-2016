{
 "cells": [
  {
   "cell_type": "markdown",
   "metadata": {
    "button": false,
    "collapsed": true,
    "deletable": true,
    "new_sheet": false,
    "run_control": {
     "read_only": false
    }
   },
   "source": [
    "# 18 MBD-BSseq"
   ]
  },
  {
   "cell_type": "code",
   "execution_count": null,
   "metadata": {
    "button": false,
    "collapsed": true,
    "deletable": true,
    "new_sheet": false,
    "run_control": {
     "read_only": false
    }
   },
   "outputs": [],
   "source": []
  },
  {
   "cell_type": "code",
   "execution_count": 7,
   "metadata": {
    "button": false,
    "collapsed": true,
    "deletable": true,
    "new_sheet": false,
    "run_control": {
     "read_only": false
    }
   },
   "outputs": [],
   "source": [
    "bsmaploc=\"/Applications/bioinfo/BSMAP/bsmap-2.74/\""
   ]
  },
  {
   "cell_type": "code",
   "execution_count": null,
   "metadata": {
    "collapsed": false
   },
   "outputs": [],
   "source": []
  },
  {
   "cell_type": "code",
   "execution_count": 8,
   "metadata": {
    "button": false,
    "collapsed": false,
    "deletable": true,
    "new_sheet": false,
    "run_control": {
     "read_only": false
    }
   },
   "outputs": [
    {
     "name": "stdout",
     "output_type": "stream",
     "text": [
      "/Volumes/web-1/halfshell/working-directory\n"
     ]
    }
   ],
   "source": [
    "cd /Volumes/web-1/halfshell/working-directory"
   ]
  },
  {
   "cell_type": "code",
   "execution_count": 3,
   "metadata": {
    "button": false,
    "collapsed": false,
    "deletable": true,
    "new_sheet": false,
    "run_control": {
     "read_only": false
    }
   },
   "outputs": [
    {
     "name": "stdout",
     "output_type": "stream",
     "text": [
      "16-04-11\r\n"
     ]
    }
   ],
   "source": [
    "!date +\"%y-%m-%d\""
   ]
  },
  {
   "cell_type": "code",
   "execution_count": 4,
   "metadata": {
    "button": false,
    "collapsed": false,
    "deletable": true,
    "new_sheet": false,
    "run_control": {
     "read_only": false
    }
   },
   "outputs": [
    {
     "name": "stdout",
     "output_type": "stream",
     "text": [
      "mkdir: 16-04-11: File exists\r\n"
     ]
    }
   ],
   "source": [
    "mkdir 16-04-11\n"
   ]
  },
  {
   "cell_type": "code",
   "execution_count": 9,
   "metadata": {
    "button": false,
    "collapsed": false,
    "deletable": true,
    "new_sheet": false,
    "run_control": {
     "read_only": false
    }
   },
   "outputs": [
    {
     "name": "stdout",
     "output_type": "stream",
     "text": [
      "/Volumes/web-1/halfshell/working-directory/16-04-11\n"
     ]
    }
   ],
   "source": [
    "cd 16-04-11"
   ]
  },
  {
   "cell_type": "code",
   "execution_count": null,
   "metadata": {
    "collapsed": true
   },
   "outputs": [],
   "source": []
  },
  {
   "cell_type": "code",
   "execution_count": null,
   "metadata": {
    "button": false,
    "collapsed": false,
    "deletable": true,
    "new_sheet": false,
    "run_control": {
     "read_only": false
    },
    "scrolled": true
   },
   "outputs": [
    {
     "name": "stdout",
     "output_type": "stream",
     "text": [
      "\n",
      "BSMAP v2.74\n",
      "Start at:  Mon Apr 11 15:08:23 2016\n",
      "\n",
      "Input reference file: /Users/sr320/Dropbox/scratch/OlyBGI-scaffold-10k.fa \t(format: FASTA)\n",
      "Load in 11495 db seqs, total size 192858226 bp. 3 secs passed\n",
      "total_kmers: 43046721\n",
      "Create seed table. 9 secs passed\n",
      "max number of mismatches: read_length * 8% \tmax gap size: 0\n",
      "kmer cut-off ratio: 5e-07\n",
      "max multi-hits: 100\tmax Ns: 5\tseed size: 16\tindex interval: 4\n",
      "quality cutoff: 0\tbase quality char: '!'\n",
      "min fragment size:28\tmax fragemt size:500\n",
      "start from read #1\tend at read #4294967295\n",
      "additional alignment: T in reads => C in reference\n",
      "mapping strand: ++,-+\n",
      "Single-end alignment(8 threads)\n",
      "Input read file: /Volumes/web-1/nightingales/O_lurida/20160203_mbdseq/zr1394_1.fastq.gz \t(format: gzipped FASTQ)\n",
      "Output file: bsmap_out_1.sam\t (format: SAM)\n",
      "Thread #3: \t50000 reads finished. 28 secs passed\n",
      "Thread #7: \t100000 reads finished. 29 secs passed\n",
      "Thread #4: \t150000 reads finished. 29 secs passed\n",
      "Thread #2: \t250000 reads finished. 29 secs passed\n",
      "Thread #0: \t200000 reads finished. 29 secs passed\n",
      "Thread #1: \t300000 reads finished. 30 secs passed\n",
      "Thread #5: \t350000 reads finished. 30 secs passed\n",
      "Thread #6: \t400000 reads finished. 30 secs passed\n",
      "Thread #3: \t450000 reads finished. 46 secs passed\n",
      "Thread #7: \t500000 reads finished. 46 secs passed\n",
      "Thread #2: \t600000 reads finished. 47 secs passed\n",
      "Thread #4: \t550000 reads finished. 47 secs passed\n",
      "Thread #0: \t650000 reads finished. 47 secs passed\n",
      "Thread #1: \t700000 reads finished. 47 secs passed\n",
      "Thread #6: \t800000 reads finished. 47 secs passed\n",
      "Thread #5: \t750000 reads finished. 47 secs passed\n",
      "Thread #3: \t850000 reads finished. 61 secs passed\n",
      "Thread #7: \t900000 reads finished. 64 secs passed\n",
      "Thread #2: \t950000 reads finished. 65 secs passed\n",
      "Thread #0: \t1050000 reads finished. 65 secs passed\n",
      "Thread #4: \t1000000 reads finished. 66 secs passed\n",
      "Thread #6: \t1150000 reads finished. 66 secs passed\n",
      "Thread #1: \t1100000 reads finished. 66 secs passed\n",
      "Thread #5: \t1200000 reads finished. 66 secs passed\n",
      "Thread #3: \t1250000 reads finished. 79 secs passed\n",
      "Thread #7: \t1300000 reads finished. 82 secs passed\n",
      "Thread #2: \t1350000 reads finished. 82 secs passed\n",
      "Thread #0: \t1400000 reads finished. 83 secs passed\n",
      "Thread #4: \t1450000 reads finished. 84 secs passed\n",
      "Thread #6: \t1500000 reads finished. 84 secs passed\n",
      "Thread #1: \t1550000 reads finished. 84 secs passed\n",
      "Thread #5: \t1600000 reads finished. 85 secs passed\n",
      "Thread #3: \t1650000 reads finished. 97 secs passed\n",
      "Thread #7: \t1700000 reads finished. 100 secs passed\n",
      "Thread #2: \t1750000 reads finished. 100 secs passed\n",
      "Thread #0: \t1800000 reads finished. 101 secs passed\n",
      "Thread #6: \t1900000 reads finished. 101 secs passed\n",
      "Thread #4: \t1850000 reads finished. 101 secs passed\n",
      "Thread #1: \t1950000 reads finished. 102 secs passed\n",
      "Thread #5: \t2000000 reads finished. 103 secs passed\n"
     ]
    }
   ],
   "source": [
    "for i in (\"1\",\"2\",\"3\", \"4\", \"5\", \"6\", \"7\", \"8\",\"9\", \"10\", \"11\",\"12\",\"13\", \"14\", \"15\", \"16\", \"17\", \"18\"):\n",
    "    !{bsmaploc}bsmap \\\n",
    "-a /Volumes/web-1/nightingales/O_lurida/20160203_mbdseq/zr1394_{i}.fastq.gz \\\n",
    "-d /Users/sr320/Dropbox/scratch/OlyBGI-scaffold-10k.fa \\\n",
    "-o bsmap_out_{i}.sam \\\n",
    "-p 8"
   ]
  },
  {
   "cell_type": "code",
   "execution_count": 10,
   "metadata": {
    "button": false,
    "collapsed": false,
    "deletable": true,
    "new_sheet": false,
    "run_control": {
     "read_only": false
    }
   },
   "outputs": [
    {
     "name": "stdout",
     "output_type": "stream",
     "text": [
      "@ Tue Apr 12 06:09:50 2016: reading reference /Users/sr320/Dropbox/scratch/OlyBGI-scaffold-10k.fa ...\n",
      "@ Tue Apr 12 06:09:56 2016: reading bsmap_out_1.sam ...\n",
      "[samopen] SAM header is present: 11495 sequences.\n",
      "@ Tue Apr 12 06:10:52 2016: combining CpG methylation from both strands ...\n",
      "@ Tue Apr 12 06:10:56 2016: writing methratio_out_1_b.txt ...\n",
      "@ Tue Apr 12 06:11:25 2016: done.\n",
      "total 1340026 valid mappings, 792620 covered cytosines, average coverage: 6.31 fold.\n",
      "@ Tue Apr 12 06:11:25 2016: reading reference /Users/sr320/Dropbox/scratch/OlyBGI-scaffold-10k.fa ...\n",
      "@ Tue Apr 12 06:11:32 2016: reading bsmap_out_2.sam ...\n",
      "[samopen] SAM header is present: 11495 sequences.\n",
      "@ Tue Apr 12 06:12:00 2016: combining CpG methylation from both strands ...\n",
      "@ Tue Apr 12 06:12:04 2016: writing methratio_out_2_b.txt ...\n",
      "@ Tue Apr 12 06:12:31 2016: done.\n",
      "total 1209419 valid mappings, 755171 covered cytosines, average coverage: 5.97 fold.\n",
      "@ Tue Apr 12 06:12:31 2016: reading reference /Users/sr320/Dropbox/scratch/OlyBGI-scaffold-10k.fa ...\n",
      "@ Tue Apr 12 06:12:38 2016: reading bsmap_out_3.sam ...\n",
      "[samopen] SAM header is present: 11495 sequences.\n",
      "@ Tue Apr 12 06:13:21 2016: combining CpG methylation from both strands ...\n",
      "@ Tue Apr 12 06:13:25 2016: writing methratio_out_3_b.txt ...\n",
      "@ Tue Apr 12 06:14:01 2016: done.\n",
      "total 1354091 valid mappings, 798899 covered cytosines, average coverage: 6.30 fold.\n",
      "@ Tue Apr 12 06:14:02 2016: reading reference /Users/sr320/Dropbox/scratch/OlyBGI-scaffold-10k.fa ...\n",
      "@ Tue Apr 12 06:14:08 2016: reading bsmap_out_4.sam ...\n",
      "[samopen] SAM header is present: 11495 sequences.\n",
      "@ Tue Apr 12 06:14:41 2016: combining CpG methylation from both strands ...\n",
      "@ Tue Apr 12 06:14:46 2016: writing methratio_out_4_b.txt ...\n",
      "@ Tue Apr 12 06:15:18 2016: done.\n",
      "total 1151693 valid mappings, 716890 covered cytosines, average coverage: 6.00 fold.\n",
      "@ Tue Apr 12 06:15:19 2016: reading reference /Users/sr320/Dropbox/scratch/OlyBGI-scaffold-10k.fa ...\n",
      "@ Tue Apr 12 06:15:25 2016: reading bsmap_out_5.sam ...\n",
      "[samopen] SAM header is present: 11495 sequences.\n",
      "@ Tue Apr 12 06:16:07 2016: combining CpG methylation from both strands ...\n",
      "@ Tue Apr 12 06:16:11 2016: writing methratio_out_5_b.txt ...\n",
      "@ Tue Apr 12 06:16:40 2016: done.\n",
      "total 1522205 valid mappings, 867765 covered cytosines, average coverage: 6.46 fold.\n",
      "@ Tue Apr 12 06:16:41 2016: reading reference /Users/sr320/Dropbox/scratch/OlyBGI-scaffold-10k.fa ...\n",
      "@ Tue Apr 12 06:16:47 2016: reading bsmap_out_6.sam ...\n",
      "[samopen] SAM header is present: 11495 sequences.\n",
      "@ Tue Apr 12 06:17:38 2016: combining CpG methylation from both strands ...\n",
      "@ Tue Apr 12 06:17:42 2016: writing methratio_out_6_b.txt ...\n",
      "@ Tue Apr 12 06:18:10 2016: done.\n",
      "total 1165710 valid mappings, 838913 covered cytosines, average coverage: 5.09 fold.\n",
      "@ Tue Apr 12 06:18:11 2016: reading reference /Users/sr320/Dropbox/scratch/OlyBGI-scaffold-10k.fa ...\n",
      "@ Tue Apr 12 06:18:17 2016: reading bsmap_out_7.sam ...\n",
      "[samopen] SAM header is present: 11495 sequences.\n",
      "@ Tue Apr 12 06:18:57 2016: combining CpG methylation from both strands ...\n",
      "@ Tue Apr 12 06:19:01 2016: writing methratio_out_7_b.txt ...\n",
      "@ Tue Apr 12 06:19:30 2016: done.\n",
      "total 1428274 valid mappings, 788927 covered cytosines, average coverage: 6.72 fold.\n",
      "@ Tue Apr 12 06:19:30 2016: reading reference /Users/sr320/Dropbox/scratch/OlyBGI-scaffold-10k.fa ...\n",
      "@ Tue Apr 12 06:19:37 2016: reading bsmap_out_8.sam ...\n",
      "[samopen] SAM header is present: 11495 sequences.\n",
      "@ Tue Apr 12 06:20:11 2016: combining CpG methylation from both strands ...\n",
      "@ Tue Apr 12 06:20:15 2016: writing methratio_out_8_b.txt ...\n",
      "@ Tue Apr 12 06:20:43 2016: done.\n",
      "total 1119098 valid mappings, 670576 covered cytosines, average coverage: 6.25 fold.\n",
      "@ Tue Apr 12 06:20:44 2016: reading reference /Users/sr320/Dropbox/scratch/OlyBGI-scaffold-10k.fa ...\n",
      "@ Tue Apr 12 06:20:50 2016: reading bsmap_out_9.sam ...\n",
      "[samopen] SAM header is present: 11495 sequences.\n",
      "[sam_read1] reference 'NM:i:0' is recognized as '*'.\n",
      "Parse error at line 1258528: unmatched CIGAR operation\n",
      "@ Tue Apr 12 06:21:09 2016: combining CpG methylation from both strands ...\n",
      "@ Tue Apr 12 06:21:13 2016: writing methratio_out_9_b.txt ...\n",
      "@ Tue Apr 12 06:21:37 2016: done.\n",
      "total 512487 valid mappings, 448296 covered cytosines, average coverage: 4.33 fold.\n",
      "@ Tue Apr 12 06:21:37 2016: reading reference /Users/sr320/Dropbox/scratch/OlyBGI-scaffold-10k.fa ...\n",
      "@ Tue Apr 12 06:21:44 2016: reading bsmap_out_10.sam ...\n",
      "[samopen] SAM header is present: 11495 sequences.\n",
      "@ Tue Apr 12 06:22:53 2016: combining CpG methylation from both strands ...\n",
      "@ Tue Apr 12 06:22:57 2016: writing methratio_out_10_b.txt ...\n",
      "@ Tue Apr 12 06:23:28 2016: done.\n",
      "total 2584401 valid mappings, 697982 covered cytosines, average coverage: 13.33 fold.\n",
      "@ Tue Apr 12 06:23:29 2016: reading reference /Users/sr320/Dropbox/scratch/OlyBGI-scaffold-10k.fa ...\n",
      "@ Tue Apr 12 06:23:35 2016: reading bsmap_out_11.sam ...\n",
      "[samopen] SAM header is present: 11495 sequences.\n",
      "[sam_read1] reference 'ZS:Z:++' is recognized as '*'.\n",
      "Parse error at line 2562800: invalid CIGAR operation\n",
      "@ Tue Apr 12 06:24:05 2016: combining CpG methylation from both strands ...\n",
      "@ Tue Apr 12 06:24:09 2016: writing methratio_out_11_b.txt ...\n",
      "@ Tue Apr 12 06:24:33 2016: done.\n",
      "total 1027339 valid mappings, 500753 covered cytosines, average coverage: 8.00 fold.\n",
      "@ Tue Apr 12 06:24:33 2016: reading reference /Users/sr320/Dropbox/scratch/OlyBGI-scaffold-10k.fa ...\n",
      "@ Tue Apr 12 06:24:40 2016: reading bsmap_out_12.sam ...\n",
      "[samopen] SAM header is present: 11495 sequences.\n",
      "@ Tue Apr 12 06:25:17 2016: combining CpG methylation from both strands ...\n",
      "@ Tue Apr 12 06:25:21 2016: writing methratio_out_12_b.txt ...\n",
      "@ Tue Apr 12 06:26:01 2016: done.\n",
      "total 1484586 valid mappings, 885691 covered cytosines, average coverage: 6.13 fold.\n",
      "@ Tue Apr 12 06:26:01 2016: reading reference /Users/sr320/Dropbox/scratch/OlyBGI-scaffold-10k.fa ...\n",
      "@ Tue Apr 12 06:26:08 2016: reading bsmap_out_13.sam ...\n",
      "[samopen] SAM header is present: 11495 sequences.\n",
      "@ Tue Apr 12 06:27:04 2016: combining CpG methylation from both strands ...\n",
      "@ Tue Apr 12 06:27:08 2016: writing methratio_out_13_b.txt ...\n",
      "@ Tue Apr 12 06:27:49 2016: done.\n",
      "total 1813144 valid mappings, 763046 covered cytosines, average coverage: 8.90 fold.\n",
      "@ Tue Apr 12 06:27:49 2016: reading reference /Users/sr320/Dropbox/scratch/OlyBGI-scaffold-10k.fa ...\n",
      "@ Tue Apr 12 06:27:56 2016: reading bsmap_out_14.sam ...\n",
      "[samopen] SAM header is present: 11495 sequences.\n",
      "@ Tue Apr 12 06:29:24 2016: combining CpG methylation from both strands ...\n",
      "@ Tue Apr 12 06:29:28 2016: writing methratio_out_14_b.txt ...\n",
      "@ Tue Apr 12 06:29:54 2016: done.\n",
      "total 2709039 valid mappings, 890117 covered cytosines, average coverage: 11.45 fold.\n",
      "@ Tue Apr 12 06:29:54 2016: reading reference /Users/sr320/Dropbox/scratch/OlyBGI-scaffold-10k.fa ...\n",
      "@ Tue Apr 12 06:30:01 2016: reading bsmap_out_15.sam ...\n",
      "[samopen] SAM header is present: 11495 sequences.\n",
      "@ Tue Apr 12 06:30:56 2016: combining CpG methylation from both strands ...\n",
      "@ Tue Apr 12 06:31:00 2016: writing methratio_out_15_b.txt ...\n",
      "@ Tue Apr 12 06:31:29 2016: done.\n",
      "total 1981095 valid mappings, 739722 covered cytosines, average coverage: 10.15 fold.\n",
      "@ Tue Apr 12 06:31:29 2016: reading reference /Users/sr320/Dropbox/scratch/OlyBGI-scaffold-10k.fa ...\n",
      "@ Tue Apr 12 06:31:36 2016: reading bsmap_out_16.sam ...\n",
      "[samopen] SAM header is present: 11495 sequences.\n",
      "@ Tue Apr 12 06:32:48 2016: combining CpG methylation from both strands ...\n",
      "@ Tue Apr 12 06:32:52 2016: writing methratio_out_16_b.txt ...\n",
      "@ Tue Apr 12 06:33:20 2016: done.\n",
      "total 2176928 valid mappings, 794614 covered cytosines, average coverage: 10.40 fold.\n",
      "@ Tue Apr 12 06:33:20 2016: reading reference /Users/sr320/Dropbox/scratch/OlyBGI-scaffold-10k.fa ...\n",
      "@ Tue Apr 12 06:33:27 2016: reading bsmap_out_17.sam ...\n",
      "[samopen] SAM header is present: 11495 sequences.\n",
      "@ Tue Apr 12 06:33:58 2016: combining CpG methylation from both strands ...\n",
      "@ Tue Apr 12 06:34:03 2016: writing methratio_out_17_b.txt ...\n",
      "@ Tue Apr 12 06:34:27 2016: done.\n",
      "total 1295913 valid mappings, 596905 covered cytosines, average coverage: 8.04 fold.\n",
      "@ Tue Apr 12 06:34:27 2016: reading reference /Users/sr320/Dropbox/scratch/OlyBGI-scaffold-10k.fa ...\n",
      "@ Tue Apr 12 06:34:34 2016: reading bsmap_out_18.sam ...\n",
      "[samopen] SAM header is present: 11495 sequences.\n",
      "[sam_read1] reference 'ZS:Z:-+' is recognized as '*'.\n",
      "Parse error at line 3306661: invalid CIGAR operation\n",
      "@ Tue Apr 12 06:35:08 2016: combining CpG methylation from both strands ...\n",
      "@ Tue Apr 12 06:35:12 2016: writing methratio_out_18_b.txt ...\n",
      "@ Tue Apr 12 06:35:52 2016: done.\n",
      "total 1347890 valid mappings, 775747 covered cytosines, average coverage: 6.39 fold.\n"
     ]
    }
   ],
   "source": [
    "for i in  (\"1\",\"2\",\"3\", \"4\", \"5\", \"6\", \"7\", \"8\",\"9\", \"10\", \"11\",\"12\",\"13\", \"14\", \"15\", \"16\", \"17\", \"18\"):\n",
    "   !python {bsmaploc}methratio.py \\\n",
    "-d /Users/sr320/Dropbox/scratch/OlyBGI-scaffold-10k.fa \\\n",
    "-u -z -g \\\n",
    "-o methratio_out_{i}_b.txt \\\n",
    "-s {bsmaploc}samtools \\\n",
    "bsmap_out_{i}.sam "
   ]
  },
  {
   "cell_type": "code",
   "execution_count": null,
   "metadata": {
    "collapsed": false
   },
   "outputs": [],
   "source": [
    "pwd"
   ]
  },
  {
   "cell_type": "code",
   "execution_count": 11,
   "metadata": {
    "button": false,
    "collapsed": false,
    "deletable": true,
    "new_sheet": false,
    "run_control": {
     "read_only": false
    }
   },
   "outputs": [
    {
     "name": "stdout",
     "output_type": "stream",
     "text": [
      "1\n",
      "16-04-12\n",
      "2\n",
      "16-04-12\n",
      "3\n",
      "16-04-12\n",
      "4\n",
      "16-04-12\n",
      "5\n",
      "16-04-12\n",
      "6\n",
      "16-04-12\n",
      "7\n",
      "16-04-12\n",
      "8\n",
      "16-04-12\n",
      "9\n",
      "16-04-12\n",
      "10\n",
      "16-04-12\n",
      "11\n",
      "16-04-12\n",
      "12\n",
      "16-04-12\n",
      "13\n",
      "16-04-12\n",
      "14\n",
      "16-04-12\n",
      "15\n",
      "16-04-12\n",
      "16\n",
      "16-04-12\n",
      "17\n",
      "16-04-12\n",
      "18\n",
      "16-04-12\n"
     ]
    }
   ],
   "source": [
    "\n",
    "#first methratio files are converted to filter for CG context, 3x coverage (mr3x.awk), and reformatting (mr_gg.awk.sh).\n",
    "#due to issue passing variable to awk, simple scripts were used (included in repository)\n",
    "for i in (\"1\",\"2\",\"3\", \"4\", \"5\", \"6\", \"7\", \"8\",\"9\", \"10\", \"11\",\"12\",\"13\", \"14\", \"15\", \"16\", \"17\", \"18\"):\n",
    "    !echo {i}\n",
    "    !grep \"[A-Z][A-Z]CG[A-Z]\" <methratio_out_{i}_b.txt> methratio_out_{i}CG.txt\n",
    "    !awk -f ../scripts/mr3x.awk methratio_out_{i}CG.txt > mr3x.{i}.txt\n",
    "    !awk -f ../scripts/mr_gg.awk.sh mr3x.{i}.txt > mkfmt_{i}.txt\n",
    "    !date +\"%y-%m-%d\""
   ]
  },
  {
   "cell_type": "markdown",
   "metadata": {
    "button": false,
    "collapsed": false,
    "deletable": true,
    "new_sheet": false,
    "run_control": {
     "read_only": false
    }
   },
   "source": [
    "into R"
   ]
  },
  {
   "cell_type": "markdown",
   "metadata": {
    "button": false,
    "collapsed": true,
    "deletable": true,
    "new_sheet": false,
    "run_control": {
     "read_only": false
    }
   },
   "source": [
    "\n",
    "```\n",
    "setwd(\"/Volumes/web-1/halfshell/working-directory/16-04-11\")\n",
    "\n",
    "library(methylKit)\n",
    "\n",
    "\n",
    "\n",
    "\n",
    "file.list <- list ('mkfmt_1.txt',\n",
    "                   'mkfmt_2.txt',\n",
    "                   'mkfmt_3.txt',\n",
    "                   'mkfmt_4.txt',\n",
    "                   'mkfmt_5.txt',\n",
    "                   'mkfmt_6.txt',\n",
    "                   'mkfmt_7.txt',\n",
    "                   'mkfmt_8.txt',\n",
    "                   'mkfmt_9.txt',\n",
    "                   'mkfmt_10.txt',\n",
    "                   'mkfmt_11.txt',\n",
    "                   'mkfmt_12.txt',\n",
    "                   'mkfmt_13.txt',\n",
    "                   'mkfmt_14.txt',\n",
    "                   'mkfmt_15.txt',\n",
    "                   'mkfmt_16.txt',\n",
    "                   'mkfmt_17.txt',\n",
    "                   'mkfmt_18.txt'\n",
    ")\n",
    "\n",
    "\n",
    "myobj=read(file.list,sample.id=list(\"1\",\"2\",\"3\",\"4\",\"5\",\"6\",\"7\",\"8\",\"9\",\"10\",\"11\",\"12\",\"13\",\"14\",\"15\",\"16\",\"17\",\"18\"),assembly=\"Pat10k\",treatment=c(0,0,0,0,0,0,0,0,0,1,1,1,1,1,1,1,1,1))\n",
    "\n",
    "\n",
    "\n",
    "meth<-unite(myobj)\n",
    "head(meth)\n",
    "nrow(meth)\n",
    "getCorrelation(meth,plot=F)\n",
    "hc<- clusterSamples(meth, dist=\"correlation\", method=\"ward\", plot=T)\n",
    "PCA<-PCASamples(meth)\n",
    "\n",
    "\n",
    "\n",
    "PCASamples(meth, screeplot=TRUE)\n",
    "PCASamples(meth)  \n",
    "\n",
    "```"
   ]
  },
  {
   "cell_type": "markdown",
   "metadata": {
    "collapsed": false
   },
   "source": [
    "<img src=\"http://eagle.fish.washington.edu/cnidarian/skitch/RStudio_1CBDBD3A.png\" alt=\"RStudio_1CBDBD3A.png\"/>"
   ]
  },
  {
   "cell_type": "markdown",
   "metadata": {
    "button": false,
    "deletable": true,
    "new_sheet": false,
    "run_control": {
     "read_only": false
    }
   },
   "source": []
  },
  {
   "cell_type": "code",
   "execution_count": null,
   "metadata": {
    "collapsed": true
   },
   "outputs": [],
   "source": []
  },
  {
   "cell_type": "code",
   "execution_count": null,
   "metadata": {
    "button": false,
    "collapsed": true,
    "deletable": true,
    "new_sheet": false,
    "run_control": {
     "read_only": false
    }
   },
   "outputs": [],
   "source": []
  }
 ],
 "metadata": {
  "kernelspec": {
   "display_name": "Python 2",
   "language": "python",
   "name": "python2"
  },
  "language_info": {
   "codemirror_mode": {
    "name": "ipython",
    "version": 2
   },
   "file_extension": ".py",
   "mimetype": "text/x-python",
   "name": "python",
   "nbconvert_exporter": "python",
   "pygments_lexer": "ipython2",
   "version": "2.7.11"
  }
 },
 "nbformat": 4,
 "nbformat_minor": 0
}
