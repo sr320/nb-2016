{
 "cells": [
  {
   "cell_type": "code",
   "execution_count": 1,
   "metadata": {
    "collapsed": false
   },
   "outputs": [
    {
     "name": "stdout",
     "output_type": "stream",
     "text": [
      "/Users/sr320/git-repos/nb-2016/O_lurida\r\n"
     ]
    }
   ],
   "source": [
    "!pwd"
   ]
  },
  {
   "cell_type": "code",
   "execution_count": 2,
   "metadata": {
    "collapsed": false
   },
   "outputs": [
    {
     "name": "stdout",
     "output_type": "stream",
     "text": [
      "2bRAD-data-check.ipynb       Test - switch.ipynb          mkfmt-10_{i}.txt\r\n",
      "BSMAP-01.ipynb               Untitled.ipynb               mr10x.{i}.txt\r\n",
      "BSMAP-02.ipynb               Untitled1.ipynb              text\r\n",
      "BSMAP-03.ipynb               Whole-genome-BS.ipynb        \u001b[34mwd\u001b[m\u001b[m\r\n",
      "BSMAP-03b-Genomev2-10x.ipynb \u001b[34manalyses\u001b[m\u001b[m                     \u001b[34mwd2\u001b[m\u001b[m\r\n",
      "BSMAP-04.ipynb               \u001b[34mdata\u001b[m\u001b[m\r\n",
      "Genome-assembly-01.ipynb     methylkit.R\r\n"
     ]
    }
   ],
   "source": [
    "!ls"
   ]
  },
  {
   "cell_type": "code",
   "execution_count": 3,
   "metadata": {
    "collapsed": false
   },
   "outputs": [
    {
     "name": "stdout",
     "output_type": "stream",
     "text": [
      "Fri Mar 18 11:31:08 PDT 2016\r\n"
     ]
    }
   ],
   "source": [
    "!date"
   ]
  },
  {
   "cell_type": "markdown",
   "metadata": {},
   "source": [
    "This is where I do diteh"
   ]
  },
  {
   "cell_type": "code",
   "execution_count": null,
   "metadata": {
    "collapsed": true
   },
   "outputs": [],
   "source": []
  }
 ],
 "metadata": {
  "kernelspec": {
   "display_name": "Python 2",
   "language": "python",
   "name": "python2"
  },
  "language_info": {
   "codemirror_mode": {
    "name": "ipython",
    "version": 2
   },
   "file_extension": ".py",
   "mimetype": "text/x-python",
   "name": "python",
   "nbconvert_exporter": "python",
   "pygments_lexer": "ipython2",
   "version": "2.7.11"
  }
 },
 "nbformat": 4,
 "nbformat_minor": 0
}
