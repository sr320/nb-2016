{
 "cells": [
  {
   "cell_type": "markdown",
   "metadata": {},
   "source": [
    "# _de novo_ RADseq assembly using _pyRAD_"
   ]
  },
  {
   "cell_type": "markdown",
   "metadata": {},
   "source": [
    "# Modification to start looking at Ostrea data"
   ]
  },
  {
   "cell_type": "markdown",
   "metadata": {},
   "source": [
    "Begin by executing the command below. This will download an example simulated RADseq data set and unarchive it into your current directory."
   ]
  },
  {
   "cell_type": "code",
   "execution_count": 1,
   "metadata": {
    "collapsed": false
   },
   "outputs": [
    {
     "data": {
      "text/plain": [
       "u'/Users/sr320/git-repos/nb-2016/O_lurida'"
      ]
     },
     "execution_count": 1,
     "metadata": {},
     "output_type": "execute_result"
    }
   ],
   "source": [
    "pwd"
   ]
  },
  {
   "cell_type": "code",
   "execution_count": 2,
   "metadata": {
    "collapsed": false
   },
   "outputs": [
    {
     "name": "stdout",
     "output_type": "stream",
     "text": [
      "/Volumes/web/halfshell/working-directory\n"
     ]
    }
   ],
   "source": [
    "cd /Volumes/web/halfshell/working-directory\n"
   ]
  },
  {
   "cell_type": "code",
   "execution_count": 3,
   "metadata": {
    "collapsed": true
   },
   "outputs": [],
   "source": [
    "mkdir 16-05-27"
   ]
  },
  {
   "cell_type": "code",
   "execution_count": 4,
   "metadata": {
    "collapsed": false
   },
   "outputs": [
    {
     "name": "stdout",
     "output_type": "stream",
     "text": [
      "/Volumes/web/halfshell/working-directory/16-05-27\n"
     ]
    }
   ],
   "source": [
    "cd 16-05-27"
   ]
  },
  {
   "cell_type": "code",
   "execution_count": 5,
   "metadata": {
    "collapsed": false
   },
   "outputs": [],
   "source": [
    "ls | head"
   ]
  },
  {
   "cell_type": "markdown",
   "metadata": {},
   "source": [
    "------------   \n",
    "\n",
    "The params file lists on each line one parameter followed by a __##__ mark, after which any comments can be left. In the comments section there is a description of the parameter and in parentheses the step of the analysis affected by the parameter. Lines 1-12 are required, the remaining lines are optional. The params.txt file is further described in the general tutorial."
   ]
  },
  {
   "cell_type": "markdown",
   "metadata": {},
   "source": [
    "### evolving params file"
   ]
  },
  {
   "cell_type": "code",
   "execution_count": 7,
   "metadata": {
    "collapsed": false
   },
   "outputs": [
    {
     "name": "stdout",
     "output_type": "stream",
     "text": [
      "==** parameter inputs for pyRAD version 3.0.64  **======================== affected step ==\n",
      "./                        ## 1. Working directory                                 (all)\n",
      "./*.fq.gz              ## 2. Loc. of non-demultiplexed files (if not line 18)  (s1)\n",
      "./*.barcodes              ## 3. Loc. of barcode file (if not line 18)             (s1)\n",
      "/Applications/bioinfo/vsearch-1.11.1-osx-x86_64/bin/vsearch                   ## 4. command (or path) to call vsearch (or usearch)    (s3,s6)\n",
      "/Applications/bioinfo/muscle3.8.31_i86darwin64                    ## 5. command (or path) to call muscle                  (s3,s7)\n",
      "CWGC                      ## 6. Restriction overhang (e.g., C|TGCAG -> TGCAG)     (s1,s2)\n",
      "6                         ## 7. N processors (parallel)                           (all)\n",
      "5                         ## 8. Mindepth: min coverage for a cluster              (s4,s5)\n",
      "4                         ## 9. NQual: max # sites with qual < 20 (or see line 20)(s2)\n",
      ".88                       ## 10. Wclust: clustering threshold as a decimal        (s3,s6)\n",
      "gbs                       ## 11. Datatype: rad,gbs,pairgbs,pairddrad,(others:see docs)(all)\n",
      "4                        ## 12. MinCov: min samples in a final locus             (s7)\n",
      "3                        ## 13. MaxSH: max inds with shared hetero site          (s7)\n",
      "gbs-002               ## 14. Prefix name for final output (no spaces)         (s7)\n",
      "==== optional params below this line ===================================  affected step ==\n",
      "                       ## 15.opt.: select subset (prefix* only selector)            (s2-s7)\n",
      "                       ## 16.opt.: add-on (outgroup) taxa (list or prefix*)         (s6,s7)\n",
      "                       ## 17.opt.: exclude taxa (list or prefix*)                   (s7)\n",
      "/Volumes/web/halfshell/working-directory/16-05-17/fastq                       ## 18.opt.: loc. of de-multiplexed data                      (s2)\n",
      "                       ## 19.opt.: maxM: N mismatches in barcodes (def= 1)          (s1)\n",
      "                       ## 20.opt.: phred Qscore offset (def= 33)                    (s2)\n",
      "                       ## 21.opt.: filter: def=0=NQual 1=NQual+adapters. 2=strict   (s2)\n",
      "                       ## 22.opt.: a priori E,H (def= 0.001,0.01, if not estimated) (s5)\n",
      "                       ## 23.opt.: maxN: max Ns in a cons seq (def=5)               (s5)\n",
      "                       ## 24.opt.: maxH: max heterozyg. sites in cons seq (def=5)   (s5)\n",
      "                       ## 25.opt.: ploidy: max alleles in cons seq (def=2;see docs) (s4,s5)\n",
      "                       ## 26.opt.: maxSNPs: (def=100). Paired (def=100,100)         (s7)\n",
      "                       ## 27.opt.: maxIndels: within-clust,across-clust (def. 3,99) (s3,s7)\n",
      "                       ## 28.opt.: random number seed (def. 112233)              (s3,s6,s7)\n",
      "                       ## 29.opt.: trim overhang left,right on final loci, def(0,0) (s7)\n",
      "                       ## 30.opt.: output formats: p,n,a,s,v,u,t,m,k,g,* (see docs) (s7)\n",
      "                       ## 31.opt.: maj. base call at depth>x<mindepth (def.x=mindepth) (s5)\n",
      "                       ## 32.opt.: keep trimmed reads (def=0). Enter min length.    (s2)\n",
      "                       ## 33.opt.: max stack size (int), def= max(500,mean+2*SD)    (s3)\n",
      "                       ## 34.opt.: minDerep: exclude dereps with <= N copies, def=1 (s3)\n",
      "                       ## 35.opt.: use hierarchical clustering (def.=0, 1=yes)      (s6)\n",
      "                       ## 36.opt.: repeat masking (def.=1='dust' method, 0=no)      (s3,s6)\n",
      "                       ## 37.opt.: vsearch max threads per job (def.=6; see docs)   (s3,s6)\n",
      "==== optional: list group/clade assignments below this line (see docs) ==================\n"
     ]
    }
   ],
   "source": [
    "%%bash\n",
    "cat params.txt"
   ]
  },
  {
   "cell_type": "markdown",
   "metadata": {},
   "source": [
    "#### To change parameters you can edit params.txt in any text editor. Here to automate things I use the script below."
   ]
  },
  {
   "cell_type": "markdown",
   "metadata": {},
   "source": [
    "--------------   \n",
    "\n",
    "__Let's take a look at what the raw data look like.__"
   ]
  },
  {
   "cell_type": "markdown",
   "metadata": {},
   "source": [
    "Your input data will be in fastQ format, usually ending in .fq or .fastq. Your data could be split among multiple files, or all within a single file (de-multiplexing goes much faster if they happen to be split into multiple files). The file/s may be compressed with gzip so that they have a .gz ending, but they do not need to be. The location of these files should be entered on line 2 of the params file. Below are the first three reads in the example file."
   ]
  },
  {
   "cell_type": "markdown",
   "metadata": {},
   "source": [
    "## Sample Description"
   ]
  },
  {
   "cell_type": "markdown",
   "metadata": {},
   "source": [
    "<img src=\"http://eagle.fish.washington.edu/cnidarian/skitch/Genotype_by_sequencing_November_2015_·_RobertsLab_project-olympia_oyster-genomic_Wiki_🔊_1CEB70ED.png\" alt=\"Genotype_by_sequencing_November_2015_·_RobertsLab_project-olympia_oyster-genomic_Wiki_🔊_1CEB70ED.png\"/>"
   ]
  },
  {
   "cell_type": "code",
   "execution_count": 16,
   "metadata": {
    "collapsed": false
   },
   "outputs": [
    {
     "name": "stdout",
     "output_type": "stream",
     "text": [
      "^C\r\n"
     ]
    }
   ],
   "source": [
    "!gunzip *.gz"
   ]
  },
  {
   "cell_type": "markdown",
   "metadata": {},
   "source": [
    "----------------   \n",
    "\n",
    "## Step 1: de-multiplexing ##"
   ]
  },
  {
   "cell_type": "code",
   "execution_count": null,
   "metadata": {
    "collapsed": true
   },
   "outputs": [],
   "source": [
    "already done by bgi"
   ]
  },
  {
   "cell_type": "markdown",
   "metadata": {},
   "source": [
    "### Step 2: quality filtering"
   ]
  },
  {
   "cell_type": "code",
   "execution_count": null,
   "metadata": {
    "collapsed": false
   },
   "outputs": [],
   "source": [
    "%%bash\n",
    "pyRAD -p params.txt -s 2"
   ]
  },
  {
   "cell_type": "code",
   "execution_count": 22,
   "metadata": {
    "collapsed": false,
    "scrolled": true
   },
   "outputs": [
    {
     "name": "stdout",
     "output_type": "stream",
     "text": [
      "1HL_10A_1.edit\n",
      "1HL_11A_1.edit\n",
      "1HL_12A_1.edit\n",
      "1HL_13A_1.edit\n",
      "1HL_14A_1.edit\n",
      "1HL_15A_1.edit\n",
      "1HL_16A_1.edit\n",
      "1HL_17A_1.edit\n",
      "1HL_19A_1.edit\n",
      "1HL_1A_1.edit\n",
      "1HL_20A_1.edit\n",
      "1HL_21A_1.edit\n",
      "1HL_22A_1.edit\n",
      "1HL_23A_1.edit\n",
      "1HL_24A_1.edit\n",
      "1HL_25A_1.edit\n",
      "1HL_26A_1.edit\n",
      "1HL_27A_1.edit\n",
      "1HL_28A_1.edit\n",
      "1HL_29A_1.edit\n",
      "1HL_2A_1.edit\n",
      "1HL_31A_1.edit\n",
      "1HL_33A_1.edit\n",
      "1HL_34A_1.edit\n",
      "1HL_35A_1.edit\n",
      "1HL_3A_1.edit\n",
      "1HL_4A_1.edit\n",
      "1HL_5A_1.edit\n",
      "1HL_6A_1.edit\n",
      "1HL_7A_1.edit\n",
      "1HL_8A_1.edit\n",
      "1HL_9A_1.edit\n",
      "1NF_10A_1.edit\n",
      "1NF_11A_1.edit\n",
      "1NF_12A_1.edit\n",
      "1NF_13A_1.edit\n",
      "1NF_14A_1.edit\n",
      "1NF_15A_1.edit\n",
      "1NF_16A_1.edit\n",
      "1NF_17A_1.edit\n",
      "1NF_18A_1.edit\n",
      "1NF_19A_1.edit\n",
      "1NF_1A_1.edit\n",
      "1NF_20A_1.edit\n",
      "1NF_21A_1.edit\n",
      "1NF_22A_1.edit\n",
      "1NF_23A_1.edit\n",
      "1NF_24A_1.edit\n",
      "1NF_25A_1.edit\n",
      "1NF_26A_1.edit\n",
      "1NF_27A_1.edit\n",
      "1NF_28A_1.edit\n",
      "1NF_29A_1.edit\n",
      "1NF_2A_1.edit\n",
      "1NF_30A_1.edit\n",
      "1NF_31A_1.edit\n",
      "1NF_32A_1.edit\n",
      "1NF_33A_1.edit\n",
      "1NF_4A_1.edit\n",
      "1NF_5A_1.edit\n",
      "1NF_6A_1.edit\n",
      "1NF_7A_1.edit\n",
      "1NF_8A_1.edit\n",
      "1NF_9A_1.edit\n",
      "1SN_10A_1.edit\n",
      "1SN_11A_1.edit\n",
      "1SN_12A_1.edit\n",
      "1SN_13A_1.edit\n",
      "1SN_14A_1.edit\n",
      "1SN_15A_1.edit\n",
      "1SN_16A_1.edit\n",
      "1SN_17A_1.edit\n",
      "1SN_18A_1.edit\n",
      "1SN_19A_1.edit\n",
      "1SN_1A_1.edit\n",
      "1SN_20A_1.edit\n",
      "1SN_21A_1.edit\n",
      "1SN_22A_1.edit\n",
      "1SN_23A_1.edit\n",
      "1SN_24A_1.edit\n",
      "1SN_25A_1.edit\n",
      "1SN_26A_1.edit\n",
      "1SN_27A_1.edit\n",
      "1SN_28A_1.edit\n",
      "1SN_29A_1.edit\n",
      "1SN_2A_1.edit\n",
      "1SN_30A_1.edit\n",
      "1SN_31A_1.edit\n",
      "1SN_32A_1.edit\n",
      "1SN_3A_1.edit\n",
      "1SN_4A_1.edit\n",
      "1SN_5A_1.edit\n",
      "1SN_6A_1.edit\n",
      "1SN_7A_1.edit\n",
      "1SN_8A_1.edit\n",
      "1SN_9A_1.edit\n"
     ]
    }
   ],
   "source": [
    "%%bash\n",
    "ls edits/"
   ]
  },
  {
   "cell_type": "markdown",
   "metadata": {},
   "source": [
    "The filtered data are written in fasta format (quality scores removed) into a new directory called edits/. Below I show a preview of the file which you can view most easily using the `less` command (I use `head` here to make it fit in the text window better)."
   ]
  },
  {
   "cell_type": "code",
   "execution_count": 42,
   "metadata": {
    "collapsed": false
   },
   "outputs": [
    {
     "name": "stdout",
     "output_type": "stream",
     "text": [
      ">1A0_0_r1\n",
      "TGCAGTGAGTGGCCATGCAATATATATTTACGGGCTCATAGAGACCCTCAAGACTGCCAACCGGGTGAATCACTATTTGC\n",
      ">1A0_1_r1\n",
      "TGCAGTGAGTGGCCATGCAATATATATTTACGGGCTCATAGAGACCCTCAAGACTGCCAACCGGGTGAATCACTATTTGC\n",
      ">1A0_2_r1\n",
      "TGCAGTGAGTGGCCATGCAATATATATTTACGGGCTCATAGAGACCCTCAAGACTGCCAACCGGGTGAATCACTATTTGC\n",
      ">1A0_3_r1\n",
      "TGCAGTGAGTGGCCATGCAATATATATTTACGGGCTCATAGAGACCCTCAAGACTGCCAACCGGGTGAATCACTATTTGC\n",
      ">1A0_4_r1\n",
      "TGCAGTGAGTGGCCATGCAATATATATTTACGGGCTCATAGAGACCCTCAAGACTGCCAACCGGGTGAATCACTATTTGC\n"
     ]
    }
   ],
   "source": [
    "%%bash\n",
    "head -n 10 edits/1A0.edit | cut -c 1-80"
   ]
  },
  {
   "cell_type": "markdown",
   "metadata": {},
   "source": [
    "### Step 3: clustering within-samples"
   ]
  },
  {
   "cell_type": "markdown",
   "metadata": {},
   "source": [
    "Step 3 de-replicates and then clusters reads within each sample by the set clustering threshold and writes the clusters to new files in a directory called clust.xx"
   ]
  },
  {
   "cell_type": "code",
   "execution_count": null,
   "metadata": {
    "collapsed": false
   },
   "outputs": [],
   "source": [
    "%%bash\n",
    "pyRAD -p params.txt -s 3"
   ]
  },
  {
   "cell_type": "markdown",
   "metadata": {},
   "source": [
    "Once again, I recommend you use the unix command 'less' to look at the clustS files. These contain each cluster separated by \"//\". For the first few clusters below you can see that there is one or two alleles in the cluster and one or a few reads that contained a (simulated) sequencing error. "
   ]
  },
  {
   "cell_type": "code",
   "execution_count": 44,
   "metadata": {
    "collapsed": false
   },
   "outputs": [
    {
     "name": "stderr",
     "output_type": "stream",
     "text": [
      "\"clust.85/1A0.clustS.gz\" may be a binary file.  See it anyway? "
     ]
    }
   ],
   "source": [
    "%%bash\n",
    "less clust.85/1A0.clustS.gz | head -n 26 | cut -c 1-80"
   ]
  },
  {
   "cell_type": "markdown",
   "metadata": {},
   "source": [
    "---------------\n",
    "\n",
    "\n",
    "The stats output tells you how many clusters were found, and their mean depth of coverage. It also tells you how many pass  your minimum depth setting. You can use this information to decide if you wish to increase or decrease the mindepth before it is applied for making consensus base calls in steps 4 & 5."
   ]
  },
  {
   "cell_type": "code",
   "execution_count": 25,
   "metadata": {
    "collapsed": false
   },
   "outputs": [
    {
     "name": "stdout",
     "output_type": "stream",
     "text": [
      "\n",
      "taxa\ttotal\tdpt.me\tdpt.sd\td>4.tot\td>4.me\td>4.sd\tbadpairs\n",
      "1HL_10A_1\t214259\t10.557\t58.189\t80791\t25.057\t92.955\t0\n",
      "1HL_11A_1\t248490\t10.108\t55.431\t88283\t25.292\t91.045\t0\n",
      "1HL_12A_1\t212718\t8.428\t55.01\t74289\t20.75\t91.814\t0\n",
      "1HL_13A_1\t188068\t10.091\t62.775\t71921\t23.46\t100.068\t0\n",
      "1HL_14A_1\t162946\t8.863\t47.184\t60154\t20.894\t76.155\t0\n",
      "1HL_15A_1\t174131\t8.961\t41.968\t64243\t21.168\t67.352\t0\n",
      "1HL_16A_1\t179175\t9.342\t50.905\t66488\t22.091\t81.995\t0\n",
      "1HL_17A_1\t210640\t12.256\t65.195\t86125\t27.361\t100.04\t0\n",
      "1HL_19A_1\t227411\t11.168\t64.315\t86180\t26.56\t102.625\t0\n",
      "1HL_1A_1\t181357\t8.836\t46.895\t65464\t21.267\t76.478\t0\n",
      "1HL_20A_1\t196210\t10.522\t60.132\t73341\t25.17\t96.588\t0\n",
      "1HL_21A_1\t208214\t8.888\t47.476\t70596\t22.838\t79.696\t0\n",
      "1HL_22A_1\t185962\t8.033\t43.009\t63342\t20.121\t72.16\t0\n",
      "1HL_23A_1\t206951\t12.385\t63.232\t88083\t26.646\t95.071\t0\n",
      "1HL_24A_1\t187361\t10.38\t55.382\t71337\t24.343\t87.973\t0\n",
      "1HL_25A_1\t191963\t10.912\t54.612\t77634\t24.281\t84.102\t0\n",
      "1HL_26A_1\t219979\t10.208\t61.922\t80543\t24.846\t100.661\t0\n",
      "1HL_27A_1\t210750\t10.728\t58.494\t84222\t24.131\t90.89\t0\n",
      "1HL_28A_1\t222733\t11.977\t62.848\t89262\t27.225\t97.296\t0\n",
      "1HL_29A_1\t198700\t10.934\t61.624\t78650\t24.853\t96.29\t0\n",
      "1HL_2A_1\t189527\t10.253\t62.049\t72655\t23.813\t98.71\t0\n",
      "1HL_31A_1\t192308\t9.119\t49.273\t69323\t22.097\t80.435\t0\n",
      "1HL_33A_1\t187269\t10.273\t53.152\t72085\t23.797\t83.908\t0\n",
      "1HL_34A_1\t194708\t10.523\t51.955\t76863\t23.867\t80.883\t0\n",
      "1HL_35A_1\t198474\t9.374\t45.048\t74400\t21.977\t71.817\t0\n",
      "1HL_3A_1\t215970\t7.32\t37.634\t65907\t20.116\t66.357\t0\n",
      "1HL_4A_1\t189185\t9.66\t52.885\t71727\t22.521\t84.314\t0\n",
      "1HL_5A_1\t176247\t8.028\t43.6\t60923\t19.801\t72.702\t0\n",
      "1HL_6A_1\t176536\t8.442\t43.487\t62924\t20.422\t71.279\t0\n",
      "1HL_7A_1\t211223\t9.389\t55.155\t78682\t22.173\t88.907\t0\n",
      "1HL_8A_1\t182779\t9.908\t55.544\t68787\t23.318\t88.925\t0\n",
      "1HL_9A_1\t222256\t9.087\t52.707\t74220\t23.804\t89.397\t0\n",
      "1NF_10A_1\t179802\t8.544\t43.799\t61635\t21.488\t73.071\t0\n",
      "1NF_11A_1\t176394\t9.178\t46.763\t64043\t22.103\t75.889\t0\n",
      "1NF_12A_1\t167680\t9.24\t47.273\t62073\t21.857\t76.041\t0\n",
      "1NF_13A_1\t254548\t10.746\t78.428\t95024\t25.809\t126.939\t0\n",
      "1NF_14A_1\t199826\t9.711\t53.836\t72245\t23.714\t87.793\t0\n",
      "1NF_15A_1\t189147\t9.63\t49.646\t70527\t22.789\t79.575\t0\n"
     ]
    }
   ],
   "source": [
    "%%bash\n",
    "head -n 40 stats/s3.clusters.txt"
   ]
  },
  {
   "cell_type": "markdown",
   "metadata": {},
   "source": [
    "### Steps 4 & 5: Call consensus sequences"
   ]
  },
  {
   "cell_type": "markdown",
   "metadata": {},
   "source": [
    "#### Step 4 jointly infers the error-rate and heterozygosity across samples."
   ]
  },
  {
   "cell_type": "code",
   "execution_count": null,
   "metadata": {
    "collapsed": false,
    "scrolled": true
   },
   "outputs": [],
   "source": [
    "%%bash\n",
    "pyRAD -p params.txt -s 4"
   ]
  },
  {
   "cell_type": "code",
   "execution_count": 26,
   "metadata": {
    "collapsed": false
   },
   "outputs": [
    {
     "name": "stdout",
     "output_type": "stream",
     "text": [
      "taxa\tH\tE\n",
      "1NF_1A_1\t0.01185106\t0.00226008\t\n",
      "1NF_19A_1\t0.01143968\t0.00219682\t\n",
      "1HL_14A_1\t0.01171074\t0.00226455\t\n",
      "1SN_24A_1\t0.01193965\t0.00226339\t\n",
      "1NF_18A_1\t0.01197555\t0.0021366\t\n",
      "1NF_12A_1\t0.01122061\t0.00189642\t\n",
      "1HL_5A_1\t0.01127751\t0.00221106\t\n",
      "1HL_15A_1\t0.01183613\t0.0021897\t\n",
      "1NF_25A_1\t0.01152226\t0.0020995\t\n",
      "1HL_6A_1\t0.01178931\t0.00229567\t\n",
      "1SN_29A_1\t0.0112643\t0.00221565\t\n",
      "1HL_16A_1\t0.01177196\t0.0021416\t\n",
      "1NF_11A_1\t0.01146095\t0.0020609\t\n",
      "1HL_1A_1\t0.01176947\t0.00225293\t\n",
      "1HL_22A_1\t0.0118077\t0.00223998\t\n",
      "1NF_10A_1\t0.0113126\t0.00216754\t\n",
      "1NF_27A_1\t0.01192426\t0.002178\t\n",
      "1HL_8A_1\t0.01161779\t0.00224845\t\n",
      "1HL_24A_1\t0.01143772\t0.00209474\t\n",
      "1HL_33A_1\t0.01175588\t0.00206054\t\n",
      "1HL_31A_1\t0.01186919\t0.00216658\t\n",
      "1NF_20A_1\t0.01145001\t0.00204476\t\n",
      "1HL_4A_1\t0.01149712\t0.00216607\t\n",
      "1NF_28A_1\t0.01145683\t0.00215104\t\n",
      "1HL_13A_1\t0.01161161\t0.00217329\t\n",
      "1NF_33A_1\t0.01129083\t0.00213716\t\n",
      "1NF_15A_1\t0.01110835\t0.00212711\t\n",
      "1NF_6A_1\t0.01141639\t0.00202308\t\n",
      "1HL_2A_1\t0.0113882\t0.00212527\t\n",
      "1NF_30A_1\t0.01124972\t0.00210509\t\n",
      "1SN_16A_1\t0.01150705\t0.00225861\t\n",
      "1NF_7A_1\t0.01162546\t0.00192427\t\n",
      "1HL_20A_1\t0.01130239\t0.00205131\t\n",
      "1HL_25A_1\t0.01158874\t0.00211328\t\n",
      "1SN_27A_1\t0.0115752\t0.00225483\t\n",
      "1SN_15A_1\t0.01136719\t0.00223835\t\n",
      "1HL_34A_1\t0.01158736\t0.00210071\t\n",
      "1SN_20A_1\t0.01159924\t0.00223656\t\n",
      "1HL_35A_1\t0.01177706\t0.00208942\t\n",
      "1SN_28A_1\t0.01162622\t0.00207187\t\n",
      "1HL_29A_1\t0.01142879\t0.00215276\t\n",
      "1HL_21A_1\t0.01161157\t0.0021023\t\n",
      "1NF_14A_1\t0.01124931\t0.00222758\t\n",
      "1SN_11A_1\t0.01159876\t0.00231582\t\n",
      "1SN_26A_1\t0.01154668\t0.00228555\t\n",
      "1SN_1A_1\t0.01127067\t0.00210418\t\n",
      "1NF_8A_1\t0.011012\t0.00201384\t\n",
      "1HL_3A_1\t0.01184915\t0.00221304\t\n",
      "1NF_16A_1\t0.01144454\t0.00209996\t\n",
      "1SN_10A_1\t0.01144632\t0.00228121\t\n",
      "1NF_5A_1\t0.01121839\t0.00199742\t\n",
      "1HL_12A_1\t0.01180559\t0.00225421\t\n",
      "1HL_7A_1\t0.01152936\t0.0020942\t\n",
      "1SN_32A_1\t0.01141044\t0.00225863\t\n",
      "1HL_27A_1\t0.01144872\t0.0022163\t\n",
      "1HL_23A_1\t0.01140324\t0.0020773\t\n",
      "1NF_22A_1\t0.01139747\t0.00212199\t\n",
      "1SN_2A_1\t0.01136797\t0.00211701\t\n",
      "1HL_9A_1\t0.01155272\t0.00208622\t\n",
      "1SN_31A_1\t0.01146434\t0.00206915\t\n",
      "1HL_17A_1\t0.01121856\t0.00211721\t\n",
      "1SN_7A_1\t0.01135669\t0.00223139\t\n",
      "1SN_13A_1\t0.01144442\t0.00217937\t\n",
      "1HL_10A_1\t0.0116081\t0.00217752\t\n",
      "1HL_26A_1\t0.01153724\t0.00209551\t\n",
      "1NF_26A_1\t0.0116429\t0.00206548\t\n",
      "1SN_22A_1\t0.01151479\t0.00200191\t\n",
      "1SN_8A_1\t0.01120564\t0.00221233\t\n",
      "1NF_29A_1\t0.01127171\t0.00179149\t\n",
      "1NF_24A_1\t0.01147454\t0.00209654\t\n",
      "1SN_17A_1\t0.01128936\t0.00225468\t\n",
      "1NF_17A_1\t0.01115139\t0.00209344\t\n",
      "1NF_2A_1\t0.01080366\t0.00198163\t\n",
      "1NF_9A_1\t0.01108744\t0.00207408\t\n",
      "1SN_6A_1\t0.01142414\t0.00205953\t\n",
      "1SN_3A_1\t0.01171286\t0.00213031\t\n",
      "1SN_18A_1\t0.01132041\t0.00216978\t\n",
      "1HL_28A_1\t0.01115701\t0.00207812\t\n",
      "1SN_4A_1\t0.01132298\t0.00220162\t\n",
      "1HL_19A_1\t0.01142746\t0.00201988\t\n",
      "1SN_25A_1\t0.01157091\t0.00213282\t\n",
      "1SN_14A_1\t0.01134289\t0.00213418\t\n",
      "1SN_19A_1\t0.01132041\t0.00218827\t\n",
      "1NF_31A_1\t0.01149933\t0.0020063\t\n",
      "1SN_5A_1\t0.01153091\t0.00231136\t\n",
      "1NF_4A_1\t0.01101666\t0.00204751\t\n",
      "1NF_23A_1\t0.01116418\t0.00213\t\n",
      "1SN_12A_1\t0.01136203\t0.00212515\t\n",
      "1NF_32A_1\t0.01103576\t0.00213103\t\n",
      "1SN_9A_1\t0.0112041\t0.00230401\t\n",
      "1SN_23A_1\t0.01115343\t0.0021727\t\n",
      "1HL_11A_1\t0.01141309\t0.00214667\t\n",
      "1SN_30A_1\t0.01111079\t0.0020676\t\n",
      "1SN_21A_1\t0.01145376\t0.00208864\t\n",
      "1NF_13A_1\t0.01136074\t0.00198564\t\n",
      "1NF_21A_1\t0.01167009\t0.00215621\t\n"
     ]
    }
   ],
   "source": [
    "%%bash\n",
    "less stats/Pi_E_estimate.txt"
   ]
  },
  {
   "cell_type": "markdown",
   "metadata": {},
   "source": [
    "#### Step 5 calls consensus sequences using the parameters inferred above, and filters for paralogs."
   ]
  },
  {
   "cell_type": "code",
   "execution_count": null,
   "metadata": {
    "collapsed": false
   },
   "outputs": [],
   "source": [
    "%%bash\n",
    "pyRAD -p params.txt -s 5"
   ]
  },
  {
   "cell_type": "markdown",
   "metadata": {},
   "source": [
    "#### The stats output for step 5"
   ]
  },
  {
   "cell_type": "code",
   "execution_count": null,
   "metadata": {
    "collapsed": false
   },
   "outputs": [],
   "source": [
    "%%bash\n",
    "less stats/s5.consens.txt"
   ]
  },
  {
   "cell_type": "markdown",
   "metadata": {},
   "source": [
    "### Step 6: Cluster across samples"
   ]
  },
  {
   "cell_type": "markdown",
   "metadata": {},
   "source": [
    "Step 6 clusters consensus sequences across samples. It will print its progress to the screen. This uses 6 threads by default. If you enter 0 for param 37 it will use all available processors. "
   ]
  },
  {
   "cell_type": "code",
   "execution_count": null,
   "metadata": {
    "collapsed": false
   },
   "outputs": [],
   "source": [
    "%%bash\n",
    "pyRAD -p params.txt -s 6 "
   ]
  },
  {
   "cell_type": "markdown",
   "metadata": {},
   "source": [
    "## Step 7: Assemble final data sets"
   ]
  },
  {
   "cell_type": "markdown",
   "metadata": {},
   "source": [
    "The final step is to output data only for the loci that you want to have included in your data set. This filters once again for potential paralogs or highly repetitive regions, and includes options to minimize the amount of missing data in the output. "
   ]
  },
  {
   "cell_type": "code",
   "execution_count": null,
   "metadata": {
    "collapsed": false
   },
   "outputs": [],
   "source": [
    "%%bash\n",
    "pyRAD -p params.txt -s 7"
   ]
  },
  {
   "cell_type": "markdown",
   "metadata": {},
   "source": [
    "### Final stats output"
   ]
  },
  {
   "cell_type": "code",
   "execution_count": null,
   "metadata": {
    "collapsed": false
   },
   "outputs": [],
   "source": [
    "%%bash\n",
    "less stats/c85m4p3.stats"
   ]
  },
  {
   "cell_type": "markdown",
   "metadata": {},
   "source": [
    "---------------  \n",
    "\n",
    "## Output formats ##"
   ]
  },
  {
   "cell_type": "markdown",
   "metadata": {},
   "source": [
    "We created 11 output files from our analysis. The standard two (.loci and .excluded_loci), as well as the 9 additional ones listed in the params file. These are all shown below."
   ]
  },
  {
   "cell_type": "code",
   "execution_count": 30,
   "metadata": {
    "collapsed": false
   },
   "outputs": [
    {
     "name": "stdout",
     "output_type": "stream",
     "text": [
      "gbs-001.excluded_loci\n",
      "gbs-001.loci\n"
     ]
    }
   ],
   "source": [
    "%%bash \n",
    "ls outfiles/"
   ]
  },
  {
   "cell_type": "markdown",
   "metadata": {},
   "source": [
    "### Loci format  \n",
    "The \".loci\" file contains each locus listed in a fasta-like format that also shows which sites are variable below each locus. Autapomorphies are listed as '-' and shared SNPs as '*'. This is a custom format that is human readable and also used as input to perform D-statistic tests in pyRAD. This is the easiest way to visualize your results. I recommend viewing the file with the command `less`. Below I use a head and cut to make it easy to view in this window."
   ]
  },
  {
   "cell_type": "code",
   "execution_count": 31,
   "metadata": {
    "collapsed": false
   },
   "outputs": [
    {
     "name": "stdout",
     "output_type": "stream",
     "text": [
      ">1HL_11A_1    NGTGACCTCGAGCATGTGAC--ATTTCAAAGCCAAATTAACTTTTAGAGAGAAAAAYCCC-\n",
      ">1HL_34A_1    TGTGACCTCGAGCATGTGAC--ATTTCAAAGCCAAATTAACTTTTAGASAGAAAAMCCCCA\n",
      ">1NF_9A_1     TGTGACCTCGAGCATGTGAC--ATTTCAAMGCCAAATTAACTTTTAGAGAGAAAAACCCCA\n",
      ">1SN_11A_1    WGTGACCTCGAGCATGTGACNNATTTCAAAGCCAAATTAACTTTTAGANAGAAAA-YCCCA\n",
      ">1SN_13A_1    TGTGACCTCGAGCATGTGRC--ATTTCAAAGCCAAATTAACTTTTAGAGAGAAAA-YSCCA\n",
      ">1SN_14A_1    TGTGACCTCGAGCATGTGAC--ATTTCAAAGCCAAATTAACTTTTAGASAGAAAAMCCCCA\n",
      "//            -                 -          -                  *      **-   \n",
      ">1HL_10A_1    CTATAGATATACAAACACTATGTANTCTAAGCCTTTCGGGTACAGGCTCGTCAATATACTC\n",
      ">1HL_11A_1    CTATAGATATACAAACACTATGTAATCTAAGCCTTTCGGGTACAGGCTCGTCAATATACTC\n",
      ">1HL_14A_1    CTATAGATATACAAACACTATGTAATCTAAGCCTTTCGGGTACAGGCTCGTCAATATACTC\n",
      ">1HL_15A_1    CTATAGATATACAAACACTATGTAATCTAAGCCTTTCGGGTACAGGCTCGTCAATATACTC\n",
      ">1HL_16A_1    CTATAGATATACAAACACTATGTAATCTAAGCCTTTCGGGTACAGGCTCGTCAATATACTC\n",
      ">1HL_17A_1    CTATAGATATACAAACACTATGTAATCTAAGCCTTTCGGGTACAGGCTCGTCAATATACTC\n",
      ">1HL_19A_1    CTATAGATATACAAACACTATGTAATCTAAGCCTTTCGGGTACAGGCTCGTCAATATACTC\n",
      ">1HL_1A_1     CTATAGATATACAAACACTATGTAATCTAAGCCTTTCGGGTACAGGCTCGTCAATATACTC\n",
      ">1HL_20A_1    CTATAGATATACAAACACTATGTAATCTAAGCCTTTCGGGTACAGGCTCGTCAATATACTC\n",
      ">1HL_23A_1    CTATAGATATACAAACACTATGTAATCTAAGCCTTTCGGGTACAGGCTCGTCAATATACTC\n",
      ">1HL_25A_1    CTATAGATATACAAACACTATGTAATCTAAGCCTTTCGGGTACAGGCTCGTCAATATACTC\n",
      ">1HL_26A_1    CTATAGATATACAAACACTATGTAATCTAAGCCTTTCGGGTACAGGCTCGTCAATATACTC\n",
      ">1HL_27A_1    CTATAGATATACAAACACTATGTAATCTAAGCCTTTCGGGTACAGGCTCGTCAATATACTC\n",
      ">1HL_28A_1    CTATAGATATACAAACACTATGTAATCTAAGCCTTTCGGGTACAGGCTCGTCAATATACTC\n",
      ">1HL_29A_1    CTATAGATATACAAACACTATGTAATCTAAGCCTTTCGGGTACAGGCTCGTCAATATACTC\n",
      ">1HL_31A_1    CTATAGATATACAAACACTATGTAATCTAAGCCTTTCGGGTACAGGCTCGTCAATATACTC\n",
      ">1HL_33A_1    CTATAGATATACAAACACTATGTAATCTAAGCCTTTCGGGTACAGGCTCGTCAATATACTC\n",
      ">1HL_34A_1    CTATAGATATACAAACACTATGTAATCTAAGCCTTTCGGGTACAGGCTCGTCAATATACTC\n",
      ">1HL_35A_1    CTATAGATATACAAACACTATGTAATCTAAGCCTTTCGGGTACAGGCTCGTCAATATACTC\n",
      ">1HL_3A_1     CTATAGATATACAAACACTATGTAATCTAAGCCTTTCGGGTACAGGCTCGTCAATATACTC\n",
      ">1HL_4A_1     CTATAGATATACAAACACTATGTAATCTAAGCCTTTCGGGTACAGGCTCGTCAATATACTC\n",
      ">1HL_6A_1     CTATAGATATACAAACACTATGTAATCTAAGCCTTTCGGGTACAGGCTCGTCAATATACTC\n",
      ">1HL_7A_1     CTATAGATATACAAACACTATGTAATCTAAGCCTTTCGGGTACAGGCTCGTCAATATACTC\n",
      ">1HL_8A_1     CTATAGATATACAAACACTATGTAATCTAAGCCTTTCGGGTACAGGCTCGTCAATATACTC\n",
      ">1HL_9A_1     CTATAGATATACAAACACTATGTAATCTAAGCCTTTCGGGTACAGGCTCGTCAATATACTC\n",
      ">1NF_10A_1    CTATAGATATACAAACACTATGTAATCTAAGCCTTTCGGGTACAGGCTCGTCAATATACTC\n",
      ">1NF_13A_1    CTATAGATATACAAACACTATGTAATCTAAGCCTTTCGGGTACAGGCTCGTCAATATACTC\n",
      ">1NF_16A_1    CTATAGATATACAAACACTATGTAATCTAAGCCTTTCGGGTACAGGCTCGTCAATATACTC\n",
      ">1NF_17A_1    CTATAGATATACAAACACTATGTAATCTAAGCCTTTCGGGTACAGGCTCGTCAATATACTC\n",
      ">1NF_22A_1    CTATAGATATACAAACACTATGTAATCTAAGCCTTTCGGGTACAGGCTCGTCAATATACTC\n",
      ">1NF_25A_1    CTATAGATATACAAACACTATGTAATCTAAGCCTTTCGGGTACAGGCTCGTCAATATACTC\n",
      ">1NF_26A_1    CTATAGATATACAAACACTATGTAATCTAAGCCTTTCGGGTACAGGCTCGTCAATATACTC\n"
     ]
    }
   ],
   "source": [
    "%%bash \n",
    "head -n 39 outfiles/gbs-001.loci | cut -c 1-75"
   ]
  },
  {
   "cell_type": "markdown",
   "metadata": {},
   "source": [
    "### PHY format"
   ]
  },
  {
   "cell_type": "code",
   "execution_count": 32,
   "metadata": {
    "collapsed": false
   },
   "outputs": [
    {
     "name": "stderr",
     "output_type": "stream",
     "text": [
      "head: outfiles/gbs-001.phy: No such file or directory\n"
     ]
    }
   ],
   "source": [
    "%%bash \n",
    "head -n 50 outfiles/c85m4p3.phy | cut -c 1-85"
   ]
  },
  {
   "cell_type": "markdown",
   "metadata": {},
   "source": [
    "### NEX format"
   ]
  },
  {
   "cell_type": "code",
   "execution_count": null,
   "metadata": {
    "collapsed": false
   },
   "outputs": [],
   "source": [
    "%%bash \n",
    "head -n 50 outfiles/c85m4p3.nex | cut -c 1-85"
   ]
  },
  {
   "cell_type": "markdown",
   "metadata": {},
   "source": [
    "### Alleles format"
   ]
  },
  {
   "cell_type": "code",
   "execution_count": null,
   "metadata": {
    "collapsed": false
   },
   "outputs": [],
   "source": [
    "%%bash \n",
    "head -n 50 outfiles/c85m4p3.alleles| cut -c 1-85"
   ]
  },
  {
   "cell_type": "markdown",
   "metadata": {},
   "source": [
    "### STRUCTURE (.str) format"
   ]
  },
  {
   "cell_type": "code",
   "execution_count": null,
   "metadata": {
    "collapsed": false
   },
   "outputs": [],
   "source": [
    "%%bash \n",
    "head -n 50 outfiles/c85m4p3.str | cut -c 1-20"
   ]
  },
  {
   "cell_type": "markdown",
   "metadata": {},
   "source": [
    "### GENO (.geno) format (used in _Admixture_)"
   ]
  },
  {
   "cell_type": "code",
   "execution_count": null,
   "metadata": {
    "collapsed": false
   },
   "outputs": [],
   "source": [
    "%%bash \n",
    "head -n 40 outfiles/c85m4p3.geno "
   ]
  },
  {
   "cell_type": "markdown",
   "metadata": {},
   "source": [
    "### SNPs format"
   ]
  },
  {
   "cell_type": "code",
   "execution_count": null,
   "metadata": {
    "collapsed": false
   },
   "outputs": [],
   "source": [
    "%%bash \n",
    "head -n 50 outfiles/c85m4p3.snps | cut -c 1-85"
   ]
  },
  {
   "cell_type": "markdown",
   "metadata": {},
   "source": [
    "### UNLINKED_SNPs format"
   ]
  },
  {
   "cell_type": "code",
   "execution_count": null,
   "metadata": {
    "collapsed": false
   },
   "outputs": [],
   "source": [
    "%%bash \n",
    "head -n 50 outfiles/c85m4p3.unlinked_snps | cut -c 1-85"
   ]
  },
  {
   "cell_type": "markdown",
   "metadata": {},
   "source": [
    "## OTHER FORMATS  \n",
    "\n",
    "You may also produce some more complicated formatting options that involve pooling individuals into groups or populations. This can be done for the \"treemix\" and \"migrate\" outputs, which are formatted for input into the programs _TreeMix_ and _migrate-n_, respectively. Grouping individuals into populations is done with the final lines of the params file as shown below, and similar to the assignment of individuals into clades for hierarchical clustering (see full tutorial). \n",
    "\n",
    "Each line designates a group, and has three arguments that are separated by space or tab. The first is the group name, the second is the minimum number of individuals that must have data in that group for a locus to be included in the output, and the third is a list of the members of that group. Lists of taxa can include comma-separated names and wildcard selectors, like below. Example:\n"
   ]
  },
  {
   "cell_type": "code",
   "execution_count": null,
   "metadata": {
    "collapsed": false
   },
   "outputs": [],
   "source": [
    "%%bash \n",
    "## append group designations to the params file\n",
    "echo \"pop1 4 1A0,1B0,1C0,1D0 \" >> params.txt\n",
    "echo \"pop2 4 2E0,2F0,2G0,2H0 \" >> params.txt\n",
    "echo \"pop3 4 3* \" >> params.txt\n",
    "\n",
    "## view params file\n",
    "cat params.txt"
   ]
  },
  {
   "cell_type": "markdown",
   "metadata": {},
   "source": [
    "## Creating population output files  \n",
    "Now if we run _pyRAD_ with the 'm' (migrate) or 't' (treemix) output options, it will create their output files. "
   ]
  },
  {
   "cell_type": "code",
   "execution_count": null,
   "metadata": {
    "collapsed": false
   },
   "outputs": [],
   "source": [
    "%%bash \n",
    "pyRAD -p params.txt -s 7"
   ]
  },
  {
   "cell_type": "markdown",
   "metadata": {},
   "source": [
    "## TREEMIX format"
   ]
  },
  {
   "cell_type": "code",
   "execution_count": null,
   "metadata": {
    "collapsed": false
   },
   "outputs": [],
   "source": [
    "%%bash \n",
    "less outfiles/c85m4p3.treemix.gz | head -n 30"
   ]
  },
  {
   "cell_type": "markdown",
   "metadata": {},
   "source": [
    "## MIGRATE-n FORMAT"
   ]
  },
  {
   "cell_type": "code",
   "execution_count": null,
   "metadata": {
    "collapsed": false
   },
   "outputs": [],
   "source": [
    "%%bash \n",
    "head -n 40 outfiles/c85m4p3.migrate | cut -c 1-85"
   ]
  }
 ],
 "metadata": {
  "kernelspec": {
   "display_name": "Python 2",
   "language": "python",
   "name": "python2"
  },
  "language_info": {
   "codemirror_mode": {
    "name": "ipython",
    "version": 2
   },
   "file_extension": ".py",
   "mimetype": "text/x-python",
   "name": "python",
   "nbconvert_exporter": "python",
   "pygments_lexer": "ipython2",
   "version": "2.7.11"
  }
 },
 "nbformat": 4,
 "nbformat_minor": 0
}
