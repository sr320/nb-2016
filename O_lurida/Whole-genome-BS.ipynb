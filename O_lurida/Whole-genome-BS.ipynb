{
 "cells": [
  {
   "cell_type": "markdown",
   "metadata": {},
   "source": [
    "<img src=\"http://eagle.fish.washington.edu/cnidarian/skitch/BS-seq_Libraries_for_Sequencing_at_Genewiz___Sam_s_Notebook_1C505006.png\" alt=\"BS-seq_Libraries_for_Sequencing_at_Genewiz___Sam_s_Notebook_1C505006.png\"/>"
   ]
  },
  {
   "cell_type": "markdown",
   "metadata": {},
   "source": [
    "For the 12 samples\n",
    "\n",
    "Select 4 samples from 1NF [gel take 2](http://onsnetwork.org/kubu4/2015/12/17/agarose-gel-oly-gdna-for-bs-seq-libraries-take-two/)\n",
    "Select 4 samples from 2NF [gel take 2](http://onsnetwork.org/kubu4/2015/12/17/agarose-gel-oly-gdna-for-bs-seq-libraries-take-two/)\n",
    "\n",
    "Select 2 from [gel take 2](http://onsnetwork.org/kubu4/2015/12/17/agarose-gel-oly-gdna-for-bs-seq-libraries-take-two/) Lotterhos \n",
    "M1\n",
    "M2\n",
    "M3\n",
    "\n",
    "Select 2 from the following sent to Katie (do not have to run on gel)\n",
    "NF2 14\n",
    "NF2 6\n",
    "NF2 18\n",
    "NF2 15\n",
    "NF2 17\n"
   ]
  },
  {
   "cell_type": "markdown",
   "metadata": {},
   "source": [
    "<img src=\"http://eagle.fish.washington.edu/cnidarian/skitch/DNA_Isolation_–_Oly_gDNA_for_BS-seq___Sam_s_Notebook_1C50508C.png\" alt=\"DNA_Isolation_–_Oly_gDNA_for_BS-seq___Sam_s_Notebook_1C50508C.png\"/>"
   ]
  },
  {
   "cell_type": "markdown",
   "metadata": {},
   "source": [
    "## Short term will just check out the first 8.\n",
    "\n",
    "These are samples outplanted at Oyster Bay and Fidalgo, and in both cases parents from Fidalgo.\n",
    "\n",
    "The hypothesis is that Epigenetic pattern will differ (and we can attribute to Environment)"
   ]
  },
  {
   "cell_type": "markdown",
   "metadata": {},
   "source": [
    "## Quick look at raw data"
   ]
  },
  {
   "cell_type": "markdown",
   "metadata": {},
   "source": [
    "<img src=\"http://eagle.fish.washington.edu/cnidarian/skitch/BS-seq_Libraries_for_Sequencing_at_Genewiz___Sam_s_Notebook_1C505191.png\" alt=\"BS-seq_Libraries_for_Sequencing_at_Genewiz___Sam_s_Notebook_1C505191.png\"/>"
   ]
  },
  {
   "cell_type": "markdown",
   "metadata": {},
   "source": [
    "http://onsnetwork.org/kubu4/category/olympia-oyster-reciprocal-transplant/bs-seq-libraries-for-genewiz/"
   ]
  },
  {
   "cell_type": "markdown",
   "metadata": {},
   "source": [
    "```\n",
    "Sequencing Platform: Illumina HiSeq2500\n",
    "\n",
    "Read Type/Length: 50bp single-end, single index\n",
    "\n",
    "Total Number of Reads: 116,280,817\n",
    "\n",
    "Reads Per File:\n",
    "\n",
    "11_GGCTAC_L001_R1_001.fastq.gz\t10933121\n",
    "\t\t\n",
    "12_CTTGTA_L001_R1_001.fastq.gz\t10816647\n",
    "\t\t\n",
    "1_ATCACG_L001_R1_001.fastq.gz\t9402890\n",
    "\t\t\n",
    "2_CGATGT_L001_R1_001.fastq.gz\t11954873\n",
    "\t\t\n",
    "3_TTAGGC_L001_R1_001.fastq.gz\t11817358\n",
    "\t\t\n",
    "4_TGACCA_L001_R1_001.fastq.gz\t11606618\n",
    "\t\t\n",
    "5_ACAGTG_L001_R1_001.fastq.gz\t12589609\n",
    "\t\t\n",
    "6_GCCAAT_L001_R1_001.fastq.gz\t12489766\n",
    "\t\t\n",
    "7_CAGATC_L001_R1_001.fastq.gz\t10295293\n",
    "\t\t\n",
    "8_ACTTGA_L001_R1_001.fastq.gz\t14374642\n",
    "\t\t\n",
    "```    "
   ]
  },
  {
   "cell_type": "markdown",
   "metadata": {},
   "source": [
    "## Unzip"
   ]
  },
  {
   "cell_type": "code",
   "execution_count": 1,
   "metadata": {
    "collapsed": false
   },
   "outputs": [
    {
     "name": "stdout",
     "output_type": "stream",
     "text": [
      "/Volumes/Histidine/hectocotylus/whole-BS-01\n"
     ]
    }
   ],
   "source": [
    "cd /Volumes/Histidine/hectocotylus/whole-BS-01"
   ]
  },
  {
   "cell_type": "code",
   "execution_count": 2,
   "metadata": {
    "collapsed": true
   },
   "outputs": [],
   "source": [
    "%%bash\n",
    "for f in *.gz\n",
    "do\n",
    "  STEM=$(basename \"${f}\" .gz)\n",
    "  gunzip -c \"${f}\" > /Volumes/Histidine/hectocotylus/whole-BS-01/fq/\"${STEM}\"\n",
    "done"
   ]
  },
  {
   "cell_type": "markdown",
   "metadata": {},
   "source": [
    "## FastQC"
   ]
  },
  {
   "cell_type": "code",
   "execution_count": 3,
   "metadata": {
    "collapsed": false
   },
   "outputs": [
    {
     "name": "stdout",
     "output_type": "stream",
     "text": [
      "Started analysis of 1_ATCACG_L001_R1_001.fastq\n",
      "Started analysis of 2_CGATGT_L001_R1_001.fastq\n",
      "Started analysis of 3_TTAGGC_L001_R1_001.fastq\n",
      "Approx 5% complete for 1_ATCACG_L001_R1_001.fastq\n",
      "Started analysis of 4_TGACCA_L001_R1_001.fastq\n",
      "Approx 5% complete for 2_CGATGT_L001_R1_001.fastq\n",
      "Approx 10% complete for 1_ATCACG_L001_R1_001.fastq\n",
      "Approx 5% complete for 3_TTAGGC_L001_R1_001.fastq\n",
      "Approx 5% complete for 4_TGACCA_L001_R1_001.fastq\n",
      "Approx 10% complete for 2_CGATGT_L001_R1_001.fastq\n",
      "Approx 15% complete for 1_ATCACG_L001_R1_001.fastq\n",
      "Approx 10% complete for 3_TTAGGC_L001_R1_001.fastq\n",
      "Approx 10% complete for 4_TGACCA_L001_R1_001.fastq\n",
      "Approx 20% complete for 1_ATCACG_L001_R1_001.fastq\n",
      "Approx 15% complete for 2_CGATGT_L001_R1_001.fastq\n",
      "Approx 15% complete for 3_TTAGGC_L001_R1_001.fastq\n",
      "Approx 15% complete for 4_TGACCA_L001_R1_001.fastq\n",
      "Approx 25% complete for 1_ATCACG_L001_R1_001.fastq\n",
      "Approx 20% complete for 2_CGATGT_L001_R1_001.fastq\n",
      "Approx 20% complete for 3_TTAGGC_L001_R1_001.fastq\n",
      "Approx 30% complete for 1_ATCACG_L001_R1_001.fastq\n",
      "Approx 20% complete for 4_TGACCA_L001_R1_001.fastq\n",
      "Approx 25% complete for 2_CGATGT_L001_R1_001.fastq\n",
      "Approx 35% complete for 1_ATCACG_L001_R1_001.fastq\n",
      "Approx 25% complete for 3_TTAGGC_L001_R1_001.fastq\n",
      "Approx 25% complete for 4_TGACCA_L001_R1_001.fastq\n",
      "Approx 40% complete for 1_ATCACG_L001_R1_001.fastq\n",
      "Approx 30% complete for 2_CGATGT_L001_R1_001.fastq\n",
      "Approx 30% complete for 3_TTAGGC_L001_R1_001.fastq\n",
      "Approx 30% complete for 4_TGACCA_L001_R1_001.fastq\n",
      "Approx 45% complete for 1_ATCACG_L001_R1_001.fastq\n",
      "Approx 35% complete for 2_CGATGT_L001_R1_001.fastq\n",
      "Approx 35% complete for 3_TTAGGC_L001_R1_001.fastq\n",
      "Approx 35% complete for 4_TGACCA_L001_R1_001.fastq\n",
      "Approx 50% complete for 1_ATCACG_L001_R1_001.fastq\n",
      "Approx 40% complete for 2_CGATGT_L001_R1_001.fastq\n",
      "Approx 40% complete for 3_TTAGGC_L001_R1_001.fastq\n",
      "Approx 55% complete for 1_ATCACG_L001_R1_001.fastq\n",
      "Approx 40% complete for 4_TGACCA_L001_R1_001.fastq\n",
      "Approx 45% complete for 2_CGATGT_L001_R1_001.fastq\n",
      "Approx 60% complete for 1_ATCACG_L001_R1_001.fastq\n",
      "Approx 45% complete for 3_TTAGGC_L001_R1_001.fastq\n",
      "Approx 45% complete for 4_TGACCA_L001_R1_001.fastq\n",
      "Approx 65% complete for 1_ATCACG_L001_R1_001.fastq\n",
      "Approx 50% complete for 2_CGATGT_L001_R1_001.fastq\n",
      "Approx 50% complete for 3_TTAGGC_L001_R1_001.fastq\n",
      "Approx 50% complete for 4_TGACCA_L001_R1_001.fastq\n",
      "Approx 70% complete for 1_ATCACG_L001_R1_001.fastq\n",
      "Approx 55% complete for 2_CGATGT_L001_R1_001.fastq\n",
      "Approx 55% complete for 3_TTAGGC_L001_R1_001.fastq\n",
      "Approx 55% complete for 4_TGACCA_L001_R1_001.fastq\n",
      "Approx 75% complete for 1_ATCACG_L001_R1_001.fastq\n",
      "Approx 60% complete for 2_CGATGT_L001_R1_001.fastq\n",
      "Approx 60% complete for 3_TTAGGC_L001_R1_001.fastq\n",
      "Approx 80% complete for 1_ATCACG_L001_R1_001.fastq\n",
      "Approx 60% complete for 4_TGACCA_L001_R1_001.fastq\n",
      "Approx 65% complete for 2_CGATGT_L001_R1_001.fastq\n",
      "Approx 85% complete for 1_ATCACG_L001_R1_001.fastq\n",
      "Approx 65% complete for 3_TTAGGC_L001_R1_001.fastq\n",
      "Approx 65% complete for 4_TGACCA_L001_R1_001.fastq\n",
      "Approx 90% complete for 1_ATCACG_L001_R1_001.fastq\n",
      "Approx 70% complete for 2_CGATGT_L001_R1_001.fastq\n",
      "Approx 70% complete for 3_TTAGGC_L001_R1_001.fastq\n",
      "Approx 70% complete for 4_TGACCA_L001_R1_001.fastq\n",
      "Approx 95% complete for 1_ATCACG_L001_R1_001.fastq\n",
      "Approx 75% complete for 2_CGATGT_L001_R1_001.fastq\n",
      "Approx 75% complete for 3_TTAGGC_L001_R1_001.fastq\n",
      "Approx 75% complete for 4_TGACCA_L001_R1_001.fastq\n",
      "Analysis complete for 1_ATCACG_L001_R1_001.fastq\n",
      "Approx 80% complete for 3_TTAGGC_L001_R1_001.fastq\n",
      "Approx 80% complete for 2_CGATGT_L001_R1_001.fastq\n",
      "Approx 80% complete for 4_TGACCA_L001_R1_001.fastq\n",
      "Approx 85% complete for 3_TTAGGC_L001_R1_001.fastq\n",
      "Approx 85% complete for 4_TGACCA_L001_R1_001.fastq\n",
      "Started analysis of 5_ACAGTG_L001_R1_001.fastq\n",
      "Approx 85% complete for 2_CGATGT_L001_R1_001.fastq\n",
      "Approx 90% complete for 3_TTAGGC_L001_R1_001.fastq\n",
      "Approx 90% complete for 4_TGACCA_L001_R1_001.fastq\n",
      "Approx 5% complete for 5_ACAGTG_L001_R1_001.fastq\n",
      "Approx 90% complete for 2_CGATGT_L001_R1_001.fastq\n",
      "Approx 95% complete for 3_TTAGGC_L001_R1_001.fastq\n",
      "Approx 95% complete for 4_TGACCA_L001_R1_001.fastq\n",
      "Approx 10% complete for 5_ACAGTG_L001_R1_001.fastq\n",
      "Analysis complete for 3_TTAGGC_L001_R1_001.fastq\n",
      "Analysis complete for 4_TGACCA_L001_R1_001.fastq\n",
      "Approx 95% complete for 2_CGATGT_L001_R1_001.fastq\n",
      "Approx 15% complete for 5_ACAGTG_L001_R1_001.fastq\n",
      "Started analysis of 6_GCCAAT_L001_R1_001.fastq\n",
      "Started analysis of 7_CAGATC_L001_R1_001.fastq\n",
      "Approx 20% complete for 5_ACAGTG_L001_R1_001.fastq\n",
      "Analysis complete for 2_CGATGT_L001_R1_001.fastq\n",
      "Approx 5% complete for 6_GCCAAT_L001_R1_001.fastq\n",
      "Approx 5% complete for 7_CAGATC_L001_R1_001.fastq\n",
      "Started analysis of 8_ACTTGA_L001_R1_001.fastq\n",
      "Approx 25% complete for 5_ACAGTG_L001_R1_001.fastq\n",
      "Approx 10% complete for 7_CAGATC_L001_R1_001.fastq\n",
      "Approx 10% complete for 6_GCCAAT_L001_R1_001.fastq\n",
      "Approx 30% complete for 5_ACAGTG_L001_R1_001.fastq\n",
      "Approx 15% complete for 7_CAGATC_L001_R1_001.fastq\n",
      "Approx 5% complete for 8_ACTTGA_L001_R1_001.fastq\n",
      "Approx 15% complete for 6_GCCAAT_L001_R1_001.fastq\n",
      "Approx 20% complete for 7_CAGATC_L001_R1_001.fastq\n",
      "Approx 35% complete for 5_ACAGTG_L001_R1_001.fastq\n",
      "Approx 20% complete for 6_GCCAAT_L001_R1_001.fastq\n",
      "Approx 10% complete for 8_ACTTGA_L001_R1_001.fastq\n",
      "Approx 25% complete for 7_CAGATC_L001_R1_001.fastq\n",
      "Approx 40% complete for 5_ACAGTG_L001_R1_001.fastq\n",
      "Approx 25% complete for 6_GCCAAT_L001_R1_001.fastq\n",
      "Approx 15% complete for 8_ACTTGA_L001_R1_001.fastq\n",
      "Approx 30% complete for 7_CAGATC_L001_R1_001.fastq\n",
      "Approx 45% complete for 5_ACAGTG_L001_R1_001.fastq\n",
      "Approx 30% complete for 6_GCCAAT_L001_R1_001.fastq\n",
      "Approx 35% complete for 7_CAGATC_L001_R1_001.fastq\n",
      "Approx 20% complete for 8_ACTTGA_L001_R1_001.fastq\n",
      "Approx 50% complete for 5_ACAGTG_L001_R1_001.fastq\n",
      "Approx 40% complete for 7_CAGATC_L001_R1_001.fastq\n",
      "Approx 35% complete for 6_GCCAAT_L001_R1_001.fastq\n",
      "Approx 25% complete for 8_ACTTGA_L001_R1_001.fastq\n",
      "Approx 55% complete for 5_ACAGTG_L001_R1_001.fastq\n",
      "Approx 45% complete for 7_CAGATC_L001_R1_001.fastq\n",
      "Approx 40% complete for 6_GCCAAT_L001_R1_001.fastq\n",
      "Approx 50% complete for 7_CAGATC_L001_R1_001.fastq\n",
      "Approx 30% complete for 8_ACTTGA_L001_R1_001.fastq\n",
      "Approx 60% complete for 5_ACAGTG_L001_R1_001.fastq\n",
      "Approx 45% complete for 6_GCCAAT_L001_R1_001.fastq\n",
      "Approx 55% complete for 7_CAGATC_L001_R1_001.fastq\n",
      "Approx 65% complete for 5_ACAGTG_L001_R1_001.fastq\n",
      "Approx 35% complete for 8_ACTTGA_L001_R1_001.fastq\n",
      "Approx 50% complete for 6_GCCAAT_L001_R1_001.fastq\n",
      "Approx 60% complete for 7_CAGATC_L001_R1_001.fastq\n",
      "Approx 70% complete for 5_ACAGTG_L001_R1_001.fastq\n",
      "Approx 40% complete for 8_ACTTGA_L001_R1_001.fastq\n",
      "Approx 55% complete for 6_GCCAAT_L001_R1_001.fastq\n",
      "Approx 65% complete for 7_CAGATC_L001_R1_001.fastq\n",
      "Approx 75% complete for 5_ACAGTG_L001_R1_001.fastq\n",
      "Approx 70% complete for 7_CAGATC_L001_R1_001.fastq\n",
      "Approx 60% complete for 6_GCCAAT_L001_R1_001.fastq\n",
      "Approx 45% complete for 8_ACTTGA_L001_R1_001.fastq\n",
      "Approx 75% complete for 7_CAGATC_L001_R1_001.fastq\n",
      "Approx 80% complete for 5_ACAGTG_L001_R1_001.fastq\n",
      "Approx 65% complete for 6_GCCAAT_L001_R1_001.fastq\n",
      "Approx 50% complete for 8_ACTTGA_L001_R1_001.fastq\n",
      "Approx 80% complete for 7_CAGATC_L001_R1_001.fastq\n",
      "Approx 85% complete for 5_ACAGTG_L001_R1_001.fastq\n",
      "Approx 70% complete for 6_GCCAAT_L001_R1_001.fastq\n",
      "Approx 85% complete for 7_CAGATC_L001_R1_001.fastq\n",
      "Approx 55% complete for 8_ACTTGA_L001_R1_001.fastq\n",
      "Approx 90% complete for 5_ACAGTG_L001_R1_001.fastq\n",
      "Approx 75% complete for 6_GCCAAT_L001_R1_001.fastq\n",
      "Approx 90% complete for 7_CAGATC_L001_R1_001.fastq\n",
      "Approx 60% complete for 8_ACTTGA_L001_R1_001.fastq\n",
      "Approx 95% complete for 5_ACAGTG_L001_R1_001.fastq\n",
      "Approx 80% complete for 6_GCCAAT_L001_R1_001.fastq\n",
      "Approx 95% complete for 7_CAGATC_L001_R1_001.fastq\n",
      "Approx 65% complete for 8_ACTTGA_L001_R1_001.fastq\n",
      "Analysis complete for 5_ACAGTG_L001_R1_001.fastq\n",
      "Analysis complete for 7_CAGATC_L001_R1_001.fastq\n",
      "Approx 85% complete for 6_GCCAAT_L001_R1_001.fastq\n",
      "Approx 70% complete for 8_ACTTGA_L001_R1_001.fastq\n",
      "Approx 90% complete for 6_GCCAAT_L001_R1_001.fastq\n",
      "Approx 95% complete for 6_GCCAAT_L001_R1_001.fastq\n",
      "Approx 75% complete for 8_ACTTGA_L001_R1_001.fastq\n",
      "Analysis complete for 6_GCCAAT_L001_R1_001.fastq\n",
      "Approx 80% complete for 8_ACTTGA_L001_R1_001.fastq\n",
      "Approx 85% complete for 8_ACTTGA_L001_R1_001.fastq\n",
      "Approx 90% complete for 8_ACTTGA_L001_R1_001.fastq\n",
      "Approx 95% complete for 8_ACTTGA_L001_R1_001.fastq\n",
      "Analysis complete for 8_ACTTGA_L001_R1_001.fastq\n"
     ]
    }
   ],
   "source": [
    "!/Applications/bioinfo/FastQC/fastqc \\\n",
    "-o /Volumes/Histidine/hectocotylus/whole-BS-01/fq/ \\\n",
    "-t 4 \\\n",
    "/Volumes/Histidine/hectocotylus/whole-BS-01/fq/*"
   ]
  },
  {
   "cell_type": "markdown",
   "metadata": {},
   "source": [
    "<img src=\"http://eagle.fish.washington.edu/cnidarian/skitch/8_ACTTGA_L001_R1_001_fastq_FastQC_Report_1C50546C.png\" alt=\"8_ACTTGA_L001_R1_001_fastq_FastQC_Report_1C50546C.png\"/>"
   ]
  },
  {
   "cell_type": "markdown",
   "metadata": {},
   "source": [
    "this unusual pattern seem to hold true.."
   ]
  },
  {
   "cell_type": "code",
   "execution_count": null,
   "metadata": {
    "collapsed": true
   },
   "outputs": [],
   "source": []
  }
 ],
 "metadata": {
  "kernelspec": {
   "display_name": "Python 3",
   "language": "python",
   "name": "python3"
  },
  "language_info": {
   "codemirror_mode": {
    "name": "ipython",
    "version": 3
   },
   "file_extension": ".py",
   "mimetype": "text/x-python",
   "name": "python",
   "nbconvert_exporter": "python",
   "pygments_lexer": "ipython3",
   "version": "3.5.1"
  }
 },
 "nbformat": 4,
 "nbformat_minor": 0
}
