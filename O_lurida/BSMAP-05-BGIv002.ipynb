{
 "cells": [
  {
   "cell_type": "markdown",
   "metadata": {
    "button": false,
    "collapsed": true,
    "deletable": true,
    "new_sheet": false,
    "run_control": {
     "read_only": false
    }
   },
   "source": [
    "# ALL Scaffolds"
   ]
  },
  {
   "cell_type": "code",
   "execution_count": null,
   "metadata": {
    "button": false,
    "collapsed": true,
    "deletable": true,
    "new_sheet": false,
    "run_control": {
     "read_only": false
    }
   },
   "outputs": [],
   "source": []
  },
  {
   "cell_type": "code",
   "execution_count": 1,
   "metadata": {
    "button": false,
    "collapsed": true,
    "deletable": true,
    "new_sheet": false,
    "run_control": {
     "read_only": false
    }
   },
   "outputs": [],
   "source": [
    "bsmaploc=\"/Applications/bioinfo/BSMAP/bsmap-2.74/\""
   ]
  },
  {
   "cell_type": "code",
   "execution_count": 2,
   "metadata": {
    "button": false,
    "collapsed": false,
    "deletable": true,
    "new_sheet": false,
    "run_control": {
     "read_only": false
    }
   },
   "outputs": [
    {
     "name": "stdout",
     "output_type": "stream",
     "text": [
      "/Volumes/web-1/halfshell/working-directory\n"
     ]
    }
   ],
   "source": [
    "cd /Volumes/web-1/halfshell/working-directory"
   ]
  },
  {
   "cell_type": "code",
   "execution_count": 3,
   "metadata": {
    "button": false,
    "collapsed": false,
    "deletable": true,
    "new_sheet": false,
    "run_control": {
     "read_only": false
    }
   },
   "outputs": [
    {
     "name": "stdout",
     "output_type": "stream",
     "text": [
      "16-04-04\r\n"
     ]
    }
   ],
   "source": [
    "!date +\"%y-%m-%d\""
   ]
  },
  {
   "cell_type": "code",
   "execution_count": 4,
   "metadata": {
    "button": false,
    "collapsed": false,
    "deletable": true,
    "new_sheet": false,
    "run_control": {
     "read_only": false
    }
   },
   "outputs": [],
   "source": [
    "mkdir 16-04-04d\n"
   ]
  },
  {
   "cell_type": "code",
   "execution_count": 5,
   "metadata": {
    "button": false,
    "collapsed": false,
    "deletable": true,
    "new_sheet": false,
    "run_control": {
     "read_only": false
    }
   },
   "outputs": [
    {
     "name": "stdout",
     "output_type": "stream",
     "text": [
      "/Volumes/web-1/halfshell/working-directory/16-04-04d\n"
     ]
    }
   ],
   "source": [
    "cd 16-04-04d"
   ]
  },
  {
   "cell_type": "code",
   "execution_count": null,
   "metadata": {
    "button": false,
    "collapsed": false,
    "deletable": true,
    "new_sheet": false,
    "run_control": {
     "read_only": false
    },
    "scrolled": true
   },
   "outputs": [
    {
     "name": "stdout",
     "output_type": "stream",
     "text": [
      "\n",
      "BSMAP v2.74\n",
      "Start at:  Mon Apr  4 15:30:24 2016\n",
      "\n",
      "Input reference file: /Volumes/web-1/O_lurida_genome_assemblies_BGI/20160314/scaffold.fa.fill \t(format: FASTA)\n",
      "Load in 13430146 db seqs, total size 2355293179 bp. 109 secs passed\n",
      "total_kmers: 43046721\n",
      "Create seed table. 260 secs passed\n",
      "max number of mismatches: read_length * 8% \tmax gap size: 0\n",
      "kmer cut-off ratio: 5e-07\n",
      "max multi-hits: 100\tmax Ns: 5\tseed size: 16\tindex interval: 4\n",
      "quality cutoff: 0\tbase quality char: '!'\n",
      "min fragment size:28\tmax fragemt size:500\n",
      "start from read #1\tend at read #4294967295\n",
      "additional alignment: T in reads => C in reference\n",
      "mapping strand: ++,-+\n",
      "Single-end alignment(2 threads)\n",
      "Input read file: ../16-27-01/1_ATCACG_L001_R1_001.fastq.gz \t(format: gzipped FASTQ)\n",
      "Output file: bsmap_out_1_ATCACG.sam\t (format: SAM)\n"
     ]
    }
   ],
   "source": [
    "for i in (\"1_ATCACG\",\"2_CGATGT\",\"3_TTAGGC\", \"4_TGACCA\", \"5_ACAGTG\", \"6_GCCAAT\", \"7_CAGATC\", \"8_ACTTGA\"):\n",
    "    !{bsmaploc}bsmap \\\n",
    "-a ../16-27-01/{i}_L001_R1_001.fastq.gz \\\n",
    "-d /Volumes/web-1/O_lurida_genome_assemblies_BGI/20160314/scaffold.fa.fill \\\n",
    "-o bsmap_out_{i}.sam \\\n",
    "-p 2"
   ]
  },
  {
   "cell_type": "code",
   "execution_count": null,
   "metadata": {
    "button": false,
    "collapsed": false,
    "deletable": true,
    "new_sheet": false,
    "run_control": {
     "read_only": false
    }
   },
   "outputs": [],
   "source": [
    "for i in (\"1_ATCACG\",\"2_CGATGT\",\"3_TTAGGC\", \"4_TGACCA\", \"5_ACAGTG\", \"6_GCCAAT\", \"7_CAGATC\", \"8_ACTTGA\"):\n",
    "    !python {bsmaploc}methratio.py \\\n",
    "-d /Users/sr320/Dropbox/scratch/OlyBGI-scaffold-10k.fa \\\n",
    "-u -z -g \\\n",
    "-o methratio_out_{i}_b.txt \\\n",
    "-s {bsmaploc}samtools \\\n",
    "bsmap_out_{i}.sam "
   ]
  },
  {
   "cell_type": "code",
   "execution_count": 5,
   "metadata": {
    "button": false,
    "collapsed": false,
    "deletable": true,
    "new_sheet": false,
    "run_control": {
     "read_only": false
    }
   },
   "outputs": [
    {
     "name": "stdout",
     "output_type": "stream",
     "text": [
      "1_ATCACG\n",
      "2_CGATGT\n",
      "3_TTAGGC\n",
      "4_TGACCA\n",
      "5_ACAGTG\n",
      "6_GCCAAT\n",
      "7_CAGATC\n",
      "8_ACTTGA\n"
     ]
    }
   ],
   "source": [
    "\n",
    "#first methratio files are converted to filter for CG context, 3x coverage (mr3x.awk), and reformatting (mr_gg.awk.sh).\n",
    "#due to issue passing variable to awk, simple scripts were used (included in repository)\n",
    "for i in (\"1_ATCACG\",\"2_CGATGT\",\"3_TTAGGC\", \"4_TGACCA\", \"5_ACAGTG\", \"6_GCCAAT\", \"7_CAGATC\", \"8_ACTTGA\"):\n",
    "    !echo {i}\n",
    "    !grep \"[A-Z][A-Z]CG[A-Z]\" <methratio_out_{i}_b.txt> methratio_out_{i}CG.txt\n",
    "    !awk -f ../scripts/mr10x.awk methratio_out_{i}CG.txt > mr3x.{i}.txt\n",
    "    !awk -f ../scripts/mr_gg.awk.sh mr3x.{i}.txt > mkfmt_{i}.txt"
   ]
  },
  {
   "cell_type": "code",
   "execution_count": 4,
   "metadata": {
    "button": false,
    "collapsed": false,
    "deletable": true,
    "new_sheet": false,
    "run_control": {
     "read_only": false
    }
   },
   "outputs": [
    {
     "name": "stdout",
     "output_type": "stream",
     "text": [
      "/Volumes/web-1/halfshell/working-directory/16-27-01\n"
     ]
    }
   ],
   "source": [
    "cd /Volumes/web-1/halfshell/working-directory/16-27-01"
   ]
  },
  {
   "cell_type": "markdown",
   "metadata": {
    "button": false,
    "collapsed": true,
    "deletable": true,
    "new_sheet": false,
    "run_control": {
     "read_only": false
    }
   },
   "source": [
    "<img src=\"http://eagle.fish.washington.edu/cnidarian/skitch/RStudio_1C5A4CE7.png\" alt=\"RStudio_1C5A4CE7.png\"/>"
   ]
  },
  {
   "cell_type": "markdown",
   "metadata": {
    "button": false,
    "deletable": true,
    "new_sheet": false,
    "run_control": {
     "read_only": false
    }
   },
   "source": [
    "<img src=\"http://eagle.fish.washington.edu/cnidarian/skitch/RStudio_1C5A4D15.png\" alt=\"RStudio_1C5A4D15.png\"/>"
   ]
  },
  {
   "cell_type": "code",
   "execution_count": null,
   "metadata": {
    "button": false,
    "collapsed": true,
    "deletable": true,
    "new_sheet": false,
    "run_control": {
     "read_only": false
    }
   },
   "outputs": [],
   "source": []
  }
 ],
 "metadata": {
  "kernelspec": {
   "display_name": "Python 2",
   "language": "python",
   "name": "python2"
  },
  "language_info": {
   "codemirror_mode": {
    "name": "ipython",
    "version": 2
   },
   "file_extension": ".py",
   "mimetype": "text/x-python",
   "name": "python",
   "nbconvert_exporter": "python",
   "pygments_lexer": "ipython2",
   "version": "2.7.11"
  }
 },
 "nbformat": 4,
 "nbformat_minor": 0
}
