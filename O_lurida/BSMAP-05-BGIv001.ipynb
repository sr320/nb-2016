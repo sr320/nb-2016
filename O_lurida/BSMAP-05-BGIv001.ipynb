{
 "cells": [
  {
   "cell_type": "code",
   "execution_count": null,
   "metadata": {
    "button": false,
    "collapsed": true,
    "deletable": true,
    "new_sheet": false,
    "run_control": {
     "read_only": false
    }
   },
   "outputs": [],
   "source": []
  },
  {
   "cell_type": "code",
   "execution_count": null,
   "metadata": {
    "button": false,
    "collapsed": true,
    "deletable": true,
    "new_sheet": false,
    "run_control": {
     "read_only": false
    }
   },
   "outputs": [],
   "source": []
  },
  {
   "cell_type": "code",
   "execution_count": 1,
   "metadata": {
    "button": false,
    "collapsed": true,
    "deletable": true,
    "new_sheet": false,
    "run_control": {
     "read_only": false
    }
   },
   "outputs": [],
   "source": [
    "bsmaploc=\"/Applications/bioinfo/BSMAP/bsmap-2.74/\""
   ]
  },
  {
   "cell_type": "code",
   "execution_count": 2,
   "metadata": {
    "button": false,
    "collapsed": false,
    "deletable": true,
    "new_sheet": false,
    "run_control": {
     "read_only": false
    }
   },
   "outputs": [
    {
     "name": "stdout",
     "output_type": "stream",
     "text": [
      "/Volumes/web-1/halfshell/working-directory\n"
     ]
    }
   ],
   "source": [
    "cd /Volumes/web-1/halfshell/working-directory"
   ]
  },
  {
   "cell_type": "code",
   "execution_count": 6,
   "metadata": {
    "button": false,
    "collapsed": false,
    "deletable": true,
    "new_sheet": false,
    "run_control": {
     "read_only": false
    }
   },
   "outputs": [
    {
     "name": "stdout",
     "output_type": "stream",
     "text": [
      "16-04-01\r\n"
     ]
    }
   ],
   "source": [
    "!date +\"%y-%m-%d\""
   ]
  },
  {
   "cell_type": "code",
   "execution_count": 12,
   "metadata": {
    "button": false,
    "collapsed": false,
    "deletable": true,
    "new_sheet": false,
    "run_control": {
     "read_only": false
    }
   },
   "outputs": [],
   "source": [
    "mkdir 16-04-01\n"
   ]
  },
  {
   "cell_type": "code",
   "execution_count": 16,
   "metadata": {
    "button": false,
    "collapsed": false,
    "deletable": true,
    "new_sheet": false,
    "run_control": {
     "read_only": false
    }
   },
   "outputs": [
    {
     "name": "stdout",
     "output_type": "stream",
     "text": [
      "/Volumes/web-1/halfshell/working-directory/16-04-01\n"
     ]
    }
   ],
   "source": [
    "cd 16-04-01"
   ]
  },
  {
   "cell_type": "code",
   "execution_count": null,
   "metadata": {
    "button": false,
    "collapsed": false,
    "deletable": true,
    "new_sheet": false,
    "run_control": {
     "read_only": false
    }
   },
   "outputs": [
    {
     "name": "stdout",
     "output_type": "stream",
     "text": [
      "\n",
      "BSMAP v2.74\n",
      "Start at:  Fri Apr  1 13:03:59 2016\n",
      "\n",
      "Input reference file: /Volumes/web-1/O_lurida_genome_assemblies_BGI/20160314/scaffold.fa.fill \t(format: FASTA)\n",
      "Load in 13430146 db seqs, total size 2355293179 bp. 137 secs passed\n",
      "total_kmers: 43046721\n"
     ]
    }
   ],
   "source": [
    "for i in (\"1_ATCACG\",\"2_CGATGT\",\"3_TTAGGC\", \"4_TGACCA\", \"5_ACAGTG\", \"6_GCCAAT\", \"7_CAGATC\", \"8_ACTTGA\"):\n",
    "    !{bsmaploc}bsmap \\\n",
    "-a ../16-27-01/{i}_L001_R1_001.fastq.gz \\\n",
    "-d /Volumes/web-1/O_lurida_genome_assemblies_BGI/20160314/scaffold.fa.fill \\\n",
    "-o bsmap_out_{i}.sam \\\n",
    "-p 4"
   ]
  },
  {
   "cell_type": "code",
   "execution_count": 4,
   "metadata": {
    "button": false,
    "collapsed": false,
    "deletable": true,
    "new_sheet": false,
    "run_control": {
     "read_only": false
    }
   },
   "outputs": [
    {
     "name": "stdout",
     "output_type": "stream",
     "text": [
      "@ Wed Jan 27 12:43:31 2016: reading reference OlyO_Pat_v02.fa ...\n",
      "@ Wed Jan 27 12:43:39 2016: reading bsmap_out_1_ATCACG_b.sam ...\n",
      "[samopen] SAM header is present: 5362 sequences.\n",
      "@ Wed Jan 27 12:44:02 2016: combining CpG methylation from both strands ...\n",
      "@ Wed Jan 27 12:44:08 2016: writing methratio_out_1_ATCACG_b.txt ...\n",
      "@ Wed Jan 27 12:44:21 2016: done.\n",
      "total 427010 valid mappings, 120882 covered cytosines, average coverage: 14.33 fold.\n",
      "@ Wed Jan 27 12:44:22 2016: reading reference OlyO_Pat_v02.fa ...\n",
      "@ Wed Jan 27 12:44:28 2016: reading bsmap_out_2_CGATGT_b.sam ...\n",
      "[samopen] SAM header is present: 5362 sequences.\n",
      "@ Wed Jan 27 12:45:05 2016: combining CpG methylation from both strands ...\n",
      "@ Wed Jan 27 12:45:12 2016: writing methratio_out_2_CGATGT_b.txt ...\n",
      "@ Wed Jan 27 12:45:26 2016: done.\n",
      "total 532172 valid mappings, 132607 covered cytosines, average coverage: 16.21 fold.\n",
      "@ Wed Jan 27 12:45:27 2016: reading reference OlyO_Pat_v02.fa ...\n",
      "@ Wed Jan 27 12:45:33 2016: reading bsmap_out_3_TTAGGC_b.sam ...\n",
      "[samopen] SAM header is present: 5362 sequences.\n",
      "@ Wed Jan 27 12:46:04 2016: combining CpG methylation from both strands ...\n",
      "@ Wed Jan 27 12:46:12 2016: writing methratio_out_3_TTAGGC_b.txt ...\n",
      "@ Wed Jan 27 12:46:26 2016: done.\n",
      "total 517535 valid mappings, 132926 covered cytosines, average coverage: 15.81 fold.\n",
      "@ Wed Jan 27 12:46:27 2016: reading reference OlyO_Pat_v02.fa ...\n",
      "@ Wed Jan 27 12:46:42 2016: reading bsmap_out_4_TGACCA_b.sam ...\n",
      "[samopen] SAM header is present: 5362 sequences.\n",
      "@ Wed Jan 27 12:47:13 2016: combining CpG methylation from both strands ...\n",
      "@ Wed Jan 27 12:47:19 2016: writing methratio_out_4_TGACCA_b.txt ...\n",
      "@ Wed Jan 27 12:47:32 2016: done.\n",
      "total 529904 valid mappings, 132529 covered cytosines, average coverage: 15.89 fold.\n",
      "@ Wed Jan 27 12:47:32 2016: reading reference OlyO_Pat_v02.fa ...\n",
      "@ Wed Jan 27 12:47:39 2016: reading bsmap_out_5_ACAGTG_b.sam ...\n",
      "[samopen] SAM header is present: 5362 sequences.\n",
      "@ Wed Jan 27 12:48:21 2016: combining CpG methylation from both strands ...\n",
      "@ Wed Jan 27 12:48:27 2016: writing methratio_out_5_ACAGTG_b.txt ...\n",
      "@ Wed Jan 27 12:48:40 2016: done.\n",
      "total 540024 valid mappings, 134527 covered cytosines, average coverage: 16.01 fold.\n",
      "@ Wed Jan 27 12:48:41 2016: reading reference OlyO_Pat_v02.fa ...\n",
      "@ Wed Jan 27 12:48:46 2016: reading bsmap_out_6_GCCAAT_b.sam ...\n",
      "[samopen] SAM header is present: 5362 sequences.\n",
      "@ Wed Jan 27 12:49:24 2016: combining CpG methylation from both strands ...\n",
      "@ Wed Jan 27 12:49:31 2016: writing methratio_out_6_GCCAAT_b.txt ...\n",
      "@ Wed Jan 27 12:49:44 2016: done.\n",
      "total 542085 valid mappings, 135594 covered cytosines, average coverage: 16.00 fold.\n",
      "@ Wed Jan 27 12:49:45 2016: reading reference OlyO_Pat_v02.fa ...\n",
      "@ Wed Jan 27 12:49:51 2016: reading bsmap_out_7_CAGATC_b.sam ...\n",
      "[samopen] SAM header is present: 5362 sequences.\n",
      "@ Wed Jan 27 12:50:26 2016: combining CpG methylation from both strands ...\n",
      "@ Wed Jan 27 12:50:32 2016: writing methratio_out_7_CAGATC_b.txt ...\n",
      "@ Wed Jan 27 12:50:45 2016: done.\n",
      "total 463137 valid mappings, 125496 covered cytosines, average coverage: 14.63 fold.\n",
      "@ Wed Jan 27 12:50:46 2016: reading reference OlyO_Pat_v02.fa ...\n",
      "@ Wed Jan 27 12:50:53 2016: reading bsmap_out_8_ACTTGA_b.sam ...\n",
      "[samopen] SAM header is present: 5362 sequences.\n",
      "@ Wed Jan 27 12:51:38 2016: combining CpG methylation from both strands ...\n",
      "@ Wed Jan 27 12:51:44 2016: writing methratio_out_8_ACTTGA_b.txt ...\n",
      "@ Wed Jan 27 12:51:58 2016: done.\n",
      "total 619979 valid mappings, 139937 covered cytosines, average coverage: 17.69 fold.\n"
     ]
    }
   ],
   "source": [
    "for i in (\"1_ATCACG\",\"2_CGATGT\",\"3_TTAGGC\", \"4_TGACCA\", \"5_ACAGTG\", \"6_GCCAAT\", \"7_CAGATC\", \"8_ACTTGA\"):\n",
    "    !python {bsmaploc}methratio.py \\\n",
    "-d OlyO_Pat_v02.fa \\\n",
    "-u -z -g \\\n",
    "-o methratio_out_{i}_b.txt \\\n",
    "-s {bsmaploc}samtools \\\n",
    "bsmap_out_{i}.sam "
   ]
  },
  {
   "cell_type": "code",
   "execution_count": 5,
   "metadata": {
    "button": false,
    "collapsed": false,
    "deletable": true,
    "new_sheet": false,
    "run_control": {
     "read_only": false
    }
   },
   "outputs": [
    {
     "name": "stdout",
     "output_type": "stream",
     "text": [
      "1_ATCACG\n",
      "2_CGATGT\n",
      "3_TTAGGC\n",
      "4_TGACCA\n",
      "5_ACAGTG\n",
      "6_GCCAAT\n",
      "7_CAGATC\n",
      "8_ACTTGA\n"
     ]
    }
   ],
   "source": [
    "\n",
    "#first methratio files are converted to filter for CG context, 3x coverage (mr3x.awk), and reformatting (mr_gg.awk.sh).\n",
    "#due to issue passing variable to awk, simple scripts were used (included in repository)\n",
    "for i in (\"1_ATCACG\",\"2_CGATGT\",\"3_TTAGGC\", \"4_TGACCA\", \"5_ACAGTG\", \"6_GCCAAT\", \"7_CAGATC\", \"8_ACTTGA\"):\n",
    "    !echo {i}\n",
    "    !grep \"[A-Z][A-Z]CG[A-Z]\" <methratio_out_{i}_b.txt> methratio_out_{i}CG.txt\n",
    "    !awk -f ../scripts/mr10x.awk methratio_out_{i}CG.txt > mr3x.{i}.txt\n",
    "    !awk -f ../scripts/mr_gg.awk.sh mr3x.{i}.txt > mkfmt_{i}.txt"
   ]
  },
  {
   "cell_type": "code",
   "execution_count": 4,
   "metadata": {
    "button": false,
    "collapsed": false,
    "deletable": true,
    "new_sheet": false,
    "run_control": {
     "read_only": false
    }
   },
   "outputs": [
    {
     "name": "stdout",
     "output_type": "stream",
     "text": [
      "/Volumes/web-1/halfshell/working-directory/16-27-01\n"
     ]
    }
   ],
   "source": [
    "cd /Volumes/web-1/halfshell/working-directory/16-27-01"
   ]
  },
  {
   "cell_type": "markdown",
   "metadata": {
    "button": false,
    "collapsed": true,
    "deletable": true,
    "new_sheet": false,
    "run_control": {
     "read_only": false
    }
   },
   "source": [
    "<img src=\"http://eagle.fish.washington.edu/cnidarian/skitch/RStudio_1C5A4CE7.png\" alt=\"RStudio_1C5A4CE7.png\"/>"
   ]
  },
  {
   "cell_type": "markdown",
   "metadata": {
    "button": false,
    "deletable": true,
    "new_sheet": false,
    "run_control": {
     "read_only": false
    }
   },
   "source": [
    "<img src=\"http://eagle.fish.washington.edu/cnidarian/skitch/RStudio_1C5A4D15.png\" alt=\"RStudio_1C5A4D15.png\"/>"
   ]
  },
  {
   "cell_type": "code",
   "execution_count": null,
   "metadata": {
    "button": false,
    "collapsed": true,
    "deletable": true,
    "new_sheet": false,
    "run_control": {
     "read_only": false
    }
   },
   "outputs": [],
   "source": []
  }
 ],
 "metadata": {
  "kernelspec": {
   "display_name": "Python 2",
   "language": "python",
   "name": "python2"
  },
  "language_info": {
   "codemirror_mode": {
    "name": "ipython",
    "version": 2
   },
   "file_extension": ".py",
   "mimetype": "text/x-python",
   "name": "python",
   "nbconvert_exporter": "python",
   "pygments_lexer": "ipython2",
   "version": "2.7.11"
  }
 },
 "nbformat": 4,
 "nbformat_minor": 0
}
