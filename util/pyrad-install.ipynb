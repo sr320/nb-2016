{
 "cells": [
  {
   "cell_type": "markdown",
   "metadata": {},
   "source": [
    "# Playing with pyrad"
   ]
  },
  {
   "cell_type": "markdown",
   "metadata": {},
   "source": [
    "via Kathrine\n",
    "```\n",
    "Information on pyrad is here: http://dereneaton.com/software/pyrad/\n",
    "\n",
    "The Full tutorial explains what all the parameters mean, and the SE GBS\n",
    "tutorial walks through how to run pyrad for GBS data.\n",
    "\n",
    "Attached is a params file \"c88.txt\" with the major parameters I used for\n",
    "pyRAD and an example of the barcodes file needed by pyrad. You can vary\n",
    "the number of processors based on the computer you're running on. I\n",
    "would vary MinCov and MaxSH depending on how many samples I wanted in my\n",
    "final dataset. I recommend running pyrad through step 3, removing files\n",
    "for samples that have fewer than 200 clusters after filtering (column\n",
    "d>5.tot in stats file s3.clusters.txt), then running the rest of the\n",
    "steps and setting MinCov in the parameters file to at least 50% of the\n",
    "number of samples you have left. MaxSH is for paralog filtering- as\n",
    "these individuals are probably all pretty similar genetically we would\n",
    "expect a lot of shared heterozygous sites and therefore would set MaxSH\n",
    "to a high number. For example:\n",
    "\n",
    "-You start with 96 samples\n",
    "-after step 3, you have 80 samples with at least 200 clusters after\n",
    "filtering. You remove files for the 16 samples that failed\n",
    "- you set MinCov to 40, meaning you want loci found in at least 50% of\n",
    "the individuals\n",
    "- you set MaxSH to 40\n",
    "\n",
    "pyRAD outputs the data in a lot of formats for different programs. I've\n",
    "written my own R code to calculate pairwise FST for each locus (and get\n",
    "mean FST across loci) using the usnps.geno output. You can find it here:\n",
    "https://github.com/ksil91/Scripts/tree/master/FST\n",
    "\n",
    "Let me know if you have any questions!\n",
    "```"
   ]
  },
  {
   "cell_type": "markdown",
   "metadata": {},
   "source": [
    "Parameter file"
   ]
  },
  {
   "cell_type": "code",
   "execution_count": 2,
   "metadata": {
    "collapsed": false
   },
   "outputs": [
    {
     "name": "stdout",
     "output_type": "stream",
     "text": [
      "==** parameter inputs for pyRAD version 3.0.64  **======================== affected step ==\r\n",
      "./                        ## 1. Working directory                                 (all)\r\n",
      "./*.fastq.gz              ## 2. Loc. of non-demultiplexed files (if not line 18)  (s1)\r\n",
      "./*.barcodes              ## 3. Loc. of barcode file (if not line 18)             (s1)\r\n",
      "vsearch                   ## 4. command (or path) to call vsearch (or usearch)    (s3,s6)\r\n",
      "muscle                    ## 5. command (or path) to call muscle                  (s3,s7)\r\n",
      "CWGC                     ## 6. Restriction overhang (e.g., C|TGCAG -> TGCAG)     (s1,s2)\r\n",
      "4                         ## 7. N processors (parallel)                           (all)\r\n",
      "5                         ## 8. Mindepth: min coverage for a cluster              (s4,s5)\r\n",
      "4                         ## 9. NQual: max # sites with qual < 20 (or see line 20)(s2)\r\n",
      ".88                       ## 10. Wclust: clustering threshold as a decimal        (s3,s6)\r\n",
      "gbs                       ## 11. Datatype: rad,gbs,pairgbs,pairddrad,(others:see docs)(all)\r\n",
      "50                         ## 12. MinCov: min samples in a final locus             (s7)\r\n",
      "20                         ## 13. MaxSH: max inds with shared hetero site          (s7)\r\n",
      "c88d5_C2                 ## 14. Prefix name for final output (no spaces)         (s7)\r\n",
      "==== optional params below this line ===================================  affected step ==\r\n",
      "                       ## 15.opt.: select subset (prefix* only selector)            (s2-s7)\r\n",
      "                       ## 16.opt.: add-on (outgroup) taxa (list or prefix*)         (s6,s7)\r\n",
      "                       ## 17.opt.: exclude taxa (list or prefix*)                   (s7)\r\n",
      "                       ## 18.opt.: loc. of de-multiplexed data                      (s2)\r\n",
      "                       ## 19.opt.: maxM: N mismatches in barcodes (def= 1)          (s1)\r\n",
      "                       ## 20.opt.: phred Qscore offset (def= 33)                    (s2)\r\n",
      "2                       ## 21.opt.: filter: def=0=NQual 1=NQual+adapters. 2=strict   (s2)\r\n",
      "                       ## 22.opt.: a priori E,H (def= 0.001,0.01, if not estimated) (s5)\r\n",
      "4                       ## 23.opt.: maxN: max Ns in a cons seq (def=5)               (s5)\r\n",
      "8                       ## 24.opt.: maxH: max heterozyg. sites in cons seq (def=5)   (s5)\r\n",
      "                       ## 25.opt.: ploidy: max alleles in cons seq (def=2;see docs) (s4,s5)\r\n",
      "                       ## 26.opt.: maxSNPs: (def=100). Paired (def=100,100)         (s7)\r\n",
      "                       ## 27.opt.: maxIndels: within-clust,across-clust (def. 3,99) (s3,s7)\r\n",
      "                       ## 28.opt.: random number seed (def. 112233)              (s3,s6,s7)\r\n",
      "                       ## 29.opt.: trim overhang left,right on final loci, def(0,0) (s7)\r\n",
      "*                       ## 30.opt.: output formats: p,n,a,s,v,u,t,m,k,g,* (see docs) (s7)\r\n",
      "                       ## 31.opt.: maj. base call at depth>x<mindepth (def.x=mindepth) (s5)\r\n",
      "50                       ## 32.opt.: keep trimmed reads (def=0). Enter min length.    (s2)\r\n",
      "                       ## 33.opt.: max stack size (int), def= max(500,mean+2*SD)    (s3)\r\n",
      "                       ## 34.opt.: minDerep: exclude dereps with <= N copies, def=1 (s3)\r\n",
      "                       ## 35.opt.: use hierarchical clustering (def.=0, 1=yes)      (s6)\r\n",
      "                       ## 36.opt.: repeat masking (def.=1='dust' method, 0=no)      (s3,s6)\r\n",
      "15                       ## 37.opt.: vsearch max threads per job (def.=6; see docs)   (s3,s6)\r\n",
      "==== optional: list group/clade assignments below this line (see docs) ==================\r\n",
      "\r\n"
     ]
    }
   ],
   "source": [
    "!cat ../scripts/c88.txt"
   ]
  },
  {
   "cell_type": "code",
   "execution_count": null,
   "metadata": {
    "collapsed": true
   },
   "outputs": [],
   "source": []
  }
 ],
 "metadata": {
  "kernelspec": {
   "display_name": "Python 2",
   "language": "python",
   "name": "python2"
  },
  "language_info": {
   "codemirror_mode": {
    "name": "ipython",
    "version": 2
   },
   "file_extension": ".py",
   "mimetype": "text/x-python",
   "name": "python",
   "nbconvert_exporter": "python",
   "pygments_lexer": "ipython2",
   "version": "2.7.11"
  }
 },
 "nbformat": 4,
 "nbformat_minor": 0
}
