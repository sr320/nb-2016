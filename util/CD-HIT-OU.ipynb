{
 "cells": [
  {
   "cell_type": "code",
   "execution_count": 1,
   "metadata": {
    "collapsed": false
   },
   "outputs": [
    {
     "name": "stdout",
     "output_type": "stream",
     "text": [
      "CD-HIT-OU.ipynb              sqlshare-pythonclient.ipynb\r\n",
      "\u001b[34manalyses\u001b[m\u001b[m/\r\n"
     ]
    }
   ],
   "source": [
    "ls"
   ]
  },
  {
   "cell_type": "code",
   "execution_count": 2,
   "metadata": {
    "collapsed": false
   },
   "outputs": [
    {
     "name": "stdout",
     "output_type": "stream",
     "text": [
      "/Users/sr320/git-repos/nb-2016/util/analyses\n"
     ]
    }
   ],
   "source": [
    "cd analyses"
   ]
  },
  {
   "cell_type": "markdown",
   "metadata": {},
   "source": [
    "<img src=\"http://eagle.fish.washington.edu/cnidarian/skitch/CD-HIT-OTU_-_Download_and_git-repos_1CAEDBAE.png\" alt=\"CD-HIT-OTU_-_Download_and_git-repos_1CAEDBAE.png\"/>"
   ]
  },
  {
   "cell_type": "code",
   "execution_count": 3,
   "metadata": {
    "collapsed": false
   },
   "outputs": [
    {
     "name": "stdout",
     "output_type": "stream",
     "text": [
      "cd-hit-otu-illumina-0.0.1-2011-1004.tar.gz\r\n",
      "miguel-out-01.tsv\r\n",
      "miguel-out-02.tsv\r\n",
      "oscar-out-01.tsv\r\n",
      "oscar-out-test.tsv\r\n"
     ]
    }
   ],
   "source": [
    "ls"
   ]
  },
  {
   "cell_type": "code",
   "execution_count": 5,
   "metadata": {
    "collapsed": true
   },
   "outputs": [
    {
     "name": "stdout",
     "output_type": "stream",
     "text": [
      "x cd-hit-otu-illumina-0.0.1/\n",
      "x cd-hit-otu-illumina-0.0.1/clstr_select_pri.pl\n",
      "x cd-hit-otu-illumina-0.0.1/cd-hit-otu-all-single.pl\n",
      "x cd-hit-otu-illumina-0.0.1/cd-hit-otu-filter.pl\n",
      "x cd-hit-otu-illumina-0.0.1/multi-contig-filter.pl\n",
      "x cd-hit-otu-illumina-0.0.1/scan_fastq.pl\n",
      "x cd-hit-otu-illumina-0.0.1/examples/\n",
      "x cd-hit-otu-illumina-0.0.1/examples/C1_1.fastq\n",
      "x cd-hit-otu-illumina-0.0.1/examples/C1-dir/\n",
      "x cd-hit-otu-illumina-0.0.1/examples/C1-dir/fltd-c1.dupall-pri-rep.fa\n",
      "x cd-hit-otu-illumina-0.0.1/examples/C1-dir/chimaric.ids\n",
      "x cd-hit-otu-illumina-0.0.1/examples/C1-dir/fltd-c1.dupall.clstr\n",
      "x cd-hit-otu-illumina-0.0.1/examples/C1-dir/fltd-c1.dup2.clstr\n",
      "x cd-hit-otu-illumina-0.0.1/examples/C1-dir/wrong-contigs.ids\n",
      "x cd-hit-otu-illumina-0.0.1/examples/C1-dir/fltd-1.err\n",
      "x cd-hit-otu-illumina-0.0.1/examples/C1-dir/fltd-c1.dupall-pri-rep-good.fa\n",
      "x cd-hit-otu-illumina-0.0.1/examples/C1-dir/fltd-c1.dupall.nr2nd\n",
      "x cd-hit-otu-illumina-0.0.1/examples/C1-dir/dup1.log\n",
      "x cd-hit-otu-illumina-0.0.1/examples/C1-dir/OTU.bak.clstr\n",
      "x cd-hit-otu-illumina-0.0.1/examples/C1-dir/fltd-c1.dupall.nr2nd.clstr\n",
      "x cd-hit-otu-illumina-0.0.1/examples/C1-dir/fltd-c.dup.clstr.sorted\n",
      "x cd-hit-otu-illumina-0.0.1/examples/C1-dir/OTU.nr2nd.clstr\n",
      "x cd-hit-otu-illumina-0.0.1/examples/C1-dir/OTU.clstr\n",
      "x cd-hit-otu-illumina-0.0.1/examples/C1-dir/fltd-c1.dup.clstr\n",
      "x cd-hit-otu-illumina-0.0.1/examples/C1-dir/fltd-c\n",
      "x cd-hit-otu-illumina-0.0.1/examples/C1-dir/fltd-c1.dupall.nr2nd-all.clstr\n",
      "x cd-hit-otu-illumina-0.0.1/examples/C1-dir/trim.log\n",
      "x cd-hit-otu-illumina-0.0.1/examples/C1-dir/fltd-c1.dupall.nr2nd.log\n",
      "x cd-hit-otu-illumina-0.0.1/examples/C1-dir/fltd-c.dup2.clstr\n",
      "x cd-hit-otu-illumina-0.0.1/examples/C1-dir/fltd-1\n",
      "x cd-hit-otu-illumina-0.0.1/examples/C1-dir/fltd-c1.dup\n",
      "x cd-hit-otu-illumina-0.0.1/examples/C1-dir/fltd-c1.dupall-pri-rep.ids\n",
      "x cd-hit-otu-illumina-0.0.1/examples/C1-dir/OTU\n",
      "x cd-hit-otu-illumina-0.0.1/examples/C1-dir/fltd-c1.dupall-rep.fa\n",
      "x cd-hit-otu-illumina-0.0.1/examples/C1-dir/fltd-c.dup.clstr\n",
      "x cd-hit-otu-illumina-0.0.1/examples/C1-dir/OTU.log\n",
      "x cd-hit-otu-illumina-0.0.1/examples/C1-dir/simulation.log\n",
      "x cd-hit-otu-illumina-0.0.1/examples/C1-dir/fltd-2.err\n",
      "x cd-hit-otu-illumina-0.0.1/examples/C1-dir/fltd-c.dup\n",
      "x cd-hit-otu-illumina-0.0.1/examples/C1-dir/fltd-12.err\n",
      "x cd-hit-otu-illumina-0.0.1/examples/C1-dir/fltd-2\n",
      "x cd-hit-otu-illumina-0.0.1/examples/C1-dir/dup2.log\n",
      "x cd-hit-otu-illumina-0.0.1/examples/C1-dir/fltd-c1.dupall.nr2nd.bak.clstr\n",
      "x cd-hit-otu-illumina-0.0.1/examples/C1-dir/link.log\n",
      "x cd-hit-otu-illumina-0.0.1/examples/C1-dir/fltd-c1\n",
      "x cd-hit-otu-illumina-0.0.1/examples/C1_2.fastq\n",
      "x cd-hit-otu-illumina-0.0.1/examples/C1_1-dir/\n",
      "x cd-hit-otu-illumina-0.0.1/examples/C1_1-dir/fltd.dup2.clstr\n",
      "x cd-hit-otu-illumina-0.0.1/examples/C1_1-dir/fltd.dupall.nr2nd\n",
      "x cd-hit-otu-illumina-0.0.1/examples/C1_1-dir/fltd.dup.clstr\n",
      "x cd-hit-otu-illumina-0.0.1/examples/C1_1-dir/simulation.log\n",
      "x cd-hit-otu-illumina-0.0.1/examples/C1_1-dir/dup.log\n",
      "x cd-hit-otu-illumina-0.0.1/examples/C1_1-dir/fltd.dupall.clstr\n",
      "x cd-hit-otu-illumina-0.0.1/examples/C1_1-dir/fltd.dup\n",
      "x cd-hit-otu-illumina-0.0.1/examples/C1_1-dir/fltd.dupall-pri-rep-good.fa\n",
      "x cd-hit-otu-illumina-0.0.1/examples/C1_1-dir/fltd.dupall-pri-rep.fa\n",
      "x cd-hit-otu-illumina-0.0.1/examples/C1_1-dir/OTU.bak.clstr\n",
      "x cd-hit-otu-illumina-0.0.1/examples/C1_1-dir/chimaric.ids\n",
      "x cd-hit-otu-illumina-0.0.1/examples/C1_1-dir/OTU\n",
      "x cd-hit-otu-illumina-0.0.1/examples/C1_1-dir/fltd.dupall.nr2nd.clstr\n",
      "x cd-hit-otu-illumina-0.0.1/examples/C1_1-dir/fltd.dupall.nr2nd-all.clstr\n",
      "x cd-hit-otu-illumina-0.0.1/examples/C1_1-dir/fltd\n",
      "x cd-hit-otu-illumina-0.0.1/examples/C1_1-dir/fltd.dupall-rep.fa\n",
      "x cd-hit-otu-illumina-0.0.1/examples/C1_1-dir/fltd.dupall.nr2nd.bak.clstr\n",
      "x cd-hit-otu-illumina-0.0.1/examples/C1_1-dir/fltd.err\n",
      "x cd-hit-otu-illumina-0.0.1/examples/C1_1-dir/fltd.dupall.nr2nd.log\n",
      "x cd-hit-otu-illumina-0.0.1/examples/C1_1-dir/OTU.nr2nd.clstr\n",
      "x cd-hit-otu-illumina-0.0.1/examples/C1_1-dir/trim.log\n",
      "x cd-hit-otu-illumina-0.0.1/examples/C1_1-dir/fltd.dupall-pri-rep.ids\n",
      "x cd-hit-otu-illumina-0.0.1/examples/C1_1-dir/OTU.clstr\n",
      "x cd-hit-otu-illumina-0.0.1/examples/C1_1-dir/OTU.log\n",
      "x cd-hit-otu-illumina-0.0.1/clstr_sort_trim_rep.pl\n",
      "x cd-hit-otu-illumina-0.0.1/clstr_vs_clstr_plot.pl\n",
      "x cd-hit-otu-illumina-0.0.1/clstr_sample_count.pl\n",
      "x cd-hit-otu-illumina-0.0.1/cd-hit-v4.5.5-2011-03-31/\n",
      "x cd-hit-otu-illumina-0.0.1/cd-hit-v4.5.5-2011-03-31/clstr_renumber.pl\n",
      "x cd-hit-otu-illumina-0.0.1/cd-hit-v4.5.5-2011-03-31/cdhit-454.c++\n",
      "x cd-hit-otu-illumina-0.0.1/cd-hit-v4.5.5-2011-03-31/clstr_merge.pl\n",
      "x cd-hit-otu-illumina-0.0.1/cd-hit-v4.5.5-2011-03-31/psi-cd-hit-2d-g1.pl\n",
      "x cd-hit-otu-illumina-0.0.1/cd-hit-v4.5.5-2011-03-31/Makefile\n",
      "x cd-hit-otu-illumina-0.0.1/cd-hit-v4.5.5-2011-03-31/cdhit.c++\n",
      "x cd-hit-otu-illumina-0.0.1/cd-hit-v4.5.5-2011-03-31/cd-hit-2d-para.pl\n",
      "x cd-hit-otu-illumina-0.0.1/cd-hit-v4.5.5-2011-03-31/clstr2tree.pl\n",
      "x cd-hit-otu-illumina-0.0.1/cd-hit-v4.5.5-2011-03-31/cdhit-common.h\n",
      "x cd-hit-otu-illumina-0.0.1/cd-hit-v4.5.5-2011-03-31/cdhit-est-2d.c++\n",
      "x cd-hit-otu-illumina-0.0.1/cd-hit-v4.5.5-2011-03-31/cdhit-utility.h\n",
      "x cd-hit-otu-illumina-0.0.1/cd-hit-v4.5.5-2011-03-31/cdhit-common.c++\n",
      "x cd-hit-otu-illumina-0.0.1/cd-hit-v4.5.5-2011-03-31/plot_len1.pl\n",
      "x cd-hit-otu-illumina-0.0.1/cd-hit-v4.5.5-2011-03-31/psi-cd-hit.pl\n",
      "x cd-hit-otu-illumina-0.0.1/cd-hit-v4.5.5-2011-03-31/clstr_sort_prot_by.pl\n",
      "x cd-hit-otu-illumina-0.0.1/cd-hit-v4.5.5-2011-03-31/clstr_merge_noorder.pl\n",
      "x cd-hit-otu-illumina-0.0.1/cd-hit-v4.5.5-2011-03-31/cdhit-div.c++\n",
      "x cd-hit-otu-illumina-0.0.1/cd-hit-v4.5.5-2011-03-31/cd-hit-div.pl\n",
      "x cd-hit-otu-illumina-0.0.1/cd-hit-v4.5.5-2011-03-31/plot_2d.pl\n",
      "x cd-hit-otu-illumina-0.0.1/cd-hit-v4.5.5-2011-03-31/cdhit-est.c++\n",
      "x cd-hit-otu-illumina-0.0.1/cd-hit-v4.5.5-2011-03-31/README\n",
      "x cd-hit-otu-illumina-0.0.1/cd-hit-v4.5.5-2011-03-31/clstr_rev.pl\n",
      "x cd-hit-otu-illumina-0.0.1/cd-hit-v4.5.5-2011-03-31/ChangeLog\n",
      "x cd-hit-otu-illumina-0.0.1/cd-hit-v4.5.5-2011-03-31/psi-cd-hit-2d.pl\n",
      "x cd-hit-otu-illumina-0.0.1/cd-hit-v4.5.5-2011-03-31/clstr_sort_by.pl\n",
      "x cd-hit-otu-illumina-0.0.1/cd-hit-v4.5.5-2011-03-31/cdhit-2d.c++\n",
      "x cd-hit-otu-illumina-0.0.1/cd-hit-v4.5.5-2011-03-31/psi-cd-hit-local.pl\n",
      "x cd-hit-otu-illumina-0.0.1/cd-hit-v4.5.5-2011-03-31/cdhit-user-guide.pdf\n",
      "x cd-hit-otu-illumina-0.0.1/cd-hit-v4.5.5-2011-03-31/make_multi_seq.pl\n",
      "x cd-hit-otu-illumina-0.0.1/cd-hit-v4.5.5-2011-03-31/cdhit-utility.c++\n",
      "x cd-hit-otu-illumina-0.0.1/cd-hit-v4.5.5-2011-03-31/clstr_reduce.pl\n",
      "x cd-hit-otu-illumina-0.0.1/cd-hit-v4.5.5-2011-03-31/cd-hit-para.pl\n",
      "x cd-hit-otu-illumina-0.0.1/z-simu.pl\n",
      "x cd-hit-otu-illumina-0.0.1/scan_fastq-1.pl\n",
      "x cd-hit-otu-illumina-0.0.1/clstr_select_pri_illumina-pair.pl\n",
      "x cd-hit-otu-illumina-0.0.1/cd-hit-otu-simulation-single.pl\n",
      "x cd-hit-otu-illumina-0.0.1/fetch_fasta_by_ids.pl\n",
      "x cd-hit-otu-illumina-0.0.1/cd-hit-otu-all-pair.pl\n",
      "x cd-hit-otu-illumina-0.0.1/README.single\n",
      "x cd-hit-otu-illumina-0.0.1/cd-hit\n",
      "x cd-hit-otu-illumina-0.0.1/scan_fastq-b.pl\n",
      "x cd-hit-otu-illumina-0.0.1/cdhit-dup\n",
      "x cd-hit-otu-illumina-0.0.1/fasta_reverse_strand.pl\n",
      "x cd-hit-otu-illumina-0.0.1/README.paired\n",
      "x cd-hit-otu-illumina-0.0.1/fetch_fasta_exclude_ids.pl\n",
      "x cd-hit-otu-illumina-0.0.1/cd-hit-dup-0.0.1-2011-09-30/\n",
      "x cd-hit-otu-illumina-0.0.1/cd-hit-dup-0.0.1-2011-09-30/cdhit-dup.cxx\n",
      "x cd-hit-otu-illumina-0.0.1/cd-hit-dup-0.0.1-2011-09-30/mintlib/\n",
      "x cd-hit-otu-illumina-0.0.1/cd-hit-dup-0.0.1-2011-09-30/mintlib/minString.hxx\n",
      "x cd-hit-otu-illumina-0.0.1/cd-hit-dup-0.0.1-2011-09-30/mintlib/minString.cxx\n",
      "x cd-hit-otu-illumina-0.0.1/cd-hit-dup-0.0.1-2011-09-30/mintlib/test\n",
      "x cd-hit-otu-illumina-0.0.1/cd-hit-dup-0.0.1-2011-09-30/mintlib/minArray.hxx\n",
      "x cd-hit-otu-illumina-0.0.1/cd-hit-dup-0.0.1-2011-09-30/mintlib/Makefile\n",
      "x cd-hit-otu-illumina-0.0.1/cd-hit-dup-0.0.1-2011-09-30/mintlib/minMap.cxx\n",
      "x cd-hit-otu-illumina-0.0.1/cd-hit-dup-0.0.1-2011-09-30/mintlib/minMap.hxx\n",
      "x cd-hit-otu-illumina-0.0.1/cd-hit-dup-0.0.1-2011-09-30/mintlib/test.cxx\n",
      "x cd-hit-otu-illumina-0.0.1/cd-hit-dup-0.0.1-2011-09-30/mintlib/minBase.hxx\n",
      "x cd-hit-otu-illumina-0.0.1/cd-hit-dup-0.0.1-2011-09-30/read-linker.cxx\n",
      "x cd-hit-otu-illumina-0.0.1/cd-hit-dup-0.0.1-2011-09-30/bioSequence.cxx\n",
      "x cd-hit-otu-illumina-0.0.1/cd-hit-dup-0.0.1-2011-09-30/Makefile\n",
      "x cd-hit-otu-illumina-0.0.1/cd-hit-dup-0.0.1-2011-09-30/bioSequence.hxx\n",
      "x cd-hit-otu-illumina-0.0.1/clstr_select_rep.pl\n",
      "x cd-hit-otu-illumina-0.0.1/overlap_pair.pl\n",
      "x cd-hit-otu-illumina-0.0.1/clstr_sample_count_matrix.pl\n"
     ]
    }
   ],
   "source": [
    "!tar zxvf cd-hit-otu-illumina-0.0.1-2011-1004.tar.gz "
   ]
  },
  {
   "cell_type": "code",
   "execution_count": 3,
   "metadata": {
    "collapsed": false
   },
   "outputs": [
    {
     "name": "stdout",
     "output_type": "stream",
     "text": [
      "\u001b[34mcd-hit-otu-illumina-0.0.1\u001b[m\u001b[m/\r\n",
      "cd-hit-otu-illumina-0.0.1-2011-1004.tar.gz\r\n",
      "miguel-out-01.tsv\r\n",
      "miguel-out-02.tsv\r\n",
      "oscar-out-01.tsv\r\n",
      "oscar-out-test.tsv\r\n"
     ]
    }
   ],
   "source": [
    "ls "
   ]
  },
  {
   "cell_type": "code",
   "execution_count": 4,
   "metadata": {
    "collapsed": false
   },
   "outputs": [
    {
     "name": "stdout",
     "output_type": "stream",
     "text": [
      "/Users/sr320/git-repos/nb-2016/util/analyses/cd-hit-otu-illumina-0.0.1\n"
     ]
    }
   ],
   "source": [
    "cd cd-hit-otu-illumina-0.0.1/\n"
   ]
  },
  {
   "cell_type": "code",
   "execution_count": 10,
   "metadata": {
    "collapsed": false
   },
   "outputs": [
    {
     "name": "stdout",
     "output_type": "stream",
     "text": [
      "README.paired                      \u001b[31mclstr_select_rep.pl\u001b[m\u001b[m*\r\n",
      "README.single                      \u001b[31mclstr_sort_trim_rep.pl\u001b[m\u001b[m*\r\n",
      "\u001b[35mcd-hit\u001b[m\u001b[m@                            \u001b[31mclstr_vs_clstr_plot.pl\u001b[m\u001b[m*\r\n",
      "\u001b[34mcd-hit-dup-0.0.1-2011-09-30\u001b[m\u001b[m/       \u001b[34mexamples\u001b[m\u001b[m/\r\n",
      "\u001b[31mcd-hit-otu-all-pair.pl\u001b[m\u001b[m*            \u001b[31mfasta_reverse_strand.pl\u001b[m\u001b[m*\r\n",
      "\u001b[31mcd-hit-otu-all-single.pl\u001b[m\u001b[m*          \u001b[31mfetch_fasta_by_ids.pl\u001b[m\u001b[m*\r\n",
      "\u001b[31mcd-hit-otu-filter.pl\u001b[m\u001b[m*              \u001b[31mfetch_fasta_exclude_ids.pl\u001b[m\u001b[m*\r\n",
      "\u001b[31mcd-hit-otu-simulation-single.pl\u001b[m\u001b[m*   \u001b[31mmulti-contig-filter.pl\u001b[m\u001b[m*\r\n",
      "\u001b[34mcd-hit-v4.5.5-2011-03-31\u001b[m\u001b[m/          \u001b[31moverlap_pair.pl\u001b[m\u001b[m*\r\n",
      "\u001b[35mcdhit-dup\u001b[m\u001b[m@                         \u001b[31mscan_fastq-1.pl\u001b[m\u001b[m*\r\n",
      "\u001b[31mclstr_sample_count.pl\u001b[m\u001b[m*             \u001b[31mscan_fastq-b.pl\u001b[m\u001b[m*\r\n",
      "\u001b[31mclstr_sample_count_matrix.pl\u001b[m\u001b[m*      \u001b[31mscan_fastq.pl\u001b[m\u001b[m*\r\n",
      "\u001b[31mclstr_select_pri.pl\u001b[m\u001b[m*               \u001b[31mz-simu.pl\u001b[m\u001b[m*\r\n",
      "\u001b[31mclstr_select_pri_illumina-pair.pl\u001b[m\u001b[m*\r\n"
     ]
    }
   ],
   "source": [
    "ls"
   ]
  },
  {
   "cell_type": "code",
   "execution_count": 5,
   "metadata": {
    "collapsed": false
   },
   "outputs": [
    {
     "name": "stdout",
     "output_type": "stream",
     "text": [
      "/Users/sr320/git-repos/nb-2016/util/analyses/cd-hit-otu-illumina-0.0.1/cd-hit-v4.5.5-2011-03-31\n"
     ]
    }
   ],
   "source": [
    "cd cd-hit"
   ]
  },
  {
   "cell_type": "code",
   "execution_count": 17,
   "metadata": {
    "collapsed": false
   },
   "outputs": [
    {
     "name": "stdout",
     "output_type": "stream",
     "text": [
      "ChangeLog               cdhit-est-2d.c++        \u001b[31mclstr_rev.pl\u001b[m\u001b[m*\r\n",
      "Makefile                cdhit-est.c++           \u001b[31mclstr_sort_by.pl\u001b[m\u001b[m*\r\n",
      "README                  cdhit-user-guide.pdf    \u001b[31mclstr_sort_prot_by.pl\u001b[m\u001b[m*\r\n",
      "\u001b[31mcd-hit-2d-para.pl\u001b[m\u001b[m*      cdhit-utility.c++       \u001b[31mmake_multi_seq.pl\u001b[m\u001b[m*\r\n",
      "\u001b[31mcd-hit-div.pl\u001b[m\u001b[m*          cdhit-utility.h         \u001b[31mplot_2d.pl\u001b[m\u001b[m*\r\n",
      "\u001b[31mcd-hit-para.pl\u001b[m\u001b[m*         cdhit.c++               \u001b[31mplot_len1.pl\u001b[m\u001b[m*\r\n",
      "cdhit-2d.c++            \u001b[31mclstr2tree.pl\u001b[m\u001b[m*          \u001b[31mpsi-cd-hit-2d-g1.pl\u001b[m\u001b[m*\r\n",
      "cdhit-454.c++           \u001b[31mclstr_merge.pl\u001b[m\u001b[m*         \u001b[31mpsi-cd-hit-2d.pl\u001b[m\u001b[m*\r\n",
      "cdhit-common.c++        \u001b[31mclstr_merge_noorder.pl\u001b[m\u001b[m* \u001b[31mpsi-cd-hit-local.pl\u001b[m\u001b[m*\r\n",
      "cdhit-common.h          \u001b[31mclstr_reduce.pl\u001b[m\u001b[m*        \u001b[31mpsi-cd-hit.pl\u001b[m\u001b[m*\r\n",
      "cdhit-div.c++           \u001b[31mclstr_renumber.pl\u001b[m\u001b[m*\r\n"
     ]
    }
   ],
   "source": [
    "ls"
   ]
  },
  {
   "cell_type": "code",
   "execution_count": 9,
   "metadata": {
    "collapsed": false
   },
   "outputs": [
    {
     "name": "stdout",
     "output_type": "stream",
     "text": [
      "g++ -O3 -fopenmp cdhit-common.c++ -c\n",
      "\u001b[1mcdhit-common.c++:37:9: \u001b[0m\u001b[0;1;31mfatal error: \u001b[0m\u001b[1m'omp.h' file not found\u001b[0m\n",
      "#include<omp.h>\n",
      "\u001b[0;1;32m        ^\n",
      "\u001b[0m1 error generated.\n",
      "make: *** [cdhit-common.o] Error 1\n"
     ]
    }
   ],
   "source": [
    "!make openmp=yes"
   ]
  },
  {
   "cell_type": "code",
   "execution_count": 10,
   "metadata": {
    "collapsed": false
   },
   "outputs": [
    {
     "name": "stdout",
     "output_type": "stream",
     "text": [
      "g++ -O2 -DNO_OPENMP cdhit-common.c++ -c\n",
      "\u001b[1mcdhit-common.c++:68:29: \u001b[0m\u001b[0;1;35mwarning: \u001b[0m\u001b[1mformat specifies type 'unsigned int' but the\n",
      "      argument has type 'TempFile *' [-Wformat]\u001b[0m\n",
      "                sprintf( buf + len, \"%x\", this );\n",
      "\u001b[0;1;32m                                     ~~   ^~~~\n",
      "\u001b[0m\u001b[1mcdhit-common.c++:2260:38: \u001b[0m\u001b[0;1;35mwarning: \u001b[0m\u001b[1mformat specifies type 'int' but the argument\n",
      "      has type 'unsigned long' [-Wformat]\u001b[0m\n",
      "        printf( \"%-16s: %iM\\n\", \"Sequence\", mem/mega );\n",
      "\u001b[0;1;32m                        ~~                  ^~~~~~~~\n",
      "\u001b[0m\u001b[0;32m                        %lu\n",
      "\u001b[0m\u001b[1mcdhit-common.c++:2264:50: \u001b[0m\u001b[0;1;35mwarning: \u001b[0m\u001b[1mformat specifies type 'int' but the argument\n",
      "      has type 'unsigned long' [-Wformat]\u001b[0m\n",
      "        printf( \"%-16s: %i X %iM = %iM\\n\", \"Buffer\", T, mem/mega, T*mem/mega );\n",
      "\u001b[0;1;32m                             ~~                         ^~~~~~~~\n",
      "\u001b[0m\u001b[0;32m                             %lu\n",
      "\u001b[0m\u001b[1mcdhit-common.c++:2264:60: \u001b[0m\u001b[0;1;35mwarning: \u001b[0m\u001b[1mformat specifies type 'int' but the argument\n",
      "      has type 'unsigned long' [-Wformat]\u001b[0m\n",
      "        printf( \"%-16s: %i X %iM = %iM\\n\", \"Buffer\", T, mem/mega, T*mem/mega );\n",
      "\u001b[0;1;32m                                   ~~                             ^~~~~~~~~~\n",
      "\u001b[0m\u001b[0;32m                                   %lu\n",
      "\u001b[0m\u001b[1mcdhit-common.c++:2268:53: \u001b[0m\u001b[0;1;35mwarning: \u001b[0m\u001b[1mformat specifies type 'int' but the argument\n",
      "      has type 'unsigned long' [-Wformat]\u001b[0m\n",
      "        printf( \"%-16s: %i X %iM = %iM\\n\", \"Table\", table, mem/mega, tab...\n",
      "\u001b[0;1;32m                             ~~                            ^~~~~~~~\n",
      "\u001b[0m\u001b[0;32m                             %lu\n",
      "\u001b[0m\u001b[1mcdhit-common.c++:2268:63: \u001b[0m\u001b[0;1;35mwarning: \u001b[0m\u001b[1mformat specifies type 'int' but the argument\n",
      "      has type 'unsigned long' [-Wformat]\u001b[0m\n",
      "  ...\"%-16s: %i X %iM = %iM\\n\", \"Table\", table, mem/mega, table*mem/mega );\n",
      "\u001b[0;1;32m                        ~~                                ^~~~~~~~~~~~~~\n",
      "\u001b[0m\u001b[0;32m                        %lu\n",
      "\u001b[0m\u001b[1mcdhit-common.c++:2273:43: \u001b[0m\u001b[0;1;35mwarning: \u001b[0m\u001b[1mformat specifies type 'int' but the argument\n",
      "      has type 'unsigned long' [-Wformat]\u001b[0m\n",
      "        printf( \"%-16s: %iM\\n\", \"Miscellaneous\", mem/mega );\n",
      "\u001b[0;1;32m                        ~~                       ^~~~~~~~\n",
      "\u001b[0m\u001b[0;32m                        %lu\n",
      "\u001b[0m\u001b[1mcdhit-common.c++:2276:37: \u001b[0m\u001b[0;1;35mwarning: \u001b[0m\u001b[1mformat specifies type 'int' but the argument\n",
      "      has type 'unsigned long' [-Wformat]\u001b[0m\n",
      "        printf( \"%-16s: %iM\\n\\n\", \"Total\", mem_need/mega );\n",
      "\u001b[0;1;32m                        ~~                 ^~~~~~~~~~~~~\n",
      "\u001b[0m\u001b[0;32m                        %lu\n",
      "\u001b[0m\u001b[1mcdhit-common.c++:2281:5: \u001b[0m\u001b[0;1;35mwarning: \u001b[0m\u001b[1mformat specifies type 'int' but the argument\n",
      "      has type 'unsigned long' [-Wformat]\u001b[0m\n",
      "                                50*table + mem_need/mega );\n",
      "\u001b[0;1;32m                                ^~~~~~~~~~~~~~~~~~~~~~~~\n",
      "\u001b[0m\u001b[1mcdhit-common.c++:2478:62: \u001b[0m\u001b[0;1;35mwarning: \u001b[0m\u001b[1mformat specifies type 'int' but the argument\n",
      "      has type 'size_type' (aka 'unsigned long') [-Wformat]\u001b[0m\n",
      "  ...new table with %8i representatives\\n\", word_table.sequences.size() );\n",
      "\u001b[0;1;32m                    ~~~                     ^~~~~~~~~~~~~~~~~~~~~~~~~~~\n",
      "\u001b[0m\u001b[0;32m                    %8lu\n",
      "\u001b[0m\u001b[1mcdhit-common.c++:2489:61: \u001b[0m\u001b[0;1;35mwarning: \u001b[0m\u001b[1mformat specifies type 'int' but the argument\n",
      "      has type 'size_t' (aka 'unsigned long') [-Wformat]\u001b[0m\n",
      "        printf( \"\\nApprixmated maximum memory consumption: %iM\\n\", mem );\n",
      "\u001b[0;1;32m                                                           ~~      ^~~\n",
      "\u001b[0m\u001b[0;32m                                                           %lu\n",
      "\u001b[0m\u001b[1mcdhit-common.c++:2996:61: \u001b[0m\u001b[0;1;35mwarning: \u001b[0m\u001b[1mformat specifies type 'int' but the argument\n",
      "      has type 'size_t' (aka 'unsigned long') [-Wformat]\u001b[0m\n",
      "        printf( \"\\nApprixmated maximum memory consumption: %iM\\n\", mem );\n",
      "\u001b[0;1;32m                                                           ~~      ^~~\n",
      "\u001b[0m\u001b[0;32m                                                           %lu\n",
      "\u001b[0mIn file included from cdhit-common.c++:28:\n",
      "\u001b[1m./cdhit-common.h:95:4: \u001b[0m\u001b[0;1;31merror: \u001b[0m\u001b[1muse of undeclared identifier 'push_back'\u001b[0m\n",
      "                        push_back( item );\n",
      "\u001b[0;1;32m                        ^\n",
      "\u001b[0m\u001b[0;32m                        this->\n",
      "\u001b[0m\u001b[1mcdhit-common.c++:704:14: \u001b[0m\u001b[0;1;30mnote: \u001b[0min instantiation of member function\n",
      "      'Vector<NVector<long long> >::Append' requested here\u001b[0m\n",
      "                        score_mat.Append( row2 );\n",
      "\u001b[0;1;32m                                  ^\n",
      "\u001b[0m\u001b[1m/Applications/Xcode.app/Contents/Developer/Toolchains/XcodeDefault.xctoolchain/usr/bin/../include/c++/v1/vector:697:36: \u001b[0m\u001b[0;1;30mnote: \u001b[0m\n",
      "      must qualify identifier to find this declaration in dependent base class\u001b[0m\n",
      "    _LIBCPP_INLINE_VISIBILITY void push_back(const_reference __x);\n",
      "\u001b[0;1;32m                                   ^\n",
      "\u001b[0m12 warnings and 1 error generated.\n",
      "make: *** [cdhit-common.o] Error 1\n"
     ]
    }
   ],
   "source": [
    "!make"
   ]
  },
  {
   "cell_type": "code",
   "execution_count": null,
   "metadata": {
    "collapsed": true
   },
   "outputs": [],
   "source": []
  }
 ],
 "metadata": {
  "kernelspec": {
   "display_name": "Python 2",
   "language": "python",
   "name": "python2"
  },
  "language_info": {
   "codemirror_mode": {
    "name": "ipython",
    "version": 2
   },
   "file_extension": ".py",
   "mimetype": "text/x-python",
   "name": "python",
   "nbconvert_exporter": "python",
   "pygments_lexer": "ipython2",
   "version": "2.7.11"
  }
 },
 "nbformat": 4,
 "nbformat_minor": 0
}
