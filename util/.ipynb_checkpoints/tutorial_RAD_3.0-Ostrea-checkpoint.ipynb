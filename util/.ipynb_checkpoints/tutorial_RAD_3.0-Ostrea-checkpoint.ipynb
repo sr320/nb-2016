{
 "cells": [
  {
   "cell_type": "markdown",
   "metadata": {},
   "source": [
    "# Example _de novo_ RADseq assembly using _pyRAD_"
   ]
  },
  {
   "cell_type": "markdown",
   "metadata": {},
   "source": [
    "----------  \n",
    "\n",
    "Please direct questions about _pyRAD_ analyses to the google group thread ([link](https://groups.google.com/forum/#!forum/pyrad-users))  \n",
    "\n",
    "--------------  \n",
    "\n"
   ]
  },
  {
   "cell_type": "markdown",
   "metadata": {},
   "source": [
    "+  This tutorial is meant as a walkthrough for a single-end RADseq analyses. If you have not yet read the [__full tutorial__](http://www.dereneaton.com/software/pyrad), you should start there for a broader description of how _pyRAD_ works. If you are new to RADseq analyses, this tutorial will provide a simple overview of how to execute _pyRAD_, what the data files look like, and how to check that your analysis is working, and the expected output formats.  \n",
    "\n",
    "\n",
    "\n",
    "+  Each cell in this tutorial begins with the header (%%bash) indicating that the code should be executed in a command line shell, for example by copying and pasting the text into your terminal (but excluding the %%bash header).\n",
    "\n",
    "-------------  \n"
   ]
  },
  {
   "cell_type": "markdown",
   "metadata": {},
   "source": [
    "Begin by executing the command below. This will download an example simulated RADseq data set and unarchive it into your current directory."
   ]
  },
  {
   "cell_type": "code",
   "execution_count": 1,
   "metadata": {
    "collapsed": false
   },
   "outputs": [
    {
     "data": {
      "text/plain": [
       "u'/Users/sr320/git-repos/nb-2016/util'"
      ]
     },
     "execution_count": 1,
     "metadata": {},
     "output_type": "execute_result"
    }
   ],
   "source": [
    "pwd"
   ]
  },
  {
   "cell_type": "code",
   "execution_count": 2,
   "metadata": {
    "collapsed": true
   },
   "outputs": [],
   "source": [
    "mkdir rad-seq-example"
   ]
  },
  {
   "cell_type": "code",
   "execution_count": 3,
   "metadata": {
    "collapsed": false
   },
   "outputs": [
    {
     "name": "stdout",
     "output_type": "stream",
     "text": [
      "/Users/sr320/git-repos/nb-2016/util/rad-seq-example\n"
     ]
    }
   ],
   "source": [
    "cd rad-seq-example/"
   ]
  },
  {
   "cell_type": "code",
   "execution_count": 5,
   "metadata": {
    "collapsed": false
   },
   "outputs": [
    {
     "name": "stdout",
     "output_type": "stream",
     "text": [
      "Archive:  simRADs.zip\n",
      "  inflating: simRADs.barcodes        \n",
      "  inflating: simRADs_R1.fastq.gz     \n"
     ]
    }
   ],
   "source": [
    "%%bash\n",
    "wget -q dereneaton.com/downloads/simRADs.zip\n",
    "unzip simRADs.zip"
   ]
  },
  {
   "cell_type": "markdown",
   "metadata": {},
   "source": [
    "----------------  \n",
    "\n",
    "#### The two necessary files below should now be located in your current directory.\n",
    "\n",
    "+ simRADs.fastq.gz : Illumina fastQ formatted reads (gzip compressed)\n",
    "+ simRADs.barcodes : barcode map file  \n",
    "\n",
    "-----------------   \n",
    "\n"
   ]
  },
  {
   "cell_type": "code",
   "execution_count": 6,
   "metadata": {
    "collapsed": false
   },
   "outputs": [
    {
     "name": "stdout",
     "output_type": "stream",
     "text": [
      "simRADs.barcodes     simRADs.zip          simRADs_R1.fastq.gz\r\n"
     ]
    }
   ],
   "source": [
    "ls"
   ]
  },
  {
   "cell_type": "code",
   "execution_count": 8,
   "metadata": {
    "collapsed": false
   },
   "outputs": [
    {
     "name": "stdout",
     "output_type": "stream",
     "text": [
      "1A0\tCATCAT\r\n",
      "1B0\tTTTTAA\r\n",
      "1C0\tAGGGGA\r\n",
      "1D0\tTAAGGT\r\n",
      "2E0\tTTTATA\r\n",
      "2F0\tGAGTAT\r\n",
      "2G0\tATAGAG\r\n",
      "2H0\tATGAGG\r\n",
      "3I0\tGGGTTT\r\n",
      "3J0\tTTAAAA\r\n"
     ]
    }
   ],
   "source": [
    "!head simRADs.barcodes"
   ]
  },
  {
   "cell_type": "markdown",
   "metadata": {},
   "source": [
    "#### We begin by creating the params.txt file which is used to set all parameters for an analysis."
   ]
  },
  {
   "cell_type": "code",
   "execution_count": 9,
   "metadata": {
    "collapsed": false
   },
   "outputs": [
    {
     "name": "stderr",
     "output_type": "stream",
     "text": [
      "\tnew params.txt file created\n"
     ]
    }
   ],
   "source": [
    "%%bash\n",
    "## I have pyRAD in my $PATH so that I can call it by simply typing pyRAD.\n",
    "## If you haven't done this then you will need to type the full path to \n",
    "## the pyRAD script to execute it.\n",
    "\n",
    "## call pyRAD with the (-n) option\n",
    "pyRAD -n"
   ]
  },
  {
   "cell_type": "markdown",
   "metadata": {},
   "source": [
    "------------   \n",
    "\n",
    "The params file lists on each line one parameter followed by a __##__ mark, after which any comments can be left. In the comments section there is a description of the parameter and in parentheses the step of the analysis affected by the parameter. Lines 1-12 are required, the remaining lines are optional. The params.txt file is further described in the general tutorial."
   ]
  },
  {
   "cell_type": "markdown",
   "metadata": {},
   "source": [
    "#### Let's take a look at the default settings. "
   ]
  },
  {
   "cell_type": "code",
   "execution_count": 10,
   "metadata": {
    "collapsed": false
   },
   "outputs": [
    {
     "name": "stdout",
     "output_type": "stream",
     "text": [
      "==** parameter inputs for pyRAD version 3.0.64  **======================== affected step ==\n",
      "./                        ## 1. Working directory                                 (all)\n",
      "./*.fastq.gz              ## 2. Loc. of non-demultiplexed files (if not line 18)  (s1)\n",
      "./*.barcodes              ## 3. Loc. of barcode file (if not line 18)             (s1)\n",
      "vsearch                   ## 4. command (or path) to call vsearch (or usearch)    (s3,s6)\n",
      "muscle                    ## 5. command (or path) to call muscle                  (s3,s7)\n",
      "TGCAG                     ## 6. Restriction overhang (e.g., C|TGCAG -> TGCAG)     (s1,s2)\n",
      "2                         ## 7. N processors (parallel)                           (all)\n",
      "6                         ## 8. Mindepth: min coverage for a cluster              (s4,s5)\n",
      "4                         ## 9. NQual: max # sites with qual < 20 (or see line 20)(s2)\n",
      ".88                       ## 10. Wclust: clustering threshold as a decimal        (s3,s6)\n",
      "rad                       ## 11. Datatype: rad,gbs,pairgbs,pairddrad,(others:see docs)(all)\n",
      "4                         ## 12. MinCov: min samples in a final locus             (s7)\n",
      "3                         ## 13. MaxSH: max inds with shared hetero site          (s7)\n",
      "c88d6m4p3                 ## 14. Prefix name for final output (no spaces)         (s7)\n",
      "==== optional params below this line ===================================  affected step ==\n",
      "                       ## 15.opt.: select subset (prefix* only selector)            (s2-s7)\n",
      "                       ## 16.opt.: add-on (outgroup) taxa (list or prefix*)         (s6,s7)\n",
      "                       ## 17.opt.: exclude taxa (list or prefix*)                   (s7)\n",
      "                       ## 18.opt.: loc. of de-multiplexed data                      (s2)\n",
      "                       ## 19.opt.: maxM: N mismatches in barcodes (def= 1)          (s1)\n",
      "                       ## 20.opt.: phred Qscore offset (def= 33)                    (s2)\n",
      "                       ## 21.opt.: filter: def=0=NQual 1=NQual+adapters. 2=strict   (s2)\n",
      "                       ## 22.opt.: a priori E,H (def= 0.001,0.01, if not estimated) (s5)\n",
      "                       ## 23.opt.: maxN: max Ns in a cons seq (def=5)               (s5)\n",
      "                       ## 24.opt.: maxH: max heterozyg. sites in cons seq (def=5)   (s5)\n",
      "                       ## 25.opt.: ploidy: max alleles in cons seq (def=2;see docs) (s4,s5)\n",
      "                       ## 26.opt.: maxSNPs: (def=100). Paired (def=100,100)         (s7)\n",
      "                       ## 27.opt.: maxIndels: within-clust,across-clust (def. 3,99) (s3,s7)\n",
      "                       ## 28.opt.: random number seed (def. 112233)              (s3,s6,s7)\n",
      "                       ## 29.opt.: trim overhang left,right on final loci, def(0,0) (s7)\n",
      "                       ## 30.opt.: output formats: p,n,a,s,v,u,t,m,k,g,* (see docs) (s7)\n",
      "                       ## 31.opt.: maj. base call at depth>x<mindepth (def.x=mindepth) (s5)\n",
      "                       ## 32.opt.: keep trimmed reads (def=0). Enter min length.    (s2)\n",
      "                       ## 33.opt.: max stack size (int), def= max(500,mean+2*SD)    (s3)\n",
      "                       ## 34.opt.: minDerep: exclude dereps with <= N copies, def=1 (s3)\n",
      "                       ## 35.opt.: use hierarchical clustering (def.=0, 1=yes)      (s6)\n",
      "                       ## 36.opt.: repeat masking (def.=1='dust' method, 0=no)      (s3,s6)\n",
      "                       ## 37.opt.: vsearch max threads per job (def.=6; see docs)   (s3,s6)\n",
      "==== optional: list group/clade assignments below this line (see docs) ==================\n"
     ]
    }
   ],
   "source": [
    "%%bash\n",
    "cat params.txt"
   ]
  },
  {
   "cell_type": "markdown",
   "metadata": {},
   "source": [
    "#### To change parameters you can edit params.txt in any text editor. Here to automate things I use the script below."
   ]
  },
  {
   "cell_type": "code",
   "execution_count": 33,
   "metadata": {
    "collapsed": false
   },
   "outputs": [
    {
     "name": "stderr",
     "output_type": "stream",
     "text": [
      "sed: 1: \"/## 14. /c\\c85m4p3      ...\": extra characters after \\ at the end of c command\n",
      "sed: 1: \"/## 24./c\\8             ...\": extra characters after \\ at the end of c command\n",
      "sed: 1: \"/## 30./c\\*             ...\": extra characters after \\ at the end of c command\n",
      "sed: 1: \"s/vsearch               ...\": bad flag in substitute command: 'A'\n"
     ]
    }
   ],
   "source": [
    "%%bash\n",
    "sed -i '' 's/2                         ## 7/2                         ## 7/g' params.txt\n",
    "sed -i '' 's/.88                       ## 10/.85                       ## 10/g' params.txt\n",
    "sed -i '' '/## 14. /c\\c85m4p3            ## 14. outprefix... ' params.txt\n",
    "sed -i '' '/## 24./c\\8                   ## 24. maxH raised ... ' params.txt\n",
    "sed -i '' '/## 30./c\\*                   ## 30. all output formats... ' params.txt\n",
    "sed -i '' 's/vsearch                   ## 4/'/Applications/bioinfo/vsearch-1.11.1-osx-x86_64/bin/vsearch''                   ## 4/g' params.txt\n"
   ]
  },
  {
   "cell_type": "markdown",
   "metadata": {},
   "source": [
    "#### Let's have a look at the changes:"
   ]
  },
  {
   "cell_type": "code",
   "execution_count": 34,
   "metadata": {
    "collapsed": false
   },
   "outputs": [
    {
     "name": "stdout",
     "output_type": "stream",
     "text": [
      "==** parameter inputs for pyRAD version 3.0.64  **======================== affected step ==\n",
      "./                        ## 1. Working directory                                 (all)\n",
      "./*.fastq.gz              ## 2. Loc. of non-demultiplexed files (if not line 18)  (s1)\n",
      "./*.barcodes              ## 3. Loc. of barcode file (if not line 18)             (s1)\n",
      "vsearch                   ## 4. command (or path) to call vsearch (or usearch)    (s3,s6)\n",
      "muscle                    ## 5. command (or path) to call muscle                  (s3,s7)\n",
      "TGCAG                     ## 6. Restriction overhang (e.g., C|TGCAG -> TGCAG)     (s1,s2)\n",
      "3                         ## 7. N processors (parallel)                           (all)\n",
      "6                         ## 8. Mindepth: min coverage for a cluster              (s4,s5)\n",
      "4                         ## 9. NQual: max # sites with qual < 20 (or see line 20)(s2)\n",
      ".85                       ## 10. Wclust: clustering threshold as a decimal        (s3,s6)\n",
      "rad                       ## 11. Datatype: rad,gbs,pairgbs,pairddrad,(others:see docs)(all)\n",
      "4                         ## 12. MinCov: min samples in a final locus             (s7)\n",
      "3                         ## 13. MaxSH: max inds with shared hetero site          (s7)\n",
      "c88d6m4p3                 ## 14. Prefix name for final output (no spaces)         (s7)\n",
      "==== optional params below this line ===================================  affected step ==\n",
      "                       ## 15.opt.: select subset (prefix* only selector)            (s2-s7)\n",
      "                       ## 16.opt.: add-on (outgroup) taxa (list or prefix*)         (s6,s7)\n",
      "                       ## 17.opt.: exclude taxa (list or prefix*)                   (s7)\n",
      "                       ## 18.opt.: loc. of de-multiplexed data                      (s2)\n",
      "                       ## 19.opt.: maxM: N mismatches in barcodes (def= 1)          (s1)\n",
      "                       ## 20.opt.: phred Qscore offset (def= 33)                    (s2)\n",
      "                       ## 21.opt.: filter: def=0=NQual 1=NQual+adapters. 2=strict   (s2)\n",
      "                       ## 22.opt.: a priori E,H (def= 0.001,0.01, if not estimated) (s5)\n",
      "                       ## 23.opt.: maxN: max Ns in a cons seq (def=5)               (s5)\n",
      "                       ## 24.opt.: maxH: max heterozyg. sites in cons seq (def=5)   (s5)\n",
      "                       ## 25.opt.: ploidy: max alleles in cons seq (def=2;see docs) (s4,s5)\n",
      "                       ## 26.opt.: maxSNPs: (def=100). Paired (def=100,100)         (s7)\n",
      "                       ## 27.opt.: maxIndels: within-clust,across-clust (def. 3,99) (s3,s7)\n",
      "                       ## 28.opt.: random number seed (def. 112233)              (s3,s6,s7)\n",
      "                       ## 29.opt.: trim overhang left,right on final loci, def(0,0) (s7)\n",
      "                       ## 30.opt.: output formats: p,n,a,s,v,u,t,m,k,g,* (see docs) (s7)\n",
      "                       ## 31.opt.: maj. base call at depth>x<mindepth (def.x=mindepth) (s5)\n",
      "                       ## 32.opt.: keep trimmed reads (def=0). Enter min length.    (s2)\n",
      "                       ## 33.opt.: max stack size (int), def= max(500,mean+2*SD)    (s3)\n",
      "                       ## 34.opt.: minDerep: exclude dereps with <= N copies, def=1 (s3)\n",
      "                       ## 35.opt.: use hierarchical clustering (def.=0, 1=yes)      (s6)\n",
      "                       ## 36.opt.: repeat masking (def.=1='dust' method, 0=no)      (s3,s6)\n",
      "                       ## 37.opt.: vsearch max threads per job (def.=6; see docs)   (s3,s6)\n",
      "==== optional: list group/clade assignments below this line (see docs) ==================\n"
     ]
    }
   ],
   "source": [
    "%%bash\n",
    "cat params.txt"
   ]
  },
  {
   "cell_type": "markdown",
   "metadata": {},
   "source": [
    "--------------   \n",
    "\n",
    "__Let's take a look at what the raw data look like.__"
   ]
  },
  {
   "cell_type": "markdown",
   "metadata": {},
   "source": [
    "Your input data will be in fastQ format, usually ending in .fq or .fastq. Your data could be split among multiple files, or all within a single file (de-multiplexing goes much faster if they happen to be split into multiple files). The file/s may be compressed with gzip so that they have a .gz ending, but they do not need to be. The location of these files should be entered on line 2 of the params file. Below are the first three reads in the example file."
   ]
  },
  {
   "cell_type": "code",
   "execution_count": 27,
   "metadata": {
    "collapsed": true
   },
   "outputs": [],
   "source": [
    "!gunzip simRADs_R1.fastq.gz"
   ]
  },
  {
   "cell_type": "code",
   "execution_count": 28,
   "metadata": {
    "collapsed": false
   },
   "outputs": [
    {
     "name": "stdout",
     "output_type": "stream",
     "text": [
      "@lane1_fakedata0_R1_0 1:N:0:\n",
      "TTTTAATGCAGTGAGTGGCCATGCAATATATATTTACGGGCGCATAGAGACCCTCAAGACTGCCAACCGGGTGAATCACTATTTGCTTAG\n",
      "+\n",
      "BBBBBBBBBBBBBBBBBBBBBBBBBBBBBBBBBBBBBBBBBBBBBBBBBBBBBBBBBBBBBBBBBBBBBBBBBBBBBBBBBBBBBBBBBB\n",
      "@lane1_fakedata0_R1_1 1:N:0:\n",
      "TTTTAATGCAGTGAGTGGCCATGCAATATATATTTACGGGCGCATAGAGACCCTCAAGACTGCCAACCGGGTGAATCACTATTTGCTTAG\n",
      "+\n",
      "BBBBBBBBBBBBBBBBBBBBBBBBBBBBBBBBBBBBBBBBBBBBBBBBBBBBBBBBBBBBBBBBBBBBBBBBBBBBBBBBBBBBBBBBBB\n",
      "@lane1_fakedata0_R1_2 1:N:0:\n",
      "TTTTAATGCAGTGAGTGGCCATGCAATATATATTTACGGGCGCATAGAGACCCTCAAGACTGCCAACCGGGTGAATCACTATTTGCTTAG\n",
      "+\n",
      "BBBBBBBBBBBBBBBBBBBBBBBBBBBBBBBBBBBBBBBBBBBBBBBBBBBBBBBBBBBBBBBBBBBBBBBBBBBBBBBBBBBBBBBBBB\n"
     ]
    }
   ],
   "source": [
    "%%bash\n",
    "less simRADs_R1.fastq | head -n 12 | cut -c 1-90"
   ]
  },
  {
   "cell_type": "markdown",
   "metadata": {},
   "source": [
    "------------   \n",
    "\n",
    "Each read takes four lines. The first is the name of the read (its location on the plate). The second line contains the sequence data. The third line is a spacer. And the fourth line the quality scores for the base calls. In this case arbitrarily high since the data were simulated. \n",
    "\n",
    "These are 100 bp single-end reads prepared as RADseq. The first six bases form the barcode and the next five bases (TGCAG) the restriction site overhang. All following bases make up the sequence data. "
   ]
  },
  {
   "cell_type": "markdown",
   "metadata": {},
   "source": [
    "----------------   \n",
    "\n",
    "## Step 1: de-multiplexing ##"
   ]
  },
  {
   "cell_type": "markdown",
   "metadata": {},
   "source": [
    "This step uses information in the barcodes file to sort data into a separate file for each sample.  Below is the barcodes file, with sample names and their barcodes each on a separate line with a tab between them."
   ]
  },
  {
   "cell_type": "code",
   "execution_count": 29,
   "metadata": {
    "collapsed": false
   },
   "outputs": [
    {
     "name": "stdout",
     "output_type": "stream",
     "text": [
      "1A0\tCATCAT\n",
      "1B0\tTTTTAA\n",
      "1C0\tAGGGGA\n",
      "1D0\tTAAGGT\n",
      "2E0\tTTTATA\n",
      "2F0\tGAGTAT\n",
      "2G0\tATAGAG\n",
      "2H0\tATGAGG\n",
      "3I0\tGGGTTT\n",
      "3J0\tTTAAAA\n",
      "3K0\tGGATTG\n",
      "3L0\tAAGAAG\n"
     ]
    }
   ],
   "source": [
    "%%bash\n",
    "cat simRADs.barcodes"
   ]
  },
  {
   "cell_type": "markdown",
   "metadata": {},
   "source": [
    "Step 1 writes the de-multiplexed data to a new file for each sample in a new directory created within the working directory called fastq/."
   ]
  },
  {
   "cell_type": "code",
   "execution_count": 37,
   "metadata": {
    "collapsed": false
   },
   "outputs": [
    {
     "name": "stderr",
     "output_type": "stream",
     "text": [
      "\n",
      "\n",
      "     ------------------------------------------------------------\n",
      "      pyRAD : RADseq for phylogenetics & introgression analyses\n",
      "     ------------------------------------------------------------\n",
      "\n",
      "\n",
      "\tstep 1: sorting reads by barcode\n",
      "\t ."
     ]
    }
   ],
   "source": [
    "%%bash\n",
    "pyRAD -p params.txt -s 1"
   ]
  },
  {
   "cell_type": "markdown",
   "metadata": {},
   "source": [
    "You can see that this created a new file for each sample in the directory 'fastq/'"
   ]
  },
  {
   "cell_type": "code",
   "execution_count": 38,
   "metadata": {
    "collapsed": false
   },
   "outputs": [
    {
     "name": "stdout",
     "output_type": "stream",
     "text": [
      "1A0_R1.fq.gz\n",
      "1B0_R1.fq.gz\n",
      "1C0_R1.fq.gz\n",
      "1D0_R1.fq.gz\n",
      "2E0_R1.fq.gz\n",
      "2F0_R1.fq.gz\n",
      "2G0_R1.fq.gz\n",
      "2H0_R1.fq.gz\n",
      "3I0_R1.fq.gz\n",
      "3J0_R1.fq.gz\n",
      "3K0_R1.fq.gz\n",
      "3L0_R1.fq.gz\n"
     ]
    }
   ],
   "source": [
    "%%bash\n",
    "ls fastq/"
   ]
  },
  {
   "cell_type": "markdown",
   "metadata": {},
   "source": [
    "#### The statistics for step 1"
   ]
  },
  {
   "cell_type": "markdown",
   "metadata": {},
   "source": [
    "A new directory called stats will also have been created. Each step of the _pyRAD_ analysis will create a new stats output file in this directory. The stats output for step 1 is below:"
   ]
  },
  {
   "cell_type": "code",
   "execution_count": 39,
   "metadata": {
    "collapsed": false
   },
   "outputs": [
    {
     "name": "stdout",
     "output_type": "stream",
     "text": [
      "file    \tNreads\tcut_found\tbar_matched\n",
      "simRADs_R1.fastq\t480000\t480000\t480000\n",
      "\n",
      "\n",
      "sample\ttrue_bar\tobs_bars\tN_obs\n",
      "3L0    \tAAGAAG    \tAAGAAG\t40000   \n",
      "1C0    \tAGGGGA    \tAGGGGA\t40000   \n",
      "2G0    \tATAGAG    \tATAGAG\t40000   \n",
      "2H0    \tATGAGG    \tATGAGG\t40000   \n",
      "1A0    \tCATCAT    \tCATCAT\t40000   \n",
      "2F0    \tGAGTAT    \tGAGTAT\t40000   \n",
      "3K0    \tGGATTG    \tGGATTG\t40000   \n",
      "3I0    \tGGGTTT    \tGGGTTT\t40000   \n",
      "1D0    \tTAAGGT    \tTAAGGT\t40000   \n",
      "3J0    \tTTAAAA    \tTTAAAA\t40000   \n",
      "2E0    \tTTTATA    \tTTTATA\t40000   \n",
      "1B0    \tTTTTAA    \tTTTTAA\t40000   \n",
      "\n",
      "nomatch  \t_            \t0\n"
     ]
    }
   ],
   "source": [
    "%%bash\n",
    "cat stats/s1.sorting.txt"
   ]
  },
  {
   "cell_type": "markdown",
   "metadata": {},
   "source": [
    "### Step 2: quality filtering"
   ]
  },
  {
   "cell_type": "markdown",
   "metadata": {},
   "source": [
    "This step filters reads based on quality scores, and can be used to detect Illumina adapters in your reads, which is sometimes a problem with homebrew type library preparations. Here the filter is set to the default value of 0, meaning it filters only based on quality scores of base calls. The filtered files are written to a new directory called edits/."
   ]
  },
  {
   "cell_type": "code",
   "execution_count": 40,
   "metadata": {
    "collapsed": false
   },
   "outputs": [
    {
     "name": "stderr",
     "output_type": "stream",
     "text": [
      "\n",
      "\n",
      "     ------------------------------------------------------------\n",
      "      pyRAD : RADseq for phylogenetics & introgression analyses\n",
      "     ------------------------------------------------------------\n",
      "\n",
      "\tstep 2: editing raw reads \n",
      "\t............"
     ]
    }
   ],
   "source": [
    "%%bash\n",
    "pyRAD -p params.txt -s 2"
   ]
  },
  {
   "cell_type": "code",
   "execution_count": 41,
   "metadata": {
    "collapsed": false
   },
   "outputs": [
    {
     "name": "stdout",
     "output_type": "stream",
     "text": [
      "1A0.edit\n",
      "1B0.edit\n",
      "1C0.edit\n",
      "1D0.edit\n",
      "2E0.edit\n",
      "2F0.edit\n",
      "2G0.edit\n",
      "2H0.edit\n",
      "3I0.edit\n",
      "3J0.edit\n",
      "3K0.edit\n",
      "3L0.edit\n"
     ]
    }
   ],
   "source": [
    "%%bash\n",
    "ls edits/"
   ]
  },
  {
   "cell_type": "markdown",
   "metadata": {},
   "source": [
    "The filtered data are written in fasta format (quality scores removed) into a new directory called edits/. Below I show a preview of the file which you can view most easily using the `less` command (I use `head` here to make it fit in the text window better)."
   ]
  },
  {
   "cell_type": "code",
   "execution_count": 42,
   "metadata": {
    "collapsed": false
   },
   "outputs": [
    {
     "name": "stdout",
     "output_type": "stream",
     "text": [
      ">1A0_0_r1\n",
      "TGCAGTGAGTGGCCATGCAATATATATTTACGGGCTCATAGAGACCCTCAAGACTGCCAACCGGGTGAATCACTATTTGC\n",
      ">1A0_1_r1\n",
      "TGCAGTGAGTGGCCATGCAATATATATTTACGGGCTCATAGAGACCCTCAAGACTGCCAACCGGGTGAATCACTATTTGC\n",
      ">1A0_2_r1\n",
      "TGCAGTGAGTGGCCATGCAATATATATTTACGGGCTCATAGAGACCCTCAAGACTGCCAACCGGGTGAATCACTATTTGC\n",
      ">1A0_3_r1\n",
      "TGCAGTGAGTGGCCATGCAATATATATTTACGGGCTCATAGAGACCCTCAAGACTGCCAACCGGGTGAATCACTATTTGC\n",
      ">1A0_4_r1\n",
      "TGCAGTGAGTGGCCATGCAATATATATTTACGGGCTCATAGAGACCCTCAAGACTGCCAACCGGGTGAATCACTATTTGC\n"
     ]
    }
   ],
   "source": [
    "%%bash\n",
    "head -n 10 edits/1A0.edit | cut -c 1-80"
   ]
  },
  {
   "cell_type": "markdown",
   "metadata": {},
   "source": [
    "### Step 3: clustering within-samples"
   ]
  },
  {
   "cell_type": "markdown",
   "metadata": {},
   "source": [
    "Step 3 de-replicates and then clusters reads within each sample by the set clustering threshold and writes the clusters to new files in a directory called clust.xx"
   ]
  },
  {
   "cell_type": "code",
   "execution_count": 43,
   "metadata": {
    "collapsed": false
   },
   "outputs": [
    {
     "name": "stderr",
     "output_type": "stream",
     "text": [
      "\n",
      "\n",
      "     ------------------------------------------------------------\n",
      "      pyRAD : RADseq for phylogenetics & introgression analyses\n",
      "     ------------------------------------------------------------\n",
      "\n",
      "\n",
      "\tde-replicating files for clustering...\n",
      "\n",
      "\tstep 3: within-sample clustering of 12 samples at \n",
      "\t        '.85' similarity. Running 3 parallel jobs\n",
      "\t \twith up to 6 threads per job. If needed, \n",
      "\t\tadjust to avoid CPU and MEM limits\n",
      "\n",
      "\tsample 1C0 finished, 2000 loci\n",
      "\tsample 1A0 finished, 2000 loci\n",
      "\tsample 1B0 finished, 2000 loci\n",
      "\tsample 1D0 finished, 2000 loci\n",
      "\tsample 2E0 finished, 2000 loci\n",
      "\tsample 2F0 finished, 2000 loci\n",
      "\tsample 2G0 finished, 2000 loci\n",
      "\tsample 2H0 finished, 2000 loci\n",
      "\tsample 3I0 finished, 2000 loci\n",
      "\tsample 3K0 finished, 2000 loci\n",
      "\tsample 3J0 finished, 2000 loci\n",
      "\tsample 3L0 finished, 2000 loci\n"
     ]
    }
   ],
   "source": [
    "%%bash\n",
    "pyRAD -p params.txt -s 3"
   ]
  },
  {
   "cell_type": "markdown",
   "metadata": {},
   "source": [
    "Once again, I recommend you use the unix command 'less' to look at the clustS files. These contain each cluster separated by \"//\". For the first few clusters below you can see that there is one or two alleles in the cluster and one or a few reads that contained a (simulated) sequencing error. "
   ]
  },
  {
   "cell_type": "code",
   "execution_count": 44,
   "metadata": {
    "collapsed": false
   },
   "outputs": [
    {
     "name": "stderr",
     "output_type": "stream",
     "text": [
      "\"clust.85/1A0.clustS.gz\" may be a binary file.  See it anyway? "
     ]
    }
   ],
   "source": [
    "%%bash\n",
    "less clust.85/1A0.clustS.gz | head -n 26 | cut -c 1-80"
   ]
  },
  {
   "cell_type": "markdown",
   "metadata": {},
   "source": [
    "---------------\n",
    "\n",
    "\n",
    "The stats output tells you how many clusters were found, and their mean depth of coverage. It also tells you how many pass  your minimum depth setting. You can use this information to decide if you wish to increase or decrease the mindepth before it is applied for making consensus base calls in steps 4 & 5."
   ]
  },
  {
   "cell_type": "code",
   "execution_count": 45,
   "metadata": {
    "collapsed": false
   },
   "outputs": [
    {
     "name": "stdout",
     "output_type": "stream",
     "text": [
      "\n",
      "taxa\ttotal\tdpt.me\tdpt.sd\td>5.tot\td>5.me\td>5.sd\tbadpairs\n",
      "1A0\t2000\t20.0\t0.0\t2000\t20.0\t0.0\t0\n",
      "1B0\t2000\t20.0\t0.0\t2000\t20.0\t0.0\t0\n",
      "1C0\t2000\t20.0\t0.0\t2000\t20.0\t0.0\t0\n",
      "1D0\t2000\t20.0\t0.0\t2000\t20.0\t0.0\t0\n",
      "2E0\t2000\t20.0\t0.0\t2000\t20.0\t0.0\t0\n",
      "2F0\t2000\t20.0\t0.0\t2000\t20.0\t0.0\t0\n",
      "2G0\t2000\t20.0\t0.0\t2000\t20.0\t0.0\t0\n",
      "2H0\t2000\t20.0\t0.0\t2000\t20.0\t0.0\t0\n",
      "3I0\t2000\t20.0\t0.0\t2000\t20.0\t0.0\t0\n",
      "3J0\t2000\t20.0\t0.0\t2000\t20.0\t0.0\t0\n",
      "3K0\t2000\t20.0\t0.0\t2000\t20.0\t0.0\t0\n",
      "3L0\t2000\t20.0\t0.0\t2000\t20.0\t0.0\t0\n",
      "\n",
      "    ## total = total number of clusters, including singletons\n",
      "    ## dpt.me = mean depth of clusters\n",
      "    ## dpt.sd = standard deviation of cluster depth\n",
      "    ## >N.tot = number of clusters with depth greater than N\n",
      "    ## >N.me = mean depth of clusters with depth greater than N\n",
      "    ## >N.sd = standard deviation of cluster depth for clusters with depth greater than N\n",
      "    ## badpairs = mismatched 1st & 2nd reads (only for paired ddRAD data)\n",
      "\n",
      "HISTOGRAMS\n",
      "\n",
      "    \n",
      "sample: 1A0\n",
      "bins\tdepth_histogram\tcnts\n",
      "   :\t0------------50-------------100%\n",
      "0 \t                                    0\n",
      "5 \t                                    0\n",
      "10 \t                                    0\n",
      "15 \t                                    0\n",
      "20 \t*******************************     2000\n",
      "25 \t                                    0\n",
      "30 \t                                    0\n",
      "35 \t                                    0\n",
      "40 \t                                    0\n",
      "50 \t                                    0\n",
      "100 \t                                    0\n"
     ]
    }
   ],
   "source": [
    "%%bash\n",
    "head -n 40 stats/s3.clusters.txt"
   ]
  },
  {
   "cell_type": "markdown",
   "metadata": {},
   "source": [
    "### Steps 4 & 5: Call consensus sequences"
   ]
  },
  {
   "cell_type": "markdown",
   "metadata": {},
   "source": [
    "#### Step 4 jointly infers the error-rate and heterozygosity across samples."
   ]
  },
  {
   "cell_type": "code",
   "execution_count": 66,
   "metadata": {
    "collapsed": false
   },
   "outputs": [
    {
     "name": "stderr",
     "output_type": "stream",
     "text": [
      "\n",
      "\n",
      "     ------------------------------------------------------------\n",
      "      pyRAD : RADseq for phylogenetics & introgression analyses\n",
      "     ------------------------------------------------------------\n",
      "\n",
      "\n",
      "\tstep 4: estimating error rate and heterozygosity\n",
      "\t............"
     ]
    }
   ],
   "source": [
    "%%bash\n",
    "pyRAD -p params.txt -s 4"
   ]
  },
  {
   "cell_type": "code",
   "execution_count": null,
   "metadata": {
    "collapsed": false
   },
   "outputs": [
    {
     "name": "stdout",
     "output_type": "stream",
     "text": [
      "taxa\tH\tE\n",
      "3K0\t0.00135982\t0.00048078\t\n",
      "1C0\t0.00134858\t0.00048372\t\n",
      "1D0\t0.00135375\t0.00048822\t\n",
      "3I0\t0.00129751\t0.00048694\t\n",
      "2H0\t0.00133223\t0.00049211\t\n",
      "2F0\t0.00135365\t0.0004995\t\n",
      "2E0\t0.00126915\t0.00051556\t\n",
      "1B0\t0.00149924\t0.00049663\t\n",
      "1A0\t0.00136043\t0.00051028\t\n",
      "3J0\t0.00144422\t0.0005089\t\n",
      "2G0\t0.00138185\t0.00051206\t\n",
      "3L0\t0.00143349\t0.00051991\t\n",
      "3K0\t0.00135982\t0.00048078\t\n",
      "1C0\t0.00134858\t0.00048372\t\n",
      "1D0\t0.00135375\t0.00048822\t\n",
      "3I0\t0.00129751\t0.00048694\t\n",
      "2H0\t0.00133223\t0.00049211\t\n",
      "2F0\t0.00135365\t0.0004995\t\n",
      "2E0\t0.00126915\t0.00051556\t\n",
      "1B0\t0.00149924\t0.00049663\t\n",
      "1A0\t0.00136043\t0.00051028\t\n",
      "3J0\t0.00144422\t0.0005089\t\n",
      "2G0\t0.00138185\t0.00051206\t\n",
      "3L0\t0.00143349\t0.00051991\t\n",
      "3K0\t0.00135982\t0.00048078\t\n",
      "1C0\t0.00134858\t0.00048372\t\n",
      "1D0\t0.00135375\t0.00048822\t\n",
      "3I0\t0.00129751\t0.00048694\t\n",
      "2H0\t0.00133223\t0.00049211\t\n",
      "2F0\t0.00135365\t0.0004995\t\n",
      "2E0\t0.00126915\t0.00051556\t\n",
      "1B0\t0.00149924\t0.00049663\t\n",
      "1A0\t0.00136043\t0.00051028\t\n",
      "3J0\t0.00144422\t0.0005089\t\n",
      "2G0\t0.00138185\t0.00051206\t\n",
      "3L0\t0.00143349\t0.00051991\t\n"
     ]
    }
   ],
   "source": [
    "%%bash\n",
    "less stats/Pi_E_estimate.txt"
   ]
  },
  {
   "cell_type": "markdown",
   "metadata": {},
   "source": [
    "#### Step 5 calls consensus sequences using the parameters inferred above, and filters for paralogs."
   ]
  },
  {
   "cell_type": "code",
   "execution_count": null,
   "metadata": {
    "collapsed": false
   },
   "outputs": [],
   "source": [
    "%%bash\n",
    "pyRAD -p params.txt -s 5"
   ]
  },
  {
   "cell_type": "markdown",
   "metadata": {},
   "source": [
    "#### The stats output for step 5"
   ]
  },
  {
   "cell_type": "code",
   "execution_count": null,
   "metadata": {
    "collapsed": false
   },
   "outputs": [],
   "source": [
    "%%bash\n",
    "less stats/s5.consens.txt"
   ]
  },
  {
   "cell_type": "markdown",
   "metadata": {},
   "source": [
    "### Step 6: Cluster across samples"
   ]
  },
  {
   "cell_type": "markdown",
   "metadata": {},
   "source": [
    "Step 6 clusters consensus sequences across samples. It will print its progress to the screen. This uses 6 threads by default. If you enter 0 for param 37 it will use all available processors. "
   ]
  },
  {
   "cell_type": "code",
   "execution_count": null,
   "metadata": {
    "collapsed": false
   },
   "outputs": [],
   "source": [
    "%%bash\n",
    "pyRAD -p params.txt -s 6 "
   ]
  },
  {
   "cell_type": "markdown",
   "metadata": {},
   "source": [
    "## Step 7: Assemble final data sets"
   ]
  },
  {
   "cell_type": "markdown",
   "metadata": {},
   "source": [
    "The final step is to output data only for the loci that you want to have included in your data set. This filters once again for potential paralogs or highly repetitive regions, and includes options to minimize the amount of missing data in the output. "
   ]
  },
  {
   "cell_type": "code",
   "execution_count": null,
   "metadata": {
    "collapsed": false
   },
   "outputs": [],
   "source": [
    "%%bash\n",
    "pyRAD -p params.txt -s 7"
   ]
  },
  {
   "cell_type": "markdown",
   "metadata": {},
   "source": [
    "### Final stats output"
   ]
  },
  {
   "cell_type": "code",
   "execution_count": null,
   "metadata": {
    "collapsed": false
   },
   "outputs": [],
   "source": [
    "%%bash\n",
    "less stats/c85m4p3.stats"
   ]
  },
  {
   "cell_type": "markdown",
   "metadata": {},
   "source": [
    "---------------  \n",
    "\n",
    "## Output formats ##"
   ]
  },
  {
   "cell_type": "markdown",
   "metadata": {},
   "source": [
    "We created 11 output files from our analysis. The standard two (.loci and .excluded_loci), as well as the 9 additional ones listed in the params file. These are all shown below."
   ]
  },
  {
   "cell_type": "code",
   "execution_count": null,
   "metadata": {
    "collapsed": false
   },
   "outputs": [],
   "source": [
    "%%bash \n",
    "ls outfiles/"
   ]
  },
  {
   "cell_type": "markdown",
   "metadata": {},
   "source": [
    "### Loci format  \n",
    "The \".loci\" file contains each locus listed in a fasta-like format that also shows which sites are variable below each locus. Autapomorphies are listed as '-' and shared SNPs as '*'. This is a custom format that is human readable and also used as input to perform D-statistic tests in pyRAD. This is the easiest way to visualize your results. I recommend viewing the file with the command `less`. Below I use a head and cut to make it easy to view in this window."
   ]
  },
  {
   "cell_type": "code",
   "execution_count": null,
   "metadata": {
    "collapsed": false
   },
   "outputs": [],
   "source": [
    "%%bash \n",
    "head -n 39 outfiles/c85m4p3.loci | cut -c 1-75"
   ]
  },
  {
   "cell_type": "markdown",
   "metadata": {},
   "source": [
    "### PHY format"
   ]
  },
  {
   "cell_type": "code",
   "execution_count": null,
   "metadata": {
    "collapsed": false
   },
   "outputs": [],
   "source": [
    "%%bash \n",
    "head -n 50 outfiles/c85m4p3.phy | cut -c 1-85"
   ]
  },
  {
   "cell_type": "markdown",
   "metadata": {},
   "source": [
    "### NEX format"
   ]
  },
  {
   "cell_type": "code",
   "execution_count": null,
   "metadata": {
    "collapsed": false
   },
   "outputs": [],
   "source": [
    "%%bash \n",
    "head -n 50 outfiles/c85m4p3.nex | cut -c 1-85"
   ]
  },
  {
   "cell_type": "markdown",
   "metadata": {},
   "source": [
    "### Alleles format"
   ]
  },
  {
   "cell_type": "code",
   "execution_count": null,
   "metadata": {
    "collapsed": false
   },
   "outputs": [],
   "source": [
    "%%bash \n",
    "head -n 50 outfiles/c85m4p3.alleles| cut -c 1-85"
   ]
  },
  {
   "cell_type": "markdown",
   "metadata": {},
   "source": [
    "### STRUCTURE (.str) format"
   ]
  },
  {
   "cell_type": "code",
   "execution_count": null,
   "metadata": {
    "collapsed": false
   },
   "outputs": [],
   "source": [
    "%%bash \n",
    "head -n 50 outfiles/c85m4p3.str | cut -c 1-20"
   ]
  },
  {
   "cell_type": "markdown",
   "metadata": {},
   "source": [
    "### GENO (.geno) format (used in _Admixture_)"
   ]
  },
  {
   "cell_type": "code",
   "execution_count": null,
   "metadata": {
    "collapsed": false
   },
   "outputs": [],
   "source": [
    "%%bash \n",
    "head -n 40 outfiles/c85m4p3.geno "
   ]
  },
  {
   "cell_type": "markdown",
   "metadata": {},
   "source": [
    "### SNPs format"
   ]
  },
  {
   "cell_type": "code",
   "execution_count": null,
   "metadata": {
    "collapsed": false
   },
   "outputs": [],
   "source": [
    "%%bash \n",
    "head -n 50 outfiles/c85m4p3.snps | cut -c 1-85"
   ]
  },
  {
   "cell_type": "markdown",
   "metadata": {},
   "source": [
    "### UNLINKED_SNPs format"
   ]
  },
  {
   "cell_type": "code",
   "execution_count": null,
   "metadata": {
    "collapsed": false
   },
   "outputs": [],
   "source": [
    "%%bash \n",
    "head -n 50 outfiles/c85m4p3.unlinked_snps | cut -c 1-85"
   ]
  },
  {
   "cell_type": "markdown",
   "metadata": {},
   "source": [
    "## OTHER FORMATS  \n",
    "\n",
    "You may also produce some more complicated formatting options that involve pooling individuals into groups or populations. This can be done for the \"treemix\" and \"migrate\" outputs, which are formatted for input into the programs _TreeMix_ and _migrate-n_, respectively. Grouping individuals into populations is done with the final lines of the params file as shown below, and similar to the assignment of individuals into clades for hierarchical clustering (see full tutorial). \n",
    "\n",
    "Each line designates a group, and has three arguments that are separated by space or tab. The first is the group name, the second is the minimum number of individuals that must have data in that group for a locus to be included in the output, and the third is a list of the members of that group. Lists of taxa can include comma-separated names and wildcard selectors, like below. Example:\n"
   ]
  },
  {
   "cell_type": "code",
   "execution_count": null,
   "metadata": {
    "collapsed": false
   },
   "outputs": [],
   "source": [
    "%%bash \n",
    "## append group designations to the params file\n",
    "echo \"pop1 4 1A0,1B0,1C0,1D0 \" >> params.txt\n",
    "echo \"pop2 4 2E0,2F0,2G0,2H0 \" >> params.txt\n",
    "echo \"pop3 4 3* \" >> params.txt\n",
    "\n",
    "## view params file\n",
    "cat params.txt"
   ]
  },
  {
   "cell_type": "markdown",
   "metadata": {},
   "source": [
    "## Creating population output files  \n",
    "Now if we run _pyRAD_ with the 'm' (migrate) or 't' (treemix) output options, it will create their output files. "
   ]
  },
  {
   "cell_type": "code",
   "execution_count": null,
   "metadata": {
    "collapsed": false
   },
   "outputs": [],
   "source": [
    "%%bash \n",
    "pyRAD -p params.txt -s 7"
   ]
  },
  {
   "cell_type": "markdown",
   "metadata": {},
   "source": [
    "## TREEMIX format"
   ]
  },
  {
   "cell_type": "code",
   "execution_count": null,
   "metadata": {
    "collapsed": false
   },
   "outputs": [],
   "source": [
    "%%bash \n",
    "less outfiles/c85m4p3.treemix.gz | head -n 30"
   ]
  },
  {
   "cell_type": "markdown",
   "metadata": {},
   "source": [
    "## MIGRATE-n FORMAT"
   ]
  },
  {
   "cell_type": "code",
   "execution_count": null,
   "metadata": {
    "collapsed": false
   },
   "outputs": [],
   "source": [
    "%%bash \n",
    "head -n 40 outfiles/c85m4p3.migrate | cut -c 1-85"
   ]
  }
 ],
 "metadata": {
  "kernelspec": {
   "display_name": "Python 2",
   "language": "python",
   "name": "python2"
  },
  "language_info": {
   "codemirror_mode": {
    "name": "ipython",
    "version": 2
   },
   "file_extension": ".py",
   "mimetype": "text/x-python",
   "name": "python",
   "nbconvert_exporter": "python",
   "pygments_lexer": "ipython2",
   "version": "2.7.11"
  }
 },
 "nbformat": 4,
 "nbformat_minor": 0
}
