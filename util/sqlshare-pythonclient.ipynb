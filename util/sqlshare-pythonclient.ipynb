{
 "cells": [
  {
   "cell_type": "markdown",
   "metadata": {},
   "source": [
    "# Downloading SQLShare data"
   ]
  },
  {
   "cell_type": "code",
   "execution_count": 1,
   "metadata": {
    "collapsed": false
   },
   "outputs": [
    {
     "name": "stdout",
     "output_type": "stream",
     "text": [
      "usage: fetchdata.py [-h] (--dataset SQL | --sql SQL) [--format {tsv,csv}]\r\n",
      "                    [--output OUTPUT]\r\n",
      "fetchdata.py: error: one of the arguments --dataset/-d --sql/-s is required\r\n"
     ]
    }
   ],
   "source": [
    "!python /Users/sr320/sqlshare-pythonclient/tools/fetchdata.py"
   ]
  },
  {
   "cell_type": "code",
   "execution_count": 8,
   "metadata": {
    "collapsed": false
   },
   "outputs": [
    {
     "data": {
      "text/plain": [
       "u'/Users/sr320/git-repos/nb-2016/util'"
      ]
     },
     "execution_count": 8,
     "metadata": {},
     "output_type": "execute_result"
    }
   ],
   "source": [
    "pwd"
   ]
  },
  {
   "cell_type": "code",
   "execution_count": 4,
   "metadata": {
    "collapsed": false
   },
   "outputs": [],
   "source": [
    "!python /Users/sr320/sqlshare-pythonclient/tools/fetchdata.py \\\n",
    "-s \"set rowcount 10 SELECT * FROM [sr320@washington.edu].[RNA-Seq_DH3]\" \\\n",
    "-f tsv \\\n",
    "-o analyses/oscar-out-test.tsv"
   ]
  },
  {
   "cell_type": "code",
   "execution_count": 6,
   "metadata": {
    "collapsed": false
   },
   "outputs": [
    {
     "name": "stdout",
     "output_type": "stream",
     "text": [
      "Feature ID\tExpression values\tTranscripts annotated\tDetected transcripts\tExon length\tUnique gene reads\tTotal gene reads\tUnique exon reads\tTotal exon reads\tRatio of unique to total (exon reads)\tUnique exon-exon reads\tTotal exon-exon reads\tUnique intron-exon reads\tTotal intron-exon reads\tExons\tPutative exons\tRPKM\tMedian coverage\tChromosome\tChromosome region start\tChromosome region end\r",
      "\r\n",
      "CGI_10000001\t9.471\t1\t1\t351\t0\t31\t0\t31\t0\t0\t0\t0\t0\t1\t0\t9.471\t0\tC16582\t35\t385\r",
      "\r\n",
      "CGI_10000002\t8.695\t1\t1\t333\t27\t27\t27\t27\t1\t0\t0\t0\t0\t1\t0\t8.695\t3\tC17212\t31\t363\r",
      "\r\n",
      "CGI_10000003\t3.763\t1\t1\t228\t5\t8\t5\t8\t0.625\t0\t0\t0\t0\t1\t0\t3.763\t1\tC17316\t30\t257\r",
      "\r\n",
      "CGI_10000004\t6.599\t2\t2\t195\t12\t12\t12\t12\t1\t0\t0\t0\t0\t2\t0\t6.599\t1\tC17476\t34\t257\r",
      "\r\n",
      "CGI_10000005\t0\t1\t0\t192\t0\t0\t0\t0\t?\t0\t0\t0\t0\t1\t0\t0\t0\tC17998\t196\t387\r",
      "\r\n",
      "CGI_10000009\t467.53\t1\t1\t378\t6\t1648\t6\t1648\t3.641E-3\t0\t0\t0\t0\t1\t0\t467.53\t16\tC18346\t174\t551\r",
      "\r\n",
      "CGI_10000010\t677.524\t1\t1\t261\t0\t1649\t0\t1649\t0\t0\t0\t0\t0\t1\t0\t677.524\t80\tC18428\t286\t546\r",
      "\r\n",
      "CGI_10000011\t12.464\t1\t1\t456\t47\t53\t47\t53\t0.887\t0\t0\t0\t0\t1\t0\t12.464\t3\tC18964\t203\t658\r",
      "\r\n",
      "CGI_10000012\t0\t1\t0\t645\t0\t0\t0\t0\t?\t0\t0\t0\t0\t1\t0\t0\t0\tC18980\t30\t674\r",
      "\r\n"
     ]
    }
   ],
   "source": [
    "!head analyses/oscar-out-test.tsv"
   ]
  },
  {
   "cell_type": "code",
   "execution_count": null,
   "metadata": {
    "collapsed": false
   },
   "outputs": [],
   "source": [
    "!python /Applications/bioinfo/sqlshare-pythonclient/tools/fetchdata.py \\\n",
    "-s \"SELECT Column1, term, GOSlim_bin, aspect, ProteinName FROM [ojuarez@cicese.edu.mx].[Ramfiltro-sql.tab]p left join [samwhite@washington.edu].[UniprotProtNamesReviewed_yes20130610]sp on p.Column3=sp.SPID left join [sr320@washington.edu].[SPID and GO Numbers]go on p.Column3=go.SPID left join [sr320@washington.edu].[GO_to_GOslim]slim on go.GOID=slim.GO_id where aspect like 'P'\" \\\n",
    "-f tsv \\\n",
    "-o analyses/oscar-out-01.tsv"
   ]
  },
  {
   "cell_type": "code",
   "execution_count": 9,
   "metadata": {
    "collapsed": false
   },
   "outputs": [
    {
     "name": "stdout",
     "output_type": "stream",
     "text": [
      "Traceback (most recent call last):\r\n",
      "  File \"/Applications/bioinfo/sqlshare-pythonclient/tools/fetchdata.py\", line 76, in <module>\r\n",
      "    main()\r\n",
      "  File \"/Applications/bioinfo/sqlshare-pythonclient/tools/fetchdata.py\", line 71, in main\r\n",
      "    data = fetchdata(args.sql, args.format, args.output)\r\n",
      "  File \"/Applications/bioinfo/sqlshare-pythonclient/tools/fetchdata.py\", line 30, in fetchdata\r\n",
      "    return conn.download_sql_result(sql, format, output)\r\n",
      "  File \"build/bdist.macosx-10.5-x86_64/egg/sqlshare/__init__.py\", line 340, in download_sql_result\r\n",
      "  File \"build/bdist.macosx-10.5-x86_64/egg/sqlshare/__init__.py\", line 267, in poll_selector\r\n",
      "sqlshare.SQLShareError: code: 400 : {\"Detail\":\"Invalid object name 'm.delrio03@gmail.com.table_rv02bcontiglistTodos-blastxFinal.txt'.\"}\r\n"
     ]
    }
   ],
   "source": [
    "!python /Applications/bioinfo/sqlshare-pythonclient/tools/fetchdata.py \\\n",
    "-s \"SELECT * FROM [m.delrio03@gmail.com].[table_rv02bcontiglistTodos-blastxFinal.txt]blast left join [sr320@washington.edu].[SPID and GO Numbers]go on blast.Column3=go.SPID left join [sr320@washington.edu].[GO_to_GOslim]slim on go.GOID=slim.GO_id where aspect like 'P'\" \\\n",
    "-f tsv \\\n",
    "-o analyses/miguel-out-01.tsv"
   ]
  },
  {
   "cell_type": "code",
   "execution_count": null,
   "metadata": {
    "collapsed": true
   },
   "outputs": [],
   "source": []
  }
 ],
 "metadata": {
  "kernelspec": {
   "display_name": "Python 2",
   "language": "python",
   "name": "python2"
  },
  "language_info": {
   "codemirror_mode": {
    "name": "ipython",
    "version": 2
   },
   "file_extension": ".py",
   "mimetype": "text/x-python",
   "name": "python",
   "nbconvert_exporter": "python",
   "pygments_lexer": "ipython2",
   "version": "2.7.11"
  }
 },
 "nbformat": 4,
 "nbformat_minor": 0
}
