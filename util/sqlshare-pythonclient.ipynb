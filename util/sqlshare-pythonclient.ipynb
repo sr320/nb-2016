{
 "cells": [
  {
   "cell_type": "markdown",
   "metadata": {},
   "source": [
    "# Downloading SQLShare data"
   ]
  },
  {
   "cell_type": "code",
   "execution_count": null,
   "metadata": {
    "collapsed": false
   },
   "outputs": [],
   "source": [
    "!python /Users/sr320/sqlshare-pythonclient/tools/fetchdata.py"
   ]
  },
  {
   "cell_type": "code",
   "execution_count": null,
   "metadata": {
    "collapsed": false
   },
   "outputs": [],
   "source": [
    "pwd"
   ]
  },
  {
   "cell_type": "code",
   "execution_count": null,
   "metadata": {
    "collapsed": false
   },
   "outputs": [],
   "source": [
    "!python /Users/sr320/sqlshare-pythonclient/tools/fetchdata.py \\\n",
    "-s \"set rowcount 10 SELECT * FROM [sr320@washington.edu].[RNA-Seq_DH3]\" \\\n",
    "-f tsv \\\n",
    "-o analyses/oscar-out-test.tsv"
   ]
  },
  {
   "cell_type": "code",
   "execution_count": null,
   "metadata": {
    "collapsed": false
   },
   "outputs": [],
   "source": [
    "!head analyses/oscar-out-test.tsv"
   ]
  },
  {
   "cell_type": "code",
   "execution_count": null,
   "metadata": {
    "collapsed": false
   },
   "outputs": [],
   "source": [
    "!python /Applications/bioinfo/sqlshare-pythonclient/tools/fetchdata.py \\\n",
    "-s \"SELECT Column1, term, GOSlim_bin, aspect, ProteinName FROM [ojuarez@cicese.edu.mx].[Ramfiltro-sql.tab]p left join [samwhite@washington.edu].[UniprotProtNamesReviewed_yes20130610]sp on p.Column3=sp.SPID left join [sr320@washington.edu].[SPID and GO Numbers]go on p.Column3=go.SPID left join [sr320@washington.edu].[GO_to_GOslim]slim on go.GOID=slim.GO_id where aspect like 'P'\" \\\n",
    "-f tsv \\\n",
    "-o analyses/oscar-out-01.tsv"
   ]
  },
  {
   "cell_type": "code",
   "execution_count": 2,
   "metadata": {
    "collapsed": false
   },
   "outputs": [],
   "source": [
    "!python /Applications/bioinfo/sqlshare-pythonclient/tools/fetchdata.py \\\n",
    "-s \"SELECT * FROM [m.delrio03@gmail.com].[tablerv02]go left join [sr320@washington.edu].[GO_to_GOslim]slim  on go.GOID=slim.GO_id where aspect like 'P'\" \\\n",
    "-o analyses/miguel-out-02.tsv"
   ]
  },
  {
   "cell_type": "code",
   "execution_count": null,
   "metadata": {
    "collapsed": true
   },
   "outputs": [],
   "source": []
  }
 ],
 "metadata": {
  "kernelspec": {
   "display_name": "Python 2",
   "language": "python",
   "name": "python2"
  },
  "language_info": {
   "codemirror_mode": {
    "name": "ipython",
    "version": 2
   },
   "file_extension": ".py",
   "mimetype": "text/x-python",
   "name": "python",
   "nbconvert_exporter": "python",
   "pygments_lexer": "ipython2",
   "version": "2.7.11"
  }
 },
 "nbformat": 4,
 "nbformat_minor": 0
}
