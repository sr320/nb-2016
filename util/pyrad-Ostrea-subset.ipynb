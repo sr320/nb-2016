{
 "cells": [
  {
   "cell_type": "markdown",
   "metadata": {},
   "source": [
    "# Example _de novo_ RADseq assembly using _pyRAD_"
   ]
  },
  {
   "cell_type": "markdown",
   "metadata": {},
   "source": [
    "# Modification to start looking at Ostrea data"
   ]
  },
  {
   "cell_type": "markdown",
   "metadata": {},
   "source": [
    "----------  \n",
    "\n",
    "Please direct questions about _pyRAD_ analyses to the google group thread ([link](https://groups.google.com/forum/#!forum/pyrad-users))  \n",
    "\n",
    "--------------  \n",
    "\n"
   ]
  },
  {
   "cell_type": "markdown",
   "metadata": {},
   "source": [
    "+  This tutorial is meant as a walkthrough for a single-end RADseq analyses. If you have not yet read the [__full tutorial__](http://www.dereneaton.com/software/pyrad), you should start there for a broader description of how _pyRAD_ works. If you are new to RADseq analyses, this tutorial will provide a simple overview of how to execute _pyRAD_, what the data files look like, and how to check that your analysis is working, and the expected output formats.  \n",
    "\n",
    "\n",
    "\n",
    "+  Each cell in this tutorial begins with the header (%%bash) indicating that the code should be executed in a command line shell, for example by copying and pasting the text into your terminal (but excluding the %%bash header).\n",
    "\n",
    "-------------  \n"
   ]
  },
  {
   "cell_type": "markdown",
   "metadata": {},
   "source": [
    "Begin by executing the command below. This will download an example simulated RADseq data set and unarchive it into your current directory."
   ]
  },
  {
   "cell_type": "code",
   "execution_count": 2,
   "metadata": {
    "collapsed": false
   },
   "outputs": [
    {
     "data": {
      "text/plain": [
       "u'/Users/sr320/git-repos/nb-2016/util'"
      ]
     },
     "execution_count": 2,
     "metadata": {},
     "output_type": "execute_result"
    }
   ],
   "source": [
    "pwd"
   ]
  },
  {
   "cell_type": "code",
   "execution_count": 1,
   "metadata": {
    "collapsed": false
   },
   "outputs": [
    {
     "name": "stdout",
     "output_type": "stream",
     "text": [
      "/Volumes/web-1/halfshell/working-directory\n"
     ]
    }
   ],
   "source": [
    "cd /Volumes/web-1/halfshell/working-directory\n"
   ]
  },
  {
   "cell_type": "code",
   "execution_count": 2,
   "metadata": {
    "collapsed": false
   },
   "outputs": [
    {
     "name": "stdout",
     "output_type": "stream",
     "text": [
      "/Volumes/web-1/halfshell/working-directory/16-04-15b\n"
     ]
    }
   ],
   "source": [
    "cd 16-04-15b"
   ]
  },
  {
   "cell_type": "code",
   "execution_count": 3,
   "metadata": {
    "collapsed": false
   },
   "outputs": [
    {
     "name": "stdout",
     "output_type": "stream",
     "text": [
      "1HL_1A_1.fq.gz*\r\n",
      "1HL_1A_2.fq.gz*\r\n",
      "1HL_2A_1.fq.gz*\r\n",
      "1HL_2A_2.fq.gz*\r\n",
      "1HL_3A_1.fq.gz*\r\n",
      "1HL_3A_2.fq.gz*\r\n",
      "1HL_4A_1.fq.gz*\r\n",
      "1HL_4A_2.fq.gz*\r\n",
      "1NF_1A_1.fq.gz*\r\n",
      "1NF_1A_2.fq.gz*\r\n"
     ]
    }
   ],
   "source": [
    "ls | head"
   ]
  },
  {
   "cell_type": "markdown",
   "metadata": {},
   "source": [
    "#### We begin by creating the params.txt file which is used to set all parameters for an analysis."
   ]
  },
  {
   "cell_type": "markdown",
   "metadata": {},
   "source": [
    "------------   \n",
    "\n",
    "The params file lists on each line one parameter followed by a __##__ mark, after which any comments can be left. In the comments section there is a description of the parameter and in parentheses the step of the analysis affected by the parameter. Lines 1-12 are required, the remaining lines are optional. The params.txt file is further described in the general tutorial."
   ]
  },
  {
   "cell_type": "markdown",
   "metadata": {},
   "source": [
    "#### Let's take a look at the default settings. "
   ]
  },
  {
   "cell_type": "code",
   "execution_count": 4,
   "metadata": {
    "collapsed": false
   },
   "outputs": [
    {
     "name": "stdout",
     "output_type": "stream",
     "text": [
      "==** parameter inputs for pyRAD version 3.0.64  **======================== affected step ==\n",
      "./                        ## 1. Working directory                                 (all)\n",
      "./*.fastq.gz              ## 2. Loc. of non-demultiplexed files (if not line 18)  (s1)\n",
      "./*.barcodes              ## 3. Loc. of barcode file (if not line 18)             (s1)\n",
      "/Applications/bioinfo/vsearch-1.11.1-osx-x86_64/bin/vsearch                   ## 4. command (or path) to call vsearch (or usearch)    (s3,s6)\n",
      "/Applications/bioinfo/muscle3.8.31_i86darwin64                    ## 5. command (or path) to call muscle                  (s3,s7)\n",
      "CWGC                     ## 6. Restriction overhang (e.g., C|TGCAG -> TGCAG)     (s1,s2)\n",
      "6                         ## 7. N processors (parallel)                           (all)\n",
      "5                         ## 8. Mindepth: min coverage for a cluster              (s4,s5)\n",
      "4                         ## 9. NQual: max # sites with qual < 20 (or see line 20)(s2)\n",
      ".88                       ## 10. Wclust: clustering threshold as a decimal        (s3,s6)\n",
      "gbs                       ## 11. Datatype: rad,gbs,pairgbs,pairddrad,(others:see docs)(all)\n",
      "50                         ## 12. MinCov: min samples in a final locus             (s7)\n",
      "20                         ## 13. MaxSH: max inds with shared hetero site          (s7)\n",
      "c88d6m4p3                 ## 14. Prefix name for final output (no spaces)         (s7)\n",
      "==== optional params below this line ===================================  affected step ==\n",
      "                       ## 15.opt.: select subset (prefix* only selector)            (s2-s7)\n",
      "                       ## 16.opt.: add-on (outgroup) taxa (list or prefix*)         (s6,s7)\n",
      "                       ## 17.opt.: exclude taxa (list or prefix*)                   (s7)\n",
      "                       ## 18.opt.: loc. of de-multiplexed data                      (s2)\n",
      "                       ## 19.opt.: maxM: N mismatches in barcodes (def= 1)          (s1)\n",
      "                       ## 20.opt.: phred Qscore offset (def= 33)                    (s2)\n",
      "                       ## 21.opt.: filter: def=0=NQual 1=NQual+adapters. 2=strict   (s2)\n",
      "                       ## 22.opt.: a priori E,H (def= 0.001,0.01, if not estimated) (s5)\n",
      "                       ## 23.opt.: maxN: max Ns in a cons seq (def=5)               (s5)\n",
      "                       ## 24.opt.: maxH: max heterozyg. sites in cons seq (def=5)   (s5)\n",
      "                       ## 25.opt.: ploidy: max alleles in cons seq (def=2;see docs) (s4,s5)\n",
      "                       ## 26.opt.: maxSNPs: (def=100). Paired (def=100,100)         (s7)\n",
      "                       ## 27.opt.: maxIndels: within-clust,across-clust (def. 3,99) (s3,s7)\n",
      "                       ## 28.opt.: random number seed (def. 112233)              (s3,s6,s7)\n",
      "                       ## 29.opt.: trim overhang left,right on final loci, def(0,0) (s7)\n",
      "                       ## 30.opt.: output formats: p,n,a,s,v,u,t,m,k,g,* (see docs) (s7)\n",
      "                       ## 31.opt.: maj. base call at depth>x<mindepth (def.x=mindepth) (s5)\n",
      "                       ## 32.opt.: keep trimmed reads (def=0). Enter min length.    (s2)\n",
      "                       ## 33.opt.: max stack size (int), def= max(500,mean+2*SD)    (s3)\n",
      "                       ## 34.opt.: minDerep: exclude dereps with <= N copies, def=1 (s3)\n",
      "                       ## 35.opt.: use hierarchical clustering (def.=0, 1=yes)      (s6)\n",
      "                       ## 36.opt.: repeat masking (def.=1='dust' method, 0=no)      (s3,s6)\n",
      "                       ## 37.opt.: vsearch max threads per job (def.=6; see docs)   (s3,s6)\n",
      "==== optional: list group/clade assignments below this line (see docs) ==================\n"
     ]
    }
   ],
   "source": [
    "%%bash\n",
    "cat params.txt"
   ]
  },
  {
   "cell_type": "markdown",
   "metadata": {},
   "source": [
    "#### To change parameters you can edit params.txt in any text editor. Here to automate things I use the script below."
   ]
  },
  {
   "cell_type": "markdown",
   "metadata": {},
   "source": [
    "#### Let's have a look at the changes:"
   ]
  },
  {
   "cell_type": "markdown",
   "metadata": {},
   "source": [
    "--------------   \n",
    "\n",
    "__Let's take a look at what the raw data look like.__"
   ]
  },
  {
   "cell_type": "markdown",
   "metadata": {},
   "source": [
    "Your input data will be in fastQ format, usually ending in .fq or .fastq. Your data could be split among multiple files, or all within a single file (de-multiplexing goes much faster if they happen to be split into multiple files). The file/s may be compressed with gzip so that they have a .gz ending, but they do not need to be. The location of these files should be entered on line 2 of the params file. Below are the first three reads in the example file."
   ]
  },
  {
   "cell_type": "code",
   "execution_count": 6,
   "metadata": {
    "collapsed": false
   },
   "outputs": [
    {
     "name": "stdout",
     "output_type": "stream",
     "text": [
      "\u001b[31m1HL_1A_1.fq.gz\u001b[m\u001b[m* \u001b[31m1HL_3A_2.fq.gz\u001b[m\u001b[m* \u001b[31m1NF_2A_1.fq.gz\u001b[m\u001b[m* \u001b[31m1NF_5A_2.fq.gz\u001b[m\u001b[m* \u001b[31m1SN_3A_1.fq.gz\u001b[m\u001b[m*\r\n",
      "\u001b[31m1HL_1A_2.fq.gz\u001b[m\u001b[m* \u001b[31m1HL_4A_1.fq.gz\u001b[m\u001b[m* \u001b[31m1NF_2A_2.fq.gz\u001b[m\u001b[m* \u001b[31m1SN_1A_1.fq.gz\u001b[m\u001b[m* \u001b[31m1SN_3A_2.fq.gz\u001b[m\u001b[m*\r\n",
      "\u001b[31m1HL_2A_1.fq.gz\u001b[m\u001b[m* \u001b[31m1HL_4A_2.fq.gz\u001b[m\u001b[m* \u001b[31m1NF_4A_1.fq.gz\u001b[m\u001b[m* \u001b[31m1SN_1A_2.fq.gz\u001b[m\u001b[m* \u001b[31m1SN_4A_1.fq.gz\u001b[m\u001b[m*\r\n",
      "\u001b[31m1HL_2A_2.fq.gz\u001b[m\u001b[m* \u001b[31m1NF_1A_1.fq.gz\u001b[m\u001b[m* \u001b[31m1NF_4A_2.fq.gz\u001b[m\u001b[m* \u001b[31m1SN_2A_1.fq.gz\u001b[m\u001b[m* \u001b[31m1SN_4A_2.fq.gz\u001b[m\u001b[m*\r\n",
      "\u001b[31m1HL_3A_1.fq.gz\u001b[m\u001b[m* \u001b[31m1NF_1A_2.fq.gz\u001b[m\u001b[m* \u001b[31m1NF_5A_1.fq.gz\u001b[m\u001b[m* \u001b[31m1SN_2A_2.fq.gz\u001b[m\u001b[m* \u001b[31mparams.txt\u001b[m\u001b[m*\r\n"
     ]
    }
   ],
   "source": [
    "ls"
   ]
  },
  {
   "cell_type": "code",
   "execution_count": 16,
   "metadata": {
    "collapsed": false
   },
   "outputs": [
    {
     "name": "stdout",
     "output_type": "stream",
     "text": [
      "^C\r\n"
     ]
    }
   ],
   "source": [
    "!gunzip *.gz"
   ]
  },
  {
   "cell_type": "code",
   "execution_count": 17,
   "metadata": {
    "collapsed": false
   },
   "outputs": [
    {
     "name": "stdout",
     "output_type": "stream",
     "text": [
      "1HL_10A_1.fq*\r\n",
      "1HL_10A_2.fq*\r\n",
      "1HL_10A_2.fq.gz*\r\n",
      "1HL_11A_1.fq.gz*\r\n",
      "1HL_11A_2.fq.gz*\r\n",
      "1HL_12A_1.fq.gz*\r\n",
      "1HL_12A_2.fq.gz*\r\n",
      "1HL_13A_1.fq.gz*\r\n",
      "1HL_13A_2.fq.gz*\r\n",
      "1HL_14A_1.fq.gz*\r\n"
     ]
    }
   ],
   "source": [
    "ls | head"
   ]
  },
  {
   "cell_type": "code",
   "execution_count": 28,
   "metadata": {
    "collapsed": false
   },
   "outputs": [
    {
     "name": "stdout",
     "output_type": "stream",
     "text": [
      "@lane1_fakedata0_R1_0 1:N:0:\n",
      "TTTTAATGCAGTGAGTGGCCATGCAATATATATTTACGGGCGCATAGAGACCCTCAAGACTGCCAACCGGGTGAATCACTATTTGCTTAG\n",
      "+\n",
      "BBBBBBBBBBBBBBBBBBBBBBBBBBBBBBBBBBBBBBBBBBBBBBBBBBBBBBBBBBBBBBBBBBBBBBBBBBBBBBBBBBBBBBBBBB\n",
      "@lane1_fakedata0_R1_1 1:N:0:\n",
      "TTTTAATGCAGTGAGTGGCCATGCAATATATATTTACGGGCGCATAGAGACCCTCAAGACTGCCAACCGGGTGAATCACTATTTGCTTAG\n",
      "+\n",
      "BBBBBBBBBBBBBBBBBBBBBBBBBBBBBBBBBBBBBBBBBBBBBBBBBBBBBBBBBBBBBBBBBBBBBBBBBBBBBBBBBBBBBBBBBB\n",
      "@lane1_fakedata0_R1_2 1:N:0:\n",
      "TTTTAATGCAGTGAGTGGCCATGCAATATATATTTACGGGCGCATAGAGACCCTCAAGACTGCCAACCGGGTGAATCACTATTTGCTTAG\n",
      "+\n",
      "BBBBBBBBBBBBBBBBBBBBBBBBBBBBBBBBBBBBBBBBBBBBBBBBBBBBBBBBBBBBBBBBBBBBBBBBBBBBBBBBBBBBBBBBBB\n"
     ]
    }
   ],
   "source": [
    "%%bash\n",
    "less simRADs_R1.fastq | head -n 12 | cut -c 1-90"
   ]
  },
  {
   "cell_type": "markdown",
   "metadata": {},
   "source": [
    "------------   \n",
    "\n",
    "Each read takes four lines. The first is the name of the read (its location on the plate). The second line contains the sequence data. The third line is a spacer. And the fourth line the quality scores for the base calls. In this case arbitrarily high since the data were simulated. \n",
    "\n",
    "These are 100 bp single-end reads prepared as RADseq. The first six bases form the barcode and the next five bases (TGCAG) the restriction site overhang. All following bases make up the sequence data. "
   ]
  },
  {
   "cell_type": "markdown",
   "metadata": {},
   "source": [
    "----------------   \n",
    "\n",
    "## Step 1: de-multiplexing ##"
   ]
  },
  {
   "cell_type": "code",
   "execution_count": null,
   "metadata": {
    "collapsed": true
   },
   "outputs": [],
   "source": [
    "already done by bgi"
   ]
  },
  {
   "cell_type": "markdown",
   "metadata": {},
   "source": [
    "### Step 2: quality filtering"
   ]
  },
  {
   "cell_type": "code",
   "execution_count": 9,
   "metadata": {
    "collapsed": false
   },
   "outputs": [
    {
     "name": "stderr",
     "output_type": "stream",
     "text": [
      "\n",
      "\n",
      "     ------------------------------------------------------------\n",
      "      pyRAD : RADseq for phylogenetics & introgression analyses\n",
      "     ------------------------------------------------------------\n",
      "\n",
      "\tstep 2: editing raw reads \n",
      "\t........................"
     ]
    }
   ],
   "source": [
    "%%bash\n",
    "pyRAD -p params.txt -s 2"
   ]
  },
  {
   "cell_type": "code",
   "execution_count": 10,
   "metadata": {
    "collapsed": false
   },
   "outputs": [
    {
     "name": "stdout",
     "output_type": "stream",
     "text": [
      "1HL_1A_1.edit\n",
      "1HL_1A_2.edit\n",
      "1HL_2A_1.edit\n",
      "1HL_2A_2.edit\n",
      "1HL_3A_1.edit\n",
      "1HL_3A_2.edit\n",
      "1HL_4A_1.edit\n",
      "1HL_4A_2.edit\n",
      "1NF_1A_1.edit\n",
      "1NF_1A_2.edit\n",
      "1NF_2A_1.edit\n",
      "1NF_2A_2.edit\n",
      "1NF_4A_1.edit\n",
      "1NF_4A_2.edit\n",
      "1NF_5A_1.edit\n",
      "1NF_5A_2.edit\n",
      "1SN_1A_1.edit\n",
      "1SN_1A_2.edit\n",
      "1SN_2A_1.edit\n",
      "1SN_2A_2.edit\n",
      "1SN_3A_1.edit\n",
      "1SN_3A_2.edit\n",
      "1SN_4A_1.edit\n",
      "1SN_4A_2.edit\n"
     ]
    }
   ],
   "source": [
    "%%bash\n",
    "ls edits/"
   ]
  },
  {
   "cell_type": "markdown",
   "metadata": {},
   "source": [
    "The filtered data are written in fasta format (quality scores removed) into a new directory called edits/. Below I show a preview of the file which you can view most easily using the `less` command (I use `head` here to make it fit in the text window better)."
   ]
  },
  {
   "cell_type": "code",
   "execution_count": 13,
   "metadata": {
    "collapsed": false
   },
   "outputs": [
    {
     "name": "stdout",
     "output_type": "stream",
     "text": [
      ">1HL_1A_1_0_r1\n",
      "CTGCAGTTATGGGTTTAGTAATTAGATTAGTTGTGGCTTGCTTAGAATATAATATTCTATTTCAAGCGCAACATATTGCA\n",
      ">1HL_1A_1_1_r1\n",
      "CTGCTTCACATGAGGAAAAAGTTCCAAAAGAAGACAACAGAAAAATGCCAATGAAGAGAATAAGAAATATCAATCAAAAA\n",
      ">1HL_1A_1_2_r1\n",
      "CTGCGGTGCCTGAGAAATAAAAAAAAGTTTGTTCTGCCTAAAGCTGAGATTGGTACAGTGGAACAAAGTGCTGAAGAAAG\n",
      ">1HL_1A_1_3_r1\n",
      "CTGCATTAAATCGGCATATTTTTATTTTTTATAGGATTGAATATATAAATTTTCAGAAATGAATACAAAAACCGAATAGC\n",
      ">1HL_1A_1_4_r1\n",
      "CTGCACATCAAGAAAGGGGCAGGGCCAACATCGGTAAGGAAGGGCAAGGTTCAGAAATAGGCAGGGCAAACAGTATGTCG\n"
     ]
    }
   ],
   "source": [
    "%%bash\n",
    "head -n 10 edits/1HL_1A_1.edit | cut -c 1-80"
   ]
  },
  {
   "cell_type": "markdown",
   "metadata": {},
   "source": [
    "### Step 3: clustering within-samples"
   ]
  },
  {
   "cell_type": "markdown",
   "metadata": {},
   "source": [
    "Step 3 de-replicates and then clusters reads within each sample by the set clustering threshold and writes the clusters to new files in a directory called clust.xx"
   ]
  },
  {
   "cell_type": "code",
   "execution_count": 14,
   "metadata": {
    "collapsed": false
   },
   "outputs": [
    {
     "name": "stderr",
     "output_type": "stream",
     "text": [
      "\n",
      "\n",
      "     ------------------------------------------------------------\n",
      "      pyRAD : RADseq for phylogenetics & introgression analyses\n",
      "     ------------------------------------------------------------\n",
      "\n",
      "\n",
      "\tde-replicating files for clustering...\n",
      "\n",
      "\tstep 3: within-sample clustering of 24 samples at \n",
      "\t        '.88' similarity. Running 6 parallel jobs\n",
      "\t \twith up to 6 threads per job. If needed, \n",
      "\t\tadjust to avoid CPU and MEM limits\n",
      "\n",
      "\tsample 1NF_2A_1 finished, 211397 loci\n",
      "\tsample 1SN_4A_1 finished, 223325 loci\n",
      "\tsample 1NF_4A_1 finished, 227834 loci\n",
      "\tsample 1SN_4A_2 finished, 262292 loci\n",
      "\tsample 1NF_2A_2 finished, 254170 loci\n",
      "\tsample 1NF_4A_2 finished, 273403 loci\n",
      "\tsample 1SN_2A_1 finished, 211909 loci\n",
      "\tsample 1SN_1A_2 finished, 233509 loci\n",
      "\tsample 1SN_1A_1 finished, 196225 loci\n",
      "\tsample 1SN_2A_2 finished, 250692 loci\n",
      "\tsample 1NF_5A_1 finished, 201878 loci\n",
      "\tsample 1HL_2A_2 finished, 220793 loci\n",
      "\tsample 1NF_5A_2 finished, 235210 loci\n",
      "\tsample 1HL_2A_1 finished, 188223 loci\n",
      "\tsample 1HL_4A_1 finished, 187837 loci\n",
      "\tsample 1HL_4A_2 finished, 217303 loci\n",
      "\tsample 1SN_3A_1 finished, 235474 loci\n",
      "\tsample 1SN_3A_2 finished, 266870 loci\n",
      "\tsample 1HL_1A_2 finished, 207572 loci\n",
      "\tsample 1NF_1A_1 finished, 127769 loci\n",
      "\tsample 1HL_3A_2 finished, 241082 loci\n",
      "\tsample 1HL_1A_1 finished, 180183 loci\n",
      "\tsample 1HL_3A_1 finished, 214916 loci\n",
      "\tsample 1NF_1A_2 finished, 145020 loci\n"
     ]
    }
   ],
   "source": [
    "%%bash\n",
    "pyRAD -p params.txt -s 3"
   ]
  },
  {
   "cell_type": "markdown",
   "metadata": {},
   "source": [
    "Once again, I recommend you use the unix command 'less' to look at the clustS files. These contain each cluster separated by \"//\". For the first few clusters below you can see that there is one or two alleles in the cluster and one or a few reads that contained a (simulated) sequencing error. "
   ]
  },
  {
   "cell_type": "code",
   "execution_count": 44,
   "metadata": {
    "collapsed": false
   },
   "outputs": [
    {
     "name": "stderr",
     "output_type": "stream",
     "text": [
      "\"clust.85/1A0.clustS.gz\" may be a binary file.  See it anyway? "
     ]
    }
   ],
   "source": [
    "%%bash\n",
    "less clust.85/1A0.clustS.gz | head -n 26 | cut -c 1-80"
   ]
  },
  {
   "cell_type": "markdown",
   "metadata": {},
   "source": [
    "---------------\n",
    "\n",
    "\n",
    "The stats output tells you how many clusters were found, and their mean depth of coverage. It also tells you how many pass  your minimum depth setting. You can use this information to decide if you wish to increase or decrease the mindepth before it is applied for making consensus base calls in steps 4 & 5."
   ]
  },
  {
   "cell_type": "code",
   "execution_count": 15,
   "metadata": {
    "collapsed": false
   },
   "outputs": [
    {
     "name": "stdout",
     "output_type": "stream",
     "text": [
      "\n",
      "taxa\ttotal\tdpt.me\tdpt.sd\td>4.tot\td>4.me\td>4.sd\tbadpairs\n",
      "1HL_1A_1\t180183\t9.1\t57.224\t65738\t21.779\t93.383\t0\n",
      "1HL_1A_2\t207572\t7.509\t38.931\t64027\t20.606\t68.289\t0\n",
      "1HL_2A_1\t188223\t10.441\t62.134\t72867\t24.079\t98.323\t0\n",
      "1HL_2A_2\t220793\t8.49\t41.232\t71187\t22.868\t70.469\t0\n",
      "1HL_3A_1\t214916\t7.441\t38.217\t66187\t20.338\t67.083\t0\n",
      "1HL_3A_2\t241082\t6.418\t31.632\t64417\t19.647\t59.191\t0\n",
      "1HL_4A_1\t187837\t9.827\t52.59\t71766\t22.797\t83.456\t0\n",
      "1HL_4A_2\t217303\t8.232\t45.561\t69785\t22.148\t78.592\t0\n",
      "1NF_1A_1\t127769\t7.742\t35.842\t45123\t18.547\t58.781\t0\n",
      "1NF_1A_2\t145020\t6.633\t29.957\t43746\t18.055\t52.782\t0\n",
      "1NF_2A_1\t211397\t11.667\t65.516\t85433\t26.21\t101.314\t0\n",
      "1NF_2A_2\t254170\t9.375\t51.79\t83372\t25.271\t88.313\t0\n",
      "1NF_4A_1\t227834\t11.261\t66.186\t91019\t25.482\t103.087\t0\n",
      "1NF_4A_2\t273403\t9.101\t54.68\t88937\t24.634\t93.979\t0\n",
      "1NF_5A_1\t201878\t9.78\t48.097\t77386\t22.607\t75.937\t0\n",
      "1NF_5A_2\t235210\t8.207\t41.016\t75595\t22.064\t70.352\t0\n",
      "1SN_1A_1\t196225\t11.115\t62.818\t77527\t25.362\t98.238\t0\n",
      "1SN_1A_2\t233509\t9.044\t51.384\t75550\t24.548\t88.337\t0\n",
      "1SN_2A_1\t211909\t10.364\t62.516\t79250\t24.699\t100.6\t0\n",
      "1SN_2A_2\t250692\t8.451\t49.85\t77415\t23.717\t87.795\t0\n",
      "1SN_3A_1\t235474\t7.488\t40.336\t70207\t21.057\t72.058\t0\n",
      "1SN_3A_2\t266870\t6.457\t34.663\t68439\t20.509\t66.462\t0\n",
      "1SN_4A_1\t223325\t10.48\t54.88\t85795\t24.404\t86.738\t0\n",
      "1SN_4A_2\t262292\t8.558\t42.398\t83629\t23.37\t72.896\t0\n",
      "\n",
      "    ## total = total number of clusters, including singletons\n",
      "    ## dpt.me = mean depth of clusters\n",
      "    ## dpt.sd = standard deviation of cluster depth\n",
      "    ## >N.tot = number of clusters with depth greater than N\n",
      "    ## >N.me = mean depth of clusters with depth greater than N\n",
      "    ## >N.sd = standard deviation of cluster depth for clusters with depth greater than N\n",
      "    ## badpairs = mismatched 1st & 2nd reads (only for paired ddRAD data)\n",
      "\n",
      "HISTOGRAMS\n",
      "\n",
      "    \n",
      "sample: 1HL_1A_1\n",
      "bins\tdepth_histogram\tcnts\n"
     ]
    }
   ],
   "source": [
    "%%bash\n",
    "head -n 40 stats/s3.clusters.txt"
   ]
  },
  {
   "cell_type": "markdown",
   "metadata": {},
   "source": [
    "### Steps 4 & 5: Call consensus sequences"
   ]
  },
  {
   "cell_type": "markdown",
   "metadata": {},
   "source": [
    "#### Step 4 jointly infers the error-rate and heterozygosity across samples."
   ]
  },
  {
   "cell_type": "code",
   "execution_count": 16,
   "metadata": {
    "collapsed": false
   },
   "outputs": [
    {
     "name": "stderr",
     "output_type": "stream",
     "text": [
      "\n",
      "\n",
      "     ------------------------------------------------------------\n",
      "      pyRAD : RADseq for phylogenetics & introgression analyses\n",
      "     ------------------------------------------------------------\n",
      "\n",
      "\n",
      "\tstep 4: estimating error rate and heterozygosity\n",
      "\t........................"
     ]
    }
   ],
   "source": [
    "%%bash\n",
    "pyRAD -p params.txt -s 4"
   ]
  },
  {
   "cell_type": "code",
   "execution_count": 17,
   "metadata": {
    "collapsed": false
   },
   "outputs": [
    {
     "name": "stdout",
     "output_type": "stream",
     "text": [
      "taxa\tH\tE\n",
      "1NF_1A_1\t0.01178287\t0.00227395\t\n",
      "1NF_1A_2\t0.01111578\t0.00456467\t\n",
      "1HL_1A_1\t0.01165588\t0.00222957\t\n",
      "1HL_4A_1\t0.01128766\t0.00215498\t\n",
      "1HL_2A_1\t0.01129892\t0.00215894\t\n",
      "1SN_1A_1\t0.01124951\t0.00206785\t\n",
      "1HL_3A_1\t0.01176524\t0.00222189\t\n",
      "1NF_5A_1\t0.0110808\t0.00199742\t\n",
      "1SN_2A_1\t0.01125617\t0.00216491\t\n",
      "1NF_2A_1\t0.0105777\t0.00200486\t\n",
      "1SN_3A_1\t0.01152874\t0.00218917\t\n",
      "1SN_4A_1\t0.01122477\t0.00222883\t\n",
      "1NF_4A_1\t0.01085647\t0.00206061\t\n",
      "1HL_1A_2\t0.01101551\t0.00432483\t\n",
      "1HL_4A_2\t0.01101026\t0.00427231\t\n",
      "1HL_2A_2\t0.01075435\t0.00430961\t\n",
      "1HL_3A_2\t0.01118699\t0.00438399\t\n",
      "1NF_5A_2\t0.01077547\t0.00432624\t\n",
      "1SN_1A_2\t0.01095606\t0.00433219\t\n",
      "1SN_3A_2\t0.01090279\t0.00450492\t\n",
      "1SN_2A_2\t0.01092085\t0.00425974\t\n",
      "1NF_2A_2\t0.01039075\t0.00440895\t\n",
      "1SN_4A_2\t0.01096988\t0.00426638\t\n",
      "1NF_4A_2\t0.0107695\t0.00437047\t\n"
     ]
    }
   ],
   "source": [
    "%%bash\n",
    "less stats/Pi_E_estimate.txt"
   ]
  },
  {
   "cell_type": "markdown",
   "metadata": {},
   "source": [
    "#### Step 5 calls consensus sequences using the parameters inferred above, and filters for paralogs."
   ]
  },
  {
   "cell_type": "code",
   "execution_count": 18,
   "metadata": {
    "collapsed": false
   },
   "outputs": [
    {
     "name": "stderr",
     "output_type": "stream",
     "text": [
      "\n",
      "\n",
      "     ------------------------------------------------------------\n",
      "      pyRAD : RADseq for phylogenetics & introgression analyses\n",
      "     ------------------------------------------------------------\n",
      "\n",
      "\n",
      "\tstep 5: creating consensus seqs for 24 samples, using H=0.01110 E=0.00325\n",
      "\t........................"
     ]
    }
   ],
   "source": [
    "%%bash\n",
    "pyRAD -p params.txt -s 5"
   ]
  },
  {
   "cell_type": "markdown",
   "metadata": {},
   "source": [
    "#### The stats output for step 5"
   ]
  },
  {
   "cell_type": "code",
   "execution_count": 19,
   "metadata": {
    "collapsed": false
   },
   "outputs": [
    {
     "name": "stdout",
     "output_type": "stream",
     "text": [
      "taxon          \tnloci\tf1loci\tf2loci\tnsites\tnpoly\tpoly\n",
      "1SN_3A_2\t266870\t68346\t59729\t5783777\t26715\t0.004619\n",
      "1SN_1A_2\t233509\t75396\t66194\t6446729\t30395\t0.0047148\n",
      "1SN_2A_2\t250692\t77262\t67803\t6595427\t30717\t0.0046573\n",
      "1SN_4A_2\t262292\t83485\t73488\t7171633\t33247\t0.0046359\n",
      "1NF_2A_2\t254170\t83191\t73261\t7149211\t31778\t0.004445\n",
      "1NF_4A_2\t273403\t88764\t78173\t7633358\t35859\t0.0046977\n",
      "1HL_3A_2\t241082\t64329\t56407\t5478855\t26280\t0.0047966\n",
      "1NF_5A_2\t235210\t75474\t66358\t6463432\t29405\t0.0045494\n",
      "1HL_1A_2\t207572\t63938\t56129\t5449230\t26035\t0.0047777\n",
      "1HL_2A_2\t220793\t71082\t62536\t6092599\t28086\t0.0046099\n",
      "1HL_4A_2\t217303\t69673\t61284\t5964488\t27571\t0.0046225\n",
      "1NF_4A_1\t227834\t90819\t83725\t7838087\t36674\t0.0046789\n",
      "1SN_3A_1\t235474\t70093\t64185\t5834728\t27607\t0.0047315\n",
      "1SN_4A_1\t223325\t85604\t78737\t7206044\t33832\t0.0046949\n",
      "1SN_2A_1\t211909\t79071\t72755\t6641453\t31759\t0.0047819\n",
      "1NF_5A_1\t201878\t77245\t70997\t6628802\t30404\t0.0045867\n",
      "1NF_2A_1\t211397\t85225\t78715\t7363184\t32784\t0.0044524\n",
      "1HL_3A_1\t214916\t66084\t60633\t5460263\t27167\t0.0049754\n",
      "1NF_1A_2\t145020\t43704\t38203\t3695365\t17850\t0.0048304\n",
      "1NF_1A_1\t127769\t45075\t41242\t3823567\t19132\t0.0050037\n",
      "1SN_1A_1\t196225\t77341\t71085\t6564504\t30899\t0.004707\n",
      "1HL_1A_1\t180183\t65629\t60268\t5425619\t26817\t0.0049427\n",
      "1HL_2A_1\t188223\t72719\t66918\t6048475\t28698\t0.0047447\n",
      "1HL_4A_1\t187837\t71637\t65960\t5955429\t28685\t0.0048166\n",
      "\n",
      "    ## nloci = number of loci\n",
      "    ## f1loci = number of loci with >N depth coverage\n",
      "    ## f2loci = number of loci with >N depth and passed paralog filter\n",
      "    ## nsites = number of sites across f loci\n",
      "    ## npoly = number of polymorphic sites in nsites\n",
      "    ## poly = frequency of polymorphic sites\n"
     ]
    }
   ],
   "source": [
    "%%bash\n",
    "less stats/s5.consens.txt"
   ]
  },
  {
   "cell_type": "markdown",
   "metadata": {},
   "source": [
    "### Step 6: Cluster across samples"
   ]
  },
  {
   "cell_type": "markdown",
   "metadata": {},
   "source": [
    "Step 6 clusters consensus sequences across samples. It will print its progress to the screen. This uses 6 threads by default. If you enter 0 for param 37 it will use all available processors. "
   ]
  },
  {
   "cell_type": "code",
   "execution_count": 20,
   "metadata": {
    "collapsed": false
   },
   "outputs": [
    {
     "name": "stdout",
     "output_type": "stream",
     "text": [
      "vsearch v1.11.1_osx_x86_64, 32.0GB RAM, 8 cores\n",
      "https://github.com/torognes/vsearch\n",
      "\n",
      "\n",
      "\tfinished clustering\n"
     ]
    },
    {
     "name": "stderr",
     "output_type": "stream",
     "text": [
      "\n",
      "\n",
      "     ------------------------------------------------------------\n",
      "      pyRAD : RADseq for phylogenetics & introgression analyses\n",
      "     ------------------------------------------------------------\n",
      "\n",
      "\n",
      "\tstep 6: clustering across 24 samples at '.88' similarity \n",
      "\n",
      "Reading file /Volumes/web-1/halfshell/working-directory/16-04-15b/clust.88/cat.haplos_ 100%\n",
      "155013399 nt in 1574785 seqs, min 33, max 153, avg 98\n",
      "Counting unique k-mers 100%\n",
      "Clustering 100%\n",
      "Sorting clusters 100%\n",
      "Writing clusters 100%\n",
      "Clusters: 217149 Size min 1, max 62, avg 7.3\n",
      "Singletons: 53358, 3.4% of seqs, 24.6% of clusters\n"
     ]
    }
   ],
   "source": [
    "%%bash\n",
    "pyRAD -p params.txt -s 6 "
   ]
  },
  {
   "cell_type": "markdown",
   "metadata": {},
   "source": [
    "## Step 7: Assemble final data sets"
   ]
  },
  {
   "cell_type": "markdown",
   "metadata": {},
   "source": [
    "The final step is to output data only for the loci that you want to have included in your data set. This filters once again for potential paralogs or highly repetitive regions, and includes options to minimize the amount of missing data in the output. "
   ]
  },
  {
   "cell_type": "code",
   "execution_count": 27,
   "metadata": {
    "collapsed": false
   },
   "outputs": [
    {
     "name": "stdout",
     "output_type": "stream",
     "text": [
      "\tingroup 1HL_1A_1,1HL_1A_2,1HL_2A_1,1HL_2A_2,1HL_3A_1,1HL_3A_2,1HL_4A_1,1HL_4A_2,1NF_1A_1,1NF_1A_2,1NF_2A_1,1NF_2A_2,1NF_4A_1,1NF_4A_2,1NF_5A_1,1NF_5A_2,1SN_1A_1,1SN_1A_2,1SN_2A_1,1SN_2A_2,1SN_3A_1,1SN_3A_2,1SN_4A_1,1SN_4A_2\n",
      "\taddon \n",
      "\texclude \n",
      "\t\n",
      "\tfinal stats written to:\n",
      "\t /Volumes/web-1/halfshell/working-directory/16-04-15b/stats/c88d6m4p3_2.stats\n",
      "\toutput files being written to:\n",
      "\t /Volumes/web-1/halfshell/working-directory/16-04-15b/outfiles/ directory\n",
      "\n"
     ]
    },
    {
     "name": "stderr",
     "output_type": "stream",
     "text": [
      "\n",
      "\n",
      "     ------------------------------------------------------------\n",
      "      pyRAD : RADseq for phylogenetics & introgression analyses\n",
      "     ------------------------------------------------------------\n",
      "\n",
      "......"
     ]
    }
   ],
   "source": [
    "%%bash\n",
    "pyRAD -p params.txt -s 7"
   ]
  },
  {
   "cell_type": "markdown",
   "metadata": {},
   "source": [
    "### Final stats output"
   ]
  },
  {
   "cell_type": "code",
   "execution_count": 29,
   "metadata": {
    "collapsed": false
   },
   "outputs": [
    {
     "name": "stdout",
     "output_type": "stream",
     "text": [
      "\n",
      "\n",
      "56612       ## loci with > minsp containing data\n",
      "56426       ## loci with > minsp containing data & paralogs removed\n",
      "56426       ## loci with > minsp containing data & paralogs removed & final filtering\n",
      "\n",
      "## number of loci recovered in final data set for each taxon.\n",
      "taxon\tnloci\n",
      "1HL_1A_1\t39071\n",
      "1HL_1A_2\t37321\n",
      "1HL_2A_1\t41795\n",
      "1HL_2A_2\t40563\n",
      "1HL_3A_1\t39052\n",
      "1HL_3A_2\t37551\n",
      "1HL_4A_1\t41632\n",
      "1HL_4A_2\t40133\n",
      "1NF_1A_1\t30287\n",
      "1NF_1A_2\t28375\n",
      "1NF_2A_1\t45720\n",
      "1NF_2A_2\t44426\n",
      "1NF_4A_1\t46288\n",
      "1NF_4A_2\t45088\n",
      "1NF_5A_1\t43569\n",
      "1NF_5A_2\t42111\n",
      "1SN_1A_1\t43773\n",
      "1SN_1A_2\t42236\n",
      "1SN_2A_1\t43722\n",
      "1SN_2A_2\t42228\n",
      "1SN_3A_1\t39948\n",
      "1SN_3A_2\t38299\n",
      "1SN_4A_1\t45095\n",
      "1SN_4A_2\t43797\n",
      "\n",
      "\n",
      "## nloci = number of loci with data for exactly ntaxa\n",
      "## ntotal = number of loci for which at least ntaxa have data\n",
      "ntaxa\tnloci\tsaved\tntotal\n",
      "1\t-\n",
      "2\t-\t\t-\n",
      "3\t-\t\t-\n",
      "4\t-\t\t-\n",
      "5\t-\t\t-\n",
      "6\t-\t\t-\n",
      "7\t-\t\t-\n",
      "8\t-\t\t-\n",
      "9\t-\t\t-\n",
      "10\t5248\t*\t56426\n",
      "11\t3715\t*\t51178\n",
      "12\t4321\t*\t47463\n",
      "13\t3120\t*\t43142\n",
      "14\t3610\t*\t40022\n",
      "15\t2658\t*\t36412\n",
      "16\t3267\t*\t33754\n",
      "17\t2490\t*\t30487\n",
      "18\t3068\t*\t27997\n",
      "19\t2332\t*\t24929\n",
      "20\t3255\t*\t22597\n",
      "21\t2285\t*\t19342\n",
      "22\t3945\t*\t17057\n",
      "23\t2784\t*\t13112\n",
      "24\t10328\t*\t10328\n",
      "\n",
      "\n",
      "## nvar = number of loci containing n variable sites (pis+autapomorphies).\n",
      "## sumvar = sum of variable sites (SNPs).\n",
      "## pis = number of loci containing n parsimony informative sites.\n",
      "## sumpis = sum of parsimony informative sites.\n",
      "\tnvar\tsumvar\tPIS\tsumPIS\n",
      "0\t14896\t0\t19539\t0\n",
      "1\t9177\t9177\t9660\t9660\n",
      "2\t6361\t21899\t6577\t22814\n",
      "3\t4846\t36437\t5058\t37988\n",
      "4\t4025\t52537\t4083\t54320\n",
      "5\t3470\t69887\t3445\t71545\n",
      "6\t2721\t86213\t2383\t85843\n",
      "7\t2151\t101270\t1757\t98142\n",
      "8\t1803\t115694\t1132\t107198\n",
      "9\t1391\t128213\t833\t114695\n",
      "10\t1177\t139983\t621\t120905\n",
      "11\t899\t149872\t413\t125448\n",
      "12\t732\t158656\t267\t128652\n",
      "13\t603\t166495\t206\t131330\n",
      "14\t501\t173509\t138\t133262\n",
      "15\t392\t179389\t103\t134807\n",
      "16\t313\t184397\t79\t136071\n",
      "17\t302\t189531\t52\t136955\n",
      "18\t166\t192519\t35\t137585\n",
      "19\t124\t194875\t25\t138060\n",
      "20\t109\t197055\t7\t138200\n",
      "21\t82\t198777\t5\t138305\n",
      "22\t56\t200009\t3\t138371\n",
      "23\t35\t200814\t2\t138417\n",
      "24\t25\t201414\t1\t138441\n",
      "25\t24\t202014\t1\t138466\n",
      "26\t18\t202482\t0\t138466\n",
      "27\t3\t202563\t0\t138466\n",
      "28\t6\t202731\t0\t138466\n",
      "29\t5\t202876\t0\t138466\n",
      "30\t1\t202906\t0\t138466\n",
      "31\t4\t203030\t0\t138466\n",
      "32\t1\t203062\t0\t138466\n",
      "33\t1\t203095\t0\t138466\n",
      "34\t3\t203197\t1\t138500\n",
      "35\t0\t203197\t0\t138500\n",
      "36\t0\t203197\t0\t138500\n",
      "37\t1\t203234\t0\t138500\n",
      "38\t0\t203234\t0\t138500\n",
      "39\t0\t203234\t0\t138500\n",
      "40\t0\t203234\t0\t138500\n",
      "41\t0\t203234\t0\t138500\n",
      "42\t0\t203234\t0\t138500\n",
      "43\t0\t203234\t0\t138500\n",
      "44\t0\t203234\t0\t138500\n",
      "45\t0\t203234\t0\t138500\n",
      "46\t0\t203234\t0\t138500\n",
      "47\t0\t203234\t0\t138500\n",
      "48\t0\t203234\t0\t138500\n",
      "49\t0\t203234\t0\t138500\n",
      "50\t0\t203234\t0\t138500\n",
      "51\t0\t203234\t0\t138500\n",
      "52\t1\t203286\t0\t138500\n",
      "53\t0\t203286\t0\t138500\n",
      "54\t0\t203286\t0\t138500\n",
      "55\t0\t203286\t0\t138500\n",
      "56\t0\t203286\t0\t138500\n",
      "57\t0\t203286\t0\t138500\n",
      "58\t0\t203286\t0\t138500\n",
      "59\t0\t203286\t0\t138500\n",
      "60\t0\t203286\t0\t138500\n",
      "61\t0\t203286\t0\t138500\n",
      "62\t0\t203286\t0\t138500\n",
      "63\t0\t203286\t0\t138500\n",
      "64\t0\t203286\t0\t138500\n",
      "65\t0\t203286\t0\t138500\n",
      "66\t1\t203352\t0\t138500\n",
      "total var= 203352\n",
      "total pis= 138500\n"
     ]
    }
   ],
   "source": [
    "%%bash\n",
    "less stats/c88d6m4p3_2.stats"
   ]
  },
  {
   "cell_type": "markdown",
   "metadata": {},
   "source": [
    "---------------  \n",
    "\n",
    "## Output formats ##"
   ]
  },
  {
   "cell_type": "markdown",
   "metadata": {},
   "source": [
    "We created 11 output files from our analysis. The standard two (.loci and .excluded_loci), as well as the 9 additional ones listed in the params file. These are all shown below."
   ]
  },
  {
   "cell_type": "code",
   "execution_count": 30,
   "metadata": {
    "collapsed": false
   },
   "outputs": [
    {
     "name": "stdout",
     "output_type": "stream",
     "text": [
      "c88d6m4p3.excluded_loci\n",
      "c88d6m4p3.loci\n",
      "c88d6m4p3_2.excluded_loci\n",
      "c88d6m4p3_2.loci\n"
     ]
    }
   ],
   "source": [
    "%%bash \n",
    "ls outfiles/"
   ]
  },
  {
   "cell_type": "markdown",
   "metadata": {},
   "source": [
    "### Loci format  \n",
    "The \".loci\" file contains each locus listed in a fasta-like format that also shows which sites are variable below each locus. Autapomorphies are listed as '-' and shared SNPs as '*'. This is a custom format that is human readable and also used as input to perform D-statistic tests in pyRAD. This is the easiest way to visualize your results. I recommend viewing the file with the command `less`. Below I use a head and cut to make it easy to view in this window."
   ]
  },
  {
   "cell_type": "code",
   "execution_count": null,
   "metadata": {
    "collapsed": false
   },
   "outputs": [],
   "source": [
    "%%bash \n",
    "head -n 39 outfiles/c85m4p3.loci | cut -c 1-75"
   ]
  },
  {
   "cell_type": "markdown",
   "metadata": {},
   "source": [
    "### PHY format"
   ]
  },
  {
   "cell_type": "code",
   "execution_count": null,
   "metadata": {
    "collapsed": false
   },
   "outputs": [],
   "source": [
    "%%bash \n",
    "head -n 50 outfiles/c85m4p3.phy | cut -c 1-85"
   ]
  },
  {
   "cell_type": "markdown",
   "metadata": {},
   "source": [
    "### NEX format"
   ]
  },
  {
   "cell_type": "code",
   "execution_count": null,
   "metadata": {
    "collapsed": false
   },
   "outputs": [],
   "source": [
    "%%bash \n",
    "head -n 50 outfiles/c85m4p3.nex | cut -c 1-85"
   ]
  },
  {
   "cell_type": "markdown",
   "metadata": {},
   "source": [
    "### Alleles format"
   ]
  },
  {
   "cell_type": "code",
   "execution_count": null,
   "metadata": {
    "collapsed": false
   },
   "outputs": [],
   "source": [
    "%%bash \n",
    "head -n 50 outfiles/c85m4p3.alleles| cut -c 1-85"
   ]
  },
  {
   "cell_type": "markdown",
   "metadata": {},
   "source": [
    "### STRUCTURE (.str) format"
   ]
  },
  {
   "cell_type": "code",
   "execution_count": null,
   "metadata": {
    "collapsed": false
   },
   "outputs": [],
   "source": [
    "%%bash \n",
    "head -n 50 outfiles/c85m4p3.str | cut -c 1-20"
   ]
  },
  {
   "cell_type": "markdown",
   "metadata": {},
   "source": [
    "### GENO (.geno) format (used in _Admixture_)"
   ]
  },
  {
   "cell_type": "code",
   "execution_count": null,
   "metadata": {
    "collapsed": false
   },
   "outputs": [],
   "source": [
    "%%bash \n",
    "head -n 40 outfiles/c85m4p3.geno "
   ]
  },
  {
   "cell_type": "markdown",
   "metadata": {},
   "source": [
    "### SNPs format"
   ]
  },
  {
   "cell_type": "code",
   "execution_count": null,
   "metadata": {
    "collapsed": false
   },
   "outputs": [],
   "source": [
    "%%bash \n",
    "head -n 50 outfiles/c85m4p3.snps | cut -c 1-85"
   ]
  },
  {
   "cell_type": "markdown",
   "metadata": {},
   "source": [
    "### UNLINKED_SNPs format"
   ]
  },
  {
   "cell_type": "code",
   "execution_count": null,
   "metadata": {
    "collapsed": false
   },
   "outputs": [],
   "source": [
    "%%bash \n",
    "head -n 50 outfiles/c85m4p3.unlinked_snps | cut -c 1-85"
   ]
  },
  {
   "cell_type": "markdown",
   "metadata": {},
   "source": [
    "## OTHER FORMATS  \n",
    "\n",
    "You may also produce some more complicated formatting options that involve pooling individuals into groups or populations. This can be done for the \"treemix\" and \"migrate\" outputs, which are formatted for input into the programs _TreeMix_ and _migrate-n_, respectively. Grouping individuals into populations is done with the final lines of the params file as shown below, and similar to the assignment of individuals into clades for hierarchical clustering (see full tutorial). \n",
    "\n",
    "Each line designates a group, and has three arguments that are separated by space or tab. The first is the group name, the second is the minimum number of individuals that must have data in that group for a locus to be included in the output, and the third is a list of the members of that group. Lists of taxa can include comma-separated names and wildcard selectors, like below. Example:\n"
   ]
  },
  {
   "cell_type": "code",
   "execution_count": null,
   "metadata": {
    "collapsed": false
   },
   "outputs": [],
   "source": [
    "%%bash \n",
    "## append group designations to the params file\n",
    "echo \"pop1 4 1A0,1B0,1C0,1D0 \" >> params.txt\n",
    "echo \"pop2 4 2E0,2F0,2G0,2H0 \" >> params.txt\n",
    "echo \"pop3 4 3* \" >> params.txt\n",
    "\n",
    "## view params file\n",
    "cat params.txt"
   ]
  },
  {
   "cell_type": "markdown",
   "metadata": {},
   "source": [
    "## Creating population output files  \n",
    "Now if we run _pyRAD_ with the 'm' (migrate) or 't' (treemix) output options, it will create their output files. "
   ]
  },
  {
   "cell_type": "code",
   "execution_count": null,
   "metadata": {
    "collapsed": false
   },
   "outputs": [],
   "source": [
    "%%bash \n",
    "pyRAD -p params.txt -s 7"
   ]
  },
  {
   "cell_type": "markdown",
   "metadata": {},
   "source": [
    "## TREEMIX format"
   ]
  },
  {
   "cell_type": "code",
   "execution_count": null,
   "metadata": {
    "collapsed": false
   },
   "outputs": [],
   "source": [
    "%%bash \n",
    "less outfiles/c85m4p3.treemix.gz | head -n 30"
   ]
  },
  {
   "cell_type": "markdown",
   "metadata": {},
   "source": [
    "## MIGRATE-n FORMAT"
   ]
  },
  {
   "cell_type": "code",
   "execution_count": null,
   "metadata": {
    "collapsed": false
   },
   "outputs": [],
   "source": [
    "%%bash \n",
    "head -n 40 outfiles/c85m4p3.migrate | cut -c 1-85"
   ]
  }
 ],
 "metadata": {
  "kernelspec": {
   "display_name": "Python 2",
   "language": "python",
   "name": "python2"
  },
  "language_info": {
   "codemirror_mode": {
    "name": "ipython",
    "version": 2
   },
   "file_extension": ".py",
   "mimetype": "text/x-python",
   "name": "python",
   "nbconvert_exporter": "python",
   "pygments_lexer": "ipython2",
   "version": "2.7.11"
  }
 },
 "nbformat": 4,
 "nbformat_minor": 0
}
