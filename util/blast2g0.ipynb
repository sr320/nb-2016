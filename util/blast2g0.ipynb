{
 "cells": [
  {
   "cell_type": "code",
   "execution_count": 1,
   "metadata": {
    "collapsed": false
   },
   "outputs": [
    {
     "name": "stdout",
     "output_type": "stream",
     "text": [
      "Blast2GO Command Line v1.3.1 build: 1474281598505 maintenance: 2016.09\n",
      "usage: blast2go_cli [-annex] [-annotation] [-cloudblast <cloublastkey>] [-cloudblastbalance\n",
      "       <cloublastkey>] [-creategodb <1,2,3,4>] [-createkeyfile] [-createproperties <path>]\n",
      "       [-ecmapping] [-extractfasta <path>] [-godbstat] [-goslim <path>] [-help] [-ips <email>]\n",
      "       [-localblast <path>] [-mapping] [-nameprefix <name>] [-properties <path>] [-protein]\n",
      "       [-showlicenseinfo] [-statistics <charts>] [-tempfolder <path>] [-useobo <path>] [-workspace\n",
      "       <path>] [-loadannot <path>] [-loadb2g <path> | -loaddat <path> | -loadfasta <path>]\n",
      "       [-loadblast <path>] [-loadblast31 <path>]   [-loadips48 <path>] [-loadips50 <path>]\n",
      "       [-saveannot <path>] [-saveb2g <path>] [-savedat <path>] [-savelog <path>] [-savelorf <path>]\n",
      "       [-savereport <path>] [-saveseqtable <path>]\n",
      "options:\n",
      " -annex                              Run ANNEX to complement the Gene Ontology annotation based on\n",
      "                                     existing molecular functions.\n",
      " -annotation                         Run the Blast2GO annotation algorithm.\n",
      " -cloudblast <cloublastkey>          Run CloudBlast via webservice. This requires a working internet\n",
      "                                     connection and a valid CloudBlast key with a positive balance.\n",
      " -cloudblastbalance <cloublastkey>   Print the CloudBlast balance. This requires a working internet\n",
      "                                     connection.\n",
      " -creategodb <1,2,3,4>               Create a Gene Ontology database on a specified MySQL server.\n",
      "                                     All necessary files (4) will automatically be downloaded. The\n",
      "                                     corresponding URLs (uris) can be changed in the properties\n",
      "                                     file.\n",
      " -createkeyfile                      Create a file which contains a unique ID for your workstation.\n",
      "                                     This file is nessesary to issue licence keys. The file will be\n",
      "                                     placed in the current folder.\n",
      " -createproperties <path>            Path to where the default properties file should be created\n",
      " -ecmapping                          Map Annotated GOs to their Enzyme Codes.\n",
      " -extractfasta <path>                Extract features from a fasta reference to a fasta file (path).\n",
      "                                     Needs configuration in the properties file.\n",
      " -godbstat                           Print a statistic about a GO database specified in the\n",
      "                                     cli.prop. Useful to get a hint if the databsae installation has\n",
      "                                     been successful.\n",
      " -goslim <path>                      Run goslim using an *.obo file. Possible subset obo files can\n",
      "                                     either be downloaded from\n",
      "                                     http://geneontology.org/page/go-slim-and-subset-guide, or\n",
      "                                     customized by hand OBO-Edit2.\n",
      " -help                               Display this message.\n",
      " -ips <email>                        Run InterPro via webservice. This requires a working internet\n",
      "                                     connection, a valid email address and that your data-set\n",
      "                                     contains sequence data.\n",
      " -localblast <path>                  Run Blast against a local database. This requires a working\n",
      "                                     internet connection in order to download the necessary Blast\n",
      "                                     executable (Alternatively you can specify a binary folder\n",
      "                                     manually and place the binary there). Also necessary is a\n",
      "                                     correctly configured local blast database (properties file).\n",
      " -mapping                            Run the Gene Ontology mapping.\n",
      " -nameprefix <name>                  Prefix for the output files, if you do not specify any path in\n",
      "                                     particular (default: b2g_project)\n",
      " -properties <path>                  Path to properties file (mandatory)\n",
      " -protein                            Set this flag if the fasta file contains protein sequences.\n",
      "                                     This option only makes sense together with the -loadfasta\n",
      "                                     option.\n",
      " -showlicenseinfo                    Show details about the currently available license.\n",
      " -statistics <charts>                Provide a comma-separated list statistical charts (try\n",
      "                                     -statistics without options to get a list of all available\n",
      "                                     charts). '-statistics all' will try to export all statistics\n",
      "                                     that are available. The option -nameprefix will be ignored.\n",
      " -tempfolder <path>                  Path to temporary folder (default: System temp folder)\n",
      " -useobo <path>                      The obo file to use for annotation, graph drawing, some\n",
      "                                     statistics and various file im- and exports.\n",
      " -workspace <path>                   Workspace folder, e.g. where the results will be saved if not\n",
      "                                     specified (default: current folder)\n",
      " -loadannot <path>                   Path to .annot file\n",
      " -loadb2g <path>                     Path to Blast2GO .b2g file\n",
      " -loadblast <path>                   Path to Blast .xml file (pre 2.2.31)\n",
      " -loadblast31 <path>                 Path to Blast .xml/.json/.zip file (2.2.31+)\n",
      " -loaddat <path>                     Path to Blast2GO .dat file\n",
      " -loadfasta <path>                   Path to fasta file. Activate -protein option when working with\n",
      "                                     amino acids\n",
      " -loadips48 <path>                   Path to InterProScan 4.8 file or folder\n",
      " -loadips50 <path>                   Path to InterProScan 5.0 file or folder\n",
      " -saveannot <path>                   Save the functional annotations (Gene Ontolgoy terms) as .annot\n",
      " -saveb2g <path>                     Save the project as .b2g\n",
      " -savedat <path>                     Save the project as .dat\n",
      " -savelog <path>                     Save the log in a specified file. The options -nameprefix and\n",
      "                                     -workspace will be ignored.\n",
      " -savelorf <path>                    Convert nucleotide sequences (FASTA format) into amino acid\n",
      "                                     sequences (longest Open Reading Frame, FASTA format). This\n",
      "                                     function may be used to prepare a FASTA file for a local\n",
      "                                     InterProScan run.\n",
      " -savereport <path>                  Create .pdf report.\n",
      " -saveseqtable <path>                Save your data as it would be shown in the Blast2GO GUI version\n",
      "                                     (tab separated).\n"
     ]
    }
   ],
   "source": [
    "!/Applications/bioinfo/blast2go_cli_v1.3.1/blast2go_cli.run"
   ]
  },
  {
   "cell_type": "code",
   "execution_count": 2,
   "metadata": {
    "collapsed": false
   },
   "outputs": [
    {
     "name": "stdout",
     "output_type": "stream",
     "text": [
      "/Applications/bioinfo/blast2go_cli_v1.3.1\n"
     ]
    }
   ],
   "source": [
    "cd /Applications/bioinfo/blast2go_cli_v1.3.1/"
   ]
  },
  {
   "cell_type": "code",
   "execution_count": 8,
   "metadata": {
    "collapsed": false
   },
   "outputs": [
    {
     "name": "stdout",
     "output_type": "stream",
     "text": [
      "Blast2GO Command Line v1.3.1 build: 1474281598505 maintenance: 2016.09\n",
      "Logging to /private/var/folders/32/gn3lrlb11ds54r71vtpk47pm0000gn/T/cli.log\n",
      "Created Properties: /Applications/bioinfo/blast2go_cli_v1.3.1/cli.prop\n"
     ]
    }
   ],
   "source": [
    "%%bash \n",
    "./blast2go_cli.run -createproperties cli.prop"
   ]
  },
  {
   "cell_type": "code",
   "execution_count": 27,
   "metadata": {
    "collapsed": false
   },
   "outputs": [
    {
     "name": "stdout",
     "output_type": "stream",
     "text": [
      "TEMP_FOLDER /Volumes/caviar/blast2go\n",
      "Blast2GO Command Line v1.3.1 build: 1474281598505 maintenance: 2016.09\n",
      "Logging to /Volumes/caviar/blast2go/cli.log\n",
      "Properties file: /Applications/bioinfo/blast2go_cli_v1.3.1/cli.prop\n",
      "Properties Loaded.\n",
      "GO database creation:\n",
      "DB host: localhost\n",
      "DB name: b2g_sep2016\n",
      "DB user: root\n",
      "DB pass: re******\n",
      " \n",
      "Please goto your properties file and change these values accordingly if necessary.\n",
      " \n",
      "You have 2 options to create a GO database on the provided host:\n",
      "1. Provide the mysql servers root user credentials (needs GRANT privilege) and this program will\n",
      "   create the necessary database and the corresponding user for you.\n",
      "2. You create the database and the corresponding user and provide this program\n",
      "   with user credentials that have the following privileges on the selected database:\n",
      "   CREATE, SELECT, DROP, ALTER, LOCK_TABLES, DELETE, INSERT\n",
      " \n",
      "Enter your mysql user login: ^C\n"
     ]
    }
   ],
   "source": [
    "!./blast2go_cli.run \\\n",
    "-tempfolder /Volumes/caviar/blast2go \\\n",
    "-properties cli.prop \\\n",
    "-creategodb"
   ]
  },
  {
   "cell_type": "code",
   "execution_count": 28,
   "metadata": {
    "collapsed": false
   },
   "outputs": [
    {
     "ename": "NameError",
     "evalue": "name 'root' is not defined",
     "output_type": "error",
     "traceback": [
      "\u001b[0;31m---------------------------------------------------------------------------\u001b[0m",
      "\u001b[0;31mNameError\u001b[0m                                 Traceback (most recent call last)",
      "\u001b[0;32m<ipython-input-28-74cc1c60799e>\u001b[0m in \u001b[0;36m<module>\u001b[0;34m()\u001b[0m\n\u001b[0;32m----> 1\u001b[0;31m \u001b[0mroot\u001b[0m\u001b[0;34m\u001b[0m\u001b[0m\n\u001b[0m",
      "\u001b[0;31mNameError\u001b[0m: name 'root' is not defined"
     ]
    }
   ],
   "source": [
    "root\n"
   ]
  },
  {
   "cell_type": "code",
   "execution_count": null,
   "metadata": {
    "collapsed": true
   },
   "outputs": [],
   "source": []
  }
 ],
 "metadata": {
  "kernelspec": {
   "display_name": "Python 2",
   "language": "python",
   "name": "python2"
  },
  "language_info": {
   "codemirror_mode": {
    "name": "ipython",
    "version": 2
   },
   "file_extension": ".py",
   "mimetype": "text/x-python",
   "name": "python",
   "nbconvert_exporter": "python",
   "pygments_lexer": "ipython2",
   "version": "2.7.11"
  }
 },
 "nbformat": 4,
 "nbformat_minor": 0
}
