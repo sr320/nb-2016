{
 "cells": [
  {
   "cell_type": "markdown",
   "metadata": {},
   "source": [
    "# Example _de novo_ RADseq assembly using _pyRAD_"
   ]
  },
  {
   "cell_type": "markdown",
   "metadata": {},
   "source": [
    "----------  \n",
    "\n",
    "Please direct questions about _pyRAD_ analyses to the google group thread ([link](https://groups.google.com/forum/#!forum/pyrad-users))  \n",
    "\n",
    "--------------  \n",
    "\n"
   ]
  },
  {
   "cell_type": "markdown",
   "metadata": {},
   "source": [
    "+  This tutorial is meant as a walkthrough for a single-end RADseq analyses. If you have not yet read the [__full tutorial__](http://www.dereneaton.com/software/pyrad), you should start there for a broader description of how _pyRAD_ works. If you are new to RADseq analyses, this tutorial will provide a simple overview of how to execute _pyRAD_, what the data files look like, and how to check that your analysis is working, and the expected output formats.  \n",
    "\n",
    "\n",
    "\n",
    "+  Each cell in this tutorial begins with the header (%%bash) indicating that the code should be executed in a command line shell, for example by copying and pasting the text into your terminal (but excluding the %%bash header).\n",
    "\n",
    "-------------  \n"
   ]
  },
  {
   "cell_type": "markdown",
   "metadata": {},
   "source": [
    "Begin by executing the command below. This will download an example simulated RADseq data set and unarchive it into your current directory."
   ]
  },
  {
   "cell_type": "code",
   "execution_count": 1,
   "metadata": {
    "collapsed": false
   },
   "outputs": [
    {
     "data": {
      "text/plain": [
       "u'/Users/sr320/git-repos/nb-2016/util'"
      ]
     },
     "execution_count": 1,
     "metadata": {},
     "output_type": "execute_result"
    }
   ],
   "source": [
    "pwd"
   ]
  },
  {
   "cell_type": "code",
   "execution_count": 2,
   "metadata": {
    "collapsed": true
   },
   "outputs": [],
   "source": [
    "mkdir rad-seq-example"
   ]
  },
  {
   "cell_type": "code",
   "execution_count": 3,
   "metadata": {
    "collapsed": false
   },
   "outputs": [
    {
     "name": "stdout",
     "output_type": "stream",
     "text": [
      "/Users/sr320/git-repos/nb-2016/util/rad-seq-example\n"
     ]
    }
   ],
   "source": [
    "cd rad-seq-example/"
   ]
  },
  {
   "cell_type": "code",
   "execution_count": 5,
   "metadata": {
    "collapsed": false
   },
   "outputs": [
    {
     "name": "stdout",
     "output_type": "stream",
     "text": [
      "Archive:  simRADs.zip\n",
      "  inflating: simRADs.barcodes        \n",
      "  inflating: simRADs_R1.fastq.gz     \n"
     ]
    }
   ],
   "source": [
    "%%bash\n",
    "wget -q dereneaton.com/downloads/simRADs.zip\n",
    "unzip simRADs.zip"
   ]
  },
  {
   "cell_type": "markdown",
   "metadata": {},
   "source": [
    "----------------  \n",
    "\n",
    "#### The two necessary files below should now be located in your current directory.\n",
    "\n",
    "+ simRADs.fastq.gz : Illumina fastQ formatted reads (gzip compressed)\n",
    "+ simRADs.barcodes : barcode map file  \n",
    "\n",
    "-----------------   \n",
    "\n"
   ]
  },
  {
   "cell_type": "code",
   "execution_count": 6,
   "metadata": {
    "collapsed": false
   },
   "outputs": [
    {
     "name": "stdout",
     "output_type": "stream",
     "text": [
      "simRADs.barcodes     simRADs.zip          simRADs_R1.fastq.gz\r\n"
     ]
    }
   ],
   "source": [
    "ls"
   ]
  },
  {
   "cell_type": "code",
   "execution_count": 8,
   "metadata": {
    "collapsed": false
   },
   "outputs": [
    {
     "name": "stdout",
     "output_type": "stream",
     "text": [
      "1A0\tCATCAT\r\n",
      "1B0\tTTTTAA\r\n",
      "1C0\tAGGGGA\r\n",
      "1D0\tTAAGGT\r\n",
      "2E0\tTTTATA\r\n",
      "2F0\tGAGTAT\r\n",
      "2G0\tATAGAG\r\n",
      "2H0\tATGAGG\r\n",
      "3I0\tGGGTTT\r\n",
      "3J0\tTTAAAA\r\n"
     ]
    }
   ],
   "source": [
    "!head simRADs.barcodes"
   ]
  },
  {
   "cell_type": "markdown",
   "metadata": {},
   "source": [
    "#### We begin by creating the params.txt file which is used to set all parameters for an analysis."
   ]
  },
  {
   "cell_type": "code",
   "execution_count": 9,
   "metadata": {
    "collapsed": false
   },
   "outputs": [
    {
     "name": "stderr",
     "output_type": "stream",
     "text": [
      "\tnew params.txt file created\n"
     ]
    }
   ],
   "source": [
    "%%bash\n",
    "## I have pyRAD in my $PATH so that I can call it by simply typing pyRAD.\n",
    "## If you haven't done this then you will need to type the full path to \n",
    "## the pyRAD script to execute it.\n",
    "\n",
    "## call pyRAD with the (-n) option\n",
    "pyRAD -n"
   ]
  },
  {
   "cell_type": "markdown",
   "metadata": {},
   "source": [
    "------------   \n",
    "\n",
    "The params file lists on each line one parameter followed by a __##__ mark, after which any comments can be left. In the comments section there is a description of the parameter and in parentheses the step of the analysis affected by the parameter. Lines 1-12 are required, the remaining lines are optional. The params.txt file is further described in the general tutorial."
   ]
  },
  {
   "cell_type": "markdown",
   "metadata": {},
   "source": [
    "#### Let's take a look at the default settings. "
   ]
  },
  {
   "cell_type": "code",
   "execution_count": 10,
   "metadata": {
    "collapsed": false
   },
   "outputs": [
    {
     "name": "stdout",
     "output_type": "stream",
     "text": [
      "==** parameter inputs for pyRAD version 3.0.64  **======================== affected step ==\n",
      "./                        ## 1. Working directory                                 (all)\n",
      "./*.fastq.gz              ## 2. Loc. of non-demultiplexed files (if not line 18)  (s1)\n",
      "./*.barcodes              ## 3. Loc. of barcode file (if not line 18)             (s1)\n",
      "vsearch                   ## 4. command (or path) to call vsearch (or usearch)    (s3,s6)\n",
      "muscle                    ## 5. command (or path) to call muscle                  (s3,s7)\n",
      "TGCAG                     ## 6. Restriction overhang (e.g., C|TGCAG -> TGCAG)     (s1,s2)\n",
      "2                         ## 7. N processors (parallel)                           (all)\n",
      "6                         ## 8. Mindepth: min coverage for a cluster              (s4,s5)\n",
      "4                         ## 9. NQual: max # sites with qual < 20 (or see line 20)(s2)\n",
      ".88                       ## 10. Wclust: clustering threshold as a decimal        (s3,s6)\n",
      "rad                       ## 11. Datatype: rad,gbs,pairgbs,pairddrad,(others:see docs)(all)\n",
      "4                         ## 12. MinCov: min samples in a final locus             (s7)\n",
      "3                         ## 13. MaxSH: max inds with shared hetero site          (s7)\n",
      "c88d6m4p3                 ## 14. Prefix name for final output (no spaces)         (s7)\n",
      "==== optional params below this line ===================================  affected step ==\n",
      "                       ## 15.opt.: select subset (prefix* only selector)            (s2-s7)\n",
      "                       ## 16.opt.: add-on (outgroup) taxa (list or prefix*)         (s6,s7)\n",
      "                       ## 17.opt.: exclude taxa (list or prefix*)                   (s7)\n",
      "                       ## 18.opt.: loc. of de-multiplexed data                      (s2)\n",
      "                       ## 19.opt.: maxM: N mismatches in barcodes (def= 1)          (s1)\n",
      "                       ## 20.opt.: phred Qscore offset (def= 33)                    (s2)\n",
      "                       ## 21.opt.: filter: def=0=NQual 1=NQual+adapters. 2=strict   (s2)\n",
      "                       ## 22.opt.: a priori E,H (def= 0.001,0.01, if not estimated) (s5)\n",
      "                       ## 23.opt.: maxN: max Ns in a cons seq (def=5)               (s5)\n",
      "                       ## 24.opt.: maxH: max heterozyg. sites in cons seq (def=5)   (s5)\n",
      "                       ## 25.opt.: ploidy: max alleles in cons seq (def=2;see docs) (s4,s5)\n",
      "                       ## 26.opt.: maxSNPs: (def=100). Paired (def=100,100)         (s7)\n",
      "                       ## 27.opt.: maxIndels: within-clust,across-clust (def. 3,99) (s3,s7)\n",
      "                       ## 28.opt.: random number seed (def. 112233)              (s3,s6,s7)\n",
      "                       ## 29.opt.: trim overhang left,right on final loci, def(0,0) (s7)\n",
      "                       ## 30.opt.: output formats: p,n,a,s,v,u,t,m,k,g,* (see docs) (s7)\n",
      "                       ## 31.opt.: maj. base call at depth>x<mindepth (def.x=mindepth) (s5)\n",
      "                       ## 32.opt.: keep trimmed reads (def=0). Enter min length.    (s2)\n",
      "                       ## 33.opt.: max stack size (int), def= max(500,mean+2*SD)    (s3)\n",
      "                       ## 34.opt.: minDerep: exclude dereps with <= N copies, def=1 (s3)\n",
      "                       ## 35.opt.: use hierarchical clustering (def.=0, 1=yes)      (s6)\n",
      "                       ## 36.opt.: repeat masking (def.=1='dust' method, 0=no)      (s3,s6)\n",
      "                       ## 37.opt.: vsearch max threads per job (def.=6; see docs)   (s3,s6)\n",
      "==== optional: list group/clade assignments below this line (see docs) ==================\n"
     ]
    }
   ],
   "source": [
    "%%bash\n",
    "cat params.txt"
   ]
  },
  {
   "cell_type": "markdown",
   "metadata": {},
   "source": [
    "#### To change parameters you can edit params.txt in any text editor. Here to automate things I use the script below."
   ]
  },
  {
   "cell_type": "code",
   "execution_count": 33,
   "metadata": {
    "collapsed": false
   },
   "outputs": [
    {
     "name": "stderr",
     "output_type": "stream",
     "text": [
      "sed: 1: \"/## 14. /c\\c85m4p3      ...\": extra characters after \\ at the end of c command\n",
      "sed: 1: \"/## 24./c\\8             ...\": extra characters after \\ at the end of c command\n",
      "sed: 1: \"/## 30./c\\*             ...\": extra characters after \\ at the end of c command\n",
      "sed: 1: \"s/vsearch               ...\": bad flag in substitute command: 'A'\n"
     ]
    }
   ],
   "source": [
    "%%bash\n",
    "sed -i '' 's/2                         ## 7/2                         ## 7/g' params.txt\n",
    "sed -i '' 's/.88                       ## 10/.85                       ## 10/g' params.txt\n",
    "sed -i '' '/## 14. /c\\c85m4p3            ## 14. outprefix... ' params.txt\n",
    "sed -i '' '/## 24./c\\8                   ## 24. maxH raised ... ' params.txt\n",
    "sed -i '' '/## 30./c\\*                   ## 30. all output formats... ' params.txt\n",
    "sed -i '' 's/vsearch                   ## 4/'/Applications/bioinfo/vsearch-1.11.1-osx-x86_64/bin/vsearch''                   ## 4/g' params.txt\n"
   ]
  },
  {
   "cell_type": "markdown",
   "metadata": {},
   "source": [
    "#### Let's have a look at the changes:"
   ]
  },
  {
   "cell_type": "code",
   "execution_count": 34,
   "metadata": {
    "collapsed": false
   },
   "outputs": [
    {
     "name": "stdout",
     "output_type": "stream",
     "text": [
      "==** parameter inputs for pyRAD version 3.0.64  **======================== affected step ==\n",
      "./                        ## 1. Working directory                                 (all)\n",
      "./*.fastq.gz              ## 2. Loc. of non-demultiplexed files (if not line 18)  (s1)\n",
      "./*.barcodes              ## 3. Loc. of barcode file (if not line 18)             (s1)\n",
      "vsearch                   ## 4. command (or path) to call vsearch (or usearch)    (s3,s6)\n",
      "muscle                    ## 5. command (or path) to call muscle                  (s3,s7)\n",
      "TGCAG                     ## 6. Restriction overhang (e.g., C|TGCAG -> TGCAG)     (s1,s2)\n",
      "3                         ## 7. N processors (parallel)                           (all)\n",
      "6                         ## 8. Mindepth: min coverage for a cluster              (s4,s5)\n",
      "4                         ## 9. NQual: max # sites with qual < 20 (or see line 20)(s2)\n",
      ".85                       ## 10. Wclust: clustering threshold as a decimal        (s3,s6)\n",
      "rad                       ## 11. Datatype: rad,gbs,pairgbs,pairddrad,(others:see docs)(all)\n",
      "4                         ## 12. MinCov: min samples in a final locus             (s7)\n",
      "3                         ## 13. MaxSH: max inds with shared hetero site          (s7)\n",
      "c88d6m4p3                 ## 14. Prefix name for final output (no spaces)         (s7)\n",
      "==== optional params below this line ===================================  affected step ==\n",
      "                       ## 15.opt.: select subset (prefix* only selector)            (s2-s7)\n",
      "                       ## 16.opt.: add-on (outgroup) taxa (list or prefix*)         (s6,s7)\n",
      "                       ## 17.opt.: exclude taxa (list or prefix*)                   (s7)\n",
      "                       ## 18.opt.: loc. of de-multiplexed data                      (s2)\n",
      "                       ## 19.opt.: maxM: N mismatches in barcodes (def= 1)          (s1)\n",
      "                       ## 20.opt.: phred Qscore offset (def= 33)                    (s2)\n",
      "                       ## 21.opt.: filter: def=0=NQual 1=NQual+adapters. 2=strict   (s2)\n",
      "                       ## 22.opt.: a priori E,H (def= 0.001,0.01, if not estimated) (s5)\n",
      "                       ## 23.opt.: maxN: max Ns in a cons seq (def=5)               (s5)\n",
      "                       ## 24.opt.: maxH: max heterozyg. sites in cons seq (def=5)   (s5)\n",
      "                       ## 25.opt.: ploidy: max alleles in cons seq (def=2;see docs) (s4,s5)\n",
      "                       ## 26.opt.: maxSNPs: (def=100). Paired (def=100,100)         (s7)\n",
      "                       ## 27.opt.: maxIndels: within-clust,across-clust (def. 3,99) (s3,s7)\n",
      "                       ## 28.opt.: random number seed (def. 112233)              (s3,s6,s7)\n",
      "                       ## 29.opt.: trim overhang left,right on final loci, def(0,0) (s7)\n",
      "                       ## 30.opt.: output formats: p,n,a,s,v,u,t,m,k,g,* (see docs) (s7)\n",
      "                       ## 31.opt.: maj. base call at depth>x<mindepth (def.x=mindepth) (s5)\n",
      "                       ## 32.opt.: keep trimmed reads (def=0). Enter min length.    (s2)\n",
      "                       ## 33.opt.: max stack size (int), def= max(500,mean+2*SD)    (s3)\n",
      "                       ## 34.opt.: minDerep: exclude dereps with <= N copies, def=1 (s3)\n",
      "                       ## 35.opt.: use hierarchical clustering (def.=0, 1=yes)      (s6)\n",
      "                       ## 36.opt.: repeat masking (def.=1='dust' method, 0=no)      (s3,s6)\n",
      "                       ## 37.opt.: vsearch max threads per job (def.=6; see docs)   (s3,s6)\n",
      "==== optional: list group/clade assignments below this line (see docs) ==================\n"
     ]
    }
   ],
   "source": [
    "%%bash\n",
    "cat params.txt"
   ]
  },
  {
   "cell_type": "markdown",
   "metadata": {},
   "source": [
    "--------------   \n",
    "\n",
    "__Let's take a look at what the raw data look like.__"
   ]
  },
  {
   "cell_type": "markdown",
   "metadata": {},
   "source": [
    "Your input data will be in fastQ format, usually ending in .fq or .fastq. Your data could be split among multiple files, or all within a single file (de-multiplexing goes much faster if they happen to be split into multiple files). The file/s may be compressed with gzip so that they have a .gz ending, but they do not need to be. The location of these files should be entered on line 2 of the params file. Below are the first three reads in the example file."
   ]
  },
  {
   "cell_type": "code",
   "execution_count": 27,
   "metadata": {
    "collapsed": true
   },
   "outputs": [],
   "source": [
    "!gunzip simRADs_R1.fastq.gz"
   ]
  },
  {
   "cell_type": "code",
   "execution_count": 28,
   "metadata": {
    "collapsed": false
   },
   "outputs": [
    {
     "name": "stdout",
     "output_type": "stream",
     "text": [
      "@lane1_fakedata0_R1_0 1:N:0:\n",
      "TTTTAATGCAGTGAGTGGCCATGCAATATATATTTACGGGCGCATAGAGACCCTCAAGACTGCCAACCGGGTGAATCACTATTTGCTTAG\n",
      "+\n",
      "BBBBBBBBBBBBBBBBBBBBBBBBBBBBBBBBBBBBBBBBBBBBBBBBBBBBBBBBBBBBBBBBBBBBBBBBBBBBBBBBBBBBBBBBBB\n",
      "@lane1_fakedata0_R1_1 1:N:0:\n",
      "TTTTAATGCAGTGAGTGGCCATGCAATATATATTTACGGGCGCATAGAGACCCTCAAGACTGCCAACCGGGTGAATCACTATTTGCTTAG\n",
      "+\n",
      "BBBBBBBBBBBBBBBBBBBBBBBBBBBBBBBBBBBBBBBBBBBBBBBBBBBBBBBBBBBBBBBBBBBBBBBBBBBBBBBBBBBBBBBBBB\n",
      "@lane1_fakedata0_R1_2 1:N:0:\n",
      "TTTTAATGCAGTGAGTGGCCATGCAATATATATTTACGGGCGCATAGAGACCCTCAAGACTGCCAACCGGGTGAATCACTATTTGCTTAG\n",
      "+\n",
      "BBBBBBBBBBBBBBBBBBBBBBBBBBBBBBBBBBBBBBBBBBBBBBBBBBBBBBBBBBBBBBBBBBBBBBBBBBBBBBBBBBBBBBBBBB\n"
     ]
    }
   ],
   "source": [
    "%%bash\n",
    "less simRADs_R1.fastq | head -n 12 | cut -c 1-90"
   ]
  },
  {
   "cell_type": "markdown",
   "metadata": {},
   "source": [
    "------------   \n",
    "\n",
    "Each read takes four lines. The first is the name of the read (its location on the plate). The second line contains the sequence data. The third line is a spacer. And the fourth line the quality scores for the base calls. In this case arbitrarily high since the data were simulated. \n",
    "\n",
    "These are 100 bp single-end reads prepared as RADseq. The first six bases form the barcode and the next five bases (TGCAG) the restriction site overhang. All following bases make up the sequence data. "
   ]
  },
  {
   "cell_type": "markdown",
   "metadata": {},
   "source": [
    "----------------   \n",
    "\n",
    "## Step 1: de-multiplexing ##"
   ]
  },
  {
   "cell_type": "markdown",
   "metadata": {},
   "source": [
    "This step uses information in the barcodes file to sort data into a separate file for each sample.  Below is the barcodes file, with sample names and their barcodes each on a separate line with a tab between them."
   ]
  },
  {
   "cell_type": "code",
   "execution_count": 29,
   "metadata": {
    "collapsed": false
   },
   "outputs": [
    {
     "name": "stdout",
     "output_type": "stream",
     "text": [
      "1A0\tCATCAT\n",
      "1B0\tTTTTAA\n",
      "1C0\tAGGGGA\n",
      "1D0\tTAAGGT\n",
      "2E0\tTTTATA\n",
      "2F0\tGAGTAT\n",
      "2G0\tATAGAG\n",
      "2H0\tATGAGG\n",
      "3I0\tGGGTTT\n",
      "3J0\tTTAAAA\n",
      "3K0\tGGATTG\n",
      "3L0\tAAGAAG\n"
     ]
    }
   ],
   "source": [
    "%%bash\n",
    "cat simRADs.barcodes"
   ]
  },
  {
   "cell_type": "markdown",
   "metadata": {},
   "source": [
    "Step 1 writes the de-multiplexed data to a new file for each sample in a new directory created within the working directory called fastq/."
   ]
  },
  {
   "cell_type": "code",
   "execution_count": 37,
   "metadata": {
    "collapsed": false
   },
   "outputs": [
    {
     "name": "stderr",
     "output_type": "stream",
     "text": [
      "\n",
      "\n",
      "     ------------------------------------------------------------\n",
      "      pyRAD : RADseq for phylogenetics & introgression analyses\n",
      "     ------------------------------------------------------------\n",
      "\n",
      "\n",
      "\tstep 1: sorting reads by barcode\n",
      "\t ."
     ]
    }
   ],
   "source": [
    "%%bash\n",
    "pyRAD -p params.txt -s 1"
   ]
  },
  {
   "cell_type": "markdown",
   "metadata": {},
   "source": [
    "You can see that this created a new file for each sample in the directory 'fastq/'"
   ]
  },
  {
   "cell_type": "code",
   "execution_count": 38,
   "metadata": {
    "collapsed": false
   },
   "outputs": [
    {
     "name": "stdout",
     "output_type": "stream",
     "text": [
      "1A0_R1.fq.gz\n",
      "1B0_R1.fq.gz\n",
      "1C0_R1.fq.gz\n",
      "1D0_R1.fq.gz\n",
      "2E0_R1.fq.gz\n",
      "2F0_R1.fq.gz\n",
      "2G0_R1.fq.gz\n",
      "2H0_R1.fq.gz\n",
      "3I0_R1.fq.gz\n",
      "3J0_R1.fq.gz\n",
      "3K0_R1.fq.gz\n",
      "3L0_R1.fq.gz\n"
     ]
    }
   ],
   "source": [
    "%%bash\n",
    "ls fastq/"
   ]
  },
  {
   "cell_type": "markdown",
   "metadata": {},
   "source": [
    "#### The statistics for step 1"
   ]
  },
  {
   "cell_type": "markdown",
   "metadata": {},
   "source": [
    "A new directory called stats will also have been created. Each step of the _pyRAD_ analysis will create a new stats output file in this directory. The stats output for step 1 is below:"
   ]
  },
  {
   "cell_type": "code",
   "execution_count": 39,
   "metadata": {
    "collapsed": false
   },
   "outputs": [
    {
     "name": "stdout",
     "output_type": "stream",
     "text": [
      "file    \tNreads\tcut_found\tbar_matched\n",
      "simRADs_R1.fastq\t480000\t480000\t480000\n",
      "\n",
      "\n",
      "sample\ttrue_bar\tobs_bars\tN_obs\n",
      "3L0    \tAAGAAG    \tAAGAAG\t40000   \n",
      "1C0    \tAGGGGA    \tAGGGGA\t40000   \n",
      "2G0    \tATAGAG    \tATAGAG\t40000   \n",
      "2H0    \tATGAGG    \tATGAGG\t40000   \n",
      "1A0    \tCATCAT    \tCATCAT\t40000   \n",
      "2F0    \tGAGTAT    \tGAGTAT\t40000   \n",
      "3K0    \tGGATTG    \tGGATTG\t40000   \n",
      "3I0    \tGGGTTT    \tGGGTTT\t40000   \n",
      "1D0    \tTAAGGT    \tTAAGGT\t40000   \n",
      "3J0    \tTTAAAA    \tTTAAAA\t40000   \n",
      "2E0    \tTTTATA    \tTTTATA\t40000   \n",
      "1B0    \tTTTTAA    \tTTTTAA\t40000   \n",
      "\n",
      "nomatch  \t_            \t0\n"
     ]
    }
   ],
   "source": [
    "%%bash\n",
    "cat stats/s1.sorting.txt"
   ]
  },
  {
   "cell_type": "markdown",
   "metadata": {},
   "source": [
    "### Step 2: quality filtering"
   ]
  },
  {
   "cell_type": "markdown",
   "metadata": {},
   "source": [
    "This step filters reads based on quality scores, and can be used to detect Illumina adapters in your reads, which is sometimes a problem with homebrew type library preparations. Here the filter is set to the default value of 0, meaning it filters only based on quality scores of base calls. The filtered files are written to a new directory called edits/."
   ]
  },
  {
   "cell_type": "code",
   "execution_count": 12,
   "metadata": {
    "collapsed": false
   },
   "outputs": [
    {
     "name": "stderr",
     "output_type": "stream",
     "text": [
      "\n",
      "\n",
      "     ------------------------------------------------------------\n",
      "      pyRAD : RADseq for phylogenetics & introgression analyses\n",
      "     ------------------------------------------------------------\n",
      "\n",
      "\tstep 2: editing raw reads \n",
      "\t............"
     ]
    }
   ],
   "source": [
    "%%bash\n",
    "pyRAD -p params.txt -s 2"
   ]
  },
  {
   "cell_type": "code",
   "execution_count": 13,
   "metadata": {
    "collapsed": false
   },
   "outputs": [
    {
     "name": "stdout",
     "output_type": "stream",
     "text": [
      "1A0.edit\n",
      "1B0.edit\n",
      "1C0.edit\n",
      "1D0.edit\n",
      "2E0.edit\n",
      "2F0.edit\n",
      "2G0.edit\n",
      "2H0.edit\n",
      "3I0.edit\n",
      "3J0.edit\n",
      "3K0.edit\n",
      "3L0.edit\n"
     ]
    }
   ],
   "source": [
    "%%bash\n",
    "ls edits/"
   ]
  },
  {
   "cell_type": "markdown",
   "metadata": {},
   "source": [
    "The filtered data are written in fasta format (quality scores removed) into a new directory called edits/. Below I show a preview of the file which you can view most easily using the `less` command (I use `head` here to make it fit in the text window better)."
   ]
  },
  {
   "cell_type": "code",
   "execution_count": 14,
   "metadata": {
    "collapsed": false
   },
   "outputs": [
    {
     "name": "stdout",
     "output_type": "stream",
     "text": [
      ">1A0_0_r1\n",
      "TGCAGTGAGTGGCCATGCAATATATATTTACGGGCTCATAGAGACCCTCAAGACTGCCAACCGGGTGAATCACTATTTGC\n",
      ">1A0_1_r1\n",
      "TGCAGTGAGTGGCCATGCAATATATATTTACGGGCTCATAGAGACCCTCAAGACTGCCAACCGGGTGAATCACTATTTGC\n",
      ">1A0_2_r1\n",
      "TGCAGTGAGTGGCCATGCAATATATATTTACGGGCTCATAGAGACCCTCAAGACTGCCAACCGGGTGAATCACTATTTGC\n",
      ">1A0_3_r1\n",
      "TGCAGTGAGTGGCCATGCAATATATATTTACGGGCTCATAGAGACCCTCAAGACTGCCAACCGGGTGAATCACTATTTGC\n",
      ">1A0_4_r1\n",
      "TGCAGTGAGTGGCCATGCAATATATATTTACGGGCTCATAGAGACCCTCAAGACTGCCAACCGGGTGAATCACTATTTGC\n"
     ]
    }
   ],
   "source": [
    "%%bash\n",
    "head -n 10 edits/1A0.edit | cut -c 1-80"
   ]
  },
  {
   "cell_type": "markdown",
   "metadata": {},
   "source": [
    "### Step 3: clustering within-samples"
   ]
  },
  {
   "cell_type": "markdown",
   "metadata": {},
   "source": [
    "Step 3 de-replicates and then clusters reads within each sample by the set clustering threshold and writes the clusters to new files in a directory called clust.xx"
   ]
  },
  {
   "cell_type": "code",
   "execution_count": 15,
   "metadata": {
    "collapsed": false
   },
   "outputs": [
    {
     "name": "stderr",
     "output_type": "stream",
     "text": [
      "\n",
      "\n",
      "     ------------------------------------------------------------\n",
      "      pyRAD : RADseq for phylogenetics & introgression analyses\n",
      "     ------------------------------------------------------------\n",
      "\n",
      "\n",
      "\tde-replicating files for clustering...\n",
      "\n",
      "\tstep 3: within-sample clustering of 12 samples at \n",
      "\t        '.85' similarity. Running 2 parallel jobs\n",
      "\t \twith up to6 threads per job.  If needed, \n",
      "\t\tadjust to avoid CPU and MEM limits\n",
      "\n",
      "\tsample 1C0 finished, 2000 loci\n",
      "\tsample 3J0 finished, 2000 loci\n",
      "\tsample 3K0 finished, 2000 loci\n",
      "\tsample 1B0 finished, 2000 loci\n",
      "\tsample 3L0 finished, 2000 loci\n",
      "\tsample 2F0 finished, 2000 loci\n",
      "\tsample 3I0 finished, 2000 loci\n",
      "\tsample 2H0 finished, 2000 loci\n",
      "\tsample 2G0 finished, 2000 loci\n",
      "\tsample 2E0 finished, 2000 loci\n",
      "\tsample 1A0 finished, 2000 loci\n",
      "\tsample 1D0 finished, 2000 loci\n"
     ]
    }
   ],
   "source": [
    "%%bash\n",
    "pyRAD -p params.txt -s 3"
   ]
  },
  {
   "cell_type": "markdown",
   "metadata": {},
   "source": [
    "Once again, I recommend you use the unix command 'less' to look at the clustS files. These contain each cluster separated by \"//\". For the first few clusters below you can see that there is one or two alleles in the cluster and one or a few reads that contained a (simulated) sequencing error. "
   ]
  },
  {
   "cell_type": "code",
   "execution_count": 16,
   "metadata": {
    "collapsed": false
   },
   "outputs": [
    {
     "name": "stdout",
     "output_type": "stream",
     "text": [
      ">1A0_2540_r1;size=17;\n",
      "TGCAGTGTAACGTTGTATCCATCGAGTCGATCATAGCCTAAAATAAGTAACACTAATCAGGCGCGCTGGTTGGGGGATCA\n",
      ">1A0_2541_r1;size=1;+\n",
      "TGCAGTGTAACGTTGTATCCAACGAGTCGATCATAGCCTAAAATAAGTAACACTAATCAGGCGCGCTGGTTGGGGGATCA\n",
      ">1A0_2549_r1;size=1;+\n",
      "TGCAGTGTAACGTTGTATCCATCGAGTCGATCATAGCCTAAAATAAGTAACGCTAATCAGGCGCGCTGGTTGGGGGATCA\n",
      ">1A0_2551_r1;size=1;+\n",
      "TGCAGTGTAACGTTGTATCCATCGAGTCGATCATAGCCTAAAATAAGTAACACTAATCAGGCGCGTTGGTTGGGGGATCA\n",
      "//\n",
      "//\n",
      ">1A0_2140_r1;size=19;\n",
      "TGCAGCTCCGTCACTGCTCAGCGAACCTACTATCTAGTCGGAAAAGGTTCCGGCCCTTATGCTAAGTGCAAGCTGCCAGT\n",
      ">1A0_2155_r1;size=1;+\n",
      "TGCAGCTCCCTCACTGCTCAGCGAACCTACTATCTAGTCGGAAAAGGTTCCGGCCCTTATGCTAAGTGCAAGCTGCCAGT\n",
      "//\n",
      "//\n",
      ">1A0_8280_r1;size=10;\n",
      "TGCAGCGTATATGATCAGAACCGGGTGAGTGGGTACCGCGAACCGAAAGGCATCGAAAGTTTAGCGCAGCACTAATCTCA\n",
      ">1A0_8290_r1;size=8;+\n",
      "TGCAGCGTATATGATCAGAACCGGGTGAGTGGGTACCGCGAACCGAAAGGCACCGAAAGTTTAGCGCAGCACTAATCTCA\n",
      ">1A0_8297_r1;size=1;+\n",
      "TGCAGCGTATATGATCAGAACCGGGTGAGTGGGAACCGCGAACCGAAAGGCACCGAAAGTTTAGCGCAGCACTAATCTCA\n",
      ">1A0_8292_r1;size=1;+\n",
      "TGCAGCCTATATGATCAGAACCGGGTGAGTGGGTACCGCGAACCGAAAGGCACCGAAAGTTTAGCGCAGCACTAATCTCA\n",
      "//\n",
      "//\n"
     ]
    }
   ],
   "source": [
    "%%bash\n",
    "less clust.85/1A0.clustS.gz | head -n 26 | cut -c 1-80"
   ]
  },
  {
   "cell_type": "markdown",
   "metadata": {},
   "source": [
    "---------------\n",
    "\n",
    "\n",
    "The stats output tells you how many clusters were found, and their mean depth of coverage. It also tells you how many pass  your minimum depth setting. You can use this information to decide if you wish to increase or decrease the mindepth before it is applied for making consensus base calls in steps 4 & 5."
   ]
  },
  {
   "cell_type": "code",
   "execution_count": 19,
   "metadata": {
    "collapsed": false
   },
   "outputs": [
    {
     "name": "stdout",
     "output_type": "stream",
     "text": [
      "\n",
      "taxa\ttotal\tdpt.me\tdpt.sd\td>5.tot\td>5.me\td>5.sd\tbadpairs\n",
      "1A0\t2000\t20.0\t0.0\t2000\t20.0\t0.0\t0\n",
      "1B0\t2000\t20.0\t0.0\t2000\t20.0\t0.0\t0\n",
      "1C0\t2000\t20.0\t0.0\t2000\t20.0\t0.0\t0\n",
      "1D0\t2000\t20.0\t0.0\t2000\t20.0\t0.0\t0\n",
      "2E0\t2000\t20.0\t0.0\t2000\t20.0\t0.0\t0\n",
      "2F0\t2000\t20.0\t0.0\t2000\t20.0\t0.0\t0\n",
      "2G0\t2000\t20.0\t0.0\t2000\t20.0\t0.0\t0\n",
      "2H0\t2000\t20.0\t0.0\t2000\t20.0\t0.0\t0\n",
      "3I0\t2000\t20.0\t0.0\t2000\t20.0\t0.0\t0\n",
      "3J0\t2000\t20.0\t0.0\t2000\t20.0\t0.0\t0\n",
      "3K0\t2000\t20.0\t0.0\t2000\t20.0\t0.0\t0\n",
      "3L0\t2000\t20.0\t0.0\t2000\t20.0\t0.0\t0\n",
      "\n",
      "    ## total = total number of clusters, including singletons\n",
      "    ## dpt.me = mean depth of clusters\n",
      "    ## dpt.sd = standard deviation of cluster depth\n",
      "    ## >N.tot = number of clusters with depth greater than N\n",
      "    ## >N.me = mean depth of clusters with depth greater than N\n",
      "    ## >N.sd = standard deviation of cluster depth for clusters with depth greater than N\n",
      "    ## badpairs = mismatched 1st & 2nd reads (only for paired ddRAD data)\n",
      "\n",
      "HISTOGRAMS\n",
      "\n",
      "    \n",
      "sample: 1A0\n",
      "bins\tdepth_histogram\tcnts\n",
      "   :\t0------------50-------------100%\n",
      "0 \t                                    0\n",
      "5 \t                                    0\n",
      "10 \t                                    0\n",
      "15 \t                                    0\n",
      "20 \t*******************************     2000\n",
      "25 \t                                    0\n",
      "30 \t                                    0\n",
      "35 \t                                    0\n",
      "40 \t                                    0\n",
      "50 \t                                    0\n",
      "100 \t                                    0\n"
     ]
    }
   ],
   "source": [
    "%%bash\n",
    "head -n 40 stats/s3.clusters.txt"
   ]
  },
  {
   "cell_type": "markdown",
   "metadata": {},
   "source": [
    "### Steps 4 & 5: Call consensus sequences"
   ]
  },
  {
   "cell_type": "markdown",
   "metadata": {},
   "source": [
    "#### Step 4 jointly infers the error-rate and heterozygosity across samples."
   ]
  },
  {
   "cell_type": "code",
   "execution_count": 20,
   "metadata": {
    "collapsed": false
   },
   "outputs": [
    {
     "name": "stderr",
     "output_type": "stream",
     "text": [
      "\n",
      "\n",
      "     ------------------------------------------------------------\n",
      "      pyRAD : RADseq for phylogenetics & introgression analyses\n",
      "     ------------------------------------------------------------\n",
      "\n",
      "\n",
      "\tstep 4: estimating error rate and heterozygosity\n",
      "\t............"
     ]
    }
   ],
   "source": [
    "%%bash\n",
    "pyRAD -p params.txt -s 4"
   ]
  },
  {
   "cell_type": "code",
   "execution_count": 21,
   "metadata": {
    "collapsed": false
   },
   "outputs": [
    {
     "name": "stdout",
     "output_type": "stream",
     "text": [
      "taxa\tH\tE\n",
      "3K0\t0.00135982\t0.00048078\t\n",
      "1C0\t0.00134858\t0.00048372\t\n",
      "1D0\t0.00135375\t0.00048822\t\n",
      "3I0\t0.00129751\t0.00048694\t\n",
      "2H0\t0.00133223\t0.00049211\t\n",
      "2F0\t0.00135365\t0.0004995\t\n",
      "2E0\t0.00126915\t0.00051556\t\n",
      "1B0\t0.00149924\t0.00049663\t\n",
      "1A0\t0.00136043\t0.00051028\t\n",
      "3J0\t0.00144422\t0.0005089\t\n",
      "2G0\t0.00138185\t0.00051206\t\n",
      "3L0\t0.00143349\t0.00051991\t\n"
     ]
    }
   ],
   "source": [
    "%%bash\n",
    "less stats/Pi_E_estimate.txt"
   ]
  },
  {
   "cell_type": "markdown",
   "metadata": {},
   "source": [
    "#### Step 5 calls consensus sequences using the parameters inferred above, and filters for paralogs."
   ]
  },
  {
   "cell_type": "code",
   "execution_count": 22,
   "metadata": {
    "collapsed": false
   },
   "outputs": [
    {
     "name": "stderr",
     "output_type": "stream",
     "text": [
      "\n",
      "\n",
      "     ------------------------------------------------------------\n",
      "      pyRAD : RADseq for phylogenetics & introgression analyses\n",
      "     ------------------------------------------------------------\n",
      "\n",
      "\n",
      "\tstep 5: creating consensus seqs for 12 samples, using H=0.00137 E=0.00050\n",
      "\t............"
     ]
    }
   ],
   "source": [
    "%%bash\n",
    "pyRAD -p params.txt -s 5"
   ]
  },
  {
   "cell_type": "markdown",
   "metadata": {},
   "source": [
    "#### The stats output for step 5"
   ]
  },
  {
   "cell_type": "code",
   "execution_count": 23,
   "metadata": {
    "collapsed": false
   },
   "outputs": [
    {
     "name": "stdout",
     "output_type": "stream",
     "text": [
      "taxon               \tnloci\tf1loci\tf2loci\tnsites\tnpoly\tpoly\n",
      "2G0       \t2000\t2000\t2000\t178001\t246\t0.001382\n",
      "3L0       \t2000\t2000\t2000\t178003\t255\t0.0014326\n",
      "3J0       \t2000\t2000\t2000\t178003\t257\t0.0014438\n",
      "1A0       \t2000\t2000\t2000\t178002\t242\t0.0013595\n",
      "2E0       \t2000\t2000\t2000\t178002\t226\t0.0012696\n",
      "1B0       \t2000\t2000\t2000\t178005\t267\t0.0015\n",
      "2F0       \t2000\t2000\t2000\t178002\t241\t0.0013539\n",
      "2H0       \t2000\t2000\t2000\t178001\t237\t0.0013315\n",
      "3I0       \t2000\t2000\t2000\t178003\t231\t0.0012977\n",
      "1D0       \t2000\t2000\t2000\t178002\t241\t0.0013539\n",
      "1C0       \t2000\t2000\t2000\t178002\t240\t0.0013483\n",
      "3K0       \t2000\t2000\t2000\t178001\t242\t0.0013595\n",
      "\n",
      "    ## nloci = number of loci\n",
      "    ## f1loci = number of loci with >N depth coverage\n",
      "    ## f2loci = number of loci with >N depth and passed paralog filter\n",
      "    ## nsites = number of sites across f loci\n",
      "    ## npoly = number of polymorphic sites in nsites\n",
      "    ## poly = frequency of polymorphic sites\n"
     ]
    }
   ],
   "source": [
    "%%bash\n",
    "less stats/s5.consens.txt"
   ]
  },
  {
   "cell_type": "markdown",
   "metadata": {},
   "source": [
    "### Step 6: Cluster across samples"
   ]
  },
  {
   "cell_type": "markdown",
   "metadata": {},
   "source": [
    "Step 6 clusters consensus sequences across samples. It will print its progress to the screen. This uses 6 threads by default. If you enter 0 for param 37 it will use all available processors. "
   ]
  },
  {
   "cell_type": "code",
   "execution_count": 24,
   "metadata": {
    "collapsed": false
   },
   "outputs": [
    {
     "name": "stdout",
     "output_type": "stream",
     "text": [
      "vsearch v1.0.3_linux_x86_64, 7.5GB RAM, 4 cores\n",
      "https://github.com/torognes/vsearch\n",
      "\n",
      "\n",
      "\tfinished clustering\n"
     ]
    },
    {
     "name": "stderr",
     "output_type": "stream",
     "text": [
      "\n",
      "\n",
      "     ------------------------------------------------------------\n",
      "      pyRAD : RADseq for phylogenetics & introgression analyses\n",
      "     ------------------------------------------------------------\n",
      "\n",
      "\n",
      "\tstep 6: clustering across 12 samples at '.85' similarity \n",
      "\n",
      "Reading file /home/deren/Dropbox/Public/PYRAD_TUTORIALS/tutorial_RAD/clust.85/cat.haplos_ 0%  \r",
      "Reading file /home/deren/Dropbox/Public/PYRAD_TUTORIALS/tutorial_RAD/clust.85/cat.haplos_ 0%  \r",
      "Reading file /home/deren/Dropbox/Public/PYRAD_TUTORIALS/tutorial_RAD/clust.85/cat.haplos_ 1%  \r",
      "Reading file /home/deren/Dropbox/Public/PYRAD_TUTORIALS/tutorial_RAD/clust.85/cat.haplos_ 1%  \r",
      "Reading file /home/deren/Dropbox/Public/PYRAD_TUTORIALS/tutorial_RAD/clust.85/cat.haplos_ 2%  \r",
      "Reading file /home/deren/Dropbox/Public/PYRAD_TUTORIALS/tutorial_RAD/clust.85/cat.haplos_ 2%  \r",
      "Reading file /home/deren/Dropbox/Public/PYRAD_TUTORIALS/tutorial_RAD/clust.85/cat.haplos_ 3%  \r",
      "Reading file /home/deren/Dropbox/Public/PYRAD_TUTORIALS/tutorial_RAD/clust.85/cat.haplos_ 3%  \r",
      "Reading file /home/deren/Dropbox/Public/PYRAD_TUTORIALS/tutorial_RAD/clust.85/cat.haplos_ 4%  \r",
      "Reading file /home/deren/Dropbox/Public/PYRAD_TUTORIALS/tutorial_RAD/clust.85/cat.haplos_ 4%  \r",
      "Reading file /home/deren/Dropbox/Public/PYRAD_TUTORIALS/tutorial_RAD/clust.85/cat.haplos_ 5%  \r",
      "Reading file /home/deren/Dropbox/Public/PYRAD_TUTORIALS/tutorial_RAD/clust.85/cat.haplos_ 5%  \r",
      "Reading file /home/deren/Dropbox/Public/PYRAD_TUTORIALS/tutorial_RAD/clust.85/cat.haplos_ 6%  \r",
      "Reading file /home/deren/Dropbox/Public/PYRAD_TUTORIALS/tutorial_RAD/clust.85/cat.haplos_ 6%  \r",
      "Reading file /home/deren/Dropbox/Public/PYRAD_TUTORIALS/tutorial_RAD/clust.85/cat.haplos_ 7%  \r",
      "Reading file /home/deren/Dropbox/Public/PYRAD_TUTORIALS/tutorial_RAD/clust.85/cat.haplos_ 7%  \r",
      "Reading file /home/deren/Dropbox/Public/PYRAD_TUTORIALS/tutorial_RAD/clust.85/cat.haplos_ 8%  \r",
      "Reading file /home/deren/Dropbox/Public/PYRAD_TUTORIALS/tutorial_RAD/clust.85/cat.haplos_ 8%  \r",
      "Reading file /home/deren/Dropbox/Public/PYRAD_TUTORIALS/tutorial_RAD/clust.85/cat.haplos_ 9%  \r",
      "Reading file /home/deren/Dropbox/Public/PYRAD_TUTORIALS/tutorial_RAD/clust.85/cat.haplos_ 9%  \r",
      "Reading file /home/deren/Dropbox/Public/PYRAD_TUTORIALS/tutorial_RAD/clust.85/cat.haplos_ 10%  \r",
      "Reading file /home/deren/Dropbox/Public/PYRAD_TUTORIALS/tutorial_RAD/clust.85/cat.haplos_ 10%  \r",
      "Reading file /home/deren/Dropbox/Public/PYRAD_TUTORIALS/tutorial_RAD/clust.85/cat.haplos_ 11%  \r",
      "Reading file /home/deren/Dropbox/Public/PYRAD_TUTORIALS/tutorial_RAD/clust.85/cat.haplos_ 11%  \r",
      "Reading file /home/deren/Dropbox/Public/PYRAD_TUTORIALS/tutorial_RAD/clust.85/cat.haplos_ 12%  \r",
      "Reading file /home/deren/Dropbox/Public/PYRAD_TUTORIALS/tutorial_RAD/clust.85/cat.haplos_ 12%  \r",
      "Reading file /home/deren/Dropbox/Public/PYRAD_TUTORIALS/tutorial_RAD/clust.85/cat.haplos_ 13%  \r",
      "Reading file /home/deren/Dropbox/Public/PYRAD_TUTORIALS/tutorial_RAD/clust.85/cat.haplos_ 13%  \r",
      "Reading file /home/deren/Dropbox/Public/PYRAD_TUTORIALS/tutorial_RAD/clust.85/cat.haplos_ 14%  \r",
      "Reading file /home/deren/Dropbox/Public/PYRAD_TUTORIALS/tutorial_RAD/clust.85/cat.haplos_ 14%  \r",
      "Reading file /home/deren/Dropbox/Public/PYRAD_TUTORIALS/tutorial_RAD/clust.85/cat.haplos_ 15%  \r",
      "Reading file /home/deren/Dropbox/Public/PYRAD_TUTORIALS/tutorial_RAD/clust.85/cat.haplos_ 15%  \r",
      "Reading file /home/deren/Dropbox/Public/PYRAD_TUTORIALS/tutorial_RAD/clust.85/cat.haplos_ 16%  \r",
      "Reading file /home/deren/Dropbox/Public/PYRAD_TUTORIALS/tutorial_RAD/clust.85/cat.haplos_ 16%  \r",
      "Reading file /home/deren/Dropbox/Public/PYRAD_TUTORIALS/tutorial_RAD/clust.85/cat.haplos_ 17%  \r",
      "Reading file /home/deren/Dropbox/Public/PYRAD_TUTORIALS/tutorial_RAD/clust.85/cat.haplos_ 17%  \r",
      "Reading file /home/deren/Dropbox/Public/PYRAD_TUTORIALS/tutorial_RAD/clust.85/cat.haplos_ 18%  \r",
      "Reading file /home/deren/Dropbox/Public/PYRAD_TUTORIALS/tutorial_RAD/clust.85/cat.haplos_ 18%  \r",
      "Reading file /home/deren/Dropbox/Public/PYRAD_TUTORIALS/tutorial_RAD/clust.85/cat.haplos_ 19%  \r",
      "Reading file /home/deren/Dropbox/Public/PYRAD_TUTORIALS/tutorial_RAD/clust.85/cat.haplos_ 19%  \r",
      "Reading file /home/deren/Dropbox/Public/PYRAD_TUTORIALS/tutorial_RAD/clust.85/cat.haplos_ 20%  \r",
      "Reading file /home/deren/Dropbox/Public/PYRAD_TUTORIALS/tutorial_RAD/clust.85/cat.haplos_ 20%  \r",
      "Reading file /home/deren/Dropbox/Public/PYRAD_TUTORIALS/tutorial_RAD/clust.85/cat.haplos_ 21%  \r",
      "Reading file /home/deren/Dropbox/Public/PYRAD_TUTORIALS/tutorial_RAD/clust.85/cat.haplos_ 21%  \r",
      "Reading file /home/deren/Dropbox/Public/PYRAD_TUTORIALS/tutorial_RAD/clust.85/cat.haplos_ 22%  \r",
      "Reading file /home/deren/Dropbox/Public/PYRAD_TUTORIALS/tutorial_RAD/clust.85/cat.haplos_ 22%  \r",
      "Reading file /home/deren/Dropbox/Public/PYRAD_TUTORIALS/tutorial_RAD/clust.85/cat.haplos_ 23%  \r",
      "Reading file /home/deren/Dropbox/Public/PYRAD_TUTORIALS/tutorial_RAD/clust.85/cat.haplos_ 23%  \r",
      "Reading file /home/deren/Dropbox/Public/PYRAD_TUTORIALS/tutorial_RAD/clust.85/cat.haplos_ 24%  \r",
      "Reading file /home/deren/Dropbox/Public/PYRAD_TUTORIALS/tutorial_RAD/clust.85/cat.haplos_ 24%  \r",
      "Reading file /home/deren/Dropbox/Public/PYRAD_TUTORIALS/tutorial_RAD/clust.85/cat.haplos_ 25%  \r",
      "Reading file /home/deren/Dropbox/Public/PYRAD_TUTORIALS/tutorial_RAD/clust.85/cat.haplos_ 25%  \r",
      "Reading file /home/deren/Dropbox/Public/PYRAD_TUTORIALS/tutorial_RAD/clust.85/cat.haplos_ 26%  \r",
      "Reading file /home/deren/Dropbox/Public/PYRAD_TUTORIALS/tutorial_RAD/clust.85/cat.haplos_ 26%  \r",
      "Reading file /home/deren/Dropbox/Public/PYRAD_TUTORIALS/tutorial_RAD/clust.85/cat.haplos_ 27%  \r",
      "Reading file /home/deren/Dropbox/Public/PYRAD_TUTORIALS/tutorial_RAD/clust.85/cat.haplos_ 27%  \r",
      "Reading file /home/deren/Dropbox/Public/PYRAD_TUTORIALS/tutorial_RAD/clust.85/cat.haplos_ 28%  \r",
      "Reading file /home/deren/Dropbox/Public/PYRAD_TUTORIALS/tutorial_RAD/clust.85/cat.haplos_ 28%  \r",
      "Reading file /home/deren/Dropbox/Public/PYRAD_TUTORIALS/tutorial_RAD/clust.85/cat.haplos_ 29%  \r",
      "Reading file /home/deren/Dropbox/Public/PYRAD_TUTORIALS/tutorial_RAD/clust.85/cat.haplos_ 29%  \r",
      "Reading file /home/deren/Dropbox/Public/PYRAD_TUTORIALS/tutorial_RAD/clust.85/cat.haplos_ 30%  \r",
      "Reading file /home/deren/Dropbox/Public/PYRAD_TUTORIALS/tutorial_RAD/clust.85/cat.haplos_ 30%  \r",
      "Reading file /home/deren/Dropbox/Public/PYRAD_TUTORIALS/tutorial_RAD/clust.85/cat.haplos_ 31%  \r",
      "Reading file /home/deren/Dropbox/Public/PYRAD_TUTORIALS/tutorial_RAD/clust.85/cat.haplos_ 31%  \r",
      "Reading file /home/deren/Dropbox/Public/PYRAD_TUTORIALS/tutorial_RAD/clust.85/cat.haplos_ 32%  \r",
      "Reading file /home/deren/Dropbox/Public/PYRAD_TUTORIALS/tutorial_RAD/clust.85/cat.haplos_ 32%  \r",
      "Reading file /home/deren/Dropbox/Public/PYRAD_TUTORIALS/tutorial_RAD/clust.85/cat.haplos_ 33%  \r",
      "Reading file /home/deren/Dropbox/Public/PYRAD_TUTORIALS/tutorial_RAD/clust.85/cat.haplos_ 33%  \r",
      "Reading file /home/deren/Dropbox/Public/PYRAD_TUTORIALS/tutorial_RAD/clust.85/cat.haplos_ 34%  \r",
      "Reading file /home/deren/Dropbox/Public/PYRAD_TUTORIALS/tutorial_RAD/clust.85/cat.haplos_ 34%  \r",
      "Reading file /home/deren/Dropbox/Public/PYRAD_TUTORIALS/tutorial_RAD/clust.85/cat.haplos_ 35%  \r",
      "Reading file /home/deren/Dropbox/Public/PYRAD_TUTORIALS/tutorial_RAD/clust.85/cat.haplos_ 35%  \r",
      "Reading file /home/deren/Dropbox/Public/PYRAD_TUTORIALS/tutorial_RAD/clust.85/cat.haplos_ 36%  \r",
      "Reading file /home/deren/Dropbox/Public/PYRAD_TUTORIALS/tutorial_RAD/clust.85/cat.haplos_ 36%  \r",
      "Reading file /home/deren/Dropbox/Public/PYRAD_TUTORIALS/tutorial_RAD/clust.85/cat.haplos_ 37%  \r",
      "Reading file /home/deren/Dropbox/Public/PYRAD_TUTORIALS/tutorial_RAD/clust.85/cat.haplos_ 37%  \r",
      "Reading file /home/deren/Dropbox/Public/PYRAD_TUTORIALS/tutorial_RAD/clust.85/cat.haplos_ 38%  \r",
      "Reading file /home/deren/Dropbox/Public/PYRAD_TUTORIALS/tutorial_RAD/clust.85/cat.haplos_ 38%  \r",
      "Reading file /home/deren/Dropbox/Public/PYRAD_TUTORIALS/tutorial_RAD/clust.85/cat.haplos_ 39%  \r",
      "Reading file /home/deren/Dropbox/Public/PYRAD_TUTORIALS/tutorial_RAD/clust.85/cat.haplos_ 39%  \r",
      "Reading file /home/deren/Dropbox/Public/PYRAD_TUTORIALS/tutorial_RAD/clust.85/cat.haplos_ 40%  \r",
      "Reading file /home/deren/Dropbox/Public/PYRAD_TUTORIALS/tutorial_RAD/clust.85/cat.haplos_ 40%  \r",
      "Reading file /home/deren/Dropbox/Public/PYRAD_TUTORIALS/tutorial_RAD/clust.85/cat.haplos_ 41%  \r",
      "Reading file /home/deren/Dropbox/Public/PYRAD_TUTORIALS/tutorial_RAD/clust.85/cat.haplos_ 41%  \r",
      "Reading file /home/deren/Dropbox/Public/PYRAD_TUTORIALS/tutorial_RAD/clust.85/cat.haplos_ 42%  \r",
      "Reading file /home/deren/Dropbox/Public/PYRAD_TUTORIALS/tutorial_RAD/clust.85/cat.haplos_ 42%  \r",
      "Reading file /home/deren/Dropbox/Public/PYRAD_TUTORIALS/tutorial_RAD/clust.85/cat.haplos_ 43%  \r",
      "Reading file /home/deren/Dropbox/Public/PYRAD_TUTORIALS/tutorial_RAD/clust.85/cat.haplos_ 43%  \r",
      "Reading file /home/deren/Dropbox/Public/PYRAD_TUTORIALS/tutorial_RAD/clust.85/cat.haplos_ 44%  \r",
      "Reading file /home/deren/Dropbox/Public/PYRAD_TUTORIALS/tutorial_RAD/clust.85/cat.haplos_ 44%  \r",
      "Reading file /home/deren/Dropbox/Public/PYRAD_TUTORIALS/tutorial_RAD/clust.85/cat.haplos_ 45%  \r",
      "Reading file /home/deren/Dropbox/Public/PYRAD_TUTORIALS/tutorial_RAD/clust.85/cat.haplos_ 45%  \r",
      "Reading file /home/deren/Dropbox/Public/PYRAD_TUTORIALS/tutorial_RAD/clust.85/cat.haplos_ 46%  \r",
      "Reading file /home/deren/Dropbox/Public/PYRAD_TUTORIALS/tutorial_RAD/clust.85/cat.haplos_ 46%  \r",
      "Reading file /home/deren/Dropbox/Public/PYRAD_TUTORIALS/tutorial_RAD/clust.85/cat.haplos_ 47%  \r",
      "Reading file /home/deren/Dropbox/Public/PYRAD_TUTORIALS/tutorial_RAD/clust.85/cat.haplos_ 47%  \r",
      "Reading file /home/deren/Dropbox/Public/PYRAD_TUTORIALS/tutorial_RAD/clust.85/cat.haplos_ 48%  \r",
      "Reading file /home/deren/Dropbox/Public/PYRAD_TUTORIALS/tutorial_RAD/clust.85/cat.haplos_ 48%  \r",
      "Reading file /home/deren/Dropbox/Public/PYRAD_TUTORIALS/tutorial_RAD/clust.85/cat.haplos_ 49%  \r",
      "Reading file /home/deren/Dropbox/Public/PYRAD_TUTORIALS/tutorial_RAD/clust.85/cat.haplos_ 49%  \r",
      "Reading file /home/deren/Dropbox/Public/PYRAD_TUTORIALS/tutorial_RAD/clust.85/cat.haplos_ 50%  \r",
      "Reading file /home/deren/Dropbox/Public/PYRAD_TUTORIALS/tutorial_RAD/clust.85/cat.haplos_ 50%  \r",
      "Reading file /home/deren/Dropbox/Public/PYRAD_TUTORIALS/tutorial_RAD/clust.85/cat.haplos_ 51%  \r",
      "Reading file /home/deren/Dropbox/Public/PYRAD_TUTORIALS/tutorial_RAD/clust.85/cat.haplos_ 51%  \r",
      "Reading file /home/deren/Dropbox/Public/PYRAD_TUTORIALS/tutorial_RAD/clust.85/cat.haplos_ 52%  \r",
      "Reading file /home/deren/Dropbox/Public/PYRAD_TUTORIALS/tutorial_RAD/clust.85/cat.haplos_ 52%  \r",
      "Reading file /home/deren/Dropbox/Public/PYRAD_TUTORIALS/tutorial_RAD/clust.85/cat.haplos_ 53%  \r",
      "Reading file /home/deren/Dropbox/Public/PYRAD_TUTORIALS/tutorial_RAD/clust.85/cat.haplos_ 53%  \r",
      "Reading file /home/deren/Dropbox/Public/PYRAD_TUTORIALS/tutorial_RAD/clust.85/cat.haplos_ 54%  \r",
      "Reading file /home/deren/Dropbox/Public/PYRAD_TUTORIALS/tutorial_RAD/clust.85/cat.haplos_ 54%  \r",
      "Reading file /home/deren/Dropbox/Public/PYRAD_TUTORIALS/tutorial_RAD/clust.85/cat.haplos_ 55%  \r",
      "Reading file /home/deren/Dropbox/Public/PYRAD_TUTORIALS/tutorial_RAD/clust.85/cat.haplos_ 55%  \r",
      "Reading file /home/deren/Dropbox/Public/PYRAD_TUTORIALS/tutorial_RAD/clust.85/cat.haplos_ 56%  \r",
      "Reading file /home/deren/Dropbox/Public/PYRAD_TUTORIALS/tutorial_RAD/clust.85/cat.haplos_ 56%  \r",
      "Reading file /home/deren/Dropbox/Public/PYRAD_TUTORIALS/tutorial_RAD/clust.85/cat.haplos_ 57%  \r",
      "Reading file /home/deren/Dropbox/Public/PYRAD_TUTORIALS/tutorial_RAD/clust.85/cat.haplos_ 57%  \r",
      "Reading file /home/deren/Dropbox/Public/PYRAD_TUTORIALS/tutorial_RAD/clust.85/cat.haplos_ 58%  \r",
      "Reading file /home/deren/Dropbox/Public/PYRAD_TUTORIALS/tutorial_RAD/clust.85/cat.haplos_ 58%  \r",
      "Reading file /home/deren/Dropbox/Public/PYRAD_TUTORIALS/tutorial_RAD/clust.85/cat.haplos_ 59%  \r",
      "Reading file /home/deren/Dropbox/Public/PYRAD_TUTORIALS/tutorial_RAD/clust.85/cat.haplos_ 59%  \r",
      "Reading file /home/deren/Dropbox/Public/PYRAD_TUTORIALS/tutorial_RAD/clust.85/cat.haplos_ 60%  \r",
      "Reading file /home/deren/Dropbox/Public/PYRAD_TUTORIALS/tutorial_RAD/clust.85/cat.haplos_ 60%  \r",
      "Reading file /home/deren/Dropbox/Public/PYRAD_TUTORIALS/tutorial_RAD/clust.85/cat.haplos_ 61%  \r",
      "Reading file /home/deren/Dropbox/Public/PYRAD_TUTORIALS/tutorial_RAD/clust.85/cat.haplos_ 61%  \r",
      "Reading file /home/deren/Dropbox/Public/PYRAD_TUTORIALS/tutorial_RAD/clust.85/cat.haplos_ 62%  \r",
      "Reading file /home/deren/Dropbox/Public/PYRAD_TUTORIALS/tutorial_RAD/clust.85/cat.haplos_ 62%  \r",
      "Reading file /home/deren/Dropbox/Public/PYRAD_TUTORIALS/tutorial_RAD/clust.85/cat.haplos_ 63%  \r",
      "Reading file /home/deren/Dropbox/Public/PYRAD_TUTORIALS/tutorial_RAD/clust.85/cat.haplos_ 63%  \r",
      "Reading file /home/deren/Dropbox/Public/PYRAD_TUTORIALS/tutorial_RAD/clust.85/cat.haplos_ 64%  \r",
      "Reading file /home/deren/Dropbox/Public/PYRAD_TUTORIALS/tutorial_RAD/clust.85/cat.haplos_ 64%  \r",
      "Reading file /home/deren/Dropbox/Public/PYRAD_TUTORIALS/tutorial_RAD/clust.85/cat.haplos_ 65%  \r",
      "Reading file /home/deren/Dropbox/Public/PYRAD_TUTORIALS/tutorial_RAD/clust.85/cat.haplos_ 65%  \r",
      "Reading file /home/deren/Dropbox/Public/PYRAD_TUTORIALS/tutorial_RAD/clust.85/cat.haplos_ 66%  \r",
      "Reading file /home/deren/Dropbox/Public/PYRAD_TUTORIALS/tutorial_RAD/clust.85/cat.haplos_ 66%  \r",
      "Reading file /home/deren/Dropbox/Public/PYRAD_TUTORIALS/tutorial_RAD/clust.85/cat.haplos_ 67%  \r",
      "Reading file /home/deren/Dropbox/Public/PYRAD_TUTORIALS/tutorial_RAD/clust.85/cat.haplos_ 67%  \r",
      "Reading file /home/deren/Dropbox/Public/PYRAD_TUTORIALS/tutorial_RAD/clust.85/cat.haplos_ 68%  \r",
      "Reading file /home/deren/Dropbox/Public/PYRAD_TUTORIALS/tutorial_RAD/clust.85/cat.haplos_ 68%  \r",
      "Reading file /home/deren/Dropbox/Public/PYRAD_TUTORIALS/tutorial_RAD/clust.85/cat.haplos_ 69%  \r",
      "Reading file /home/deren/Dropbox/Public/PYRAD_TUTORIALS/tutorial_RAD/clust.85/cat.haplos_ 69%  \r",
      "Reading file /home/deren/Dropbox/Public/PYRAD_TUTORIALS/tutorial_RAD/clust.85/cat.haplos_ 70%  \r",
      "Reading file /home/deren/Dropbox/Public/PYRAD_TUTORIALS/tutorial_RAD/clust.85/cat.haplos_ 70%  \r",
      "Reading file /home/deren/Dropbox/Public/PYRAD_TUTORIALS/tutorial_RAD/clust.85/cat.haplos_ 71%  \r",
      "Reading file /home/deren/Dropbox/Public/PYRAD_TUTORIALS/tutorial_RAD/clust.85/cat.haplos_ 71%  \r",
      "Reading file /home/deren/Dropbox/Public/PYRAD_TUTORIALS/tutorial_RAD/clust.85/cat.haplos_ 72%  \r",
      "Reading file /home/deren/Dropbox/Public/PYRAD_TUTORIALS/tutorial_RAD/clust.85/cat.haplos_ 72%  \r",
      "Reading file /home/deren/Dropbox/Public/PYRAD_TUTORIALS/tutorial_RAD/clust.85/cat.haplos_ 73%  \r",
      "Reading file /home/deren/Dropbox/Public/PYRAD_TUTORIALS/tutorial_RAD/clust.85/cat.haplos_ 73%  \r",
      "Reading file /home/deren/Dropbox/Public/PYRAD_TUTORIALS/tutorial_RAD/clust.85/cat.haplos_ 74%  \r",
      "Reading file /home/deren/Dropbox/Public/PYRAD_TUTORIALS/tutorial_RAD/clust.85/cat.haplos_ 74%  \r",
      "Reading file /home/deren/Dropbox/Public/PYRAD_TUTORIALS/tutorial_RAD/clust.85/cat.haplos_ 75%  \r",
      "Reading file /home/deren/Dropbox/Public/PYRAD_TUTORIALS/tutorial_RAD/clust.85/cat.haplos_ 75%  \r",
      "Reading file /home/deren/Dropbox/Public/PYRAD_TUTORIALS/tutorial_RAD/clust.85/cat.haplos_ 76%  \r",
      "Reading file /home/deren/Dropbox/Public/PYRAD_TUTORIALS/tutorial_RAD/clust.85/cat.haplos_ 76%  \r",
      "Reading file /home/deren/Dropbox/Public/PYRAD_TUTORIALS/tutorial_RAD/clust.85/cat.haplos_ 77%  \r",
      "Reading file /home/deren/Dropbox/Public/PYRAD_TUTORIALS/tutorial_RAD/clust.85/cat.haplos_ 77%  \r",
      "Reading file /home/deren/Dropbox/Public/PYRAD_TUTORIALS/tutorial_RAD/clust.85/cat.haplos_ 78%  \r",
      "Reading file /home/deren/Dropbox/Public/PYRAD_TUTORIALS/tutorial_RAD/clust.85/cat.haplos_ 78%  \r",
      "Reading file /home/deren/Dropbox/Public/PYRAD_TUTORIALS/tutorial_RAD/clust.85/cat.haplos_ 79%  \r",
      "Reading file /home/deren/Dropbox/Public/PYRAD_TUTORIALS/tutorial_RAD/clust.85/cat.haplos_ 79%  \r",
      "Reading file /home/deren/Dropbox/Public/PYRAD_TUTORIALS/tutorial_RAD/clust.85/cat.haplos_ 80%  \r",
      "Reading file /home/deren/Dropbox/Public/PYRAD_TUTORIALS/tutorial_RAD/clust.85/cat.haplos_ 80%  \r",
      "Reading file /home/deren/Dropbox/Public/PYRAD_TUTORIALS/tutorial_RAD/clust.85/cat.haplos_ 81%  \r",
      "Reading file /home/deren/Dropbox/Public/PYRAD_TUTORIALS/tutorial_RAD/clust.85/cat.haplos_ 81%  \r",
      "Reading file /home/deren/Dropbox/Public/PYRAD_TUTORIALS/tutorial_RAD/clust.85/cat.haplos_ 82%  \r",
      "Reading file /home/deren/Dropbox/Public/PYRAD_TUTORIALS/tutorial_RAD/clust.85/cat.haplos_ 82%  \r",
      "Reading file /home/deren/Dropbox/Public/PYRAD_TUTORIALS/tutorial_RAD/clust.85/cat.haplos_ 83%  \r",
      "Reading file /home/deren/Dropbox/Public/PYRAD_TUTORIALS/tutorial_RAD/clust.85/cat.haplos_ 83%  \r",
      "Reading file /home/deren/Dropbox/Public/PYRAD_TUTORIALS/tutorial_RAD/clust.85/cat.haplos_ 84%  \r",
      "Reading file /home/deren/Dropbox/Public/PYRAD_TUTORIALS/tutorial_RAD/clust.85/cat.haplos_ 84%  \r",
      "Reading file /home/deren/Dropbox/Public/PYRAD_TUTORIALS/tutorial_RAD/clust.85/cat.haplos_ 85%  \r",
      "Reading file /home/deren/Dropbox/Public/PYRAD_TUTORIALS/tutorial_RAD/clust.85/cat.haplos_ 85%  \r",
      "Reading file /home/deren/Dropbox/Public/PYRAD_TUTORIALS/tutorial_RAD/clust.85/cat.haplos_ 86%  \r",
      "Reading file /home/deren/Dropbox/Public/PYRAD_TUTORIALS/tutorial_RAD/clust.85/cat.haplos_ 86%  \r",
      "Reading file /home/deren/Dropbox/Public/PYRAD_TUTORIALS/tutorial_RAD/clust.85/cat.haplos_ 87%  \r",
      "Reading file /home/deren/Dropbox/Public/PYRAD_TUTORIALS/tutorial_RAD/clust.85/cat.haplos_ 87%  \r",
      "Reading file /home/deren/Dropbox/Public/PYRAD_TUTORIALS/tutorial_RAD/clust.85/cat.haplos_ 88%  \r",
      "Reading file /home/deren/Dropbox/Public/PYRAD_TUTORIALS/tutorial_RAD/clust.85/cat.haplos_ 88%  \r",
      "Reading file /home/deren/Dropbox/Public/PYRAD_TUTORIALS/tutorial_RAD/clust.85/cat.haplos_ 89%  \r",
      "Reading file /home/deren/Dropbox/Public/PYRAD_TUTORIALS/tutorial_RAD/clust.85/cat.haplos_ 89%  \r",
      "Reading file /home/deren/Dropbox/Public/PYRAD_TUTORIALS/tutorial_RAD/clust.85/cat.haplos_ 90%  \r",
      "Reading file /home/deren/Dropbox/Public/PYRAD_TUTORIALS/tutorial_RAD/clust.85/cat.haplos_ 90%  \r",
      "Reading file /home/deren/Dropbox/Public/PYRAD_TUTORIALS/tutorial_RAD/clust.85/cat.haplos_ 91%  \r",
      "Reading file /home/deren/Dropbox/Public/PYRAD_TUTORIALS/tutorial_RAD/clust.85/cat.haplos_ 91%  \r",
      "Reading file /home/deren/Dropbox/Public/PYRAD_TUTORIALS/tutorial_RAD/clust.85/cat.haplos_ 92%  \r",
      "Reading file /home/deren/Dropbox/Public/PYRAD_TUTORIALS/tutorial_RAD/clust.85/cat.haplos_ 92%  \r",
      "Reading file /home/deren/Dropbox/Public/PYRAD_TUTORIALS/tutorial_RAD/clust.85/cat.haplos_ 93%  \r",
      "Reading file /home/deren/Dropbox/Public/PYRAD_TUTORIALS/tutorial_RAD/clust.85/cat.haplos_ 93%  \r",
      "Reading file /home/deren/Dropbox/Public/PYRAD_TUTORIALS/tutorial_RAD/clust.85/cat.haplos_ 94%  \r",
      "Reading file /home/deren/Dropbox/Public/PYRAD_TUTORIALS/tutorial_RAD/clust.85/cat.haplos_ 94%  \r",
      "Reading file /home/deren/Dropbox/Public/PYRAD_TUTORIALS/tutorial_RAD/clust.85/cat.haplos_ 95%  \r",
      "Reading file /home/deren/Dropbox/Public/PYRAD_TUTORIALS/tutorial_RAD/clust.85/cat.haplos_ 95%  \r",
      "Reading file /home/deren/Dropbox/Public/PYRAD_TUTORIALS/tutorial_RAD/clust.85/cat.haplos_ 96%  \r",
      "Reading file /home/deren/Dropbox/Public/PYRAD_TUTORIALS/tutorial_RAD/clust.85/cat.haplos_ 96%  \r",
      "Reading file /home/deren/Dropbox/Public/PYRAD_TUTORIALS/tutorial_RAD/clust.85/cat.haplos_ 97%  \r",
      "Reading file /home/deren/Dropbox/Public/PYRAD_TUTORIALS/tutorial_RAD/clust.85/cat.haplos_ 97%  \r",
      "Reading file /home/deren/Dropbox/Public/PYRAD_TUTORIALS/tutorial_RAD/clust.85/cat.haplos_ 98%  \r",
      "Reading file /home/deren/Dropbox/Public/PYRAD_TUTORIALS/tutorial_RAD/clust.85/cat.haplos_ 98%  \r",
      "Reading file /home/deren/Dropbox/Public/PYRAD_TUTORIALS/tutorial_RAD/clust.85/cat.haplos_ 99%  \r",
      "Reading file /home/deren/Dropbox/Public/PYRAD_TUTORIALS/tutorial_RAD/clust.85/cat.haplos_ 99%  \r",
      "Reading file /home/deren/Dropbox/Public/PYRAD_TUTORIALS/tutorial_RAD/clust.85/cat.haplos_ 100%  \r",
      "Reading file /home/deren/Dropbox/Public/PYRAD_TUTORIALS/tutorial_RAD/clust.85/cat.haplos_ 100%\n",
      "2256027 nt in 24000 seqs, min 94, max 96, avg 94\n",
      "Indexing sequences 0%  \r",
      "Indexing sequences 0%  \r",
      "Indexing sequences 0%  \r",
      "Indexing sequences 1%  \r",
      "Indexing sequences 2%  \r",
      "Indexing sequences 2%  \r",
      "Indexing sequences 2%  \r",
      "Indexing sequences 3%  \r",
      "Indexing sequences 4%  \r",
      "Indexing sequences 4%  \r",
      "Indexing sequences 4%  \r",
      "Indexing sequences 5%  \r",
      "Indexing sequences 6%  \r",
      "Indexing sequences 6%  \r",
      "Indexing sequences 6%  \r",
      "Indexing sequences 7%  \r",
      "Indexing sequences 8%  \r",
      "Indexing sequences 8%  \r",
      "Indexing sequences 8%  \r",
      "Indexing sequences 9%  \r",
      "Indexing sequences 10%  \r",
      "Indexing sequences 10%  \r",
      "Indexing sequences 10%  \r",
      "Indexing sequences 11%  \r",
      "Indexing sequences 12%  \r",
      "Indexing sequences 12%  \r",
      "Indexing sequences 12%  \r",
      "Indexing sequences 13%  \r",
      "Indexing sequences 14%  \r",
      "Indexing sequences 14%  \r",
      "Indexing sequences 14%  \r",
      "Indexing sequences 15%  \r",
      "Indexing sequences 16%  \r",
      "Indexing sequences 16%  \r",
      "Indexing sequences 16%  \r",
      "Indexing sequences 17%  \r",
      "Indexing sequences 18%  \r",
      "Indexing sequences 18%  \r",
      "Indexing sequences 18%  \r",
      "Indexing sequences 19%  \r",
      "Indexing sequences 20%  \r",
      "Indexing sequences 20%  \r",
      "Indexing sequences 20%  \r",
      "Indexing sequences 21%  \r",
      "Indexing sequences 22%  \r",
      "Indexing sequences 22%  \r",
      "Indexing sequences 22%  \r",
      "Indexing sequences 23%  \r",
      "Indexing sequences 24%  \r",
      "Indexing sequences 24%  \r",
      "Indexing sequences 24%  \r",
      "Indexing sequences 25%  \r",
      "Indexing sequences 26%  \r",
      "Indexing sequences 26%  \r",
      "Indexing sequences 26%  \r",
      "Indexing sequences 27%  \r",
      "Indexing sequences 28%  \r",
      "Indexing sequences 28%  \r",
      "Indexing sequences 28%  \r",
      "Indexing sequences 29%  \r",
      "Indexing sequences 30%  \r",
      "Indexing sequences 30%  \r",
      "Indexing sequences 30%  \r",
      "Indexing sequences 31%  \r",
      "Indexing sequences 32%  \r",
      "Indexing sequences 32%  \r",
      "Indexing sequences 32%  \r",
      "Indexing sequences 33%  \r",
      "Indexing sequences 34%  \r",
      "Indexing sequences 34%  \r",
      "Indexing sequences 34%  \r",
      "Indexing sequences 35%  \r",
      "Indexing sequences 36%  \r",
      "Indexing sequences 36%  \r",
      "Indexing sequences 36%  \r",
      "Indexing sequences 37%  \r",
      "Indexing sequences 38%  \r",
      "Indexing sequences 38%  \r",
      "Indexing sequences 38%  \r",
      "Indexing sequences 39%  \r",
      "Indexing sequences 40%  \r",
      "Indexing sequences 40%  \r",
      "Indexing sequences 40%  \r",
      "Indexing sequences 41%  \r",
      "Indexing sequences 42%  \r",
      "Indexing sequences 42%  \r",
      "Indexing sequences 42%  \r",
      "Indexing sequences 43%  \r",
      "Indexing sequences 44%  \r",
      "Indexing sequences 44%  \r",
      "Indexing sequences 44%  \r",
      "Indexing sequences 45%  \r",
      "Indexing sequences 46%  \r",
      "Indexing sequences 46%  \r",
      "Indexing sequences 46%  \r",
      "Indexing sequences 47%  \r",
      "Indexing sequences 48%  \r",
      "Indexing sequences 48%  \r",
      "Indexing sequences 48%  \r",
      "Indexing sequences 49%  \r",
      "Indexing sequences 50%  \r",
      "Indexing sequences 50%  \r",
      "Indexing sequences 50%  \r",
      "Indexing sequences 51%  \r",
      "Indexing sequences 52%  \r",
      "Indexing sequences 52%  \r",
      "Indexing sequences 52%  \r",
      "Indexing sequences 53%  \r",
      "Indexing sequences 54%  \r",
      "Indexing sequences 54%  \r",
      "Indexing sequences 54%  \r",
      "Indexing sequences 55%  \r",
      "Indexing sequences 56%  \r",
      "Indexing sequences 56%  \r",
      "Indexing sequences 56%  \r",
      "Indexing sequences 57%  \r",
      "Indexing sequences 58%  \r",
      "Indexing sequences 58%  \r",
      "Indexing sequences 58%  \r",
      "Indexing sequences 59%  \r",
      "Indexing sequences 60%  \r",
      "Indexing sequences 60%  \r",
      "Indexing sequences 60%  \r",
      "Indexing sequences 61%  \r",
      "Indexing sequences 62%  \r",
      "Indexing sequences 62%  \r",
      "Indexing sequences 62%  \r",
      "Indexing sequences 63%  \r",
      "Indexing sequences 64%  \r",
      "Indexing sequences 64%  \r",
      "Indexing sequences 64%  \r",
      "Indexing sequences 65%  \r",
      "Indexing sequences 66%  \r",
      "Indexing sequences 66%  \r",
      "Indexing sequences 66%  \r",
      "Indexing sequences 67%  \r",
      "Indexing sequences 68%  \r",
      "Indexing sequences 68%  \r",
      "Indexing sequences 68%  \r",
      "Indexing sequences 69%  \r",
      "Indexing sequences 70%  \r",
      "Indexing sequences 70%  \r",
      "Indexing sequences 70%  \r",
      "Indexing sequences 71%  \r",
      "Indexing sequences 72%  \r",
      "Indexing sequences 72%  \r",
      "Indexing sequences 72%  \r",
      "Indexing sequences 73%  \r",
      "Indexing sequences 74%  \r",
      "Indexing sequences 74%  \r",
      "Indexing sequences 74%  \r",
      "Indexing sequences 75%  \r",
      "Indexing sequences 76%  \r",
      "Indexing sequences 76%  \r",
      "Indexing sequences 76%  \r",
      "Indexing sequences 77%  \r",
      "Indexing sequences 78%  \r",
      "Indexing sequences 78%  \r",
      "Indexing sequences 78%  \r",
      "Indexing sequences 79%  \r",
      "Indexing sequences 80%  \r",
      "Indexing sequences 80%  \r",
      "Indexing sequences 80%  \r",
      "Indexing sequences 81%  \r",
      "Indexing sequences 82%  \r",
      "Indexing sequences 82%  \r",
      "Indexing sequences 82%  \r",
      "Indexing sequences 83%  \r",
      "Indexing sequences 84%  \r",
      "Indexing sequences 84%  \r",
      "Indexing sequences 84%  \r",
      "Indexing sequences 85%  \r",
      "Indexing sequences 86%  \r",
      "Indexing sequences 86%  \r",
      "Indexing sequences 86%  \r",
      "Indexing sequences 87%  \r",
      "Indexing sequences 88%  \r",
      "Indexing sequences 88%  \r",
      "Indexing sequences 88%  \r",
      "Indexing sequences 89%  \r",
      "Indexing sequences 90%  \r",
      "Indexing sequences 90%  \r",
      "Indexing sequences 90%  \r",
      "Indexing sequences 91%  \r",
      "Indexing sequences 92%  \r",
      "Indexing sequences 92%  \r",
      "Indexing sequences 92%  \r",
      "Indexing sequences 93%  \r",
      "Indexing sequences 94%  \r",
      "Indexing sequences 94%  \r",
      "Indexing sequences 94%  \r",
      "Indexing sequences 95%  \r",
      "Indexing sequences 96%  \r",
      "Indexing sequences 96%  \r",
      "Indexing sequences 96%  \r",
      "Indexing sequences 97%  \r",
      "Indexing sequences 98%  \r",
      "Indexing sequences 98%  \r",
      "Indexing sequences 98%  \r",
      "Indexing sequences 99%  \r",
      "Indexing sequences 100%  \r",
      "Indexing sequences 100%\n",
      "Counting unique k-mers 0%  \r",
      "Counting unique k-mers 0%  \r",
      "Counting unique k-mers 0%  \r",
      "Counting unique k-mers 1%  \r",
      "Counting unique k-mers 2%  \r",
      "Counting unique k-mers 2%  \r",
      "Counting unique k-mers 2%  \r",
      "Counting unique k-mers 3%  \r",
      "Counting unique k-mers 4%  \r",
      "Counting unique k-mers 4%  \r",
      "Counting unique k-mers 4%  \r",
      "Counting unique k-mers 5%  \r",
      "Counting unique k-mers 6%  \r",
      "Counting unique k-mers 6%  \r",
      "Counting unique k-mers 6%  \r",
      "Counting unique k-mers 7%  \r",
      "Counting unique k-mers 8%  \r",
      "Counting unique k-mers 8%  \r",
      "Counting unique k-mers 8%  \r",
      "Counting unique k-mers 9%  \r",
      "Counting unique k-mers 10%  \r",
      "Counting unique k-mers 10%  \r",
      "Counting unique k-mers 10%  \r",
      "Counting unique k-mers 11%  \r",
      "Counting unique k-mers 12%  \r",
      "Counting unique k-mers 12%  \r",
      "Counting unique k-mers 12%  \r",
      "Counting unique k-mers 13%  \r",
      "Counting unique k-mers 14%  \r",
      "Counting unique k-mers 14%  \r",
      "Counting unique k-mers 14%  \r",
      "Counting unique k-mers 15%  \r",
      "Counting unique k-mers 16%  \r",
      "Counting unique k-mers 16%  \r",
      "Counting unique k-mers 16%  \r",
      "Counting unique k-mers 17%  \r",
      "Counting unique k-mers 18%  \r",
      "Counting unique k-mers 18%  \r",
      "Counting unique k-mers 18%  \r",
      "Counting unique k-mers 19%  \r",
      "Counting unique k-mers 20%  \r",
      "Counting unique k-mers 20%  \r",
      "Counting unique k-mers 20%  \r",
      "Counting unique k-mers 21%  \r",
      "Counting unique k-mers 22%  \r",
      "Counting unique k-mers 22%  \r",
      "Counting unique k-mers 22%  \r",
      "Counting unique k-mers 23%  \r",
      "Counting unique k-mers 24%  \r",
      "Counting unique k-mers 24%  \r",
      "Counting unique k-mers 24%  \r",
      "Counting unique k-mers 25%  \r",
      "Counting unique k-mers 26%  \r",
      "Counting unique k-mers 26%  \r",
      "Counting unique k-mers 26%  \r",
      "Counting unique k-mers 27%  \r",
      "Counting unique k-mers 28%  \r",
      "Counting unique k-mers 28%  \r",
      "Counting unique k-mers 28%  \r",
      "Counting unique k-mers 29%  \r",
      "Counting unique k-mers 30%  \r",
      "Counting unique k-mers 30%  \r",
      "Counting unique k-mers 30%  \r",
      "Counting unique k-mers 31%  \r",
      "Counting unique k-mers 32%  \r",
      "Counting unique k-mers 32%  \r",
      "Counting unique k-mers 32%  \r",
      "Counting unique k-mers 33%  \r",
      "Counting unique k-mers 34%  \r",
      "Counting unique k-mers 34%  \r",
      "Counting unique k-mers 34%  \r",
      "Counting unique k-mers 35%  \r",
      "Counting unique k-mers 36%  \r",
      "Counting unique k-mers 36%  \r",
      "Counting unique k-mers 36%  \r",
      "Counting unique k-mers 37%  \r",
      "Counting unique k-mers 38%  \r",
      "Counting unique k-mers 38%  \r",
      "Counting unique k-mers 38%  \r",
      "Counting unique k-mers 39%  \r",
      "Counting unique k-mers 40%  \r",
      "Counting unique k-mers 40%  \r",
      "Counting unique k-mers 40%  \r",
      "Counting unique k-mers 41%  \r",
      "Counting unique k-mers 42%  \r",
      "Counting unique k-mers 42%  \r",
      "Counting unique k-mers 42%  \r",
      "Counting unique k-mers 43%  \r",
      "Counting unique k-mers 44%  \r",
      "Counting unique k-mers 44%  \r",
      "Counting unique k-mers 44%  \r",
      "Counting unique k-mers 45%  \r",
      "Counting unique k-mers 46%  \r",
      "Counting unique k-mers 46%  \r",
      "Counting unique k-mers 46%  \r",
      "Counting unique k-mers 47%  \r",
      "Counting unique k-mers 48%  \r",
      "Counting unique k-mers 48%  \r",
      "Counting unique k-mers 48%  \r",
      "Counting unique k-mers 49%  \r",
      "Counting unique k-mers 50%  \r",
      "Counting unique k-mers 50%  \r",
      "Counting unique k-mers 50%  \r",
      "Counting unique k-mers 51%  \r",
      "Counting unique k-mers 52%  \r",
      "Counting unique k-mers 52%  \r",
      "Counting unique k-mers 52%  \r",
      "Counting unique k-mers 53%  \r",
      "Counting unique k-mers 54%  \r",
      "Counting unique k-mers 54%  \r",
      "Counting unique k-mers 54%  \r",
      "Counting unique k-mers 55%  \r",
      "Counting unique k-mers 56%  \r",
      "Counting unique k-mers 56%  \r",
      "Counting unique k-mers 56%  \r",
      "Counting unique k-mers 57%  \r",
      "Counting unique k-mers 58%  \r",
      "Counting unique k-mers 58%  \r",
      "Counting unique k-mers 58%  \r",
      "Counting unique k-mers 59%  \r",
      "Counting unique k-mers 60%  \r",
      "Counting unique k-mers 60%  \r",
      "Counting unique k-mers 60%  \r",
      "Counting unique k-mers 61%  \r",
      "Counting unique k-mers 62%  \r",
      "Counting unique k-mers 62%  \r",
      "Counting unique k-mers 62%  \r",
      "Counting unique k-mers 63%  \r",
      "Counting unique k-mers 64%  \r",
      "Counting unique k-mers 64%  \r",
      "Counting unique k-mers 64%  \r",
      "Counting unique k-mers 65%  \r",
      "Counting unique k-mers 66%  \r",
      "Counting unique k-mers 66%  \r",
      "Counting unique k-mers 66%  \r",
      "Counting unique k-mers 67%  \r",
      "Counting unique k-mers 68%  \r",
      "Counting unique k-mers 68%  \r",
      "Counting unique k-mers 68%  \r",
      "Counting unique k-mers 69%  \r",
      "Counting unique k-mers 70%  \r",
      "Counting unique k-mers 70%  \r",
      "Counting unique k-mers 70%  \r",
      "Counting unique k-mers 71%  \r",
      "Counting unique k-mers 72%  \r",
      "Counting unique k-mers 72%  \r",
      "Counting unique k-mers 72%  \r",
      "Counting unique k-mers 73%  \r",
      "Counting unique k-mers 74%  \r",
      "Counting unique k-mers 74%  \r",
      "Counting unique k-mers 74%  \r",
      "Counting unique k-mers 75%  \r",
      "Counting unique k-mers 76%  \r",
      "Counting unique k-mers 76%  \r",
      "Counting unique k-mers 76%  \r",
      "Counting unique k-mers 77%  \r",
      "Counting unique k-mers 78%  \r",
      "Counting unique k-mers 78%  \r",
      "Counting unique k-mers 78%  \r",
      "Counting unique k-mers 79%  \r",
      "Counting unique k-mers 80%  \r",
      "Counting unique k-mers 80%  \r",
      "Counting unique k-mers 80%  \r",
      "Counting unique k-mers 81%  \r",
      "Counting unique k-mers 82%  \r",
      "Counting unique k-mers 82%  \r",
      "Counting unique k-mers 82%  \r",
      "Counting unique k-mers 83%  \r",
      "Counting unique k-mers 84%  \r",
      "Counting unique k-mers 84%  \r",
      "Counting unique k-mers 84%  \r",
      "Counting unique k-mers 85%  \r",
      "Counting unique k-mers 86%  \r",
      "Counting unique k-mers 86%  \r",
      "Counting unique k-mers 86%  \r",
      "Counting unique k-mers 87%  \r",
      "Counting unique k-mers 88%  \r",
      "Counting unique k-mers 88%  \r",
      "Counting unique k-mers 88%  \r",
      "Counting unique k-mers 89%  \r",
      "Counting unique k-mers 90%  \r",
      "Counting unique k-mers 90%  \r",
      "Counting unique k-mers 90%  \r",
      "Counting unique k-mers 91%  \r",
      "Counting unique k-mers 92%  \r",
      "Counting unique k-mers 92%  \r",
      "Counting unique k-mers 92%  \r",
      "Counting unique k-mers 93%  \r",
      "Counting unique k-mers 94%  \r",
      "Counting unique k-mers 94%  \r",
      "Counting unique k-mers 94%  \r",
      "Counting unique k-mers 95%  \r",
      "Counting unique k-mers 96%  \r",
      "Counting unique k-mers 96%  \r",
      "Counting unique k-mers 96%  \r",
      "Counting unique k-mers 97%  \r",
      "Counting unique k-mers 98%  \r",
      "Counting unique k-mers 98%  \r",
      "Counting unique k-mers 98%  \r",
      "Counting unique k-mers 99%  \r",
      "Counting unique k-mers 100%  \r",
      "Counting unique k-mers 100%\n",
      "Clustering 0%  \r",
      "Clustering 0%  \r",
      "Clustering 1%  \r",
      "Clustering 1%  \r",
      "Clustering 2%  \r",
      "Clustering 2%  \r",
      "Clustering 3%  \r",
      "Clustering 3%  \r",
      "Clustering 4%  \r",
      "Clustering 4%  \r",
      "Clustering 5%  \r",
      "Clustering 5%  \r",
      "Clustering 6%  \r",
      "Clustering 6%  \r",
      "Clustering 7%  \r",
      "Clustering 7%  \r",
      "Clustering 8%  \r",
      "Clustering 8%  \r",
      "Clustering 9%  \r",
      "Clustering 9%  \r",
      "Clustering 10%  \r",
      "Clustering 10%  \r",
      "Clustering 11%  \r",
      "Clustering 11%  \r",
      "Clustering 12%  \r",
      "Clustering 12%  \r",
      "Clustering 13%  \r",
      "Clustering 13%  \r",
      "Clustering 14%  \r",
      "Clustering 14%  \r",
      "Clustering 15%  \r",
      "Clustering 15%  \r",
      "Clustering 16%  \r",
      "Clustering 16%  \r",
      "Clustering 17%  \r",
      "Clustering 17%  \r",
      "Clustering 18%  \r",
      "Clustering 18%  \r",
      "Clustering 19%  \r",
      "Clustering 19%  \r",
      "Clustering 20%  \r",
      "Clustering 20%  \r",
      "Clustering 21%  \r",
      "Clustering 21%  \r",
      "Clustering 22%  \r",
      "Clustering 22%  \r",
      "Clustering 23%  \r",
      "Clustering 23%  \r",
      "Clustering 24%  \r",
      "Clustering 24%  \r",
      "Clustering 25%  \r",
      "Clustering 25%  \r",
      "Clustering 26%  \r",
      "Clustering 26%  \r",
      "Clustering 27%  \r",
      "Clustering 27%  \r",
      "Clustering 28%  \r",
      "Clustering 28%  \r",
      "Clustering 29%  \r",
      "Clustering 29%  \r",
      "Clustering 30%  \r",
      "Clustering 30%  \r",
      "Clustering 31%  \r",
      "Clustering 31%  \r",
      "Clustering 32%  \r",
      "Clustering 32%  \r",
      "Clustering 33%  \r",
      "Clustering 33%  \r",
      "Clustering 34%  \r",
      "Clustering 34%  \r",
      "Clustering 35%  \r",
      "Clustering 35%  \r",
      "Clustering 36%  \r",
      "Clustering 36%  \r",
      "Clustering 37%  \r",
      "Clustering 37%  \r",
      "Clustering 38%  \r",
      "Clustering 38%  \r",
      "Clustering 39%  \r",
      "Clustering 39%  \r",
      "Clustering 40%  \r",
      "Clustering 40%  \r",
      "Clustering 41%  \r",
      "Clustering 41%  \r",
      "Clustering 42%  \r",
      "Clustering 42%  \r",
      "Clustering 43%  \r",
      "Clustering 43%  \r",
      "Clustering 44%  \r",
      "Clustering 44%  \r",
      "Clustering 45%  \r",
      "Clustering 45%  \r",
      "Clustering 46%  \r",
      "Clustering 46%  \r",
      "Clustering 47%  \r",
      "Clustering 47%  \r",
      "Clustering 48%  \r",
      "Clustering 48%  \r",
      "Clustering 49%  \r",
      "Clustering 49%  \r",
      "Clustering 50%  \r",
      "Clustering 50%  \r",
      "Clustering 51%  \r",
      "Clustering 51%  \r",
      "Clustering 52%  \r",
      "Clustering 52%  \r",
      "Clustering 53%  \r",
      "Clustering 53%  \r",
      "Clustering 54%  \r",
      "Clustering 54%  \r",
      "Clustering 55%  \r",
      "Clustering 55%  \r",
      "Clustering 56%  \r",
      "Clustering 56%  \r",
      "Clustering 57%  \r",
      "Clustering 57%  \r",
      "Clustering 58%  \r",
      "Clustering 58%  \r",
      "Clustering 59%  \r",
      "Clustering 59%  \r",
      "Clustering 60%  \r",
      "Clustering 60%  \r",
      "Clustering 61%  \r",
      "Clustering 61%  \r",
      "Clustering 62%  \r",
      "Clustering 62%  \r",
      "Clustering 63%  \r",
      "Clustering 63%  \r",
      "Clustering 64%  \r",
      "Clustering 64%  \r",
      "Clustering 65%  \r",
      "Clustering 65%  \r",
      "Clustering 66%  \r",
      "Clustering 66%  \r",
      "Clustering 67%  \r",
      "Clustering 67%  \r",
      "Clustering 68%  \r",
      "Clustering 68%  \r",
      "Clustering 69%  \r",
      "Clustering 69%  \r",
      "Clustering 70%  \r",
      "Clustering 70%  \r",
      "Clustering 71%  \r",
      "Clustering 71%  \r",
      "Clustering 72%  \r",
      "Clustering 72%  \r",
      "Clustering 73%  \r",
      "Clustering 73%  \r",
      "Clustering 74%  \r",
      "Clustering 74%  \r",
      "Clustering 75%  \r",
      "Clustering 75%  \r",
      "Clustering 76%  \r",
      "Clustering 76%  \r",
      "Clustering 77%  \r",
      "Clustering 77%  \r",
      "Clustering 78%  \r",
      "Clustering 78%  \r",
      "Clustering 79%  \r",
      "Clustering 79%  \r",
      "Clustering 80%  \r",
      "Clustering 80%  \r",
      "Clustering 81%  \r",
      "Clustering 81%  \r",
      "Clustering 82%  \r",
      "Clustering 82%  \r",
      "Clustering 83%  \r",
      "Clustering 83%  \r",
      "Clustering 84%  \r",
      "Clustering 84%  \r",
      "Clustering 85%  \r",
      "Clustering 85%  \r",
      "Clustering 86%  \r",
      "Clustering 86%  \r",
      "Clustering 87%  \r",
      "Clustering 87%  \r",
      "Clustering 88%  \r",
      "Clustering 88%  \r",
      "Clustering 89%  \r",
      "Clustering 89%  \r",
      "Clustering 90%  \r",
      "Clustering 90%  \r",
      "Clustering 91%  \r",
      "Clustering 91%  \r",
      "Clustering 92%  \r",
      "Clustering 92%  \r",
      "Clustering 93%  \r",
      "Clustering 93%  \r",
      "Clustering 94%  \r",
      "Clustering 94%  \r",
      "Clustering 95%  \r",
      "Clustering 95%  \r",
      "Clustering 96%  \r",
      "Clustering 96%  \r",
      "Clustering 97%  \r",
      "Clustering 97%  \r",
      "Clustering 98%  \r",
      "Clustering 98%  \r",
      "Clustering 99%  \r",
      "Clustering 99%  \r",
      "Clustering 100%  \r",
      "Clustering 100%\n",
      "Writing clusters 0%  \r",
      "Writing clusters 0%  \r",
      "Writing clusters 0%  \r",
      "Writing clusters 1%  \r",
      "Writing clusters 2%  \r",
      "Writing clusters 2%  \r",
      "Writing clusters 2%  \r",
      "Writing clusters 3%  \r",
      "Writing clusters 4%  \r",
      "Writing clusters 4%  \r",
      "Writing clusters 4%  \r",
      "Writing clusters 5%  \r",
      "Writing clusters 6%  \r",
      "Writing clusters 6%  \r",
      "Writing clusters 6%  \r",
      "Writing clusters 7%  \r",
      "Writing clusters 8%  \r",
      "Writing clusters 8%  \r",
      "Writing clusters 8%  \r",
      "Writing clusters 9%  \r",
      "Writing clusters 10%  \r",
      "Writing clusters 10%  \r",
      "Writing clusters 10%  \r",
      "Writing clusters 11%  \r",
      "Writing clusters 12%  \r",
      "Writing clusters 12%  \r",
      "Writing clusters 12%  \r",
      "Writing clusters 13%  \r",
      "Writing clusters 14%  \r",
      "Writing clusters 14%  \r",
      "Writing clusters 14%  \r",
      "Writing clusters 15%  \r",
      "Writing clusters 16%  \r",
      "Writing clusters 16%  \r",
      "Writing clusters 16%  \r",
      "Writing clusters 17%  \r",
      "Writing clusters 18%  \r",
      "Writing clusters 18%  \r",
      "Writing clusters 18%  \r",
      "Writing clusters 19%  \r",
      "Writing clusters 20%  \r",
      "Writing clusters 20%  \r",
      "Writing clusters 20%  \r",
      "Writing clusters 21%  \r",
      "Writing clusters 22%  \r",
      "Writing clusters 22%  \r",
      "Writing clusters 22%  \r",
      "Writing clusters 23%  \r",
      "Writing clusters 24%  \r",
      "Writing clusters 24%  \r",
      "Writing clusters 24%  \r",
      "Writing clusters 25%  \r",
      "Writing clusters 26%  \r",
      "Writing clusters 26%  \r",
      "Writing clusters 26%  \r",
      "Writing clusters 27%  \r",
      "Writing clusters 28%  \r",
      "Writing clusters 28%  \r",
      "Writing clusters 28%  \r",
      "Writing clusters 29%  \r",
      "Writing clusters 30%  \r",
      "Writing clusters 30%  \r",
      "Writing clusters 30%  \r",
      "Writing clusters 31%  \r",
      "Writing clusters 32%  \r",
      "Writing clusters 32%  \r",
      "Writing clusters 32%  \r",
      "Writing clusters 33%  \r",
      "Writing clusters 34%  \r",
      "Writing clusters 34%  \r",
      "Writing clusters 34%  \r",
      "Writing clusters 35%  \r",
      "Writing clusters 36%  \r",
      "Writing clusters 36%  \r",
      "Writing clusters 36%  \r",
      "Writing clusters 37%  \r",
      "Writing clusters 38%  \r",
      "Writing clusters 38%  \r",
      "Writing clusters 38%  \r",
      "Writing clusters 39%  \r",
      "Writing clusters 40%  \r",
      "Writing clusters 40%  \r",
      "Writing clusters 40%  \r",
      "Writing clusters 41%  \r",
      "Writing clusters 42%  \r",
      "Writing clusters 42%  \r",
      "Writing clusters 42%  \r",
      "Writing clusters 43%  \r",
      "Writing clusters 44%  \r",
      "Writing clusters 44%  \r",
      "Writing clusters 44%  \r",
      "Writing clusters 45%  \r",
      "Writing clusters 46%  \r",
      "Writing clusters 46%  \r",
      "Writing clusters 46%  \r",
      "Writing clusters 47%  \r",
      "Writing clusters 48%  \r",
      "Writing clusters 48%  \r",
      "Writing clusters 48%  \r",
      "Writing clusters 49%  \r",
      "Writing clusters 50%  \r",
      "Writing clusters 50%  \r",
      "Writing clusters 50%  \r",
      "Writing clusters 51%  \r",
      "Writing clusters 52%  \r",
      "Writing clusters 52%  \r",
      "Writing clusters 52%  \r",
      "Writing clusters 53%  \r",
      "Writing clusters 54%  \r",
      "Writing clusters 54%  \r",
      "Writing clusters 54%  \r",
      "Writing clusters 55%  \r",
      "Writing clusters 56%  \r",
      "Writing clusters 56%  \r",
      "Writing clusters 56%  \r",
      "Writing clusters 57%  \r",
      "Writing clusters 58%  \r",
      "Writing clusters 58%  \r",
      "Writing clusters 58%  \r",
      "Writing clusters 59%  \r",
      "Writing clusters 60%  \r",
      "Writing clusters 60%  \r",
      "Writing clusters 60%  \r",
      "Writing clusters 61%  \r",
      "Writing clusters 62%  \r",
      "Writing clusters 62%  \r",
      "Writing clusters 62%  \r",
      "Writing clusters 63%  \r",
      "Writing clusters 64%  \r",
      "Writing clusters 64%  \r",
      "Writing clusters 64%  \r",
      "Writing clusters 65%  \r",
      "Writing clusters 66%  \r",
      "Writing clusters 66%  \r",
      "Writing clusters 66%  \r",
      "Writing clusters 67%  \r",
      "Writing clusters 68%  \r",
      "Writing clusters 68%  \r",
      "Writing clusters 68%  \r",
      "Writing clusters 69%  \r",
      "Writing clusters 70%  \r",
      "Writing clusters 70%  \r",
      "Writing clusters 70%  \r",
      "Writing clusters 71%  \r",
      "Writing clusters 72%  \r",
      "Writing clusters 72%  \r",
      "Writing clusters 72%  \r",
      "Writing clusters 73%  \r",
      "Writing clusters 74%  \r",
      "Writing clusters 74%  \r",
      "Writing clusters 74%  \r",
      "Writing clusters 75%  \r",
      "Writing clusters 76%  \r",
      "Writing clusters 76%  \r",
      "Writing clusters 76%  \r",
      "Writing clusters 77%  \r",
      "Writing clusters 78%  \r",
      "Writing clusters 78%  \r",
      "Writing clusters 78%  \r",
      "Writing clusters 79%  \r",
      "Writing clusters 80%  \r",
      "Writing clusters 80%  \r",
      "Writing clusters 80%  \r",
      "Writing clusters 81%  \r",
      "Writing clusters 82%  \r",
      "Writing clusters 82%  \r",
      "Writing clusters 82%  \r",
      "Writing clusters 83%  \r",
      "Writing clusters 84%  \r",
      "Writing clusters 84%  \r",
      "Writing clusters 84%  \r",
      "Writing clusters 85%  \r",
      "Writing clusters 86%  \r",
      "Writing clusters 86%  \r",
      "Writing clusters 86%  \r",
      "Writing clusters 87%  \r",
      "Writing clusters 88%  \r",
      "Writing clusters 88%  \r",
      "Writing clusters 88%  \r",
      "Writing clusters 89%  \r",
      "Writing clusters 90%  \r",
      "Writing clusters 90%  \r",
      "Writing clusters 90%  \r",
      "Writing clusters 91%  \r",
      "Writing clusters 92%  \r",
      "Writing clusters 92%  \r",
      "Writing clusters 92%  \r",
      "Writing clusters 93%  \r",
      "Writing clusters 94%  \r",
      "Writing clusters 94%  \r",
      "Writing clusters 94%  \r",
      "Writing clusters 95%  \r",
      "Writing clusters 96%  \r",
      "Writing clusters 96%  \r",
      "Writing clusters 96%  \r",
      "Writing clusters 97%  \r",
      "Writing clusters 98%  \r",
      "Writing clusters 98%  \r",
      "Writing clusters 98%  \r",
      "Writing clusters 99%  \r",
      "Writing clusters 100%  \r",
      "Writing clusters 100%\n",
      "Clusters: 2000 Size min 12, max 12, avg 12.0\n",
      "Singletons: 0, 0.0% of seqs, 0.0% of clusters\n"
     ]
    }
   ],
   "source": [
    "%%bash\n",
    "pyRAD -p params.txt -s 6 "
   ]
  },
  {
   "cell_type": "markdown",
   "metadata": {},
   "source": [
    "## Step 7: Assemble final data sets"
   ]
  },
  {
   "cell_type": "markdown",
   "metadata": {},
   "source": [
    "The final step is to output data only for the loci that you want to have included in your data set. This filters once again for potential paralogs or highly repetitive regions, and includes options to minimize the amount of missing data in the output. "
   ]
  },
  {
   "cell_type": "code",
   "execution_count": 26,
   "metadata": {
    "collapsed": false
   },
   "outputs": [
    {
     "name": "stdout",
     "output_type": "stream",
     "text": [
      "\tingroup 1A0,1B0,1C0,1D0,2E0,2F0,2G0,2H0,3I0,3J0,3K0,3L0\n",
      "\taddon \n",
      "\texclude \n",
      "\t\n",
      "\tWarning: data set c85m4p3.loci already exists\n",
      "\t  Skipping re-alignment. Creating extra data formats from the existing file\n",
      "\t  To create a new .loci file and alignment move/delete c85m4p3.loci or change\n",
      "\t  the outname prefix in the params file\n",
      "\n",
      "\twriting nexus file\n",
      "\twriting phylip file\n",
      "\twriting unlinked SNPs file\n",
      "\t  + writing full SNPs file\n",
      "\t  + writing STRUCTURE file\n",
      "\t  + writing geno file\n",
      "\t  ** must enter group/clade assignments for treemix output \n",
      "\twriting vcf file\n",
      "\twriting alleles file\n",
      "\t  ** must enter group/clade assignments for migrate-n output \n"
     ]
    },
    {
     "name": "stderr",
     "output_type": "stream",
     "text": [
      "\n",
      "\n",
      "     ------------------------------------------------------------\n",
      "      pyRAD : RADseq for phylogenetics & introgression analyses\n",
      "     ------------------------------------------------------------\n",
      "\n"
     ]
    }
   ],
   "source": [
    "%%bash\n",
    "pyRAD -p params.txt -s 7"
   ]
  },
  {
   "cell_type": "markdown",
   "metadata": {},
   "source": [
    "### Final stats output"
   ]
  },
  {
   "cell_type": "code",
   "execution_count": 27,
   "metadata": {
    "collapsed": false
   },
   "outputs": [
    {
     "name": "stdout",
     "output_type": "stream",
     "text": [
      "\n",
      "\n",
      "2000        ## loci with > minsp containing data\n",
      "2000        ## loci with > minsp containing data & paralogs removed\n",
      "2000        ## loci with > minsp containing data & paralogs removed & final filtering\n",
      "\n",
      "## number of loci recovered in final data set for each taxon.\n",
      "taxon\tnloci\n",
      "1A0\t2000\n",
      "1B0\t2000\n",
      "1C0\t2000\n",
      "1D0\t2000\n",
      "2E0\t2000\n",
      "2F0\t2000\n",
      "2G0\t2000\n",
      "2H0\t2000\n",
      "3I0\t2000\n",
      "3J0\t2000\n",
      "3K0\t2000\n",
      "3L0\t2000\n",
      "\n",
      "\n",
      "## nloci = number of loci with data for exactly ntaxa\n",
      "## ntotal = number of loci for which at least ntaxa have data\n",
      "ntaxa\tnloci\tsaved\tntotal\n",
      "1\t-\n",
      "2\t-\t\t-\n",
      "3\t-\t\t-\n",
      "4\t0\t*\t2000\n",
      "5\t0\t*\t2000\n",
      "6\t0\t*\t2000\n",
      "7\t0\t*\t2000\n",
      "8\t0\t*\t2000\n",
      "9\t0\t*\t2000\n",
      "10\t0\t*\t2000\n",
      "11\t0\t*\t2000\n",
      "12\t2000\t*\t2000\n",
      "\n",
      "\n",
      "## var = number of loci containing n variable sites.\n",
      "## pis = number of loci containing n parsimony informative var sites.\n",
      "n\tvar\tPIS\n",
      "0\t41\t551\n",
      "1\t1083\t699\n",
      "2\t945\t475\n",
      "3\t637\t187\n",
      "4\t367\t69\n",
      "5\t182\t13\n",
      "6\t59\t3\n",
      "7\t18\t2\n",
      "8\t12\t1\n",
      "9\t1\t0\n",
      "total var= 7848\n",
      "total pis= 2591\n",
      "sampled unlinked SNPs= 1959\n",
      "sampled bi-allelic SNPs= 1911\n",
      "sampled unlinked SNPs= 1959\n",
      "sampled bi-allelic SNPs= 1911\n"
     ]
    }
   ],
   "source": [
    "%%bash\n",
    "less stats/c85m4p3.stats"
   ]
  },
  {
   "cell_type": "markdown",
   "metadata": {},
   "source": [
    "---------------  \n",
    "\n",
    "## Output formats ##"
   ]
  },
  {
   "cell_type": "markdown",
   "metadata": {},
   "source": [
    "We created 11 output files from our analysis. The standard two (.loci and .excluded_loci), as well as the 9 additional ones listed in the params file. These are all shown below."
   ]
  },
  {
   "cell_type": "code",
   "execution_count": 28,
   "metadata": {
    "collapsed": false
   },
   "outputs": [
    {
     "name": "stdout",
     "output_type": "stream",
     "text": [
      "c85m4p3.alleles\n",
      "c85m4p3.excluded_loci\n",
      "c85m4p3.geno\n",
      "c85m4p3.loci\n",
      "c85m4p3.nex\n",
      "c85m4p3.phy\n",
      "c85m4p3.snps\n",
      "c85m4p3.str\n",
      "c85m4p3.unlinked_snps\n",
      "c85m4p3.vcf\n"
     ]
    }
   ],
   "source": [
    "%%bash \n",
    "ls outfiles/"
   ]
  },
  {
   "cell_type": "markdown",
   "metadata": {},
   "source": [
    "### Loci format  \n",
    "The \".loci\" file contains each locus listed in a fasta-like format that also shows which sites are variable below each locus. Autapomorphies are listed as '-' and shared SNPs as '*'. This is a custom format that is human readable and also used as input to perform D-statistic tests in pyRAD. This is the easiest way to visualize your results. I recommend viewing the file with the command `less`. Below I use a head and cut to make it easy to view in this window."
   ]
  },
  {
   "cell_type": "code",
   "execution_count": 29,
   "metadata": {
    "collapsed": false
   },
   "outputs": [
    {
     "name": "stdout",
     "output_type": "stream",
     "text": [
      ">1A0    TCTCTCTCGCGGTCGATGATATTGCGAGGGAAGTAGCAGGCCAAATCGCGATCCTAGTTATCATAAG\n",
      ">1B0    TCTCTCTCGCGGTCGATGATATTGCGAGGGAAGTAGCAGGCCAAATCGAGATCCTAGTTATCATAAG\n",
      ">1C0    TCTCTCTCGCGGTCGATGATATTGCGAGGGAAGTAGCAGGCCAAATCGAGATCCTAGTTATCATAAG\n",
      ">1D0    TCTCTCTCGCGGTCGATGATATTGCGAGGGAAGTAGCAGGCCAAATCGAGATCCTAGTTATCATAAG\n",
      ">2E0    TCTCTCTCGCGGTCGATGATATTGCGAGGGAAGTAGCAGGCCAAATCGAGATCCTAGTTATCATAAG\n",
      ">2F0    TCTCTCTCGCGGTCGATGATATTGCGAGGGAAGTAGCAGGCCAAATCGAGATCCTAGTTATCATAAG\n",
      ">2G0    TCTCTCTCGCGATCGATGATATTGCGAGGGAAGTAGCAGGCCAAATCGAGATCCTAGTTATCATAAG\n",
      ">2H0    TCTCTCTCGCGGTCGATGATATTGCGAGGGAAGTAGCAGGCCAAATCGAGATCCTAGTTATCATAAG\n",
      ">3I0    TCTCTCTCGCGGTCGATGATATTGCGAGGGGAGTAGCAGGCCAAACCGAGATACTAGTTATCATAAG\n",
      ">3J0    TCTCTCTCGCGGTCGATGATATTGCGAGGGGAGTAGCAGGCCAAACCGAGATACTAGTTATCATAAG\n",
      ">3K0    TCTCTCTCGCGGTCGATGATCTTGCGAGGGAAGTAGCAGGCCAAATCGAGATACTAGTTATCATAAG\n",
      ">3L0    TCTCTCTCGCGGTCGATGATATTGCGAGGGAAGTAGCAGGCCAAATCGAGATCCTAGTTATCATAAG\n",
      "//                 -        -         *              *  -   *              \n",
      ">1A0    GTTCTGGACAAGACAATAGCTCTCCTCCTATGTATGGCTGCCTGTCACTTAACTAATGTAAAGGCAC\n",
      ">1B0    GTTCTGGACAAGACAATAGCTCTCCTCCTATGTATGGCTGCCTGTCACTTAACTAATGTAAAGGCAC\n",
      ">1C0    GTTCTGGACAAGACAATAGCTCTCCTCCTATGTATGGCTGCCTGTCACTTAACTAATGTAAAGGCAC\n",
      ">1D0    GTTCTGGACAAGACAATAGCTCTCCTCCTATGTATGGCTGCCTGTCACTTAACTAATGTAAAGGCAC\n",
      ">2E0    GTTCTGGACAAGACAATAGCTCTCCTCCTATGTATGGCTGCCTGTCACTTAACTAATGTAAAGGCAC\n",
      ">2F0    GTTCTGGACAAGACAATAGCTCTCCTCCTATGTATGGCTGCCTGTCACTTAACTAATGTAAAGGCAC\n",
      ">2G0    GTTCTGGACAAGACAATAGCTCTCCTCCTATGTATGGCTGCCTGTCACTTAACTAATGTAAAGGCAC\n",
      ">2H0    GTTCTGGACAAGACAATAGCTCTCCTCCTATGTATGGCTGCCTGTCACTTAACTAATGTAAAGGCAC\n",
      ">3I0    GTTCTGGACAAGACAATAGCTCTCCTCCTATGTATGGCTGCCTGTCACTTAACTAATGTAAAGGCAC\n",
      ">3J0    GTTCTGGACAAGACAATAGCTCTCCTCCTATGTATGGCTGCCTGTCACTTAASTAATGTAAAGGCAC\n",
      ">3K0    GTTCTGGACAASACAATAGCTCTCCTCCTATGTATGGCTGCCTGTCACTTAACTAATGTAAAGGCAC\n",
      ">3L0    GTTCTGGACAAGACAATAGCTCTCCTCCTATGTATGGCTGCCTGTCACTTAACTAATGTAAAGGCAM\n",
      "//                 -                                        -             -\n",
      ">1A0    TCCGATAGCCAGGTCTCGAGGTCGACTTCCGGCGTGATGTCGGGTTCAACCCCCGGGCATCGGTGCG\n",
      ">1B0    TCCGATAGCCAGGTCTCGAGGTCGACTTCCGGCGTGATGTCGGGTTCAACCCCCGGGCATCGGTGCG\n",
      ">1C0    TCCGATAGCCAGGTCTCGAGGTCGACTTCCGGCGTGATGTCGGGTTCAACCCCCGGGCATCGGTGCG\n",
      ">1D0    TCCGATAGCCAGGTCTCGAGGTCGACTTCCGGCGTGATGTCGGGTTCAACCCCCGGGCATCGGTGCG\n",
      ">2E0    TCCGATAGCCAGGTCTCGAGGTCGACTTCCGGCGTGATGTCGGGTTCAACCCCCGGGCATCGGTGCG\n",
      ">2F0    TCCGATAGCCAGGTCTCGAGGTCGACTTCCGGCGTGATGTCGGGTTCAACCCCCGGGCATCGGTGCG\n",
      ">2G0    TCCGATAGCCAGGTCTCGAGGTCGACTTCCGGCGTGATGTCGGGTTCAACCCCCGGGCATCGGTGCG\n",
      ">2H0    TCCGATAGCCAGGTCTCGAGGTCGACTTCCGGCGTGATGTCGGGTTCAACCCCCGGGCATCGGTGCG\n",
      ">3I0    TCCGATAGCCAGGACTCGAGGTCGACTACCGGCGTGATGTCGGGTTCACCCCCCGAGCATCGGTGCG\n",
      ">3J0    TCCGATAGCCAGGACTCGAGGTCGACTACCGGCGTGATGTCGGGTTCACCCCCCGGGCATCGGTGCG\n",
      ">3K0    TCCGATAGCCAGGACTCGAGGTCGACTACCGGCGTGATGTCGGGTTCAACCCCCGGGCATCGGTGCG\n",
      ">3L0    TCCGATAGCCAGGACTCGAGGTCGACTACCGGCGTGATGTCGGGTTCAACCCCCGGGCATCGGTGCG\n",
      "//                   *             *                    *      -           \n"
     ]
    }
   ],
   "source": [
    "%%bash \n",
    "head -n 39 outfiles/c85m4p3.loci | cut -c 1-75"
   ]
  },
  {
   "cell_type": "markdown",
   "metadata": {},
   "source": [
    "### PHY format"
   ]
  },
  {
   "cell_type": "code",
   "execution_count": 30,
   "metadata": {
    "collapsed": false
   },
   "outputs": [
    {
     "name": "stdout",
     "output_type": "stream",
     "text": [
      "12 178083\n",
      "1A0   TCTCTCTCGCGGTCGATGATATTGCGAGGGAAGTAGCAGGCCAAATCGCGATCCTAGTTATCATAAGAATCTTATTGAT\n",
      "1B0   TCTCTCTCGCGGTCGATGATATTGCGAGGGAAGTAGCAGGCCAAATCGAGATCCTAGTTATCATAAGAATCTTATTGAT\n",
      "1C0   TCTCTCTCGCGGTCGATGATATTGCGAGGGAAGTAGCAGGCCAAATCGAGATCCTAGTTATCATAAGAATCTTATTGAT\n",
      "1D0   TCTCTCTCGCGGTCGATGATATTGCGAGGGAAGTAGCAGGCCAAATCGAGATCCTAGTTATCATAAGAATCTTATTGAT\n",
      "2E0   TCTCTCTCGCGGTCGATGATATTGCGAGGGAAGTAGCAGGCCAAATCGAGATCCTAGTTATCATAAGAATCTTATTGAT\n",
      "2F0   TCTCTCTCGCGGTCGATGATATTGCGAGGGAAGTAGCAGGCCAAATCGAGATCCTAGTTATCATAAGAATCTTATTGAT\n",
      "2G0   TCTCTCTCGCGATCGATGATATTGCGAGGGAAGTAGCAGGCCAAATCGAGATCCTAGTTATCATAAGAATCTTATTGAT\n",
      "2H0   TCTCTCTCGCGGTCGATGATATTGCGAGGGAAGTAGCAGGCCAAATCGAGATCCTAGTTATCATAAGAATCTTATTGAT\n",
      "3I0   TCTCTCTCGCGGTCGATGATATTGCGAGGGGAGTAGCAGGCCAAACCGAGATACTAGTTATCATAAGAATCTTATTGAT\n",
      "3J0   TCTCTCTCGCGGTCGATGATATTGCGAGGGGAGTAGCAGGCCAAACCGAGATACTAGTTATCATAAGAATCTTATTGAT\n",
      "3K0   TCTCTCTCGCGGTCGATGATCTTGCGAGGGAAGTAGCAGGCCAAATCGAGATACTAGTTATCATAAGAATCTTATTGAK\n",
      "3L0   TCTCTCTCGCGGTCGATGATATTGCGAGGGAAGTAGCAGGCCAAATCGAGATCCTAGTTATCATAAGAATCTTATTGAT\n"
     ]
    }
   ],
   "source": [
    "%%bash \n",
    "head -n 50 outfiles/c85m4p3.phy | cut -c 1-85"
   ]
  },
  {
   "cell_type": "markdown",
   "metadata": {},
   "source": [
    "### NEX format"
   ]
  },
  {
   "cell_type": "code",
   "execution_count": 31,
   "metadata": {
    "collapsed": false
   },
   "outputs": [
    {
     "name": "stdout",
     "output_type": "stream",
     "text": [
      "#NEXUS\n",
      "BEGIN DATA;\n",
      "  DIMENSIONS NTAX=12 NCHAR=178083;\n",
      "  FORMAT DATATYPE=DNA MISSING=N GAP=- INTERLEAVE=YES;\n",
      "  MATRIX\n",
      "  1B0   TCTCTCTCGCGGTCGATGATATTGCGAGGGAAGTAGCAGGCCAAATCGAGATCCTAGTTATCATAAGAATCTTATTG\n",
      "  2G0   TCTCTCTCGCGATCGATGATATTGCGAGGGAAGTAGCAGGCCAAATCGAGATCCTAGTTATCATAAGAATCTTATTG\n",
      "  2F0   TCTCTCTCGCGGTCGATGATATTGCGAGGGAAGTAGCAGGCCAAATCGAGATCCTAGTTATCATAAGAATCTTATTG\n",
      "  1A0   TCTCTCTCGCGGTCGATGATATTGCGAGGGAAGTAGCAGGCCAAATCGCGATCCTAGTTATCATAAGAATCTTATTG\n",
      "  2H0   TCTCTCTCGCGGTCGATGATATTGCGAGGGAAGTAGCAGGCCAAATCGAGATCCTAGTTATCATAAGAATCTTATTG\n",
      "  2E0   TCTCTCTCGCGGTCGATGATATTGCGAGGGAAGTAGCAGGCCAAATCGAGATCCTAGTTATCATAAGAATCTTATTG\n",
      "  3I0   TCTCTCTCGCGGTCGATGATATTGCGAGGGGAGTAGCAGGCCAAACCGAGATACTAGTTATCATAAGAATCTTATTG\n",
      "  1C0   TCTCTCTCGCGGTCGATGATATTGCGAGGGAAGTAGCAGGCCAAATCGAGATCCTAGTTATCATAAGAATCTTATTG\n",
      "  3L0   TCTCTCTCGCGGTCGATGATATTGCGAGGGAAGTAGCAGGCCAAATCGAGATCCTAGTTATCATAAGAATCTTATTG\n",
      "  1D0   TCTCTCTCGCGGTCGATGATATTGCGAGGGAAGTAGCAGGCCAAATCGAGATCCTAGTTATCATAAGAATCTTATTG\n",
      "  3J0   TCTCTCTCGCGGTCGATGATATTGCGAGGGGAGTAGCAGGCCAAACCGAGATACTAGTTATCATAAGAATCTTATTG\n",
      "  3K0   TCTCTCTCGCGGTCGATGATCTTGCGAGGGAAGTAGCAGGCCAAATCGAGATACTAGTTATCATAAGAATCTTATTG\n",
      "\n",
      "  1B0   GACAATAGCTCTCCTCCTATGTATGGCTGCCTGTCACTTAACTAATGTAAAGGCACGTGTCCAAGGGGATTGAATAC\n",
      "  2G0   GACAATAGCTCTCCTCCTATGTATGGCTGCCTGTCACTTAACTAATGTAAAGGCACGTGTCCAAGGGGATTGAATAC\n",
      "  2F0   GACAATAGCTCTCCTCCTATGTATGGCTGCCTGTCACTTAACTAATGTAAAGGCACGTGTCCAAGGGGATTGAATAC\n",
      "  1A0   GACAATAGCTCTCCTCCTATGTATGGCTGCCTGTCACTTAACTAATGTAAAGGCACGTGTCCAAGGGGATTGAATAC\n",
      "  2H0   GACAATAGCTCTCCTCCTATGTATGGCTGCCTGTCACTTAACTAATGTAAAGGCACGTGTCCAAGGGGATTGAATAC\n",
      "  2E0   GACAATAGCTCTCCTCCTATGTATGGCTGCCTGTCACTTAACTAATGTAAAGGCACGTGTCCAAGGGGATTGAATAC\n",
      "  3I0   GACAATAGCTCTCCTCCTATGTATGGCTGCCTGTCACTTAACTAATGTAAAGGCACGTGTCCAAGGGGATTGAATAC\n",
      "  1C0   GACAATAGCTCTCCTCCTATGTATGGCTGCCTGTCACTTAACTAATGTAAAGGCACGTGTCCAAGGGGATTGAATAC\n",
      "  3L0   GACAATAGCTCTCCTCCTATGTATGGCTGCCTGTCACTTAACTAATGTAAAGGCAMGTGTCCAAGGGGATTGAATAC\n",
      "  1D0   GACAATAGCTCTCCTCCTATGTATGGCTGCCTGTCACTTAACTAATGTAAAGGCACGTGTCCAAGGGGATTGAATAC\n",
      "  3J0   GACAATAGCTCTCCTCCTATGTATGGCTGCCTGTCACTTAASTAATGTAAAGGCACGTGTCCAAGGGGATTGAATAC\n",
      "  3K0   SACAATAGCTCTCCTCCTATGTATGGCTGCCTGTCACTTAACTAATGTAAAGGCACGTGTCCAAGGGGATTGAATAC\n",
      "\n",
      "  1B0   CGACTTCCGGCGTGATGTCGGGTTCAACCCCCGGGCATCGGTGCGAAGGATATGGATACGCCGAGAGTTGCTACCTA\n",
      "  2G0   CGACTTCCGGCGTGATGTCGGGTTCAACCCCCGGGCATCGGTGCGAAGGATATGGATACGCCGAGAGTTGCTACCTA\n",
      "  2F0   CGACTTCCGGCGTGATGTCGGGTTCAACCCCCGGGCATCGGTGCGAAGGATATGGATACGCCGAGAGTTGCTACCTA\n",
      "  1A0   CGACTTCCGGCGTGATGTCGGGTTCAACCCCCGGGCATCGGTGCGAAGGATATGGATACGCCGAGAGTTGCTACCTA\n",
      "  2H0   CGACTTCCGGCGTGATGTCGGGTTCAACCCCCGGGCATCGGTGCGAAGGATATGGATACGCCGAGAGTTGCTMCCTA\n",
      "  2E0   CGACTTCCGGCGTGATGTCGGGTTCAACCCCCGGGCATCGGTGCGAAGGATATGGATACGCCGAGAGTTGCTACCTA\n",
      "  3I0   CGACTACCGGCGTGATGTCGGGTTCACCCCCCGAGCATCGGTGCGAAGGATATGGATACGCCGAGAGTTGCTACCTA\n",
      "  1C0   CGACTTCCGGCGTGATGTCGGGTTCAACCCCCGGGCATCGGTGCGAAGGATATGGATACGCCGAGAGTTGCTACCTA\n",
      "  3L0   CGACTACCGGCGTGATGTCGGGTTCAACCCCCGGGCATCGGTGCGAAGGATATGGATACGCCGAGAGTTGCTACCTA\n",
      "  1D0   CGACTTCCGGCGTGATGTCGGGTTCAACCCCCGGGCATCGGTGCGAAGGATATGGATACGCCGAGAGTTGCTACCTA\n",
      "  3J0   CGACTACCGGCGTGATGTCGGGTTCACCCCCCGGGCATCGGTGCGAAGGATATGGATACGCCGAGAGTTGCTACCTA\n",
      "  3K0   CGACTACCGGCGTGATGTCGGGTTCAACCCCCGGGCATCGGTGCGAAGGATATGGATACGCCGAGAGTTGCTACCTA\n",
      "\n",
      "  1B0   GGCTAGTTGTGCTATGAGGAGTATACAAGACTTATCTACAGTGCCCGTCAGTGCAGGCGGGCTTAGCTTATTTGAAT\n",
      "  2G0   GGCTAGTTGTGCTATGAGGAGTATACAAGACTTATCTACAGTGCCCGTCAGTGCAGGCGGGCTTAGCTTATTTGAAT\n",
      "  2F0   GGCTAGTTGCGCTATGAGGAGTATACAAGACTTATCTACAGTGCCCGTCAGTGCAGKCGGGCTTAGCTTATTTGAAT\n",
      "  1A0   GGCTAGTTGTGCTATGAGGAGTATACAAGACTTATCTACAGTGCCCGTCAGTGCAGGCGGGCTTAGCTTATTTGAAT\n",
      "  2H0   GGCTAGTTGTGCTATGAGGAGTATACAAGACTTATCTACAGTGCCCGTCAGTGCAGGCGGGCTTAGCTTATTTGAAT\n",
      "  2E0   GGCTAGTTGTGCTATGAGGAGTATACAAGACTTATCTACAGTGCCCGTCAGTGCAGKCGGGCTTAGCTTATTTGAAT\n"
     ]
    }
   ],
   "source": [
    "%%bash \n",
    "head -n 50 outfiles/c85m4p3.nex | cut -c 1-85"
   ]
  },
  {
   "cell_type": "markdown",
   "metadata": {},
   "source": [
    "### Alleles format"
   ]
  },
  {
   "cell_type": "code",
   "execution_count": 32,
   "metadata": {
    "collapsed": false
   },
   "outputs": [
    {
     "name": "stdout",
     "output_type": "stream",
     "text": [
      ">1A0_0  TCTCTCTCGCGGTCGATGATATTGCGAGGGAAGTAGCAGGCCAAATCGCGATCCTAGTTATCATAAGAATCTTATTG\n",
      ">1A0_1  TCTCTCTCGCGGTCGATGATATTGCGAGGGAAGTAGCAGGCCAAATCGCGATCCTAGTTATCATAAGAATCTTATTG\n",
      ">1B0_0  TCTCTCTCGCGGTCGATGATATTGCGAGGGAAGTAGCAGGCCAAATCGAGATCCTAGTTATCATAAGAATCTTATTG\n",
      ">1B0_1  TCTCTCTCGCGGTCGATGATATTGCGAGGGAAGTAGCAGGCCAAATCGAGATCCTAGTTATCATAAGAATCTTATTG\n",
      ">1C0_0  TCTCTCTCGCGGTCGATGATATTGCGAGGGAAGTAGCAGGCCAAATCGAGATCCTAGTTATCATAAGAATCTTATTG\n",
      ">1C0_1  TCTCTCTCGCGGTCGATGATATTGCGAGGGAAGTAGCAGGCCAAATCGAGATCCTAGTTATCATAAGAATCTTATTG\n",
      ">1D0_0  TCTCTCTCGCGGTCGATGATATTGCGAGGGAAGTAGCAGGCCAAATCGAGATCCTAGTTATCATAAGAATCTTATTG\n",
      ">1D0_1  TCTCTCTCGCGGTCGATGATATTGCGAGGGAAGTAGCAGGCCAAATCGAGATCCTAGTTATCATAAGAATCTTATTG\n",
      ">2E0_0  TCTCTCTCGCGGTCGATGATATTGCGAGGGAAGTAGCAGGCCAAATCGAGATCCTAGTTATCATAAGAATCTTATTG\n",
      ">2E0_1  TCTCTCTCGCGGTCGATGATATTGCGAGGGAAGTAGCAGGCCAAATCGAGATCCTAGTTATCATAAGAATCTTATTG\n",
      ">2F0_0  TCTCTCTCGCGGTCGATGATATTGCGAGGGAAGTAGCAGGCCAAATCGAGATCCTAGTTATCATAAGAATCTTATTG\n",
      ">2F0_1  TCTCTCTCGCGGTCGATGATATTGCGAGGGAAGTAGCAGGCCAAATCGAGATCCTAGTTATCATAAGAATCTTATTG\n",
      ">2G0_0  TCTCTCTCGCGATCGATGATATTGCGAGGGAAGTAGCAGGCCAAATCGAGATCCTAGTTATCATAAGAATCTTATTG\n",
      ">2G0_1  TCTCTCTCGCGATCGATGATATTGCGAGGGAAGTAGCAGGCCAAATCGAGATCCTAGTTATCATAAGAATCTTATTG\n",
      ">2H0_0  TCTCTCTCGCGGTCGATGATATTGCGAGGGAAGTAGCAGGCCAAATCGAGATCCTAGTTATCATAAGAATCTTATTG\n",
      ">2H0_1  TCTCTCTCGCGGTCGATGATATTGCGAGGGAAGTAGCAGGCCAAATCGAGATCCTAGTTATCATAAGAATCTTATTG\n",
      ">3I0_0  TCTCTCTCGCGGTCGATGATATTGCGAGGGGAGTAGCAGGCCAAACCGAGATACTAGTTATCATAAGAATCTTATTG\n",
      ">3I0_1  TCTCTCTCGCGGTCGATGATATTGCGAGGGGAGTAGCAGGCCAAACCGAGATACTAGTTATCATAAGAATCTTATTG\n",
      ">3J0_0  TCTCTCTCGCGGTCGATGATATTGCGAGGGGAGTAGCAGGCCAAACCGAGATACTAGTTATCATAAGAATCTTATTG\n",
      ">3J0_1  TCTCTCTCGCGGTCGATGATATTGCGAGGGGAGTAGCAGGCCAAACCGAGATACTAGTTATCATAAGAATCTTATTG\n",
      ">3K0_0  TCTCTCTCGCGGTCGATGATCTTGCGAGGGAAGTAGCAGGCCAAATCGAGATACTAGTTATCATAAGAATCTTATTG\n",
      ">3K0_1  TCTCTCTCGCGGTCGATGATCTTGCGAGGGAAGTAGCAGGCCAAATCGAGATACTAGTTATCATAAGAATCTTATTG\n",
      ">3L0_0  TCTCTCTCGCGGTCGATGATATTGCGAGGGAAGTAGCAGGCCAAATCGAGATCCTAGTTATCATAAGAATCTTATTG\n",
      ">3L0_1  TCTCTCTCGCGGTCGATGATATTGCGAGGGAAGTAGCAGGCCAAATCGAGATCCTAGTTATCATAAGAATCTTATTG\n",
      "//                 -        -         *              *  -   *                        \n",
      ">1A0_0  GTTCTGGACAAGACAATAGCTCTCCTCCTATGTATGGCTGCCTGTCACTTAACTAATGTAAAGGCACGTGTCCAAGG\n",
      ">1A0_1  GTTCTGGACAAGACAATAGCTCTCCTCCTATGTATGGCTGCCTGTCACTTAACTAATGTAAAGGCACGTGTCCAAGG\n",
      ">1B0_0  GTTCTGGACAAGACAATAGCTCTCCTCCTATGTATGGCTGCCTGTCACTTAACTAATGTAAAGGCACGTGTCCAAGG\n",
      ">1B0_1  GTTCTGGACAAGACAATAGCTCTCCTCCTATGTATGGCTGCCTGTCACTTAACTAATGTAAAGGCACGTGTCCAAGG\n",
      ">1C0_0  GTTCTGGACAAGACAATAGCTCTCCTCCTATGTATGGCTGCCTGTCACTTAACTAATGTAAAGGCACGTGTCCAAGG\n",
      ">1C0_1  GTTCTGGACAAGACAATAGCTCTCCTCCTATGTATGGCTGCCTGTCACTTAACTAATGTAAAGGCACGTGTCCAAGG\n",
      ">1D0_0  GTTCTGGACAAGACAATAGCTCTCCTCCTATGTATGGCTGCCTGTCACTTAACTAATGTAAAGGCACGTGTCCAAGG\n",
      ">1D0_1  GTTCTGGACAAGACAATAGCTCTCCTCCTATGTATGGCTGCCTGTCACTTAACTAATGTAAAGGCACGTGTCCAAGG\n",
      ">2E0_0  GTTCTGGACAAGACAATAGCTCTCCTCCTATGTATGGCTGCCTGTCACTTAACTAATGTAAAGGCACGTGTCCAAGG\n",
      ">2E0_1  GTTCTGGACAAGACAATAGCTCTCCTCCTATGTATGGCTGCCTGTCACTTAACTAATGTAAAGGCACGTGTCCAAGG\n",
      ">2F0_0  GTTCTGGACAAGACAATAGCTCTCCTCCTATGTATGGCTGCCTGTCACTTAACTAATGTAAAGGCACGTGTCCAAGG\n",
      ">2F0_1  GTTCTGGACAAGACAATAGCTCTCCTCCTATGTATGGCTGCCTGTCACTTAACTAATGTAAAGGCACGTGTCCAAGG\n",
      ">2G0_0  GTTCTGGACAAGACAATAGCTCTCCTCCTATGTATGGCTGCCTGTCACTTAACTAATGTAAAGGCACGTGTCCAAGG\n",
      ">2G0_1  GTTCTGGACAAGACAATAGCTCTCCTCCTATGTATGGCTGCCTGTCACTTAACTAATGTAAAGGCACGTGTCCAAGG\n",
      ">2H0_0  GTTCTGGACAAGACAATAGCTCTCCTCCTATGTATGGCTGCCTGTCACTTAACTAATGTAAAGGCACGTGTCCAAGG\n",
      ">2H0_1  GTTCTGGACAAGACAATAGCTCTCCTCCTATGTATGGCTGCCTGTCACTTAACTAATGTAAAGGCACGTGTCCAAGG\n",
      ">3I0_0  GTTCTGGACAAGACAATAGCTCTCCTCCTATGTATGGCTGCCTGTCACTTAACTAATGTAAAGGCACGTGTCCAAGG\n",
      ">3I0_1  GTTCTGGACAAGACAATAGCTCTCCTCCTATGTATGGCTGCCTGTCACTTAACTAATGTAAAGGCACGTGTCCAAGG\n",
      ">3J0_0  GTTCTGGACAAGACAATAGCTCTCCTCCTATGTATGGCTGCCTGTCACTTAAGTAATGTAAAGGCACGTGTCCAAGG\n",
      ">3J0_1  GTTCTGGACAAGACAATAGCTCTCCTCCTATGTATGGCTGCCTGTCACTTAACTAATGTAAAGGCACGTGTCCAAGG\n",
      ">3K0_0  GTTCTGGACAAGACAATAGCTCTCCTCCTATGTATGGCTGCCTGTCACTTAACTAATGTAAAGGCACGTGTCCAAGG\n",
      ">3K0_1  GTTCTGGACAACACAATAGCTCTCCTCCTATGTATGGCTGCCTGTCACTTAACTAATGTAAAGGCACGTGTCCAAGG\n",
      ">3L0_0  GTTCTGGACAAGACAATAGCTCTCCTCCTATGTATGGCTGCCTGTCACTTAACTAATGTAAAGGCACGTGTCCAAGG\n",
      ">3L0_1  GTTCTGGACAAGACAATAGCTCTCCTCCTATGTATGGCTGCCTGTCACTTAACTAATGTAAAGGCAAGTGTCCAAGG\n",
      "//                 -                                        -             -          \n"
     ]
    }
   ],
   "source": [
    "%%bash \n",
    "head -n 50 outfiles/c85m4p3.alleles| cut -c 1-85"
   ]
  },
  {
   "cell_type": "markdown",
   "metadata": {},
   "source": [
    "### STRUCTURE (.str) format"
   ]
  },
  {
   "cell_type": "code",
   "execution_count": 33,
   "metadata": {
    "collapsed": false
   },
   "outputs": [
    {
     "name": "stdout",
     "output_type": "stream",
     "text": [
      "1A0   \t\t\t\t\t\t1\t3\t2\t1\t\n",
      "1A0   \t\t\t\t\t\t1\t3\t2\t1\t\n",
      "1B0   \t\t\t\t\t\t1\t3\t2\t1\t\n",
      "1B0   \t\t\t\t\t\t1\t3\t2\t1\t\n",
      "1C0   \t\t\t\t\t\t1\t3\t2\t1\t\n",
      "1C0   \t\t\t\t\t\t1\t3\t2\t1\t\n",
      "1D0   \t\t\t\t\t\t1\t3\t2\t1\t\n",
      "1D0   \t\t\t\t\t\t1\t3\t2\t1\t\n",
      "2E0   \t\t\t\t\t\t1\t3\t2\t1\t\n",
      "2E0   \t\t\t\t\t\t1\t3\t2\t1\t\n",
      "2F0   \t\t\t\t\t\t1\t3\t2\t3\t\n",
      "2F0   \t\t\t\t\t\t1\t3\t2\t3\t\n",
      "2G0   \t\t\t\t\t\t1\t3\t2\t1\t\n",
      "2G0   \t\t\t\t\t\t1\t3\t2\t1\t\n",
      "2H0   \t\t\t\t\t\t1\t3\t2\t1\t\n",
      "2H0   \t\t\t\t\t\t1\t3\t2\t1\t\n",
      "3I0   \t\t\t\t\t\t3\t3\t0\t1\t\n",
      "3I0   \t\t\t\t\t\t3\t3\t0\t1\t\n",
      "3J0   \t\t\t\t\t\t3\t3\t2\t1\t\n",
      "3J0   \t\t\t\t\t\t3\t3\t2\t1\t\n",
      "3K0   \t\t\t\t\t\t1\t3\t2\t1\t\n",
      "3K0   \t\t\t\t\t\t1\t3\t2\t1\t\n",
      "3L0   \t\t\t\t\t\t1\t3\t2\t1\t\n",
      "3L0   \t\t\t\t\t\t1\t0\t2\t1\t\n"
     ]
    }
   ],
   "source": [
    "%%bash \n",
    "head -n 50 outfiles/c85m4p3.str | cut -c 1-20"
   ]
  },
  {
   "cell_type": "markdown",
   "metadata": {},
   "source": [
    "### GENO (.geno) format (used in _Admixture_)"
   ]
  },
  {
   "cell_type": "code",
   "execution_count": 34,
   "metadata": {
    "collapsed": false
   },
   "outputs": [
    {
     "name": "stdout",
     "output_type": "stream",
     "text": [
      "222222220022\n",
      "222222222221\n",
      "222222220222\n",
      "222220222222\n",
      "222222220000\n",
      "222222221222\n",
      "222222222220\n",
      "221222222222\n",
      "222222022222\n",
      "222222220000\n",
      "222200000000\n",
      "222222220022\n",
      "222222212222\n",
      "222122222222\n",
      "222200000000\n",
      "212222222222\n",
      "222022222222\n",
      "222222212222\n",
      "222222122222\n",
      "222200000000\n",
      "222222022222\n",
      "222222200000\n",
      "222222220000\n",
      "222200000000\n",
      "220222222222\n",
      "222222221222\n",
      "222222202222\n",
      "222200022222\n",
      "222200000000\n",
      "222222212222\n",
      "222222202222\n",
      "222222212222\n",
      "221222222222\n",
      "221222222222\n",
      "212222222222\n",
      "222222202222\n",
      "222200020000\n",
      "222221222222\n",
      "220222222222\n",
      "222222022222\n"
     ]
    }
   ],
   "source": [
    "%%bash \n",
    "head -n 40 outfiles/c85m4p3.geno "
   ]
  },
  {
   "cell_type": "markdown",
   "metadata": {},
   "source": [
    "### SNPs format"
   ]
  },
  {
   "cell_type": "code",
   "execution_count": 35,
   "metadata": {
    "collapsed": false
   },
   "outputs": [
    {
     "name": "stdout",
     "output_type": "stream",
     "text": [
      "## 12 taxa, 2000 loci, 7888 snps\n",
      "1A0   GAATCCT GCC TTAG AATTAT GTGYTGA GC TAYC CT AGTACC CCC AATC GAAC TCGT GCA TTC CG\n",
      "1B0   GAATACT GCC TTAG AATTAT GTGYTGA GC TATC CT AGTTCC CCC AATC GAAC TCGW GCA TTC CS\n",
      "1C0   GAATACT GCC TTAG AATTAT GTGTTGA GC TATC CY AGTACC CCC WATC GAAC TCGA GCA TTC CG\n",
      "1D0   GAATACT GCC TTAG AATTAT GTGCTGA GC TATT CT ATTACC CCC AATC GAAC GCGA GCM TTC CG\n",
      "2E0   GAATACT GCC TTAG AATTAT KTGCTGA GC TATC CT AGTACC CTC AATG GAAC TCGA GCA ATC GG\n",
      "2F0   GAATACT GCC TTAG AATCAT KTGCYGA GC TATC CT AGTACC CTC AATG GAAC TCGA SCA ATC GG\n",
      "2G0   AAATACT GCC TTAG AATTAT GTGCTGA GC TATC CT AGGACC CTC AATG GARC TCSA GCA ATC GG\n",
      "2H0   GAATACT GCC TTAG MATTAT GTGCTGA GA TATC CT TGTAAC GTC AATG GAAC TYGA GCA ATG GG\n",
      "3I0   GAGCAAT GCC AACA AAATAT GGGCTGC SC TATC CT AGTACC CCG ATGG AAAC TCGA GSA ATC CG\n",
      "3J0   GAGCAAT GSC AACG ARATAT GGGCTGA GC TATC CT AGTACC CCG ATGG AAAC TCGA GCA ATC CG\n",
      "3K0   GCATAAK SCC AAAG AAATAT GGGCTSA GC TWTC TT AGTACC CCG ATGG GGAC TCGA GCA AGC CG\n",
      "3L0   GAATACT GCM AAAG AAATCY GGSCTGA GC CATC CT AGTACT CCG ATGG GAAT TCGA GCA ATC CG\n"
     ]
    }
   ],
   "source": [
    "%%bash \n",
    "head -n 50 outfiles/c85m4p3.snps | cut -c 1-85"
   ]
  },
  {
   "cell_type": "markdown",
   "metadata": {},
   "source": [
    "### UNLINKED_SNPs format"
   ]
  },
  {
   "cell_type": "code",
   "execution_count": 36,
   "metadata": {
    "collapsed": false
   },
   "outputs": [
    {
     "name": "stdout",
     "output_type": "stream",
     "text": [
      "12 1959\n",
      "1A0   TCGTTGTTTCCGCATGCAAATCTCTGGCTGATATCTCKGAATGGTCGCAAACCTTGTTAGATTCRTCCATTACCCATCC\n",
      "1B0   TCGTTGTTTCCGCATSCAAATCTCTGGCTGATATYTCGGAAWGGTCGGAMATMTTGTTAGATTCGTCCATTACCCATCC\n",
      "1C0   TCGTTGTYTCCGCATGCAAATCTCAGGCTGATMKCTCGGGATGGTCGGAAACCTTATTAGWTTCAYCCATTACCAATCC\n",
      "1D0   TCGTTGTTTCCGCMTGGAAATCTCTGGCTGATATCTCGGAATGGTCGGAAACCATGTTAGATTCGTCAATTACCCCGCC\n",
      "2E0   TCGTTGTTTCGGCAAGCAACTCTTTGGACGATATCTAGGAATGGTCGGCAACCTAGTTAGACTCGTCCATTCYYCATTC\n",
      "2F0   TCGCTGTTTCGGCAAGCAACTCTTTGGACGATATCTAGKAATGGTCGGCAWCCTAGTTAGACTCGTCCATTCTCCATCC\n",
      "2G0   TCGTTGTTGCGGCAAGCAMCGCTTTGGACGATATCTAGGACTGSTCCGCAACCTAGTTAGACTCGTCCAYTCCCCATCC\n",
      "2H0   TCGTTGTTTCGGYAAGCWACTTTTTGACCSTWATCGCGGAATGGTCGGCAACCTTGTTAGACTCGTCCATTACCCATCC\n",
      "3I0   CCATGSTTTGGACAAGCAACTTCTTKGCCGATATCTAGGAATRGAAGGAAACCTTGATAGACTCGTTCCTCACCCATCC\n",
      "3J0   CCGTGGTTTGGACAAGCAACTTCTTGGCCGATATCTAGGAATGGTAGGAAACCTTGAKGKACTCGTTCCTCACCCATCC\n",
      "3K0   TCGTGGTTTGGGCAAGCAACTTCTTGGCCGATATCTAGGAATGGTAGGAAACCTTGATAGACWSGTTCCTCACCCATCA\n",
      "3L0   TMGTGGCTTGGGCAAGCAACTTCTTGGCCGATATCTAGGAATGGTCGGAAACCTTGTTAGACTCGTTCCTCACCCATCC\n"
     ]
    }
   ],
   "source": [
    "%%bash \n",
    "head -n 50 outfiles/c85m4p3.unlinked_snps | cut -c 1-85"
   ]
  },
  {
   "cell_type": "markdown",
   "metadata": {},
   "source": [
    "## OTHER FORMATS  \n",
    "\n",
    "You may also produce some more complicated formatting options that involve pooling individuals into groups or populations. This can be done for the \"treemix\" and \"migrate\" outputs, which are formatted for input into the programs _TreeMix_ and _migrate-n_, respectively. Grouping individuals into populations is done with the final lines of the params file as shown below, and similar to the assignment of individuals into clades for hierarchical clustering (see full tutorial). \n",
    "\n",
    "Each line designates a group, and has three arguments that are separated by space or tab. The first is the group name, the second is the minimum number of individuals that must have data in that group for a locus to be included in the output, and the third is a list of the members of that group. Lists of taxa can include comma-separated names and wildcard selectors, like below. Example:\n"
   ]
  },
  {
   "cell_type": "code",
   "execution_count": 39,
   "metadata": {
    "collapsed": false
   },
   "outputs": [
    {
     "name": "stdout",
     "output_type": "stream",
     "text": [
      "==** parameter inputs for pyRAD version 3.0a  **==========================  affected step ==\n",
      "./                          ## 1. Working directory                                 (all)\n",
      "./*.fastq.gz                ## 2. Loc. of non-demultiplexed files (if not line 16)  (s1)\n",
      "./*.barcodes                ## 3. Loc. of barcode file (if not line 16)             (s1)\n",
      "vsearch                     ## 4. command (or path) to call vsearch (or usearch)    (s3,s6)\n",
      "muscle                      ## 5. command (or path) to call muscle                  (s3,s7)\n",
      "TGCAG                       ## 6. Restriction overhang (e.g., C|TGCAG -> TGCAG)     (s1,s2)\n",
      "2                   ## 7. N processors... \n",
      "6                           ## 8. Mindepth: min coverage for a cluster              (s4,s5)\n",
      "4                           ## 9. NQual: max # sites with qual < 20 (line 18)       (s2)\n",
      ".85                ## 10. lowered clust thresh... \n",
      "rad                         ## 11. Datatype: rad,gbs,ddrad,pairgbs,pairddrad,merge   (all)\n",
      "4                           ## 12. MinCov: min samples in a final locus             (s7)\n",
      "3                           ## 13. MaxSH: max inds with shared hetero site          (s7)\n",
      "c85m4p3            ## 14. outprefix... \n",
      "==== optional params below this line ===================================  affected step ==\n",
      "                       ## 15.opt.: select subset (prefix* only selector)            (s2-s7)\n",
      "                       ## 16.opt.: add-on (outgroup) taxa (list or prefix*)         (s6,s7)\n",
      "                       ## 17.opt.: exclude taxa (list or prefix*)                   (s7)\n",
      "                       ## 18.opt.: loc. of de-multiplexed data                      (s2)\n",
      "                       ## 19.opt.: maxM: N mismatches in barcodes (def= 1)          (s1)\n",
      "                       ## 20.opt.: phred Qscore offset (def= 33)                    (s2)\n",
      "                       ## 21.opt.: filter: def=0=NQual 1=NQual+adapters. 2=strict   (s2)\n",
      "                       ## 22.opt.: a priori E,H (def= 0.001,0.01, if not estimated) (s5)\n",
      "                       ## 23.opt.: maxN: max Ns in a cons seq (def=5)               (s5)\n",
      "8                   ## 24. maxH raised ... \n",
      "                       ## 25.opt.: ploidy: max alleles in cons seq (def=2;see docs) (s4,s5)\n",
      "                       ## 26.opt.: maxSNPs: (def=100). Paired (def=100,100)         (s7)\n",
      "                       ## 27.opt.: maxIndels: within-clust,across-clust (def. 3,99) (s3,s7)\n",
      "                       ## 28.opt.: random number seed (def. 112233)              (s3,s6,s7)\n",
      "                       ## 29.opt.: trim overhang left,right on final loci, def(0,0) (s7)\n",
      "*                   ## 30. all output formats... \n",
      "                       ## 31.opt.: call maj. consens if depth < stat. limit (def=0) (s5)\n",
      "                       ## 32.opt.: keep trimmed reads (def=0). Enter min length.    (s2)\n",
      "                       ## 33.opt.: max stack size (int), def= max(500,mean+2*SD)    (s3)\n",
      "                       ## 34.opt.: minDerep: exclude dereps with <= N copies, def=1 (s3)\n",
      "                       ## 35.opt.: use hierarchical clustering (def.=0, 1=yes)      (s6)\n",
      "                       ## 36.opt.: repeat masking (def.=1='dust' method, 0=no)      (s3,s6)\n",
      "                       ## 37.opt.: vsearch threads per job (def.=6; see docs)       (s3,s6)\n",
      "==== optional: list group/clade assignments below this line (see docs) ==================\n",
      "pop1 4 1A0,1B0,1C0,1D0 \n",
      "pop2 4 2E0,2F0,2G0,2H0 \n",
      "pop3 4 3* \n"
     ]
    }
   ],
   "source": [
    "%%bash \n",
    "## append group designations to the params file\n",
    "echo \"pop1 4 1A0,1B0,1C0,1D0 \" >> params.txt\n",
    "echo \"pop2 4 2E0,2F0,2G0,2H0 \" >> params.txt\n",
    "echo \"pop3 4 3* \" >> params.txt\n",
    "\n",
    "## view params file\n",
    "cat params.txt"
   ]
  },
  {
   "cell_type": "markdown",
   "metadata": {},
   "source": [
    "## Creating population output files  \n",
    "Now if we run _pyRAD_ with the 'm' (migrate) or 't' (treemix) output options, it will create their output files. "
   ]
  },
  {
   "cell_type": "code",
   "execution_count": 40,
   "metadata": {
    "collapsed": false
   },
   "outputs": [
    {
     "name": "stdout",
     "output_type": "stream",
     "text": [
      "\tingroup 1A0,1B0,1C0,1D0,2E0,2F0,2G0,2H0,3I0,3J0,3K0,3L0\n",
      "\taddon \n",
      "\texclude \n",
      "\t\n",
      "\tWarning: data set c85m4p3.loci already exists\n",
      "\t  Skipping re-alignment. Creating extra data formats from the existing file\n",
      "\t  To create a new .loci file and alignment move/delete c85m4p3.loci or change\n",
      "\t  the outname prefix in the params file\n",
      "\n",
      "\twriting nexus file\n",
      "\twriting phylip file\n",
      "\twriting unlinked SNPs file\n",
      "\t  + writing full SNPs file\n",
      "\t  + writing STRUCTURE file\n",
      "\t  + writing geno file\n",
      "\t  + writing treemix file\n",
      "\t    data set reduced for group coverage minimums\n",
      "\t    pop1 ['1A0', '1B0', '1C0', '1D0'] minimum= 4\n",
      "\t    pop2 ['2E0', '2F0', '2G0', '2H0'] minimum= 4\n",
      "\t    pop3 ['3J0', '3I0', '3K0', '3L0'] minimum= 4\n",
      "\twriting vcf file\n",
      "\twriting alleles file\n",
      "\twriting migrate-n file\n",
      "\t    data set reduced for group coverage minimums\n",
      "\t    pop1 ['1A0', '1B0', '1C0', '1D0'] minimum= 4\n",
      "\t    pop2 ['2E0', '2F0', '2G0', '2H0'] minimum= 4\n",
      "\t    pop3 ['3J0', '3I0', '3K0', '3L0'] minimum= 4\n"
     ]
    },
    {
     "name": "stderr",
     "output_type": "stream",
     "text": [
      "\n",
      "\n",
      "     ------------------------------------------------------------\n",
      "      pyRAD : RADseq for phylogenetics & introgression analyses\n",
      "     ------------------------------------------------------------\n",
      "\n",
      "\n",
      "\tCluster input file: using \n",
      "\t/home/deren/Dropbox/Public/PYRAD_TUTORIALS/tutorial_RAD/clust.85/cat.clust_.gz\n",
      "\n"
     ]
    }
   ],
   "source": [
    "%%bash \n",
    "pyRAD -p params.txt -s 7"
   ]
  },
  {
   "cell_type": "markdown",
   "metadata": {},
   "source": [
    "## TREEMIX format"
   ]
  },
  {
   "cell_type": "code",
   "execution_count": 41,
   "metadata": {
    "collapsed": false
   },
   "outputs": [
    {
     "name": "stdout",
     "output_type": "stream",
     "text": [
      "pop1 pop2 pop3\n",
      "8,0 8,0 4,4\n",
      "8,0 8,0 7,1\n",
      "8,0 8,0 6,2\n",
      "8,0 6,2 8,0\n",
      "8,0 8,0 0,8\n",
      "8,0 8,0 7,1\n",
      "8,0 8,0 6,2\n",
      "7,1 8,0 8,0\n",
      "8,0 6,2 8,0\n",
      "8,0 8,0 0,8\n",
      "0,8 8,0 8,0\n",
      "8,0 8,0 4,4\n",
      "8,0 7,1 8,0\n",
      "7,1 8,0 8,0\n",
      "0,8 8,0 8,0\n",
      "7,1 8,0 8,0\n",
      "6,2 8,0 8,0\n",
      "8,0 7,1 8,0\n",
      "8,0 7,1 8,0\n",
      "0,8 8,0 8,0\n",
      "8,0 6,2 8,0\n",
      "8,0 6,2 0,8\n",
      "8,0 8,0 0,8\n",
      "0,8 8,0 8,0\n",
      "6,2 8,0 8,0\n",
      "8,0 8,0 7,1\n",
      "8,0 6,2 8,0\n",
      "8,0 2,6 8,0\n",
      "0,8 8,0 8,0\n"
     ]
    }
   ],
   "source": [
    "%%bash \n",
    "less outfiles/c85m4p3.treemix.gz | head -n 30"
   ]
  },
  {
   "cell_type": "markdown",
   "metadata": {},
   "source": [
    "## MIGRATE-n FORMAT"
   ]
  },
  {
   "cell_type": "code",
   "execution_count": 42,
   "metadata": {
    "collapsed": false
   },
   "outputs": [
    {
     "name": "stdout",
     "output_type": "stream",
     "text": [
      "3 2000 ( npops nloci for data set c85m4p3.loci )\n",
      "89 89 89 89 89 89 89 89 89 89 89 89 89 89 89 89 89 89 89 89 89 89 89 89 89 89 89 89 8\n",
      "4 4 4 4 4 4 4 4 4 4 4 4 4 4 4 4 4 4 4 4 4 4 4 4 4 4 4 4 4 4 4 4 4 4 4 4 4 4 4 4 4 4 4\n",
      "pop1_0    TCTCTCTCGCGGTCGATGATATTGCGAGGGAAGTAGCAGGCCAAATCGCGATCCTAGTTATCATAAGAATCTTAT\n",
      "pop1_1    TCTCTCTCGCGGTCGATGATATTGCGAGGGAAGTAGCAGGCCAAATCGAGATCCTAGTTATCATAAGAATCTTAT\n",
      "pop1_2    TCTCTCTCGCGGTCGATGATATTGCGAGGGAAGTAGCAGGCCAAATCGAGATCCTAGTTATCATAAGAATCTTAT\n",
      "pop1_3    TCTCTCTCGCGGTCGATGATATTGCGAGGGAAGTAGCAGGCCAAATCGAGATCCTAGTTATCATAAGAATCTTAT\n",
      "pop1_0    GTTCTGGACAAGACAATAGCTCTCCTCCTATGTATGGCTGCCTGTCACTTAACTAATGTAAAGGCACGTGTCCAA\n",
      "pop1_1    GTTCTGGACAAGACAATAGCTCTCCTCCTATGTATGGCTGCCTGTCACTTAACTAATGTAAAGGCACGTGTCCAA\n",
      "pop1_2    GTTCTGGACAAGACAATAGCTCTCCTCCTATGTATGGCTGCCTGTCACTTAACTAATGTAAAGGCACGTGTCCAA\n",
      "pop1_3    GTTCTGGACAAGACAATAGCTCTCCTCCTATGTATGGCTGCCTGTCACTTAACTAATGTAAAGGCACGTGTCCAA\n",
      "pop1_0    TCCGATAGCCAGGTCTCGAGGTCGACTTCCGGCGTGATGTCGGGTTCAACCCCCGGGCATCGGTGCGAAGGATAT\n",
      "pop1_1    TCCGATAGCCAGGTCTCGAGGTCGACTTCCGGCGTGATGTCGGGTTCAACCCCCGGGCATCGGTGCGAAGGATAT\n",
      "pop1_2    TCCGATAGCCAGGTCTCGAGGTCGACTTCCGGCGTGATGTCGGGTTCAACCCCCGGGCATCGGTGCGAAGGATAT\n",
      "pop1_3    TCCGATAGCCAGGTCTCGAGGTCGACTTCCGGCGTGATGTCGGGTTCAACCCCCGGGCATCGGTGCGAAGGATAT\n",
      "pop1_0    TTGCTACCTACACACTGAAACGAATATTGCATGGGCTAGTTGTGCTATGAGGAGTATACAAGACTTATCTACAGT\n",
      "pop1_1    TTGCTACCTACACACTGAAACGAATATTGCATGGGCTAGTTGTGCTATGAGGAGTATACAAGACTTATCTACAGT\n",
      "pop1_2    TTGCTACCTACACACTGAAACGAATATTGCATGGGCTAGTTGTGCTATGAGGAGTATACAAGACTTATCTACAGT\n",
      "pop1_3    TTGCTACCTACACACTGAAACGAATATTGCATGGGCTAGTTGTGCTATGAGGAGTATACAAGACTTATCTACAGT\n",
      "pop1_0    GCGGGCTTAGCTTATTTGAATACAAATGAATGCACGGTATTGAAYCCCGGCGGGATAAATATTAACAGAATAGCG\n",
      "pop1_1    GCGGGCTTAGCTTATTTGAATACAAATGAATGCACGGTATTGAAYCCCGGCGGGATAAATATTAACAGAATAGCG\n",
      "pop1_2    GCGGGCTTAGCTTATTTGAATACAAATGAATGCACGGTATTGAATCCCGGCGGGATAAATATTAACAGAATAGCG\n",
      "pop1_3    GCGGGCTTAGCTTATTTGAATACAAATGAATGCACGGTATTGAACCCCGGCGGGATAAATATTAACAGAATAGCG\n",
      "pop1_0    GTAAAACCCCCGATGCTAACAGCTATTTTAAGCGTGCATTGAGGACGCACCGGACATGTGGTATGTTTCTTTATT\n",
      "pop1_1    GTAAAACCCCCGATGCTAACAGCTATTTTAAGCGTGCATTGAGGACGCACCGGACATGTGGTATGTTTCTTTATT\n",
      "pop1_2    GTAAAACCCCCGATGCTAACAGCTATTTTAAGCGTGCATTGAGGACGCACCGGACATGTGGTATGTTTCTTTATT\n",
      "pop1_3    GTAAAACCCCCGATGCTAACAGCTATTTTAAGCGTGCATTGAGGACGCACCGGACATGTGGTATGTTTCTTTATT\n",
      "pop1_0    TTTGTGTTAACCGCCCTTTGCTTTGATATTGCCCGCCAAGCGTCTATTGGCAATYCAGAAGGCTATCAAACGTCT\n",
      "pop1_1    TTTGTGTTAACCGCCCTTTGCTTTGATATTGCCCGCCAAGCGTCTATTGGCAATTCAGAAGGCTATCAAACGTCT\n",
      "pop1_2    TTTGTGTTAACCGCCCTTTGCTTTGATATTGCCCGCCAAGCGTCTATTGGCAATTCAGAAGGCTATCAAACGTCT\n",
      "pop1_3    TTTGTGTTAACCGCCCTTTGCTTTGATATTGCCCGCCAAGCGTCTATTGGCAATTCAGAAGGTTATCAAACGTCT\n",
      "pop1_0    CGATTCAATCGATTAGATCTTGGAGTTAAATCACAACACCTGATGTCCTTCAAATAATAGATACGGCCCTATCGC\n",
      "pop1_1    CGATTCAATCGATTAGATCTTGGAGTTAAATCACAACACCTGATGTCCTTCAAATAATAGATACGGCCCTATCGC\n",
      "pop1_2    CGATTCAATCGATTAGATCTTGGAGTTAAATCACAACACCTGATGTCCTTCAAATAATAGATACGGCCCTATCGC\n",
      "pop1_3    CGATTCAATCGATTAGATCTTGGAGTTAAATCACAACACCTGATGTCCTTCAAATAATAGATACGGCCCTATCGC\n",
      "pop1_0    GGGACCAAGCTAAAGGTACCGACTCGAGCTGTGGCGTCACTGACAAGTGGCGCAAATATGGTTAGAATGGCGTCG\n",
      "pop1_1    GGGACCAAGCTAAAGGTACCGACTCGAGCTGTGGCGTCACTGACTAGTGGCGCAAATATGGTTAGAATGGCGTCG\n",
      "pop1_2    GGGACCAAGCTAAAGGTACCGACTCGAGCTGTGGCGTCACTGACAAGTGGCGCAAATATGGTTAGAATGGCGTCG\n",
      "pop1_3    GGGACCAAGCTAAATGTACCGACTCGAGCTGTGGCGTCACTGACAAGTGGCGCAAATATGGTTAGAATGGCGTCG\n",
      "pop1_0    GGCGCGGTTTGTTTTTCGCAAGGCACCATGTGCCGAATTAATCCTAGTTCTGTGCTAGAACGGTGGATGCCCATT\n"
     ]
    }
   ],
   "source": [
    "%%bash \n",
    "head -n 40 outfiles/c85m4p3.migrate | cut -c 1-85"
   ]
  }
 ],
 "metadata": {
  "kernelspec": {
   "display_name": "Python 2",
   "language": "python",
   "name": "python2"
  },
  "language_info": {
   "codemirror_mode": {
    "name": "ipython",
    "version": 2
   },
   "file_extension": ".py",
   "mimetype": "text/x-python",
   "name": "python",
   "nbconvert_exporter": "python",
   "pygments_lexer": "ipython2",
   "version": "2.7.11"
  }
 },
 "nbformat": 4,
 "nbformat_minor": 0
}
