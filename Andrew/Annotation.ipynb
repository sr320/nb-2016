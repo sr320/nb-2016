{
 "cells": [
  {
   "cell_type": "markdown",
   "metadata": {},
   "source": [
    "### Blast has been completed with Swiss Prot"
   ]
  },
  {
   "cell_type": "code",
   "execution_count": 8,
   "metadata": {
    "collapsed": false
   },
   "outputs": [
    {
     "name": "stdout",
     "output_type": "stream",
     "text": [
      ">TRINITY_DN20713_c0_g1_i1 len=1266 path=[2742:0-122 2763:123-173 2765:174-174 2761:175-237 @2764@!:238-827 2758:828-865 2760:866-1209 2740:1210-1237 2741:1238-1265] [-1, 2742, 2763, 2765, 2761, 2764, 2758, 2760, 2740, 2741, -2]\r\n",
      "CCTCTTCCTGTCCATGCACTGGGCGCGCTCCATACCTGCCTTTCAAGCCTTGGGTGGTCT\r\n",
      "CGATAATGACATTAACCTGATGAAGGCTTGTTGGAACGAGCTGTTTGCTCTGGGCCTGGC\r\n",
      "TCAATGCTCCAATGTCATGAACGTCTCCACTATCCTGGCTGCCATCATCAACCACCTTCA\r\n",
      "GACCAGCCTACAAGATGAGAAGCTGTCCCCAGAGAGAGTGAAGCTGGTGATGGAACACAT\r\n",
      "CTGGAGAATGCAGGAGTTCTGTAACAGCATGGCCAAGCTATCCCCTGACGTTTATGAATA\r\n",
      "CGCCTACCTGAAAGCCATCATCCTCTTCAGCCCTGACCACCCAGGTATAGACAACACCCT\r\n",
      "ACAGATTGAGCGTTTCCAGGAGAAAGCCTACATGGAGTTACAGGATTATGTAACTCGGAC\r\n",
      "CTACCCTGAAGACTCGTATCGGTTATCCAAGCTGTTGCTTCGTCTACCTGCCCTGCGGCT\r\n",
      "TATGAGTTCAGTGGTGACCGAGGAGCTCTTCTTCACTGGCCTCATCGGCAACGTTCAGAT\r\n"
     ]
    }
   ],
   "source": [
    "!head transcriptome.fasta"
   ]
  },
  {
   "cell_type": "code",
   "execution_count": 11,
   "metadata": {
    "collapsed": false
   },
   "outputs": [
    {
     "name": "stdout",
     "output_type": "stream",
     "text": [
      "138481\r\n"
     ]
    }
   ],
   "source": [
    "!fgrep -c \">\" transcriptome.fasta"
   ]
  },
  {
   "cell_type": "code",
   "execution_count": 3,
   "metadata": {
    "collapsed": false
   },
   "outputs": [
    {
     "name": "stdout",
     "output_type": "stream",
     "text": [
      "blastout_query.part-01.fa_uniprot query.part-01.fa\r\n",
      "blastout_query.part-02.fa_uniprot query.part-02.fa\r\n",
      "blastout_query.part-03.fa_uniprot query.part-03.fa\r\n",
      "blastout_query.part-04.fa_uniprot query.part-04.fa\r\n",
      "blastout_query.part-05.fa_uniprot query.part-05.fa\r\n",
      "blastout_query.part-06.fa_uniprot query.part-06.fa\r\n",
      "blastout_query.part-07.fa_uniprot query.part-07.fa\r\n",
      "blastout_query.part-08.fa_uniprot query.part-08.fa\r\n",
      "blastout_query.part-09.fa_uniprot query.part-09.fa\r\n",
      "blastout_query.part-10.fa_uniprot query.part-10.fa\r\n",
      "blastx_sprot.tab\r\n"
     ]
    }
   ],
   "source": [
    "!ls ../Andrew1"
   ]
  },
  {
   "cell_type": "code",
   "execution_count": 4,
   "metadata": {
    "collapsed": false
   },
   "outputs": [
    {
     "name": "stdout",
     "output_type": "stream",
     "text": [
      "TRINITY_DN20713_c0_g1_i1\tsp|P79386|NR0B1_PIG\t28.57\t203\t125\t5\t2\t553\t262\t463\t9e-07\t54.7\r\n",
      "TRINITY_DN20713_c0_g1_i2\tsp|P97947|NR0B2_RAT\t30.94\t181\t119\t2\t26\t553\t74\t253\t1e-11\t68.2\r\n",
      "TRINITY_DN20713_c1_g1_i1\tsp|Q66J63|N2C1B_XENLA\t63.72\t441\t135\t10\t1304\t3\t25\t447\t0.0\t  533\r\n",
      "TRINITY_DN20713_c1_g2_i1\tsp|Q26622|SHR2_STRPU\t49.85\t343\t140\t9\t983\t3\t60\t386\t6e-97\t  305\r\n",
      "TRINITY_DN20706_c0_g1_i1\tsp|Q9Y2R5|RT17_HUMAN\t70.37\t135\t34\t1\t923\t519\t1\t129\t4e-60\t  195\r\n",
      "TRINITY_DN20742_c0_g3_i1\tsp|Q7ZY18|MC6ZB_XENLA\t79.67\t841\t140\t7\t74\t2551\t1\t825\t0.0\t 1338\r\n",
      "TRINITY_DN20780_c0_g1_i1\tsp|O13035|SAP_CHICK\t31.07\t338\t212\t10\t1443\t463\t191\t518\t5e-40\t  156\r\n",
      "TRINITY_DN20769_c0_g1_i2\tsp|Q08BR4|STB1B_DANRE\t70.99\t162\t21\t4\t477\t1\t942\t1080\t1e-59\t  207\r\n",
      "TRINITY_DN20718_c0_g2_i1\tsp|P00541|FPS_AVISP\t67.09\t158\t52\t0\t961\t488\t371\t528\t2e-74\t  244\r\n",
      "TRINITY_DN20716_c0_g3_i2\tsp|Q90977|E2F1_CHICK\t55.84\t385\t146\t7\t599\t1738\t38\t403\t1e-119\t  374\r\n"
     ]
    }
   ],
   "source": [
    "!head ../Andrew1/blastx_sprot.tab\n"
   ]
  },
  {
   "cell_type": "code",
   "execution_count": 5,
   "metadata": {
    "collapsed": false
   },
   "outputs": [
    {
     "name": "stdout",
     "output_type": "stream",
     "text": [
      "   40076 ../Andrew1/blastx_sprot.tab\r\n"
     ]
    }
   ],
   "source": [
    "!wc -l ../Andrew1/blastx_sprot.tab"
   ]
  },
  {
   "cell_type": "code",
   "execution_count": 12,
   "metadata": {
    "collapsed": true
   },
   "outputs": [],
   "source": [
    "!tr '|' \"\\t\" <../Andrew1/blastx_sprot.tab> blastx_sprot.sql"
   ]
  },
  {
   "cell_type": "code",
   "execution_count": 13,
   "metadata": {
    "collapsed": false
   },
   "outputs": [
    {
     "name": "stdout",
     "output_type": "stream",
     "text": [
      "TRINITY_DN20713_c0_g1_i1\tsp\tP79386\tNR0B1_PIG\t28.57\t203\t125\t5\t2\t553\t262\t463\t9e-07\t54.7\r\n",
      "TRINITY_DN20713_c0_g1_i2\tsp\tP97947\tNR0B2_RAT\t30.94\t181\t119\t2\t26\t553\t74\t253\t1e-11\t68.2\r\n",
      "TRINITY_DN20713_c1_g1_i1\tsp\tQ66J63\tN2C1B_XENLA\t63.72\t441\t135\t10\t1304\t3\t25\t447\t0.0\t  533\r\n",
      "TRINITY_DN20713_c1_g2_i1\tsp\tQ26622\tSHR2_STRPU\t49.85\t343\t140\t9\t983\t3\t60\t386\t6e-97\t  305\r\n",
      "TRINITY_DN20706_c0_g1_i1\tsp\tQ9Y2R5\tRT17_HUMAN\t70.37\t135\t34\t1\t923\t519\t1\t129\t4e-60\t  195\r\n",
      "TRINITY_DN20742_c0_g3_i1\tsp\tQ7ZY18\tMC6ZB_XENLA\t79.67\t841\t140\t7\t74\t2551\t1\t825\t0.0\t 1338\r\n",
      "TRINITY_DN20780_c0_g1_i1\tsp\tO13035\tSAP_CHICK\t31.07\t338\t212\t10\t1443\t463\t191\t518\t5e-40\t  156\r\n",
      "TRINITY_DN20769_c0_g1_i2\tsp\tQ08BR4\tSTB1B_DANRE\t70.99\t162\t21\t4\t477\t1\t942\t1080\t1e-59\t  207\r\n",
      "TRINITY_DN20718_c0_g2_i1\tsp\tP00541\tFPS_AVISP\t67.09\t158\t52\t0\t961\t488\t371\t528\t2e-74\t  244\r\n",
      "TRINITY_DN20716_c0_g3_i2\tsp\tQ90977\tE2F1_CHICK\t55.84\t385\t146\t7\t599\t1738\t38\t403\t1e-119\t  374\r\n"
     ]
    }
   ],
   "source": [
    "!head blastx_sprot.sql"
   ]
  },
  {
   "cell_type": "code",
   "execution_count": 23,
   "metadata": {
    "collapsed": false
   },
   "outputs": [],
   "source": [
    "!sort -k3 blastx_sprot.sql > blastx_sprot.sort"
   ]
  },
  {
   "cell_type": "code",
   "execution_count": 26,
   "metadata": {
    "collapsed": false
   },
   "outputs": [
    {
     "name": "stdout",
     "output_type": "stream",
     "text": [
      "TRINITY_DN27127_c0_g1_i1\tsp\tA0A023PYD7\tYD87C_YEAST\t59.80\t102\t41\t0\t377\t72\t3\t104\t2e-17\t85.9\r\n",
      "TRINITY_DN67003_c0_g1_i1\tsp\tA0A8M2\tL14AA_XENLA\t79.87\t154\t22\t2\t470\t9\t1\t145\t3e-53\t  182\r\n",
      "TRINITY_DN37433_c0_g1_i1\tsp\tA0AAS4\tSMS1_PIG\t54.97\t171\t64\t4\t492\t4\t4\t169\t8e-52\t  177\r\n",
      "TRINITY_DN57186_c0_g1_i1\tsp\tA0AUP1\tCC112_MOUSE\t47.25\t91\t48\t0\t166\t438\t1\t91\t1e-19\t87.8\r\n",
      "TRINITY_DN60379_c0_g1_i1\tsp\tA0AUP1\tCC112_MOUSE\t73.33\t30\t8\t0\t3\t92\t411\t440\t6e-09\t55.5\r\n"
     ]
    }
   ],
   "source": [
    "!head -5 blastx_sprot.sort"
   ]
  },
  {
   "cell_type": "markdown",
   "metadata": {},
   "source": [
    "### downloaded Swiss-prot information \"http://www.uniprot.org/uniprot/?query=reviewed%3ayes&force=yes&format=tab&columns=id,entry%20name,go-id,interactor,database(GO),go,reviewed,interpro,pathway,protein%20names,genes,tools,organism,length\""
   ]
  },
  {
   "cell_type": "code",
   "execution_count": 17,
   "metadata": {
    "collapsed": false
   },
   "outputs": [
    {
     "name": "stdout",
     "output_type": "stream",
     "text": [
      "Entry\tEntry name\tGene ontology IDs\tInteracts with\tCross-reference (GO)\tGene ontology (GO)\tStatus\tInterPro\tPathway\tProtein names\tGene names\tOrganism\tLength\r\n",
      "P42645\t14335_ARATH\tGO:0005524; GO:0005794; GO:0005618; GO:0005829; GO:0005739; GO:0005634; GO:0005886; GO:0046686\t\t\tcell wall [GO:0005618]; cytosol [GO:0005829]; Golgi apparatus [GO:0005794]; mitochondrion [GO:0005739]; nucleus [GO:0005634]; plasma membrane [GO:0005886]; ATP binding [GO:0005524]; response to cadmium ion [GO:0046686]\treviewed\tIPR000308; IPR023409; IPR023410; \t\t14-3-3-like protein GF14 upsilon (General regulatory factor 5)\tGRF5 At5g16050 F1N13_190\tArabidopsis thaliana (Mouse-ear cress)\t268\r\n"
     ]
    }
   ],
   "source": [
    "!head -2 /Users/sr320/git-repos/nb-2016/uniprot-reviewed.tab"
   ]
  },
  {
   "cell_type": "code",
   "execution_count": 29,
   "metadata": {
    "collapsed": false
   },
   "outputs": [],
   "source": [
    "!sort /Users/sr320/git-repos/nb-2016/uniprot-reviewed.tab > /Users/sr320/git-repos/nb-2016/uniprot-reviewed.sort"
   ]
  },
  {
   "cell_type": "markdown",
   "metadata": {},
   "source": [
    "# notes"
   ]
  },
  {
   "cell_type": "markdown",
   "metadata": {},
   "source": [
    "<img src=\"http://eagle.fish.washington.edu/cnidarian/skitch/fish546-2015_Jay-join_ipynb_at_master_·_sr320_fish546-2015_1D4BB702.png\" alt=\"fish546-2015_Jay-join_ipynb_at_master_·_sr320_fish546-2015_1D4BB702.png\"/>\n",
    "\n",
    "---"
   ]
  },
  {
   "cell_type": "code",
   "execution_count": 71,
   "metadata": {
    "collapsed": false
   },
   "outputs": [
    {
     "name": "stdout",
     "output_type": "stream",
     "text": [
      "A0A023PYD7\tTRINITY_DN27127_c0_g1_i1\tsp\tYD87C_YEAST\t59.80\t102\t41\t0\t377\t72\t3\t104\t2e-17\t85.9\tYD87C_YEAST\tGO:0016021\t\t\tintegral component of membrane [GO:0016021]\treviewed\t\t\tPutative uncharacterized membrane protein YDR187C\tYDR187C\tSaccharomyces cerevisiae (strain ATCC 204508 / S288c) (Baker's yeast)\t172\r\n",
      "join: stdout: Broken pipe\r\n"
     ]
    }
   ],
   "source": [
    "!join -t $'\\t' -1 3 -2 1 \\\n",
    "blastx_sprot.sort \\\n",
    "/Users/sr320/git-repos/nb-2016/uniprot-reviewed.sort | head -1\n"
   ]
  },
  {
   "cell_type": "code",
   "execution_count": 64,
   "metadata": {
    "collapsed": false
   },
   "outputs": [],
   "source": [
    "!join -t $'\\t' -1 3 -2 1 \\\n",
    "blastx_sprot.sort \\\n",
    "/Users/sr320/git-repos/nb-2016/uniprot-reviewed.sort \\\n",
    "> blastx-join-uniprot-info.tab"
   ]
  },
  {
   "cell_type": "code",
   "execution_count": 65,
   "metadata": {
    "collapsed": false
   },
   "outputs": [
    {
     "name": "stdout",
     "output_type": "stream",
     "text": [
      "A0A023PYD7\tTRINITY_DN27127_c0_g1_i1\tsp\tYD87C_YEAST\t59.80\t102\t41\t0\t377\t72\t3\t104\t2e-17\t85.9\tYD87C_YEAST\tGO:0016021\t\t\tintegral component of membrane [GO:0016021]\treviewed\t\t\tPutative uncharacterized membrane protein YDR187C\tYDR187C\tSaccharomyces cerevisiae (strain ATCC 204508 / S288c) (Baker's yeast)\t172\r\n"
     ]
    }
   ],
   "source": [
    "!head -1 blastx-join-uniprot-info.tab"
   ]
  },
  {
   "cell_type": "code",
   "execution_count": 70,
   "metadata": {
    "collapsed": false
   },
   "outputs": [],
   "source": [
    "!open blastx-join-uniprot-info.tab -a \"Microsoft Excel\""
   ]
  },
  {
   "cell_type": "code",
   "execution_count": null,
   "metadata": {
    "collapsed": true
   },
   "outputs": [],
   "source": []
  }
 ],
 "metadata": {
  "kernelspec": {
   "display_name": "Python 2",
   "language": "python",
   "name": "python2"
  },
  "language_info": {
   "codemirror_mode": {
    "name": "ipython",
    "version": 2
   },
   "file_extension": ".py",
   "mimetype": "text/x-python",
   "name": "python",
   "nbconvert_exporter": "python",
   "pygments_lexer": "ipython2",
   "version": "2.7.11"
  }
 },
 "nbformat": 4,
 "nbformat_minor": 0
}
