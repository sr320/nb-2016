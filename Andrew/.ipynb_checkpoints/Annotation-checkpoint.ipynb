{
 "cells": [
  {
   "cell_type": "markdown",
   "metadata": {},
   "source": [
    "### Blast has been completed with Swiss Prot"
   ]
  },
  {
   "cell_type": "code",
   "execution_count": 8,
   "metadata": {
    "collapsed": false
   },
   "outputs": [
    {
     "name": "stdout",
     "output_type": "stream",
     "text": [
      ">TRINITY_DN20713_c0_g1_i1 len=1266 path=[2742:0-122 2763:123-173 2765:174-174 2761:175-237 @2764@!:238-827 2758:828-865 2760:866-1209 2740:1210-1237 2741:1238-1265] [-1, 2742, 2763, 2765, 2761, 2764, 2758, 2760, 2740, 2741, -2]\r\n",
      "CCTCTTCCTGTCCATGCACTGGGCGCGCTCCATACCTGCCTTTCAAGCCTTGGGTGGTCT\r\n",
      "CGATAATGACATTAACCTGATGAAGGCTTGTTGGAACGAGCTGTTTGCTCTGGGCCTGGC\r\n",
      "TCAATGCTCCAATGTCATGAACGTCTCCACTATCCTGGCTGCCATCATCAACCACCTTCA\r\n",
      "GACCAGCCTACAAGATGAGAAGCTGTCCCCAGAGAGAGTGAAGCTGGTGATGGAACACAT\r\n",
      "CTGGAGAATGCAGGAGTTCTGTAACAGCATGGCCAAGCTATCCCCTGACGTTTATGAATA\r\n",
      "CGCCTACCTGAAAGCCATCATCCTCTTCAGCCCTGACCACCCAGGTATAGACAACACCCT\r\n",
      "ACAGATTGAGCGTTTCCAGGAGAAAGCCTACATGGAGTTACAGGATTATGTAACTCGGAC\r\n",
      "CTACCCTGAAGACTCGTATCGGTTATCCAAGCTGTTGCTTCGTCTACCTGCCCTGCGGCT\r\n",
      "TATGAGTTCAGTGGTGACCGAGGAGCTCTTCTTCACTGGCCTCATCGGCAACGTTCAGAT\r\n"
     ]
    }
   ],
   "source": [
    "!head transcriptome.fasta"
   ]
  },
  {
   "cell_type": "code",
   "execution_count": 11,
   "metadata": {
    "collapsed": false
   },
   "outputs": [
    {
     "name": "stdout",
     "output_type": "stream",
     "text": [
      "138481\r\n"
     ]
    }
   ],
   "source": [
    "!fgrep -c \">\" transcriptome.fasta"
   ]
  },
  {
   "cell_type": "code",
   "execution_count": 3,
   "metadata": {
    "collapsed": false
   },
   "outputs": [
    {
     "name": "stdout",
     "output_type": "stream",
     "text": [
      "blastout_query.part-01.fa_uniprot query.part-01.fa\r\n",
      "blastout_query.part-02.fa_uniprot query.part-02.fa\r\n",
      "blastout_query.part-03.fa_uniprot query.part-03.fa\r\n",
      "blastout_query.part-04.fa_uniprot query.part-04.fa\r\n",
      "blastout_query.part-05.fa_uniprot query.part-05.fa\r\n",
      "blastout_query.part-06.fa_uniprot query.part-06.fa\r\n",
      "blastout_query.part-07.fa_uniprot query.part-07.fa\r\n",
      "blastout_query.part-08.fa_uniprot query.part-08.fa\r\n",
      "blastout_query.part-09.fa_uniprot query.part-09.fa\r\n",
      "blastout_query.part-10.fa_uniprot query.part-10.fa\r\n",
      "blastx_sprot.tab\r\n"
     ]
    }
   ],
   "source": [
    "!ls ../Andrew1"
   ]
  },
  {
   "cell_type": "code",
   "execution_count": 4,
   "metadata": {
    "collapsed": false
   },
   "outputs": [
    {
     "name": "stdout",
     "output_type": "stream",
     "text": [
      "TRINITY_DN20713_c0_g1_i1\tsp|P79386|NR0B1_PIG\t28.57\t203\t125\t5\t2\t553\t262\t463\t9e-07\t54.7\r\n",
      "TRINITY_DN20713_c0_g1_i2\tsp|P97947|NR0B2_RAT\t30.94\t181\t119\t2\t26\t553\t74\t253\t1e-11\t68.2\r\n",
      "TRINITY_DN20713_c1_g1_i1\tsp|Q66J63|N2C1B_XENLA\t63.72\t441\t135\t10\t1304\t3\t25\t447\t0.0\t  533\r\n",
      "TRINITY_DN20713_c1_g2_i1\tsp|Q26622|SHR2_STRPU\t49.85\t343\t140\t9\t983\t3\t60\t386\t6e-97\t  305\r\n",
      "TRINITY_DN20706_c0_g1_i1\tsp|Q9Y2R5|RT17_HUMAN\t70.37\t135\t34\t1\t923\t519\t1\t129\t4e-60\t  195\r\n",
      "TRINITY_DN20742_c0_g3_i1\tsp|Q7ZY18|MC6ZB_XENLA\t79.67\t841\t140\t7\t74\t2551\t1\t825\t0.0\t 1338\r\n",
      "TRINITY_DN20780_c0_g1_i1\tsp|O13035|SAP_CHICK\t31.07\t338\t212\t10\t1443\t463\t191\t518\t5e-40\t  156\r\n",
      "TRINITY_DN20769_c0_g1_i2\tsp|Q08BR4|STB1B_DANRE\t70.99\t162\t21\t4\t477\t1\t942\t1080\t1e-59\t  207\r\n",
      "TRINITY_DN20718_c0_g2_i1\tsp|P00541|FPS_AVISP\t67.09\t158\t52\t0\t961\t488\t371\t528\t2e-74\t  244\r\n",
      "TRINITY_DN20716_c0_g3_i2\tsp|Q90977|E2F1_CHICK\t55.84\t385\t146\t7\t599\t1738\t38\t403\t1e-119\t  374\r\n"
     ]
    }
   ],
   "source": [
    "!head ../Andrew1/blastx_sprot.tab\n"
   ]
  },
  {
   "cell_type": "code",
   "execution_count": 5,
   "metadata": {
    "collapsed": false
   },
   "outputs": [
    {
     "name": "stdout",
     "output_type": "stream",
     "text": [
      "   40076 ../Andrew1/blastx_sprot.tab\r\n"
     ]
    }
   ],
   "source": [
    "!wc -l ../Andrew1/blastx_sprot.tab"
   ]
  },
  {
   "cell_type": "code",
   "execution_count": 12,
   "metadata": {
    "collapsed": true
   },
   "outputs": [],
   "source": [
    "!tr '|' \"\\t\" <../Andrew1/blastx_sprot.tab> blastx_sprot.sql"
   ]
  },
  {
   "cell_type": "code",
   "execution_count": 13,
   "metadata": {
    "collapsed": false
   },
   "outputs": [
    {
     "name": "stdout",
     "output_type": "stream",
     "text": [
      "TRINITY_DN20713_c0_g1_i1\tsp\tP79386\tNR0B1_PIG\t28.57\t203\t125\t5\t2\t553\t262\t463\t9e-07\t54.7\r\n",
      "TRINITY_DN20713_c0_g1_i2\tsp\tP97947\tNR0B2_RAT\t30.94\t181\t119\t2\t26\t553\t74\t253\t1e-11\t68.2\r\n",
      "TRINITY_DN20713_c1_g1_i1\tsp\tQ66J63\tN2C1B_XENLA\t63.72\t441\t135\t10\t1304\t3\t25\t447\t0.0\t  533\r\n",
      "TRINITY_DN20713_c1_g2_i1\tsp\tQ26622\tSHR2_STRPU\t49.85\t343\t140\t9\t983\t3\t60\t386\t6e-97\t  305\r\n",
      "TRINITY_DN20706_c0_g1_i1\tsp\tQ9Y2R5\tRT17_HUMAN\t70.37\t135\t34\t1\t923\t519\t1\t129\t4e-60\t  195\r\n",
      "TRINITY_DN20742_c0_g3_i1\tsp\tQ7ZY18\tMC6ZB_XENLA\t79.67\t841\t140\t7\t74\t2551\t1\t825\t0.0\t 1338\r\n",
      "TRINITY_DN20780_c0_g1_i1\tsp\tO13035\tSAP_CHICK\t31.07\t338\t212\t10\t1443\t463\t191\t518\t5e-40\t  156\r\n",
      "TRINITY_DN20769_c0_g1_i2\tsp\tQ08BR4\tSTB1B_DANRE\t70.99\t162\t21\t4\t477\t1\t942\t1080\t1e-59\t  207\r\n",
      "TRINITY_DN20718_c0_g2_i1\tsp\tP00541\tFPS_AVISP\t67.09\t158\t52\t0\t961\t488\t371\t528\t2e-74\t  244\r\n",
      "TRINITY_DN20716_c0_g3_i2\tsp\tQ90977\tE2F1_CHICK\t55.84\t385\t146\t7\t599\t1738\t38\t403\t1e-119\t  374\r\n"
     ]
    }
   ],
   "source": [
    "!head blastx_sprot.sql"
   ]
  },
  {
   "cell_type": "code",
   "execution_count": 23,
   "metadata": {
    "collapsed": false
   },
   "outputs": [],
   "source": [
    "!sort -k3 blastx_sprot.sql > blastx_sprot.sort"
   ]
  },
  {
   "cell_type": "code",
   "execution_count": 26,
   "metadata": {
    "collapsed": false
   },
   "outputs": [
    {
     "name": "stdout",
     "output_type": "stream",
     "text": [
      "TRINITY_DN27127_c0_g1_i1\tsp\tA0A023PYD7\tYD87C_YEAST\t59.80\t102\t41\t0\t377\t72\t3\t104\t2e-17\t85.9\r\n",
      "TRINITY_DN67003_c0_g1_i1\tsp\tA0A8M2\tL14AA_XENLA\t79.87\t154\t22\t2\t470\t9\t1\t145\t3e-53\t  182\r\n",
      "TRINITY_DN37433_c0_g1_i1\tsp\tA0AAS4\tSMS1_PIG\t54.97\t171\t64\t4\t492\t4\t4\t169\t8e-52\t  177\r\n",
      "TRINITY_DN57186_c0_g1_i1\tsp\tA0AUP1\tCC112_MOUSE\t47.25\t91\t48\t0\t166\t438\t1\t91\t1e-19\t87.8\r\n",
      "TRINITY_DN60379_c0_g1_i1\tsp\tA0AUP1\tCC112_MOUSE\t73.33\t30\t8\t0\t3\t92\t411\t440\t6e-09\t55.5\r\n"
     ]
    }
   ],
   "source": [
    "!head -5 blastx_sprot.sort"
   ]
  },
  {
   "cell_type": "markdown",
   "metadata": {},
   "source": [
    "### downloading Swiss-prot information \"http://www.uniprot.org/uniprot/?query=reviewed%3ayes&force=yes&format=tab&columns=id,entry%20name,go-id,interactor,database(GO),go,reviewed,interpro,pathway,protein%20names,genes,tools,organism,length\""
   ]
  },
  {
   "cell_type": "code",
   "execution_count": 17,
   "metadata": {
    "collapsed": false
   },
   "outputs": [
    {
     "name": "stdout",
     "output_type": "stream",
     "text": [
      "Entry\tEntry name\tGene ontology IDs\tInteracts with\tCross-reference (GO)\tGene ontology (GO)\tStatus\tInterPro\tPathway\tProtein names\tGene names\tOrganism\tLength\r\n",
      "P42645\t14335_ARATH\tGO:0005524; GO:0005794; GO:0005618; GO:0005829; GO:0005739; GO:0005634; GO:0005886; GO:0046686\t\t\tcell wall [GO:0005618]; cytosol [GO:0005829]; Golgi apparatus [GO:0005794]; mitochondrion [GO:0005739]; nucleus [GO:0005634]; plasma membrane [GO:0005886]; ATP binding [GO:0005524]; response to cadmium ion [GO:0046686]\treviewed\tIPR000308; IPR023409; IPR023410; \t\t14-3-3-like protein GF14 upsilon (General regulatory factor 5)\tGRF5 At5g16050 F1N13_190\tArabidopsis thaliana (Mouse-ear cress)\t268\r\n"
     ]
    }
   ],
   "source": [
    "!head -2 /Users/sr320/git-repos/nb-2016/uniprot-reviewed.tab"
   ]
  },
  {
   "cell_type": "code",
   "execution_count": 29,
   "metadata": {
    "collapsed": false
   },
   "outputs": [],
   "source": [
    "!sort /Users/sr320/git-repos/nb-2016/uniprot-reviewed.tab > /Users/sr320/git-repos/nb-2016/uniprot-reviewed.sort"
   ]
  },
  {
   "cell_type": "code",
   "execution_count": 60,
   "metadata": {
    "collapsed": false
   },
   "outputs": [
    {
     "name": "stdout",
     "output_type": "stream",
     "text": [
      "awk: syntax error at source line 1\r\n",
      " context is\r\n",
      "\t >>>  <<< \r\n",
      "awk: illegal statement at source line 1\r\n",
      "\tmissing }\r\n"
     ]
    }
   ],
   "source": [
    "!awk -F\"  \" {print $9} /Users/sr320/git-repos/nb-2016/uniprot-reviewed.sort | head"
   ]
  },
  {
   "cell_type": "markdown",
   "metadata": {},
   "source": [
    "# notes"
   ]
  },
  {
   "cell_type": "markdown",
   "metadata": {},
   "source": [
    "<img src=\"http://eagle.fish.washington.edu/cnidarian/skitch/fish546-2015_Jay-join_ipynb_at_master_·_sr320_fish546-2015_1D4BB702.png\" alt=\"fish546-2015_Jay-join_ipynb_at_master_·_sr320_fish546-2015_1D4BB702.png\"/>"
   ]
  },
  {
   "cell_type": "code",
   "execution_count": 62,
   "metadata": {
    "collapsed": false
   },
   "outputs": [
    {
     "name": "stdout",
     "output_type": "stream",
     "text": [
      "A0A023PYD7\tTRINITY_DN27127_c0_g1_i1\tsp\tYD87C_YEAST\t59.80\t102\t41\t0\t377\t72\t3\t104\t2e-17\t85.9\tYD87C_YEAST\tGO:0016021\t\t\tintegral component of membrane [GO:0016021]\treviewed\t\t\tPutative uncharacterized membrane protein YDR187C\tYDR187C\tSaccharomyces cerevisiae (strain ATCC 204508 / S288c) (Baker's yeast)\t172\n",
      "A0A8M2\tTRINITY_DN67003_c0_g1_i1\tsp\tL14AA_XENLA\t79.87\t154\t22\t2\t470\t9\t1\t145\t3e-53\t  182\tL14AA_XENLA\tGO:0017151; GO:0003723; GO:0005737; GO:0030529; GO:0007275; GO:0017148; GO:0043234\t\t\tcytoplasm [GO:0005737]; intracellular ribonucleoprotein complex [GO:0030529]; protein complex [GO:0043234]; DEAD/H-box RNA helicase binding [GO:0017151]; RNA binding [GO:0003723]; multicellular organism development [GO:0007275]; negative regulation of translation [GO:0017148]\treviewed\tIPR025762; IPR019050; IPR025761; IPR025609; IPR010920; IPR025768; \t\tProtein LSM14 homolog A-A (RNA-associated protein 55A-A) (RAP55A-A) (xRAP55) (xRAP55A)\tlsm14a-a lsm14a rap55a-a\tXenopus laevis (African clawed frog)\t471\n",
      "A0AAS4\tTRINITY_DN37433_c0_g1_i1\tsp\tSMS1_PIG\t54.97\t171\t64\t4\t492\t4\t4\t169\t8e-52\t  177\tSMS1_PIG\tGO:0000139; GO:0006915; GO:0016021; GO:0016301; GO:0006665; GO:0033188\t\t\tGolgi membrane [GO:0000139]; integral component of membrane [GO:0016021]; kinase activity [GO:0016301]; sphingomyelin synthase activity [GO:0033188]; apoptotic process [GO:0006915]; sphingolipid metabolic process [GO:0006665]\treviewed\tIPR001660; IPR013761; IPR025749; \t\tPhosphatidylcholine:ceramide cholinephosphotransferase 1 (EC 2.7.8.27) (Sphingomyelin synthase 1)\tSGMS1 SMS1\tSus scrofa (Pig)\t418\n",
      "A0AUP1\tTRINITY_DN57186_c0_g1_i1\tsp\tCC112_MOUSE\t47.25\t91\t48\t0\t166\t438\t1\t91\t1e-19\t87.8\tCC112_MOUSE\t\t\t\t\treviewed\t\t\tCoiled-coil domain-containing protein 112\tCcdc112\tMus musculus (Mouse)\t442\n",
      "A0AUP1\tTRINITY_DN60379_c0_g1_i1\tsp\tCC112_MOUSE\t73.33\t30\t8\t0\t3\t92\t411\t440\t6e-09\t55.5\tCC112_MOUSE\t\t\t\t\treviewed\t\t\tCoiled-coil domain-containing protein 112\tCcdc112\tMus musculus (Mouse)\t442\n",
      "A0AUR5\tTRINITY_DN23739_c0_g1_i1\tsp\tF188A_DANRE\t74.68\t308\t73\t3\t815\t1735\t1\t304\t2e-160\t  473\tF188A_DANRE\tGO:0006915; GO:0005634\t\t\tnucleus [GO:0005634]; apoptotic process [GO:0006915]\treviewed\tIPR025257; IPR011992; \t\tProtein FAM188A (Protein CARP)\tfam188a carp zgc:153892\tDanio rerio (Zebrafish) (Brachydanio rerio)\t446\n",
      "A0AUS0\tTRINITY_DN28912_c0_g1_i1\tsp\tWSDU1_DANRE\t66.00\t100\t34\t0\t301\t2\t333\t432\t9e-37\t  135\tWSDU1_DANRE\tGO:0004842\t\t\tubiquitin-protein transferase activity [GO:0004842]\treviewed\tIPR020472; IPR001660; IPR013761; IPR003613; IPR015943; IPR001680; IPR019775; IPR017986; IPR013083; \t\tWD repeat, SAM and U-box domain-containing protein 1\twdsub1 zgc:154085\tDanio rerio (Zebrafish) (Brachydanio rerio)\t487\n",
      "A0AUS0\tTRINITY_DN50599_c0_g1_i1\tsp\tWSDU1_DANRE\t68.91\t119\t37\t0\t416\t60\t201\t319\t6e-50\t  174\tWSDU1_DANRE\tGO:0004842\t\t\tubiquitin-protein transferase activity [GO:0004842]\treviewed\tIPR020472; IPR001660; IPR013761; IPR003613; IPR015943; IPR001680; IPR019775; IPR017986; IPR013083; \t\tWD repeat, SAM and U-box domain-containing protein 1\twdsub1 zgc:154085\tDanio rerio (Zebrafish) (Brachydanio rerio)\t487\n",
      "A0AUS0\tTRINITY_DN10758_c0_g1_i1\tsp\tWSDU1_DANRE\t71.43\t42\t12\t0\t2\t127\t155\t196\t4e-13\t70.9\tWSDU1_DANRE\tGO:0004842\t\t\tubiquitin-protein transferase activity [GO:0004842]\treviewed\tIPR020472; IPR001660; IPR013761; IPR003613; IPR015943; IPR001680; IPR019775; IPR017986; IPR013083; \t\tWD repeat, SAM and U-box domain-containing protein 1\twdsub1 zgc:154085\tDanio rerio (Zebrafish) (Brachydanio rerio)\t487\n",
      "A0AUS0\tTRINITY_DN159_c0_g1_i1\tsp\tWSDU1_DANRE\t71.59\t88\t25\t0\t6\t269\t400\t487\t2e-34\t  135\tWSDU1_DANRE\tGO:0004842\t\t\tubiquitin-protein transferase activity [GO:0004842]\treviewed\tIPR020472; IPR001660; IPR013761; IPR003613; IPR015943; IPR001680; IPR019775; IPR017986; IPR013083; \t\tWD repeat, SAM and U-box domain-containing protein 1\twdsub1 zgc:154085\tDanio rerio (Zebrafish) (Brachydanio rerio)\t487\n",
      "join: stdout: Broken pipe\n"
     ]
    }
   ],
   "source": [
    "!join -t $'\\t' -1 3 -2 1 \\\n",
    "blastx_sprot.sort \\\n",
    "/Users/sr320/git-repos/nb-2016/uniprot-reviewed.sort | head\n"
   ]
  },
  {
   "cell_type": "code",
   "execution_count": 31,
   "metadata": {
    "collapsed": true
   },
   "outputs": [],
   "source": [
    "!join -1 3 -2 1 \\\n",
    "blastx_sprot.sort \\\n",
    "/Users/sr320/git-repos/nb-2016/uniprot-reviewed.sort\n",
    "> blastx-join-uniprot-info.tab"
   ]
  },
  {
   "cell_type": "code",
   "execution_count": 33,
   "metadata": {
    "collapsed": false
   },
   "outputs": [
    {
     "name": "stdout",
     "output_type": "stream",
     "text": [
      "A0A023PYD7 TRINITY_DN27127_c0_g1_i1 sp YD87C_YEAST 59.80 102 41 0 377 72 3 104 2e-17 85.9 YD87C_YEAST GO:0016021 integral component of membrane [GO:0016021] reviewed Putative uncharacterized membrane protein YDR187C YDR187C Saccharomyces cerevisiae (strain ATCC 204508 / S288c) (Baker's yeast) 172\r\n"
     ]
    }
   ],
   "source": [
    "!head -1 blastx-join-uniprot-info.tab"
   ]
  },
  {
   "cell_type": "code",
   "execution_count": 36,
   "metadata": {
    "collapsed": false
   },
   "outputs": [
    {
     "name": "stdout",
     "output_type": "stream",
     "text": [
      "TRINITY_DN27127_c0_g1_i1 \t component\n",
      "TRINITY_DN67003_c0_g1_i1 \t GO:0005737;\n",
      "TRINITY_DN37433_c0_g1_i1 \t GO:0016021;\n",
      "TRINITY_DN57186_c0_g1_i1 \t domain-containing\n",
      "TRINITY_DN60379_c0_g1_i1 \t domain-containing\n",
      "TRINITY_DN23739_c0_g1_i1 \t nucleus\n",
      "TRINITY_DN28912_c0_g1_i1 \t transferase\n",
      "TRINITY_DN50599_c0_g1_i1 \t transferase\n",
      "TRINITY_DN10758_c0_g1_i1 \t transferase\n",
      "TRINITY_DN159_c0_g1_i1 \t transferase\n",
      "awk: write error on /dev/stdout\n",
      " input record number 854, file \n",
      " source line number 1\n",
      "join: stdout: Broken pipe\n"
     ]
    }
   ],
   "source": [
    "!join -1 3 -2 1 \\\n",
    "blastx_sprot.sort \\\n",
    "/Users/sr320/git-repos/nb-2016/uniprot-reviewed.sort | awk '{print $2, \"\\t\", $18}' | head"
   ]
  },
  {
   "cell_type": "code",
   "execution_count": null,
   "metadata": {
    "collapsed": true
   },
   "outputs": [],
   "source": []
  }
 ],
 "metadata": {
  "kernelspec": {
   "display_name": "Python 2",
   "language": "python",
   "name": "python2"
  },
  "language_info": {
   "codemirror_mode": {
    "name": "ipython",
    "version": 2
   },
   "file_extension": ".py",
   "mimetype": "text/x-python",
   "name": "python",
   "nbconvert_exporter": "python",
   "pygments_lexer": "ipython2",
   "version": "2.7.11"
  }
 },
 "nbformat": 4,
 "nbformat_minor": 0
}
