{
 "cells": [
  {
   "cell_type": "code",
   "execution_count": 2,
   "metadata": {
    "collapsed": false
   },
   "outputs": [
    {
     "name": "stdout",
     "output_type": "stream",
     "text": [
      "#!/usr/bin/env perl\r\n",
      "#\r\n",
      "#\tfixStepToBedGraph.pl - read fixedStep and variableStep wiggle input data,\r\n",
      "#\t\toutput four column bedGraph format data\r\n",
      "#\r\n",
      "#\tused thusly:\r\n",
      "#\tzcat fixedStepData.gz | ./fixStepToBedGraph.pl \\\r\n",
      "#\t\t| gzip > bedGraph.gz\r\n",
      "\r\n",
      "#\t$Id: fixStepToBedGraph.pl,v 1.3 2008/03/05 18:42:01 kate Exp $\r\n"
     ]
    }
   ],
   "source": [
    "!head ../scripts/fixsteptobedgraph.pl"
   ]
  },
  {
   "cell_type": "code",
   "execution_count": 3,
   "metadata": {
    "collapsed": false
   },
   "outputs": [
    {
     "name": "stdout",
     "output_type": "stream",
     "text": [
      "usage: fixStepToBedGraph.pl\r\n",
      "\trun in a pipeline like this:\r\n",
      "usage: zcat fixedStepData.gz | fixStepToBedGraph.pl | gzip > bedGraph.gz\r\n",
      "reading input data from stdin ...\r\n",
      "Skipping track line\r\n",
      "Use of uninitialized value $ident in pattern match (m//) at ../scripts/fixsteptobedgraph.pl line 43, <> line 2.\r\n",
      "Use of uninitialized value $ident in pattern match (m//) at ../scripts/fixsteptobedgraph.pl line 44, <> line 2.\r\n",
      "Use of uninitialized value $ident in pattern match (m//) at ../scripts/fixsteptobedgraph.pl line 45, <> line 2.\r\n",
      "Use of uninitialized value $ident in pattern match (m//) at ../scripts/fixsteptobedgraph.pl line 46, <> line 2.\r\n",
      "ERROR: unrecognized fixedStep line: fixedStep  chrom=NC_027300.1 start=1 step=313542 span=313542\r\n",
      "cat: stdout: Broken pipe\r\n"
     ]
    }
   ],
   "source": [
    "!cat /Volumes/web-1/halfshell/working-directory/16-05-13/Filter3_lncRNA_21065\\ \\(Read\\ coverage\\).wig | perl ../scripts/fixsteptobedgraph.pl"
   ]
  },
  {
   "cell_type": "code",
   "execution_count": 4,
   "metadata": {
    "collapsed": false
   },
   "outputs": [
    {
     "data": {
      "text/plain": [
       "u'/Users/sr320/git-repos/nb-2016/S_salar'"
      ]
     },
     "execution_count": 4,
     "metadata": {},
     "output_type": "execute_result"
    }
   ],
   "source": [
    "pwd"
   ]
  },
  {
   "cell_type": "code",
   "execution_count": 5,
   "metadata": {
    "collapsed": false
   },
   "outputs": [
    {
     "name": "stdout",
     "output_type": "stream",
     "text": [
      "Getting Genome.ipynb       lncRNA-BLAST-genome.ipynb\r\n",
      "Tracks.ipynb\r\n"
     ]
    }
   ],
   "source": [
    "ls"
   ]
  },
  {
   "cell_type": "code",
   "execution_count": 8,
   "metadata": {
    "collapsed": false
   },
   "outputs": [
    {
     "name": "stdout",
     "output_type": "stream",
     "text": [
      "usage: fixStepToBedGraph.pl\r\n",
      "\trun in a pipeline like this:\r\n",
      "usage: zcat fixedStepData.gz | fixStepToBedGraph.pl | gzip > bedGraph.gz\r\n",
      "reading input data from stdin ...\r\n",
      "Skipping track line\r\n",
      "Use of uninitialized value $ident in pattern match (m//) at ../scripts/fixsteptobedgraph.pl line 43, <> line 2.\r\n",
      "Use of uninitialized value $ident in pattern match (m//) at ../scripts/fixsteptobedgraph.pl line 44, <> line 2.\r\n",
      "Use of uninitialized value $ident in pattern match (m//) at ../scripts/fixsteptobedgraph.pl line 45, <> line 2.\r\n",
      "Use of uninitialized value $ident in pattern match (m//) at ../scripts/fixsteptobedgraph.pl line 46, <> line 2.\r\n",
      "ERROR: unrecognized fixedStep line: fixedStep  chrom=NC_027300.1 start=1 step=313542 span=313542\r\n"
     ]
    }
   ],
   "source": [
    "!perl ../scripts/fixsteptobedgraph.pl /Volumes/web-1/halfshell/working-directory/16-05-13/Filter3_lncRNA_21065\\ \\(Read\\ coverage\\).wig"
   ]
  },
  {
   "cell_type": "code",
   "execution_count": 9,
   "metadata": {
    "collapsed": true
   },
   "outputs": [],
   "source": [
    "#bam to bed"
   ]
  },
  {
   "cell_type": "code",
   "execution_count": 10,
   "metadata": {
    "collapsed": false
   },
   "outputs": [
    {
     "name": "stdout",
     "output_type": "stream",
     "text": [
      "\u001f�\b\u0004\u0000\u0000\u0000\u0000\u0000�\u0006\u0000BC\u0002\u0000\u001a7�}\u000b",
      "еG]��}�\u0012\u0012H���&,\b�]W�2@�y���\"��.����\b\u0019\u001d",
      "Ж�\u0004--��Xz�]ֺ�ԉ\r\n",
      "�V*��Q\u0014k����3Q\u0019p�M:ut�i�Xk��\u000b",
      "���x���s�7��]Λ�@�/9�^�9��<�������\u001b��N\\qj\u0018��t՗�t��\u0005��^��\u001bo���7��7~՛_��3��ҫ^yӍ7��5������\u0005�\u0004��\u001c",
      "̶��\u0016\u0007篟/��m\u001d",
      ",�����Wo-W\u001fl�̶\u0017[���^����>؟mm��z1�����w�_�3�ޛ-���{��]���������9��r���b{1�����\u000b",
      "_���[��\u000b",
      "��`Z?ߝo����?�n���������+�O��`��?;��:�t�泽�����\u000b",
      "�o\u001f\u001e",
      "�`6߿���\u0017��o\u001f�n/�Ͽs���\u001e",
      "�_x��;������}���Owno�{����/\u0012��Çz��?߾��Ӎ���;�988��[�ç6ۚ/.x�[�}�Um��\u0007�_��t�\u0016\u0007�8������m[����\u000e.\u0010�����q�\u0017����b�`6;�9��oMwm�\r",
      "U����z�kx\"�{q��Mwm����ކ���W}Q������;v��7����ݯ�?����k�����}5�r����z��n��׽�ͯ}��k^���_qSx��|F��y<ƌ������n����_�׼��w��u��[n{�a�\u001aG�}x������.�\u001d",
      "\u001f^s�N\u001d",
      "]��<�o|��G���\u000e/��?<g;��!���,�]\u001c",
      "��y�s�ŭ\u001b�����2ܯ�w_��'�.�M\u001a>�+�t��e���\u0019���8���7�廾��wP㆓���Y������s��u|�?��/��y_�u�v���~�\u000b",
      "�َ����u�:�-ß����{@\u0015\u0019n���y�2^����\u001d",
      "=\u001e",
      "�a��˾���\u0001���\u000f���ױ���s��2^ǃ���s��:����9��:��s�v��y��s��:f/��s��:�ݗ���ur\u0018ۇ~����\u0017~��|8=|��a��Ը��w��ͯ���l\u0017�|>��\u001e",
      "s,�\u0019���6\f",
      "��$K(>���Ǯ�O��\u0015�?�\u001f�9\u001f?�iǴW��Տ�6\r",
      "7��O|�$\u001e",
      "/�;WB<���d\f",
      "��\u0010\u000f�����u�`[(Ѫj�N>Eۢ\u000f�Vi�\t��\t����𹛔Bo�I]dϾ�\b�\u0011\u0005��\r\n",
      "B\u0018�{�J�n�,���s\u0016:\u0007�T�Be蘿��VZ�=�֬K��l�\u000f�2\u0016\u001b\u001c",
      "G�U�\u001e",
      "��\u001c",
      "w�6�ѵu��/.[���N��t��\u0017���|�\u0017�-��!}w�������<\f",
      "[x�����\u0003���>�Y���^o��ߋ?�����n�^g�S�k�zc�T�D\u0018����j��j_�j�Ԉj�G~�(F����M\r\n",
      "ս���iy\u001c",
      "�y�B�Tm�5\t�(Z6\"��5]��VJ-^��3�L���T\bIȂ+�\u0011J�5v�r��Ե=�aoڦ���Q��:�T�W�f������\u000e\u0017W���|wx�I�p�&��*�J���6k��\u0010��kO��R�����=4'7|��W\u000f�\u0016�j��HP���R�\u001ag�,�g����7�M顕Tt���#��]�w\u001fw�x[��-&d .�\r\n",
      "��\r",
      "\u0012�e��\u0015�`�u�?\u001b>�%_��3OZZ�ӓ�\u001d",
      "`�S-\u001a\u0000�JeLN^��,�3�`Q�`�E6:<�=�P+\u0016�>�Vmڑ���\\3y�w��)����Sx�\u000b",
      "���`wq0��򥠐t���\u001c",
      "6H\u0001_B(-ã%-\r\n",
      "�uV\u0005�\u0012>9�-�f\u0004�u�P{`>�sU!�RbOX(��KP\u0016fCz%{jަbc����L\b\u0001P�4Y\u0012�))n�z7�W�zH՘�-|9\u0000��\r",
      ".\\��s����\u001e",
      "0D97m�G\u0010\u000f}6�|ܭ޴K���\u0010�\u0014����P����`\u0018�\r\n",
      "\b�='�z7����apP�����,�l��,-�H+���\u0016\u0001\u0006)n��\u0010\u0005\u0000])Y�\u0000ħMSB8�Ml\u0014�<Z\b\u000f��U���\u0003*:a�\u0017�F\u0007�U�Y\u0018�H��(\u0004D^�&|��\u0002�RZ8��Z�=�a|���S}�7��\u000e'me\u0006��2|+>gg3���\u0015\b\\�\u0010�k�:�lڦ����?<\u0001�\u001f���A?�u��}�\r\n",
      "���?ؙ\u000f�`�]�\u0012���0,���W\u00068�.!�M@��^��Z�1>��+�X��D\u0000W�tW\u001a\u001c",
      "\u0012�N}�\r\n",
      "\u001aX��pa�@+L):\u001b��5AI兎d��3ڃ\u0002�&�eU0�W�I�\btܺ�F��m�ۤ�`��\"Ӏ��\u0012<�5\u0016����D\u0007U�ś\"�����ضud��]���_�/\u0012���\u0011\\�r٪p����0{�RN�U�p\u0007��Ԕ�,\u0018��l�x�3����\t�V�A\"Sh�\u0018��\u0006ܕ�ziA�E\u0005�U��E ��+|U��U\r\n",
      "\u001e",
      "��\u0002�S��\u0012\u0000�E�UQ)�}+�\u000b",
      "�8��^\u0019� V�\u0004�Z��j&C,m�1�\u0010\f",
      "����2*��S`�\u0003�+�I�V��^���\r",
      "���[�թ��\r",
      "h��.��o\f",
      "�H�{\u001a��Z�?�(p`���Xqy\u001d",
      "�䫍N\u0007++�=-K�-|���;)��\r\n"
     ]
    }
   ],
   "source": [
    "!head /Volumes/web-1/halfshell/working-directory/16-05-13/Filter3_lncRNA_21065\\ \\(Reads\\).bam"
   ]
  },
  {
   "cell_type": "code",
   "execution_count": 13,
   "metadata": {
    "collapsed": false
   },
   "outputs": [
    {
     "name": "stdout",
     "output_type": "stream",
     "text": [
      "\r\n",
      "Tool:    bedtools bamtobed (aka bamToBed)\r\n",
      "Version: v2.22.0\r\n",
      "Summary: Converts BAM alignments to BED6 or BEDPE format.\r\n",
      "\r\n",
      "Usage:   bedtools bamtobed [OPTIONS] -i <bam> \r\n",
      "\r\n",
      "Options: \r\n",
      "\t-bedpe\tWrite BEDPE format.\r\n",
      "\t\t- Requires BAM to be grouped or sorted by query.\r\n",
      "\r\n",
      "\t-mate1\tWhen writing BEDPE (-bedpe) format, \r\n",
      "\t\talways report mate one as the first BEDPE \"block\".\r\n",
      "\r\n",
      "\t-bed12\tWrite \"blocked\" BED format (aka \"BED12\"). Forces -split.\r\n",
      "\r\n",
      "\t\thttp://genome-test.cse.ucsc.edu/FAQ/FAQformat#format1\r\n",
      "\r\n",
      "\t-split\tReport \"split\" BAM alignments as separate BED entries.\r\n",
      "\t\tSplits only on N CIGAR operations.\r\n",
      "\r\n",
      "\t-splitD\tSplit alignments based on N and D CIGAR operators.\r\n",
      "\t\tForces -split.\r\n",
      "\r\n",
      "\t-ed\tUse BAM edit distance (NM tag) for BED score.\r\n",
      "\t\t- Default for BED is to use mapping quality.\r\n",
      "\t\t- Default for BEDPE is to use the minimum of\r\n",
      "\t\t  the two mapping qualities for the pair.\r\n",
      "\t\t- When -ed is used with -bedpe, the total edit\r\n",
      "\t\t  distance from the two mates is reported.\r\n",
      "\r\n",
      "\t-tag\tUse other NUMERIC BAM alignment tag for BED score.\r\n",
      "\t\t- Default for BED is to use mapping quality.\r\n",
      "\t\t  Disallowed with BEDPE output.\r\n",
      "\r\n",
      "\t-color\tAn R,G,B string for the color used with BED12 format.\r\n",
      "\t\tDefault is (255,0,0).\r\n",
      "\r\n",
      "\t-cigar\tAdd the CIGAR string to the BED entry as a 7th column.\r\n",
      "\r\n"
     ]
    }
   ],
   "source": [
    "!bedtools bamtobed -h"
   ]
  },
  {
   "cell_type": "code",
   "execution_count": 18,
   "metadata": {
    "collapsed": false
   },
   "outputs": [],
   "source": [
    "!bedtools bamtobed \\\n",
    "-i /Volumes/web-1/halfshell/working-directory/16-05-13/Filter3_lncRNA_21065\\ \\(Reads\\).bam \\\n",
    "> lncRNA_21065.bed"
   ]
  },
  {
   "cell_type": "code",
   "execution_count": 19,
   "metadata": {
    "collapsed": false
   },
   "outputs": [
    {
     "name": "stdout",
     "output_type": "stream",
     "text": [
      "NC_027300.1\t313542\t313823\tContig0068051\t60\t-\r\n",
      "NC_027300.1\t548156\t548496\tContig0004373\t60\t+\r\n",
      "NC_027300.1\t548209\t548751\tContig0014706\t60\t-\r\n",
      "NC_027300.1\t548691\t548925\tContig0070168\t60\t+\r\n",
      "NC_027300.1\t591121\t591415\tContig0012980\t60\t+\r\n",
      "NC_027300.1\t765087\t765443\tContig0019649\t60\t+\r\n",
      "NC_027300.1\t956068\t956524\tContig0031373\t60\t-\r\n",
      "NC_027300.1\t1018791\t1019162\tContig0048951\t60\t-\r\n",
      "NC_027300.1\t1237962\t1238759\tContig0014959\t60\t+\r\n",
      "NC_027300.1\t1259786\t1260125\tContig0059637\t60\t+\r\n"
     ]
    }
   ],
   "source": [
    "!head lncRNA_21065.bed"
   ]
  },
  {
   "cell_type": "code",
   "execution_count": 21,
   "metadata": {
    "collapsed": false
   },
   "outputs": [
    {
     "name": "stdout",
     "output_type": "stream",
     "text": [
      "\r\n",
      "Tool:    bedtools closest (aka closestBed)\r\n",
      "Version: v2.22.0\r\n",
      "Summary: For each feature in A, finds the closest \r\n",
      "\t feature (upstream or downstream) in B.\r\n",
      "\r\n",
      "Usage:   bedtools closest [OPTIONS] -a <bed/gff/vcf> -b <bed/gff/vcf>\r\n",
      "\r\n",
      "Options: \r\n",
      "\t-s\tReq. same strandedness.  That is, find the closest feature in\r\n",
      "\t\tB that overlaps A on the _same_ strand.\r\n",
      "\t\t- By default, overlaps are reported without respect to strand.\r\n",
      "\r\n",
      "\t-S\tReq. opposite strandedness.  That is, find the closest feature\r\n",
      "\t\tin B that overlaps A on the _opposite_ strand.\r\n",
      "\t\t- By default, overlaps are reported without respect to strand.\r\n",
      "\r\n",
      "\t-d\tIn addition to the closest feature in B, \r\n",
      "\t\treport its distance to A as an extra column.\r\n",
      "\t\t- The reported distance for overlapping features will be 0.\r\n",
      "\r\n",
      "\t-D\tLike -d, report the closest feature in B, and its distance to A\r\n",
      "\t\tas an extra column. Unlike -d, use negative distances to report\r\n",
      "\t\tupstream features.\r\n",
      "\t\tThe options for defining which orientation is \"upstream\" are:\r\n",
      "\t\t- \"ref\"   Report distance with respect to the reference genome. \r\n",
      "\t\t            B features with a lower (start, stop) are upstream\r\n",
      "\t\t- \"a\"     Report distance with respect to A.\r\n",
      "\t\t            When A is on the - strand, \"upstream\" means B has a\r\n",
      "\t\t            higher (start,stop).\r\n",
      "\t\t- \"b\"     Report distance with respect to B.\r\n",
      "\t\t            When B is on the - strand, \"upstream\" means A has a\r\n",
      "\t\t            higher (start,stop).\r\n",
      "\r\n",
      "\t-io\tIgnore features in B that overlap A.  That is, we want close,\r\n",
      "\t\tyet not touching features only.\r\n",
      "\r\n",
      "\t-iu\tIgnore features in B that are upstream of features in A.\r\n",
      "\t\tThis option requires -D and follows its orientation\r\n",
      "\t\trules for determining what is \"upstream\".\r\n",
      "\t-id\tIgnore features in B that are downstream of features in A.\r\n",
      "\t\tThis option requires -D and follows its orientation\r\n",
      "\t\trules for determining what is \"downstream\".\r\n",
      "\t-t\tHow ties for closest feature are handled.  This occurs when two\r\n",
      "\t\tfeatures in B have exactly the same \"closeness\" with A.\r\n",
      "\t\tBy default, all such features in B are reported.\r\n",
      "\t\tHere are all the options:\r\n",
      "\t\t- \"all\"    Report all ties (default).\r\n",
      "\t\t- \"first\"  Report the first tie that occurred in the B file.\r\n",
      "\t\t- \"last\"   Report the last tie that occurred in the B file.\r\n",
      "\r\n",
      "\t-mdb\tHow multiple databases are resolved.\r\n",
      "\t\t- \"each\"    Report closest records for each database (default).\r\n",
      "\t\t- \"all\"  Report closest records among all databases.\r\n",
      "\r\n",
      "\t-N\tRequire that the query and the closest hit have different names.\r\n",
      "\t\tFor BED, the 4th column is compared.\r\n",
      "\r\n",
      "\t-header\tPrint the header from the A file prior to results.\r\n",
      "\r\n",
      "Notes: \r\n",
      "\tReports \"none\" for chrom and \"-1\" for all other fields when a feature\r\n",
      "\tis not found in B on the same chromosome as the feature in A.\r\n",
      "\tE.g. none\t-1\t-1\r\n",
      "\r\n"
     ]
    }
   ],
   "source": [
    "!bedtools closest"
   ]
  },
  {
   "cell_type": "code",
   "execution_count": 26,
   "metadata": {
    "collapsed": false
   },
   "outputs": [],
   "source": [
    "!bedtools closest \\\n",
    "-d \\\n",
    "-a /Users/sr320/git-repos/nb-2016/S_salar/lncRNA_21065.bed \\\n",
    "-b /Volumes/web-1/halfshell/working-directory/16-05-13/GCF_000233375.1_ICSASG_v2_genomic.sorted.gff \\\n",
    "> closest.txt"
   ]
  },
  {
   "cell_type": "code",
   "execution_count": 28,
   "metadata": {
    "collapsed": false
   },
   "outputs": [
    {
     "name": "stdout",
     "output_type": "stream",
     "text": [
      "##gff-version 3\r\n",
      "#!gff-spec-version 1.21\r\n",
      "#!processor NCBI annotwriter\r\n",
      "#!genome-build ICSASG_v2\r\n",
      "#!genome-build-accession NCBI_Assembly:GCF_000233375.1\r\n",
      "##sequence-region NC_027300.1 1 159038749\r\n",
      "##species http://www.ncbi.nlm.nih.gov/Taxonomy/Browser/wwwtax.cgi?id=8030\r\n",
      "NC_001960.1\tRefSeq\tregion\t1\t16665\t.\t+\t.\tID=id1545623;Dbxref=taxon:8030;Is_circular=true;Name=MT;cell-type=hepatocyte;clone=CH52%3B CH14%3B CH33%3B CH526;dev-stage=adult;gbkey=Src;genome=mitochondrion;mol_type=genomic DNA;tissue-type=liver\r\n",
      "NC_001960.1\tRefSeq\tD_loop\t1\t1006\t.\t+\t.\tID=id1545624;Note=control region;gbkey=D-loop\r\n",
      "NC_001960.1\tRefSeq\ttRNA\t1007\t1074\t.\t+\t.\tID=rna133438;anticodon=(pos:1037..1039);gbkey=tRNA;product=tRNA-Phe\r\n",
      "NC_001960.1\tRefSeq\texon\t1007\t1074\t.\t+\t.\tID=id1545625;Parent=rna133438;anticodon=(pos:1037..1039);gbkey=tRNA;product=tRNA-Phe\r\n",
      "NC_001960.1\tRefSeq\trRNA\t1075\t2020\t.\t+\t.\tID=rna133439;gbkey=rRNA;product=12S ribosomal RNA\r\n",
      "NC_001960.1\tRefSeq\texon\t1075\t2020\t.\t+\t.\tID=id1545626;Parent=rna133439;gbkey=rRNA;product=12S ribosomal RNA\r\n",
      "NC_001960.1\tRefSeq\ttRNA\t2021\t2092\t.\t+\t.\tID=rna133440;anticodon=(pos:2054..2056);gbkey=tRNA;product=tRNA-Val\r\n",
      "NC_001960.1\tRefSeq\texon\t2021\t2092\t.\t+\t.\tID=id1545627;Parent=rna133440;anticodon=(pos:2054..2056);gbkey=tRNA;product=tRNA-Val\r\n",
      "NC_001960.1\tRefSeq\trRNA\t2093\t3770\t.\t+\t.\tID=rna133441;gbkey=rRNA;product=16S ribosomal RNA\r\n",
      "NC_001960.1\tRefSeq\texon\t2093\t3770\t.\t+\t.\tID=id1545628;Parent=rna133441;gbkey=rRNA;product=16S ribosomal RNA\r\n",
      "NC_001960.1\tRefSeq\ttRNA\t3771\t3845\t.\t+\t.\tID=rna133442;anticodon=(pos:3806..3808);codons=2%2C3;gbkey=tRNA;product=tRNA-Leu\r\n",
      "NC_001960.1\tRefSeq\texon\t3771\t3845\t.\t+\t.\tID=id1545629;Parent=rna133442;anticodon=(pos:3806..3808);codons=2%2C3;gbkey=tRNA;product=tRNA-Leu\r\n",
      "NC_001960.1\tRefSeq\tgene\t3846\t4820\t.\t+\t.\tID=gene81573;Dbxref=GeneID:808311;Name=ND1;gbkey=Gene;gene=ND1;gene_biotype=protein_coding;gene_synonym=NADH-1\r\n",
      "NC_001960.1\tRefSeq\tCDS\t3846\t4820\t.\t+\t0\tID=cds97907;Parent=gene81573;Dbxref=Genbank:NP_008445.1,GeneID:808311;Name=NP_008445.1;gbkey=CDS;gene=ND1;product=NADH dehydrogenase subunit 1;protein_id=NP_008445.1;transl_table=2\r\n",
      "NC_001960.1\tRefSeq\ttRNA\t4828\t4899\t.\t+\t.\tID=rna133443;anticodon=(pos:4860..4862);gbkey=tRNA;product=tRNA-Ile\r\n",
      "NC_001960.1\tRefSeq\texon\t4828\t4899\t.\t+\t.\tID=id1545630;Parent=rna133443;anticodon=(pos:4860..4862);gbkey=tRNA;product=tRNA-Ile\r\n",
      "NC_001960.1\tRefSeq\ttRNA\t4897\t4967\t.\t-\t.\tID=rna133444;anticodon=(pos:complement(4933..4935));gbkey=tRNA;product=tRNA-Gln\r\n",
      "NC_001960.1\tRefSeq\texon\t4897\t4967\t.\t-\t.\tID=id1545631;Parent=rna133444;anticodon=(pos:complement(4933..4935));gbkey=tRNA;product=tRNA-Gln\r\n",
      "NC_001960.1\tRefSeq\ttRNA\t4967\t5035\t.\t+\t.\tID=rna133445;anticodon=(pos:4997..4999);gbkey=tRNA;product=tRNA-Met\r\n",
      "NC_001960.1\tRefSeq\texon\t4967\t5035\t.\t+\t.\tID=id1545632;Parent=rna133445;anticodon=(pos:4997..4999);gbkey=tRNA;product=tRNA-Met\r\n",
      "NC_001960.1\tRefSeq\tgene\t5036\t6085\t.\t+\t.\tID=gene81574;Dbxref=GeneID:808316;Name=ND2;gbkey=Gene;gene=ND2;gene_biotype=protein_coding;gene_synonym=NADH-2\r\n",
      "NC_001960.1\tRefSeq\tCDS\t5036\t6085\t.\t+\t0\tID=cds97908;Parent=gene81574;Dbxref=Genbank:NP_008446.1,GeneID:808316;Name=NP_008446.1;gbkey=CDS;gene=ND2;product=NADH dehydrogenase subunit 2;protein_id=NP_008446.1;transl_table=2\r\n",
      "NC_001960.1\tRefSeq\ttRNA\t6088\t6156\t.\t+\t.\tID=rna133446;anticodon=(pos:6120..6122);gbkey=tRNA;product=tRNA-Trp\r\n",
      "NC_001960.1\tRefSeq\texon\t6088\t6156\t.\t+\t.\tID=id1545633;Parent=rna133446;anticodon=(pos:6120..6122);gbkey=tRNA;product=tRNA-Trp\r\n",
      "NC_001960.1\tRefSeq\ttRNA\t6160\t6228\t.\t-\t.\tID=rna133447;anticodon=(pos:complement(6196..6198));gbkey=tRNA;product=tRNA-Ala\r\n",
      "NC_001960.1\tRefSeq\texon\t6160\t6228\t.\t-\t.\tID=id1545634;Parent=rna133447;anticodon=(pos:complement(6196..6198));gbkey=tRNA;product=tRNA-Ala\r\n",
      "NC_001960.1\tRefSeq\ttRNA\t6230\t6302\t.\t-\t.\tID=rna133448;anticodon=(pos:complement(6267..6269));gbkey=tRNA;product=tRNA-Asn\r\n",
      "NC_001960.1\tRefSeq\texon\t6230\t6302\t.\t-\t.\tID=id1545635;Parent=rna133448;anticodon=(pos:complement(6267..6269));gbkey=tRNA;product=tRNA-Asn\r\n",
      "NC_001960.1\tRefSeq\tregion\t6303\t6336\t.\t-\t.\tID=id1545636;Note=origin of L-strand replication%3B OriL;gbkey=rep_origin\r\n",
      "NC_001960.1\tRefSeq\ttRNA\t6337\t6403\t.\t-\t.\tID=rna133449;anticodon=(pos:complement(6373..6375));gbkey=tRNA;product=tRNA-Cys\r\n",
      "NC_001960.1\tRefSeq\texon\t6337\t6403\t.\t-\t.\tID=id1545637;Parent=rna133449;anticodon=(pos:complement(6373..6375));gbkey=tRNA;product=tRNA-Cys\r\n",
      "NC_001960.1\tRefSeq\ttRNA\t6404\t6474\t.\t-\t.\tID=rna133450;anticodon=(pos:complement(6440..6442));gbkey=tRNA;product=tRNA-Tyr\r\n",
      "NC_001960.1\tRefSeq\texon\t6404\t6474\t.\t-\t.\tID=id1545638;Parent=rna133450;anticodon=(pos:complement(6440..6442));gbkey=tRNA;product=tRNA-Tyr\r\n",
      "NC_001960.1\tRefSeq\tgene\t6476\t8026\t.\t+\t.\tID=gene81575;Dbxref=GeneID:808314;Name=COX1;gbkey=Gene;gene=COX1;gene_biotype=protein_coding;gene_synonym=COI\r\n",
      "NC_001960.1\tRefSeq\tCDS\t6476\t8026\t.\t+\t0\tID=cds97909;Parent=gene81575;Dbxref=Genbank:NP_008447.1,GeneID:808314;Name=NP_008447.1;gbkey=CDS;gene=COX1;product=cytochrome c oxidase subunit I;protein_id=NP_008447.1;transl_table=2\r\n",
      "NC_001960.1\tRefSeq\ttRNA\t8027\t8097\t.\t-\t.\tID=rna133451;anticodon=(pos:complement(8063..8065));codons=4%2C5%2C6%2C7;gbkey=tRNA;product=tRNA-Ser\r\n",
      "NC_001960.1\tRefSeq\texon\t8027\t8097\t.\t-\t.\tID=id1545639;Parent=rna133451;anticodon=(pos:complement(8063..8065));codons=4%2C5%2C6%2C7;gbkey=tRNA;product=tRNA-Ser\r\n",
      "NC_001960.1\tRefSeq\ttRNA\t8102\t8175\t.\t+\t.\tID=rna133452;anticodon=(pos:8137..8139);gbkey=tRNA;product=tRNA-Asp\r\n",
      "NC_001960.1\tRefSeq\texon\t8102\t8175\t.\t+\t.\tID=id1545640;Parent=rna133452;anticodon=(pos:8137..8139);gbkey=tRNA;product=tRNA-Asp\r\n",
      "NC_001960.1\tRefSeq\tgene\t8190\t8880\t.\t+\t.\tID=gene81576;Dbxref=GeneID:808315;Name=COX2;gbkey=Gene;gene=COX2;gene_biotype=protein_coding;gene_synonym=COII\r\n",
      "NC_001960.1\tRefSeq\tCDS\t8190\t8880\t.\t+\t0\tID=cds97910;Parent=gene81576;Dbxref=Genbank:NP_008448.1,GeneID:808315;Name=NP_008448.1;Note=TAA stop codon is completed by the addition of 3' A residues to the mRNA;gbkey=CDS;gene=COX2;product=cytochrome c oxidase subunit II;protein_id=NP_008448.1;transl_except=(pos:8880..8880%2Caa:TERM);transl_table=2\r\n",
      "NC_001960.1\tRefSeq\ttRNA\t8881\t8954\t.\t+\t.\tID=rna133453;anticodon=(pos:8915..8917);gbkey=tRNA;product=tRNA-Lys\r\n",
      "NC_001960.1\tRefSeq\texon\t8881\t8954\t.\t+\t.\tID=id1545641;Parent=rna133453;anticodon=(pos:8915..8917);gbkey=tRNA;product=tRNA-Lys\r\n",
      "NC_001960.1\tRefSeq\tgene\t8956\t9123\t.\t+\t.\tID=gene81577;Dbxref=GeneID:808310;Name=ATP8;gbkey=Gene;gene=ATP8;gene_biotype=protein_coding;gene_synonym=ATPase8\r\n",
      "NC_001960.1\tRefSeq\tCDS\t8956\t9123\t.\t+\t0\tID=cds97911;Parent=gene81577;Dbxref=Genbank:NP_008449.1,GeneID:808310;Name=NP_008449.1;gbkey=CDS;gene=ATP8;product=ATP synthase F0 subunit 8;protein_id=NP_008449.1;transl_table=2\r\n",
      "NC_001960.1\tRefSeq\tgene\t9114\t9797\t.\t+\t.\tID=gene81578;Dbxref=GeneID:808313;Name=ATP6;gbkey=Gene;gene=ATP6;gene_biotype=protein_coding;gene_synonym=ATPase6\r\n",
      "NC_001960.1\tRefSeq\tCDS\t9114\t9797\t.\t+\t0\tID=cds97912;Parent=gene81578;Dbxref=Genbank:NP_008450.1,GeneID:808313;Name=NP_008450.1;gbkey=CDS;gene=ATP6;product=ATP synthase F0 subunit 6;protein_id=NP_008450.1;transl_table=2\r\n",
      "NC_001960.1\tRefSeq\tgene\t9797\t10582\t.\t+\t.\tID=gene81579;Dbxref=GeneID:808307;Name=COX3;gbkey=Gene;gene=COX3;gene_biotype=protein_coding\r\n",
      "NC_001960.1\tRefSeq\tCDS\t9797\t10582\t.\t+\t0\tID=cds97913;Parent=gene81579;Dbxref=Genbank:NP_008451.1,GeneID:808307;Name=NP_008451.1;gbkey=CDS;gene=COX3;product=cytochrome c oxidase subunit III;protein_id=NP_008451.1;transl_table=2\r\n",
      "NC_001960.1\tRefSeq\ttRNA\t10582\t10651\t.\t+\t.\tID=rna133454;Parent=gene81579;anticodon=(pos:10613..10615);gbkey=tRNA;gene=COX3;product=tRNA-Gly\r\n",
      "NC_001960.1\tRefSeq\texon\t10582\t10651\t.\t+\t.\tID=id1545642;Parent=rna133454;anticodon=(pos:10613..10615);gbkey=tRNA;gene=COX3;product=tRNA-Gly\r\n",
      "NC_001960.1\tRefSeq\tgene\t10652\t11000\t.\t+\t.\tID=gene81580;Dbxref=GeneID:808308;Name=ND3;gbkey=Gene;gene=ND3;gene_biotype=protein_coding;gene_synonym=NADH-3\r\n",
      "NC_001960.1\tRefSeq\tCDS\t10652\t11000\t.\t+\t0\tID=cds97914;Parent=gene81580;Dbxref=Genbank:NP_008452.1,GeneID:808308;Name=NP_008452.1;Note=TAA stop codon is completed by the addition of 3' A residues to the mRNA;gbkey=CDS;gene=ND3;product=NADH dehydrogenase subunit 3;protein_id=NP_008452.1;transl_except=(pos:11000..11000%2Caa:TERM);transl_table=2\r\n",
      "NC_001960.1\tRefSeq\ttRNA\t11001\t11070\t.\t+\t.\tID=rna133455;anticodon=(pos:11032..11034);gbkey=tRNA;product=tRNA-Arg\r\n",
      "NC_001960.1\tRefSeq\texon\t11001\t11070\t.\t+\t.\tID=id1545643;Parent=rna133455;anticodon=(pos:11032..11034);gbkey=tRNA;product=tRNA-Arg\r\n",
      "NC_001960.1\tRefSeq\tgene\t11071\t11367\t.\t+\t.\tID=gene81581;Dbxref=GeneID:808312;Name=ND4L;gbkey=Gene;gene=ND4L;gene_biotype=protein_coding;gene_synonym=NADH-4L\r\n",
      "NC_001960.1\tRefSeq\tCDS\t11071\t11367\t.\t+\t0\tID=cds97915;Parent=gene81581;Dbxref=Genbank:NP_008453.1,GeneID:808312;Name=NP_008453.1;gbkey=CDS;gene=ND4L;product=NADH dehydrogenase subunit 4L;protein_id=NP_008453.1;transl_table=2\r\n",
      "NC_001960.1\tRefSeq\tgene\t11361\t12741\t.\t+\t.\tID=gene81582;Dbxref=GeneID:808305;Name=ND4;gbkey=Gene;gene=ND4;gene_biotype=protein_coding;gene_synonym=NADH-4\r\n",
      "NC_001960.1\tRefSeq\tCDS\t11361\t12741\t.\t+\t0\tID=cds97916;Parent=gene81582;Dbxref=Genbank:NP_008454.1,GeneID:808305;Name=NP_008454.1;Note=TAA stop codon is completed by the addition of 3' A residues to the mRNA;gbkey=CDS;gene=ND4;product=NADH dehydrogenase subunit 4;protein_id=NP_008454.1;transl_except=(pos:12741..12741%2Caa:TERM);transl_table=2\r\n",
      "NC_001960.1\tRefSeq\ttRNA\t12742\t12810\t.\t+\t.\tID=rna133456;anticodon=(pos:12772..12774);gbkey=tRNA;product=tRNA-His\r\n",
      "NC_001960.1\tRefSeq\texon\t12742\t12810\t.\t+\t.\tID=id1545644;Parent=rna133456;anticodon=(pos:12772..12774);gbkey=tRNA;product=tRNA-His\r\n",
      "NC_001960.1\tRefSeq\ttRNA\t12811\t12879\t.\t+\t.\tID=rna133457;anticodon=(pos:12838..12840);codons=44%2C45;gbkey=tRNA;product=tRNA-Ser\r\n",
      "NC_001960.1\tRefSeq\texon\t12811\t12879\t.\t+\t.\tID=id1545645;Parent=rna133457;anticodon=(pos:12838..12840);codons=44%2C45;gbkey=tRNA;product=tRNA-Ser\r\n",
      "NC_001960.1\tRefSeq\ttRNA\t12881\t12953\t.\t+\t.\tID=rna133458;anticodon=(pos:12914..12916);codons=16%2C17%2C18%2C19;gbkey=tRNA;product=tRNA-Leu\r\n",
      "NC_001960.1\tRefSeq\texon\t12881\t12953\t.\t+\t.\tID=id1545646;Parent=rna133458;anticodon=(pos:12914..12916);codons=16%2C17%2C18%2C19;gbkey=tRNA;product=tRNA-Leu\r\n",
      "NC_001960.1\tRefSeq\tgene\t12954\t14792\t.\t+\t.\tID=gene81583;Dbxref=GeneID:808309;Name=ND5;gbkey=Gene;gene=ND5;gene_biotype=protein_coding;gene_synonym=NADH-5\r\n",
      "NC_001960.1\tRefSeq\tCDS\t12954\t14792\t.\t+\t0\tID=cds97917;Parent=gene81583;Dbxref=Genbank:NP_008455.1,GeneID:808309;Name=NP_008455.1;gbkey=CDS;gene=ND5;product=NADH dehydrogenase subunit 5;protein_id=NP_008455.1;transl_table=2\r\n",
      "NC_001960.1\tRefSeq\tgene\t14789\t15310\t.\t-\t.\tID=gene81584;Dbxref=GeneID:808317;Name=ND6;gbkey=Gene;gene=ND6;gene_biotype=protein_coding;gene_synonym=NADH-6\r\n",
      "NC_001960.1\tRefSeq\tCDS\t14789\t15310\t.\t-\t0\tID=cds97918;Parent=gene81584;Dbxref=Genbank:NP_008456.1,GeneID:808317;Name=NP_008456.1;gbkey=CDS;gene=ND6;product=NADH dehydrogenase subunit 6;protein_id=NP_008456.1;transl_table=2\r\n",
      "NC_001960.1\tRefSeq\ttRNA\t15311\t15379\t.\t-\t.\tID=rna133459;anticodon=(pos:complement(15347..15349));gbkey=tRNA;product=tRNA-Glu\r\n",
      "NC_001960.1\tRefSeq\texon\t15311\t15379\t.\t-\t.\tID=id1545647;Parent=rna133459;anticodon=(pos:complement(15347..15349));gbkey=tRNA;product=tRNA-Glu\r\n",
      "NC_001960.1\tRefSeq\tgene\t15384\t16524\t.\t+\t.\tID=gene81585;Dbxref=GeneID:808306;Name=CYTB;gbkey=Gene;gene=CYTB;gene_biotype=protein_coding;gene_synonym=Cytb\r\n",
      "NC_001960.1\tRefSeq\tCDS\t15384\t16524\t.\t+\t0\tID=cds97919;Parent=gene81585;Dbxref=Genbank:NP_008457.1,GeneID:808306;Name=NP_008457.1;Note=TAA stop codon is completed by the addition of 3' A residues to the mRNA;gbkey=CDS;gene=CYTB;product=cytochrome b;protein_id=NP_008457.1;transl_except=(pos:16524..16524%2Caa:TERM);transl_table=2\r\n",
      "NC_001960.1\tRefSeq\ttRNA\t16525\t16596\t.\t+\t.\tID=rna133460;anticodon=(pos:16557..16559);gbkey=tRNA;product=tRNA-Thr\r\n",
      "NC_001960.1\tRefSeq\texon\t16525\t16596\t.\t+\t.\tID=id1545648;Parent=rna133460;anticodon=(pos:16557..16559);gbkey=tRNA;product=tRNA-Thr\r\n",
      "NC_001960.1\tRefSeq\ttRNA\t16596\t16665\t.\t-\t.\tID=rna133461;anticodon=(pos:complement(16632..16634));gbkey=tRNA;product=tRNA-Pro\r\n",
      "NC_001960.1\tRefSeq\texon\t16596\t16665\t.\t-\t.\tID=id1545649;Parent=rna133461;anticodon=(pos:complement(16632..16634));gbkey=tRNA;product=tRNA-Pro\r\n",
      "NC_027300.1\tRefSeq\tregion\t1\t159038749\t.\t+\t.\tID=id0;Dbxref=taxon:8030;Name=ssa01;breed=double haploid;chromosome=ssa01;dev-stage=adult;gbkey=Src;genome=chromosome;isolate=Sally;mol_type=genomic DNA;sex=female;tissue-type=muscle\r\n",
      "NC_027300.1\tGnomon\tgene\t5501\t62139\t.\t-\t.\tID=gene0;Dbxref=GeneID:106560212;Name=LOC106560212;gbkey=Gene;gene=LOC106560212;gene_biotype=protein_coding\r\n",
      "NC_027300.1\tGnomon\tmRNA\t5501\t62139\t.\t-\t.\tID=rna0;Parent=gene0;Dbxref=GeneID:106560212,Genbank:XM_014160784.1;Name=XM_014160784.1;gbkey=mRNA;gene=LOC106560212;product=fibroblast growth factor receptor 3-like;transcript_id=XM_014160784.1\r\n",
      "NC_027300.1\tGnomon\texon\t5501\t5691\t.\t-\t.\tID=id5;Parent=rna0;Dbxref=GeneID:106560212,Genbank:XM_014160784.1;gbkey=mRNA;gene=LOC106560212;product=fibroblast growth factor receptor 3-like;transcript_id=XM_014160784.1\r\n",
      "NC_027300.1\tGnomon\tCDS\t5501\t5691\t.\t-\t2\tID=cds0;Parent=rna0;Dbxref=GeneID:106560212,Genbank:XP_014016259.1;Name=XP_014016259.1;gbkey=CDS;gene=LOC106560212;product=fibroblast growth factor receptor 3-like;protein_id=XP_014016259.1\r\n",
      "NC_027300.1\tGnomon\texon\t16966\t17019\t.\t-\t.\tID=id4;Parent=rna0;Dbxref=GeneID:106560212,Genbank:XM_014160784.1;gbkey=mRNA;gene=LOC106560212;product=fibroblast growth factor receptor 3-like;transcript_id=XM_014160784.1\r\n",
      "NC_027300.1\tGnomon\tCDS\t16966\t17019\t.\t-\t2\tID=cds0;Parent=rna0;Dbxref=GeneID:106560212,Genbank:XP_014016259.1;Name=XP_014016259.1;gbkey=CDS;gene=LOC106560212;product=fibroblast growth factor receptor 3-like;protein_id=XP_014016259.1\r\n",
      "NC_027300.1\tGnomon\texon\t23978\t24241\t.\t-\t.\tID=id3;Parent=rna0;Dbxref=GeneID:106560212,Genbank:XM_014160784.1;gbkey=mRNA;gene=LOC106560212;product=fibroblast growth factor receptor 3-like;transcript_id=XM_014160784.1\r\n",
      "NC_027300.1\tGnomon\tCDS\t23978\t24241\t.\t-\t2\tID=cds0;Parent=rna0;Dbxref=GeneID:106560212,Genbank:XP_014016259.1;Name=XP_014016259.1;gbkey=CDS;gene=LOC106560212;product=fibroblast growth factor receptor 3-like;protein_id=XP_014016259.1\r\n",
      "NC_027300.1\tGnomon\texon\t43486\t43714\t.\t-\t.\tID=id2;Parent=rna0;Dbxref=GeneID:106560212,Genbank:XM_014160784.1;gbkey=mRNA;gene=LOC106560212;product=fibroblast growth factor receptor 3-like;transcript_id=XM_014160784.1\r\n",
      "NC_027300.1\tGnomon\tCDS\t43486\t43633\t.\t-\t0\tID=cds0;Parent=rna0;Dbxref=GeneID:106560212,Genbank:XP_014016259.1;Name=XP_014016259.1;gbkey=CDS;gene=LOC106560212;product=fibroblast growth factor receptor 3-like;protein_id=XP_014016259.1\r\n",
      "NC_027300.1\tGnomon\texon\t61647\t62139\t.\t-\t.\tID=id1;Parent=rna0;Dbxref=GeneID:106560212,Genbank:XM_014160784.1;gbkey=mRNA;gene=LOC106560212;product=fibroblast growth factor receptor 3-like;transcript_id=XM_014160784.1\r\n",
      "NC_027300.1\tGnomon\tgene\t160437\t198815\t.\t-\t.\tID=gene1;Dbxref=GeneID:106607996;Name=LOC106607996;gbkey=Gene;gene=LOC106607996;gene_biotype=protein_coding;partial=true;start_range=.,160437\r\n",
      "NC_027300.1\tGnomon\tmRNA\t160437\t198815\t.\t-\t.\tID=rna1;Parent=gene1;Dbxref=GeneID:106607996,Genbank:XM_014209195.1;Name=XM_014209195.1;Note=The sequence of the model RefSeq transcript was modified relative to this genomic sequence to represent the inferred CDS: added 1366 bases not found in genome assembly;exception=annotated by transcript or proteomic data;gbkey=mRNA;gene=LOC106607996;partial=true;product=histone-lysine N-methyltransferase NSD2-like;start_range=.,160437;transcript_id=XM_014209195.1\r\n",
      "NC_027300.1\tGnomon\texon\t160437\t160638\t.\t-\t.\tID=id25;Parent=rna1;Dbxref=GeneID:106607996,Genbank:XM_014209195.1;Note=The sequence of the model RefSeq transcript was modified relative to this genomic sequence to represent the inferred CDS: added 1366 bases not found in genome assembly;exception=annotated by transcript or proteomic data;gbkey=mRNA;gene=LOC106607996;partial=true;product=histone-lysine N-methyltransferase NSD2-like;start_range=.,160437;transcript_id=XM_014209195.1\r\n",
      "NC_027300.1\tGnomon\tCDS\t160437\t160638\t.\t-\t0\tID=cds1;Parent=rna1;Dbxref=GeneID:106607996,Genbank:XP_014064670.1;Name=XP_014064670.1;Note=The sequence of the model RefSeq protein was modified relative to this genomic sequence to represent the inferred CDS: added 164 bases not found in genome assembly;exception=annotated by transcript or proteomic data;gbkey=CDS;gene=LOC106607996;partial=true;product=histone-lysine N-methyltransferase NSD2-like;protein_id=XP_014064670.1;start_range=.,160437\r\n"
     ]
    }
   ],
   "source": [
    "!head -100 /Volumes/web-1/halfshell/working-directory/16-05-13/GCF_000233375.1_ICSASG_v2_genomic.sorted.gff"
   ]
  },
  {
   "cell_type": "code",
   "execution_count": 30,
   "metadata": {
    "collapsed": false
   },
   "outputs": [],
   "source": [
    "!grep \"RefSeq\tgene\" /Volumes/web-1/halfshell/working-directory/16-05-13/GCF_000233375.1_ICSASG_v2_genomic.sorted.gff \\\n",
    "> /Volumes/web-1/halfshell/working-directory/16-05-13/GCF_000233375.1_ICSASG_v2_genomic.sorted.gene.gff"
   ]
  },
  {
   "cell_type": "code",
   "execution_count": 31,
   "metadata": {
    "collapsed": true
   },
   "outputs": [],
   "source": [
    "!bedtools closest \\\n",
    "-d \\\n",
    "-a /Users/sr320/git-repos/nb-2016/S_salar/lncRNA_21065.bed \\\n",
    "-b /Volumes/web-1/halfshell/working-directory/16-05-13/GCF_000233375.1_ICSASG_v2_genomic.sorted.gene.gff \\\n",
    "> lncRNA_21065_closest_gene.tab"
   ]
  },
  {
   "cell_type": "code",
   "execution_count": 32,
   "metadata": {
    "collapsed": false
   },
   "outputs": [
    {
     "name": "stdout",
     "output_type": "stream",
     "text": [
      "NC_027300.1\t313542\t313823\tContig0068051\t60\t-\tNC_027300.1\tBestRefSeq\tgene\t4492570\t4497725\t.\t-\t.\tID=gene107;Dbxref=GeneID:100286617;Name=gmfb;description=glia maturation factor%2C beta;gbkey=Gene;gene=gmfb;gene_biotype=protein_coding\t4178747\r\n",
      "NC_027300.1\t548156\t548496\tContig0004373\t60\t+\tNC_027300.1\tBestRefSeq\tgene\t4492570\t4497725\t.\t-\t.\tID=gene107;Dbxref=GeneID:100286617;Name=gmfb;description=glia maturation factor%2C beta;gbkey=Gene;gene=gmfb;gene_biotype=protein_coding\t3944074\r\n",
      "NC_027300.1\t548209\t548751\tContig0014706\t60\t-\tNC_027300.1\tBestRefSeq\tgene\t4492570\t4497725\t.\t-\t.\tID=gene107;Dbxref=GeneID:100286617;Name=gmfb;description=glia maturation factor%2C beta;gbkey=Gene;gene=gmfb;gene_biotype=protein_coding\t3943819\r\n",
      "NC_027300.1\t548691\t548925\tContig0070168\t60\t+\tNC_027300.1\tBestRefSeq\tgene\t4492570\t4497725\t.\t-\t.\tID=gene107;Dbxref=GeneID:100286617;Name=gmfb;description=glia maturation factor%2C beta;gbkey=Gene;gene=gmfb;gene_biotype=protein_coding\t3943645\r\n",
      "NC_027300.1\t591121\t591415\tContig0012980\t60\t+\tNC_027300.1\tBestRefSeq\tgene\t4492570\t4497725\t.\t-\t.\tID=gene107;Dbxref=GeneID:100286617;Name=gmfb;description=glia maturation factor%2C beta;gbkey=Gene;gene=gmfb;gene_biotype=protein_coding\t3901155\r\n",
      "NC_027300.1\t765087\t765443\tContig0019649\t60\t+\tNC_027300.1\tBestRefSeq\tgene\t4492570\t4497725\t.\t-\t.\tID=gene107;Dbxref=GeneID:100286617;Name=gmfb;description=glia maturation factor%2C beta;gbkey=Gene;gene=gmfb;gene_biotype=protein_coding\t3727127\r\n",
      "NC_027300.1\t956068\t956524\tContig0031373\t60\t-\tNC_027300.1\tBestRefSeq\tgene\t4492570\t4497725\t.\t-\t.\tID=gene107;Dbxref=GeneID:100286617;Name=gmfb;description=glia maturation factor%2C beta;gbkey=Gene;gene=gmfb;gene_biotype=protein_coding\t3536046\r\n",
      "NC_027300.1\t1018791\t1019162\tContig0048951\t60\t-\tNC_027300.1\tBestRefSeq\tgene\t4492570\t4497725\t.\t-\t.\tID=gene107;Dbxref=GeneID:100286617;Name=gmfb;description=glia maturation factor%2C beta;gbkey=Gene;gene=gmfb;gene_biotype=protein_coding\t3473408\r\n",
      "NC_027300.1\t1237962\t1238759\tContig0014959\t60\t+\tNC_027300.1\tBestRefSeq\tgene\t4492570\t4497725\t.\t-\t.\tID=gene107;Dbxref=GeneID:100286617;Name=gmfb;description=glia maturation factor%2C beta;gbkey=Gene;gene=gmfb;gene_biotype=protein_coding\t3253811\r\n",
      "NC_027300.1\t1259786\t1260125\tContig0059637\t60\t+\tNC_027300.1\tBestRefSeq\tgene\t4492570\t4497725\t.\t-\t.\tID=gene107;Dbxref=GeneID:100286617;Name=gmfb;description=glia maturation factor%2C beta;gbkey=Gene;gene=gmfb;gene_biotype=protein_coding\t3232445\r\n"
     ]
    }
   ],
   "source": [
    "!head lncRNA_21065_closest_gene.tab"
   ]
  },
  {
   "cell_type": "code",
   "execution_count": null,
   "metadata": {
    "collapsed": true
   },
   "outputs": [],
   "source": []
  }
 ],
 "metadata": {
  "kernelspec": {
   "display_name": "Python 2",
   "language": "python",
   "name": "python2"
  },
  "language_info": {
   "codemirror_mode": {
    "name": "ipython",
    "version": 2
   },
   "file_extension": ".py",
   "mimetype": "text/x-python",
   "name": "python",
   "nbconvert_exporter": "python",
   "pygments_lexer": "ipython2",
   "version": "2.7.11"
  }
 },
 "nbformat": 4,
 "nbformat_minor": 0
}
