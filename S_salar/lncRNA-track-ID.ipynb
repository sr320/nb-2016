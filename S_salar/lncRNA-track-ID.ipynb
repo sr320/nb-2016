{
 "cells": [
  {
   "cell_type": "markdown",
   "metadata": {},
   "source": [
    "# Project - identifying genes closest to lncRNA"
   ]
  },
  {
   "cell_type": "markdown",
   "metadata": {},
   "source": [
    "General plan is using bedtools to find relationship among feature. \n",
    "S. salar genome and features currently used shown in this screeenshot- \n",
    "\n",
    "<img src=\"http://eagle.fish.washington.edu/cnidarian/skitch/sr320’s_iMac_1CEE2AFA.png\" alt=\"sr320’s_iMac_1CEE2AFA.png\"/>\n",
    "\n",
    "---\n",
    "\n",
    "lncRNA feature is a bit more tricky- one option is mapping (eg CLC) exporting BAM, then coverting bamtobed using bedtools. The problem is as this is from an alignment we lose lncRNA ID. One round about way to ID is to now grab fasta and blast. \n",
    "\n",
    "---\n",
    "\n",
    "maybe later- could also use blast as means to id lncRNA."
   ]
  },
  {
   "cell_type": "code",
   "execution_count": 1,
   "metadata": {
    "collapsed": false
   },
   "outputs": [
    {
     "data": {
      "text/plain": [
       "u'/Users/sr320/git-repos/nb-2016/S_salar'"
      ]
     },
     "execution_count": 1,
     "metadata": {},
     "output_type": "execute_result"
    }
   ],
   "source": [
    "pwd"
   ]
  },
  {
   "cell_type": "code",
   "execution_count": 2,
   "metadata": {
    "collapsed": false
   },
   "outputs": [
    {
     "name": "stdout",
     "output_type": "stream",
     "text": [
      "NC_027300.1\t313542\t313823\tContig0068051\t60\t-\r\n",
      "NC_027300.1\t548156\t548496\tContig0004373\t60\t+\r\n",
      "NC_027300.1\t548209\t548751\tContig0014706\t60\t-\r\n",
      "NC_027300.1\t548691\t548925\tContig0070168\t60\t+\r\n",
      "NC_027300.1\t591121\t591415\tContig0012980\t60\t+\r\n",
      "NC_027300.1\t765087\t765443\tContig0019649\t60\t+\r\n",
      "NC_027300.1\t956068\t956524\tContig0031373\t60\t-\r\n",
      "NC_027300.1\t1018791\t1019162\tContig0048951\t60\t-\r\n",
      "NC_027300.1\t1237962\t1238759\tContig0014959\t60\t+\r\n",
      "NC_027300.1\t1259786\t1260125\tContig0059637\t60\t+\r\n"
     ]
    }
   ],
   "source": [
    "!head lncRNA_21065.bed"
   ]
  },
  {
   "cell_type": "code",
   "execution_count": 3,
   "metadata": {
    "collapsed": false
   },
   "outputs": [
    {
     "name": "stdout",
     "output_type": "stream",
     "text": [
      "\r\n",
      "Tool:    bedtools getfasta (aka fastaFromBed)\r\n",
      "Version: v2.22.0\r\n",
      "Summary: Extract DNA sequences into a fasta file based on feature coordinates.\r\n",
      "\r\n",
      "Usage:   bedtools getfasta [OPTIONS] -fi <fasta> -bed <bed/gff/vcf> -fo <fasta> \r\n",
      "\r\n",
      "Options: \r\n",
      "\t-fi\tInput FASTA file\r\n",
      "\t-bed\tBED/GFF/VCF file of ranges to extract from -fi\r\n",
      "\t-fo\tOutput file (can be FASTA or TAB-delimited)\r\n",
      "\t-name\tUse the name field for the FASTA header\r\n",
      "\t-split\tgiven BED12 fmt., extract and concatenate the sequencesfrom the BED \"blocks\" (e.g., exons)\r\n",
      "\t-tab\tWrite output in TAB delimited format.\r\n",
      "\t\t- Default is FASTA format.\r\n",
      "\r\n",
      "\t-s\tForce strandedness. If the feature occupies the antisense,\r\n",
      "\t\tstrand, the sequence will be reverse complemented.\r\n",
      "\t\t- By default, strand information is ignored.\r\n",
      "\r\n",
      "\t-fullHeader\tUse full fasta header.\r\n",
      "\t\t- By default, only the word before the first space or tab is used.\r\n",
      "\r\n"
     ]
    }
   ],
   "source": [
    "!bedtools getfasta -h"
   ]
  },
  {
   "cell_type": "code",
   "execution_count": null,
   "metadata": {
    "collapsed": true
   },
   "outputs": [],
   "source": [
    "!bedtools getfasta \\\n",
    "-fi /Volumes/web/halfshell/working-directory/16-05-13/GCF_ICSASG_v2_chromosome.fa \\\n",
    "-bed data/lncRNA_21065.bed \\\n",
    "-fo analyses/lncRNA_21065.fa"
   ]
  }
 ],
 "metadata": {
  "kernelspec": {
   "display_name": "Python 2",
   "language": "python",
   "name": "python2"
  },
  "language_info": {
   "codemirror_mode": {
    "name": "ipython",
    "version": 2
   },
   "file_extension": ".py",
   "mimetype": "text/x-python",
   "name": "python",
   "nbconvert_exporter": "python",
   "pygments_lexer": "ipython2",
   "version": "2.7.11"
  }
 },
 "nbformat": 4,
 "nbformat_minor": 0
}
