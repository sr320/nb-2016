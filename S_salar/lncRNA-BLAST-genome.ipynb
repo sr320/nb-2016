{
 "cells": [
  {
   "cell_type": "code",
   "execution_count": 2,
   "metadata": {
    "collapsed": false
   },
   "outputs": [
    {
     "name": "stdout",
     "output_type": "stream",
     "text": [
      ">Contig0006242\r\n",
      "ATGATGTAGCATGTTGTGTTATGAATGATGTAGCATGTTGTGTTTGTTATGAATGATGTA\r\n",
      "GCATGTTGTGTTTGTTATGAATGATGTAGCATGTTGTGTTTGTTATGAATGATGTAGCAT\r\n",
      "GTTGTGTTTGTTATGAATGATGTAGCATGTTGTGTTTGTTATGAATGATGTAGCATGTTT\r\n",
      "TGTTTGTTATGAATGATGTAGCATGTTGTGTTTGTTATGAATGATGTAGCATGTTGTGTT\r\n",
      "TGTTATGAATGATGTAGCATGTTGTGTTATGAATGATGTAGCATGTTGTGTTTGTTATGA\r\n",
      "ATGATGTAGCATGTTGTGTTTGTTATGAATGATGTAGCATGTTGTGTTTGTCATGAATGA\r\n",
      "TGTAGCATGTTGTGTTTGTTATGAATGATGTAGCATGTTTTGTTTGTTATGAATGATGTA\r\n",
      "GCATGTTGTGTTTGACATGAATGATGTAGCATGTTGTGTTTGTTATGAATGATGTAGCAT\r\n",
      "GTTGTGTATGTTATGATGTAGCATGTTGTGTTATGAATGATGTAGCATATTGTGTTTGTT\r\n"
     ]
    }
   ],
   "source": [
    "!head ./data/Filter3_lncRNA_21065.fa"
   ]
  },
  {
   "cell_type": "code",
   "execution_count": 3,
   "metadata": {
    "collapsed": false
   },
   "outputs": [
    {
     "name": "stdout",
     "output_type": "stream",
     "text": [
      "21065\r\n"
     ]
    }
   ],
   "source": [
    "!grep -c '>' ./data/Filter3_lncRNA_21065.fa"
   ]
  },
  {
   "cell_type": "code",
   "execution_count": null,
   "metadata": {
    "collapsed": true
   },
   "outputs": [],
   "source": []
  }
 ],
 "metadata": {
  "kernelspec": {
   "display_name": "Python 2",
   "language": "python",
   "name": "python2"
  },
  "language_info": {
   "codemirror_mode": {
    "name": "ipython",
    "version": 2
   },
   "file_extension": ".py",
   "mimetype": "text/x-python",
   "name": "python",
   "nbconvert_exporter": "python",
   "pygments_lexer": "ipython2",
   "version": "2.7.11"
  }
 },
 "nbformat": 4,
 "nbformat_minor": 0
}
