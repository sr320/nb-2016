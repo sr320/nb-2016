{
 "cells": [
  {
   "cell_type": "markdown",
   "metadata": {},
   "source": [
    "# Project - identifying genes closest to lncRNA"
   ]
  },
  {
   "cell_type": "markdown",
   "metadata": {},
   "source": [
    "General plan is using bedtools to find relationship among feature. \n",
    "S. salar genome and features currently used shown in this screeenshot- \n",
    "\n",
    "<img src=\"http://eagle.fish.washington.edu/cnidarian/skitch/sr320’s_iMac_1CEE2AFA.png\" alt=\"sr320’s_iMac_1CEE2AFA.png\"/>\n",
    "\n",
    "---\n",
    "\n",
    "lncRNA feature is a bit more tricky- one option is mapping (eg CLC) exporting BAM, then coverting bamtobed using bedtools. The problem is as this is from an alignment we lose lncRNA ID. One round about way to ID is to now grab fasta and blast. \n",
    "\n",
    "---\n",
    "\n",
    "maybe later- could also use blast as means to id lncRNA."
   ]
  },
  {
   "cell_type": "code",
   "execution_count": 1,
   "metadata": {
    "collapsed": false
   },
   "outputs": [
    {
     "data": {
      "text/plain": [
       "u'/Users/sr320/git-repos/nb-2016/S_salar'"
      ]
     },
     "execution_count": 1,
     "metadata": {},
     "output_type": "execute_result"
    }
   ],
   "source": [
    "pwd"
   ]
  },
  {
   "cell_type": "code",
   "execution_count": 2,
   "metadata": {
    "collapsed": false
   },
   "outputs": [
    {
     "name": "stdout",
     "output_type": "stream",
     "text": [
      "NC_027300.1\t313542\t313823\tContig0068051\t60\t-\r\n",
      "NC_027300.1\t548156\t548496\tContig0004373\t60\t+\r\n",
      "NC_027300.1\t548209\t548751\tContig0014706\t60\t-\r\n",
      "NC_027300.1\t548691\t548925\tContig0070168\t60\t+\r\n",
      "NC_027300.1\t591121\t591415\tContig0012980\t60\t+\r\n",
      "NC_027300.1\t765087\t765443\tContig0019649\t60\t+\r\n",
      "NC_027300.1\t956068\t956524\tContig0031373\t60\t-\r\n",
      "NC_027300.1\t1018791\t1019162\tContig0048951\t60\t-\r\n",
      "NC_027300.1\t1237962\t1238759\tContig0014959\t60\t+\r\n",
      "NC_027300.1\t1259786\t1260125\tContig0059637\t60\t+\r\n"
     ]
    }
   ],
   "source": [
    "!head lncRNA_21065.bed"
   ]
  },
  {
   "cell_type": "code",
   "execution_count": 3,
   "metadata": {
    "collapsed": false
   },
   "outputs": [
    {
     "name": "stdout",
     "output_type": "stream",
     "text": [
      "\r\n",
      "Tool:    bedtools getfasta (aka fastaFromBed)\r\n",
      "Version: v2.22.0\r\n",
      "Summary: Extract DNA sequences into a fasta file based on feature coordinates.\r\n",
      "\r\n",
      "Usage:   bedtools getfasta [OPTIONS] -fi <fasta> -bed <bed/gff/vcf> -fo <fasta> \r\n",
      "\r\n",
      "Options: \r\n",
      "\t-fi\tInput FASTA file\r\n",
      "\t-bed\tBED/GFF/VCF file of ranges to extract from -fi\r\n",
      "\t-fo\tOutput file (can be FASTA or TAB-delimited)\r\n",
      "\t-name\tUse the name field for the FASTA header\r\n",
      "\t-split\tgiven BED12 fmt., extract and concatenate the sequencesfrom the BED \"blocks\" (e.g., exons)\r\n",
      "\t-tab\tWrite output in TAB delimited format.\r\n",
      "\t\t- Default is FASTA format.\r\n",
      "\r\n",
      "\t-s\tForce strandedness. If the feature occupies the antisense,\r\n",
      "\t\tstrand, the sequence will be reverse complemented.\r\n",
      "\t\t- By default, strand information is ignored.\r\n",
      "\r\n",
      "\t-fullHeader\tUse full fasta header.\r\n",
      "\t\t- By default, only the word before the first space or tab is used.\r\n",
      "\r\n"
     ]
    }
   ],
   "source": [
    "!bedtools getfasta -h"
   ]
  },
  {
   "cell_type": "code",
   "execution_count": 4,
   "metadata": {
    "collapsed": true
   },
   "outputs": [],
   "source": [
    "!bedtools getfasta \\\n",
    "-fi /Volumes/web/halfshell/working-directory/16-05-13/GCF_ICSASG_v2_chromosome.fa \\\n",
    "-bed data/lncRNA_21065.bed \\\n",
    "-fo analyses/lncRNA_21065.fa"
   ]
  },
  {
   "cell_type": "code",
   "execution_count": 5,
   "metadata": {
    "collapsed": false
   },
   "outputs": [
    {
     "name": "stdout",
     "output_type": "stream",
     "text": [
      ">NC_027300.1:313542-313823\r\n",
      "ACTGTGGGACTAGGTACTGTGGGACTAGATACTGTGGGACTAGGTACTGTGGGACTAGGTACTGTGGGACTAGATACTGTGGGACTAGATACTGTGGGACTAGGTACTGTGGGACTAGGTACTGTGGGACTAGATACTGTGGGACTAGGTACTGTGGGACTAGATACTGTGGGACTAGATACTGTGGGACTAGGTACTGTGGGACTAGATACTGTGGGACTAGATACTGTGGGACTAGATACTGTGGGACTAGGTACTGTGGGACTAGGTACTGTGGGACT\r\n",
      ">NC_027300.1:548156-548496\r\n",
      "CCTGGATAGCCCAGTCCAGGATGGCTGGGCCCTGGCCTGACTCCTCACCATACAGATCACCACTAACAGAAATGAGTGATGAAACTGTTTCAGGGGGATTTGAATGACATTAACTTGTCTTTGTGCTGTTAGAATATTTGAAAAAGGAAAAACAACATTTTTATAGAATTTTCCTTACTATGTCCCTGTTGTGTAAATGTGAACAGAGGCATAAAGGTCTCGACAAACCATTTCTGTATGGACCTTGCTTTGTGCCCGGGGGCATTGTCATGCTGAAACCGATAAGGTCCTTGCCACAACATATTTAGAATCACTCTTGATTGATTGATTGATTGATTGA\r\n",
      ">NC_027300.1:548209-548751\r\n",
      "AGATCACCACTAACAGAAATGAGTGATGAAACTGTTTCAGGGGGATTTGAATGACATTAACTTGTCTTTGTGCTGTTAGAATATTTGAAAAAGGAAAAACAACATTTTTATAGAATTTTCCTTACTATGTCCCTGTTGTGTAAATGTGAACAGAGGCATAAAGGTCTCGACAAACCATTTCTGTATGGACCTTGCTTTGTGCCCGGGGGCATTGTCATGCTGAAACCGATAAGGTCCTTGCCACAACATATTTAGAATCACTCTTGATTGATTGATTGATTGATTGATTGGGAATACAAAGGGAAGGACTGCTGACAAAGTTCTAATCAATCAACTGTTTCTAAACCACGCTACTGGATGTTGGTATCATCATCCCCAGGACATGAAATGGTCAAAGTGTTAATTGTGCCTTATTGTTTTTTTTTTTATATATACTACTAAAATCCTGTCTAACAAAAAAAGAAGGGGGTGGGGGTGGTGGAAACTATTCTGCCCATGATGTTTATTGGTTTTCTTGGAGGTGCTATAGAAAGCGGTTCATC\r\n",
      ">NC_027300.1:548691-548925\r\n",
      "AACTATTCTGCCCATGATGTTTATTGGTTTTCTTGGAGGTGCTATAGAAAGCGGTTCATCTTCTTGGGAAGTTGTATAGACTAGTTTCCTTTTTTTAAAGCCATCAGTCGAAGGCATGCTTTGGTCTGTCACACTGACTGGCAGAGACTCCACGCATCACTACCTTGTATATAGACCTCTCTTGCTGTCCTATTGATGTAGGTAATGGACTCCATATTGCTGGGTTGTGTTTTT\r\n",
      ">NC_027300.1:591121-591415\r\n",
      "GGTCTAATACATTATCATAGTGGCTATATGCCTGGTCTAATACATTATCACAGCATAATGGCTATATGCCTGGTCTAATACATTATCACAGCATAGTGGCTATATGCCTGGTCTAATACATTATCACAGCATAGTGGCTATATGCCTGGTCTAATACATTATCACAGCATAGTGGCTATATGCCTGGTCTAATACATTATCACAGCATAGTGGCTATATGCCTGGTCTAATACATTATCACAGCATAGTGGCTATATGCCTGGTCTAATACATTATCACAGCATAGTGGCTATA\r\n"
     ]
    }
   ],
   "source": [
    "!head analyses/lncRNA_21065.fa"
   ]
  },
  {
   "cell_type": "code",
   "execution_count": 6,
   "metadata": {
    "collapsed": false
   },
   "outputs": [
    {
     "name": "stdout",
     "output_type": "stream",
     "text": [
      "USAGE\r\n",
      "  blastn [-h] [-help] [-import_search_strategy filename]\r\n",
      "    [-export_search_strategy filename] [-task task_name] [-db database_name]\r\n",
      "    [-dbsize num_letters] [-gilist filename] [-seqidlist filename]\r\n",
      "    [-negative_gilist filename] [-entrez_query entrez_query]\r\n",
      "    [-db_soft_mask filtering_algorithm] [-db_hard_mask filtering_algorithm]\r\n",
      "    [-subject subject_input_file] [-subject_loc range] [-query input_file]\r\n",
      "    [-out output_file] [-evalue evalue] [-word_size int_value]\r\n",
      "    [-gapopen open_penalty] [-gapextend extend_penalty]\r\n",
      "    [-perc_identity float_value] [-qcov_hsp_perc float_value]\r\n",
      "    [-xdrop_ungap float_value] [-xdrop_gap float_value]\r\n",
      "    [-xdrop_gap_final float_value] [-searchsp int_value] [-max_hsps int_value]\r\n",
      "    [-sum_stats bool_value] [-penalty penalty] [-reward reward] [-no_greedy]\r\n",
      "    [-min_raw_gapped_score int_value] [-template_type type]\r\n",
      "    [-template_length int_value] [-dust DUST_options]\r\n",
      "    [-filtering_db filtering_database]\r\n",
      "    [-window_masker_taxid window_masker_taxid]\r\n",
      "    [-window_masker_db window_masker_db] [-soft_masking soft_masking]\r\n",
      "    [-ungapped] [-culling_limit int_value] [-best_hit_overhang float_value]\r\n",
      "    [-best_hit_score_edge float_value] [-window_size int_value]\r\n",
      "    [-off_diagonal_range int_value] [-use_index boolean] [-index_name string]\r\n",
      "    [-lcase_masking] [-query_loc range] [-strand strand] [-parse_deflines]\r\n",
      "    [-outfmt format] [-show_gis] [-num_descriptions int_value]\r\n",
      "    [-num_alignments int_value] [-line_length line_length] [-html]\r\n",
      "    [-max_target_seqs num_sequences] [-num_threads int_value] [-remote]\r\n",
      "    [-version]\r\n",
      "\r\n",
      "DESCRIPTION\r\n",
      "   Nucleotide-Nucleotide BLAST 2.2.30+\r\n",
      "\r\n",
      "Use '-help' to print detailed descriptions of command line arguments\r\n"
     ]
    }
   ],
   "source": [
    "!blastn -h "
   ]
  },
  {
   "cell_type": "code",
   "execution_count": 8,
   "metadata": {
    "collapsed": false
   },
   "outputs": [
    {
     "name": "stdout",
     "output_type": "stream",
     "text": [
      "\n",
      "\n",
      "Building a new DB, current time: 05/19/2016 10:35:57\n",
      "New DB name:   data/Filter3_lncRNA_21065\n",
      "New DB title:  data/Filter3_lncRNA_21065.fa\n",
      "Sequence type: Nucleotide\n",
      "Keep Linkouts: T\n",
      "Keep MBits: T\n",
      "Maximum file size: 1000000000B\n",
      "Adding sequences from FASTA; added 21065 sequences in 0.592768 seconds.\n"
     ]
    }
   ],
   "source": [
    "!makeblastdb \\\n",
    "-in data/Filter3_lncRNA_21065.fa \\\n",
    "-out data/Filter3_lncRNA_21065 \\\n",
    "-dbtype nucl"
   ]
  },
  {
   "cell_type": "code",
   "execution_count": 11,
   "metadata": {
    "collapsed": false
   },
   "outputs": [],
   "source": [
    "!blastn \\\n",
    "-task blastn \\\n",
    "-query analyses/lncRNA_21065.fa \\\n",
    "-outfmt 6 \\\n",
    "-evalue 1e-100 \\\n",
    "-num_threads 8 \\\n",
    "-db data/Filter3_lncRNA_21065 \\\n",
    "-out analyses/track-blastn-id.tab"
   ]
  },
  {
   "cell_type": "code",
   "execution_count": 12,
   "metadata": {
    "collapsed": false
   },
   "outputs": [
    {
     "name": "stdout",
     "output_type": "stream",
     "text": [
      "NC_027300.1:313542-313823\tContig0068051\t94.41\t286\t11\t2\t1\t281\t286\t1\t1e-123\t  439\r\n",
      "NC_027300.1:313542-313823\tContig0068051\t97.29\t221\t6\t0\t1\t221\t221\t1\t1e-103\t  372\r\n",
      "NC_027300.1:548156-548496\tContig0004373\t100.00\t340\t0\t0\t1\t340\t1\t340\t3e-176\t  614\r\n",
      "NC_027300.1:548156-548496\tContig0014706\t94.27\t314\t6\t2\t38\t340\t558\t246\t3e-138\t  488\r\n",
      "NC_027300.1:548209-548751\tContig0014706\t94.43\t539\t17\t7\t1\t538\t531\t5\t0.0\t  818\r\n",
      "NC_027300.1:548209-548751\tContig0004373\t100.00\t287\t0\t0\t1\t287\t54\t340\t3e-147\t  518\r\n",
      "NC_027300.1:591121-591415\tContig0012980\t95.32\t299\t7\t2\t1\t294\t1\t297\t6e-134\t  473\r\n",
      "NC_027300.1:591121-591415\tContig0012980\t96.41\t223\t6\t1\t72\t294\t1\t221\t8e-101\t  363\r\n",
      "NC_027300.1:765087-765443\tContig0019649\t98.61\t359\t2\t1\t1\t356\t92\t450\t6e-179\t  623\r\n",
      "NC_027300.1:765087-765443\tContig0061446\t95.45\t330\t14\t1\t3\t332\t124\t452\t4e-149\t  524\r\n"
     ]
    }
   ],
   "source": [
    "!head analyses/track-blastn-id.tab"
   ]
  },
  {
   "cell_type": "code",
   "execution_count": null,
   "metadata": {
    "collapsed": true
   },
   "outputs": [],
   "source": []
  }
 ],
 "metadata": {
  "kernelspec": {
   "display_name": "Python 2",
   "language": "python",
   "name": "python2"
  },
  "language_info": {
   "codemirror_mode": {
    "name": "ipython",
    "version": 2
   },
   "file_extension": ".py",
   "mimetype": "text/x-python",
   "name": "python",
   "nbconvert_exporter": "python",
   "pygments_lexer": "ipython2",
   "version": "2.7.11"
  }
 },
 "nbformat": 4,
 "nbformat_minor": 0
}
